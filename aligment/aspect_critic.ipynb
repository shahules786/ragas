{
 "cells": [
  {
   "cell_type": "markdown",
   "id": "f708066d-2e7d-46c1-81db-7d5f526c6f74",
   "metadata": {},
   "source": [
    "## LLM\n",
    "- the idea to experiment the same methods on multiple LLMs to make sure the result are LLM agnostic, ideally. Practically measure the std b/w different models"
   ]
  },
  {
   "cell_type": "code",
   "execution_count": 1,
   "id": "b30b7e92-57e7-482e-b1ce-b55a259d2d40",
   "metadata": {},
   "outputs": [
    {
     "name": "stderr",
     "output_type": "stream",
     "text": [
      "/opt/homebrew/Caskroom/miniforge/base/envs/ragas/lib/python3.9/site-packages/tqdm/auto.py:21: TqdmWarning: IProgress not found. Please update jupyter and ipywidgets. See https://ipywidgets.readthedocs.io/en/stable/user_install.html\n",
      "  from .autonotebook import tqdm as notebook_tqdm\n",
      "/Users/shahules/ragas/src/ragas/prompt/base.py:9: LangChainDeprecationWarning: As of langchain-core 0.3.0, LangChain uses pydantic v2 internally. The langchain_core.pydantic_v1 module was a compatibility shim for pydantic v1, and should no longer be used. Please update the code to import from Pydantic directly.\n",
      "\n",
      "For example, replace imports like: `from langchain_core.pydantic_v1 import BaseModel`\n",
      "with: `from pydantic import BaseModel`\n",
      "or the v1 compatibility namespace if you are working in a code base that has not been fully upgraded to pydantic 2 yet. \tfrom pydantic.v1 import BaseModel\n",
      "\n",
      "  from ragas.llms.prompt import PromptValue\n"
     ]
    }
   ],
   "source": [
    "from langchain_openai.chat_models import ChatOpenAI\n",
    "from ragas.llms import LangchainLLMWrapper\n",
    "\n",
    "llm_4o = LangchainLLMWrapper(ChatOpenAI(model=\"gpt-4o\"))\n",
    "llm_4o_mini = LangchainLLMWrapper(ChatOpenAI(model=\"gpt-4o-mini\"))"
   ]
  },
  {
   "cell_type": "code",
   "execution_count": 2,
   "id": "279ad431-b006-464e-b9b6-5e2bcf6d71dc",
   "metadata": {},
   "outputs": [],
   "source": [
    "from langchain_aws import ChatBedrockConverse\n",
    "from langchain_aws import BedrockEmbeddings\n",
    "from ragas.llms import LangchainLLMWrapper\n",
    "from ragas.embeddings import LangchainEmbeddingsWrapper\n",
    "\n",
    "config = {\n",
    "    \"credentials_profile_name\": \"default\",  # E.g \"default\"\n",
    "    \"region_name\": \"us-east-1\",  # E.g. \"us-east-1\"\n",
    "    \"llm\": \"anthropic.claude-3-haiku-20240307-v1:0\",  # E.g \"anthropic.claude-3-5-sonnet-20240620-v1:0\"\n",
    "}\n",
    "\n",
    "bedrock_llm = ChatBedrockConverse(\n",
    "    credentials_profile_name=config[\"credentials_profile_name\"],\n",
    "    region_name=config[\"region_name\"],\n",
    "    base_url=f\"https://bedrock-runtime.{config['region_name']}.amazonaws.com\",\n",
    "    model=config[\"llm\"],\n",
    ")\n",
    "\n",
    "bedrock_llm = LangchainLLMWrapper(bedrock_llm)"
   ]
  },
  {
   "cell_type": "markdown",
   "id": "c0c93aed-a688-4ac9-84f5-fad2e81988bc",
   "metadata": {},
   "source": [
    "## tracing"
   ]
  },
  {
   "cell_type": "code",
   "execution_count": 3,
   "id": "f9ae5f85-23a2-4e82-ac4c-e18c9290c5d9",
   "metadata": {},
   "outputs": [],
   "source": [
    "import os\n",
    "os.environ[\"LANGCHAIN_PROJECT\"]= \"Alignment\"\n",
    "os.environ[\"LANGCHAIN_TRACING_V2\"] = \"true\""
   ]
  },
  {
   "cell_type": "markdown",
   "id": "02887fbb-4cda-4921-8dd3-7ce72e827f5f",
   "metadata": {},
   "source": [
    "## Evaluation"
   ]
  },
  {
   "cell_type": "code",
   "execution_count": 4,
   "id": "9308cc73-785a-4418-b53b-4f10801f4f31",
   "metadata": {},
   "outputs": [],
   "source": [
    "from ragas.metrics import AspectCritic\n",
    "from ragas import EvaluationDataset\n",
    "from datasets import load_dataset, Dataset\n",
    "dataset = Dataset.from_json(\"datasets/dataset_v3.json\")"
   ]
  },
  {
   "cell_type": "code",
   "execution_count": 5,
   "id": "a9ce96fe-90a0-4dde-aa88-88fbfb71d819",
   "metadata": {},
   "outputs": [],
   "source": [
    "from ragas import evaluate\n",
    "import numpy as np\n",
    "\n",
    "subsample = dataset\n",
    "ragas_dataset = EvaluationDataset.from_hf_dataset(subsample)\n"
   ]
  },
  {
   "cell_type": "code",
   "execution_count": 6,
   "id": "4374fd5a-88d7-44a3-87fa-b0ed7f271a4d",
   "metadata": {},
   "outputs": [
    {
     "data": {
      "text/plain": [
       "EvaluationDataset(features=['user_input', 'response', 'reference'], len=50)"
      ]
     },
     "execution_count": 6,
     "metadata": {},
     "output_type": "execute_result"
    }
   ],
   "source": [
    "ragas_dataset"
   ]
  },
  {
   "cell_type": "markdown",
   "id": "e5d53484-e1ab-40c7-97cd-7d645b05f229",
   "metadata": {},
   "source": [
    "## Aspect Critic"
   ]
  },
  {
   "cell_type": "code",
   "execution_count": 7,
   "id": "fb75bea8-5fcc-4439-afae-b94123b860ed",
   "metadata": {},
   "outputs": [],
   "source": [
    "critic = AspectCritic(name=\"answer correctness\",\n",
    "                      definition=\"check if the response and reference are factually similar\",)\n"
   ]
  },
  {
   "cell_type": "code",
   "execution_count": 8,
   "id": "8f68a003-8a6b-40a0-ac67-74f6f0391ac2",
   "metadata": {},
   "outputs": [],
   "source": [
    "critic.llm = llm_4o_mini\n"
   ]
  },
  {
   "cell_type": "code",
   "execution_count": 9,
   "id": "eb5de705-5de0-46c8-b94e-ae9fa4472e00",
   "metadata": {},
   "outputs": [
    {
     "data": {
      "text/plain": [
       "1"
      ]
     },
     "execution_count": 9,
     "metadata": {},
     "output_type": "execute_result"
    }
   ],
   "source": [
    "await critic.single_turn_ascore(ragas_dataset[0])"
   ]
  },
  {
   "cell_type": "code",
   "execution_count": null,
   "id": "a4a133ab-f07d-4c84-90dc-f6933255bd0c",
   "metadata": {},
   "outputs": [],
   "source": []
  }
 ],
 "metadata": {
  "kernelspec": {
   "display_name": "ragas",
   "language": "python",
   "name": "ragas"
  },
  "language_info": {
   "codemirror_mode": {
    "name": "ipython",
    "version": 3
   },
   "file_extension": ".py",
   "mimetype": "text/x-python",
   "name": "python",
   "nbconvert_exporter": "python",
   "pygments_lexer": "ipython3",
   "version": "3.9.20"
  }
 },
 "nbformat": 4,
 "nbformat_minor": 5
}
