{
 "cells": [
  {
   "cell_type": "markdown",
   "id": "38aa3c20-5a92-43f4-962a-2690588a3f01",
   "metadata": {},
   "source": [
    "See `Dataset for Metric Alignment` on Notes "
   ]
  },
  {
   "cell_type": "markdown",
   "id": "beb33cb7-fce8-4ed1-9f2e-0bbeb67c10a9",
   "metadata": {},
   "source": [
    "## Set LLM to use"
   ]
  },
  {
   "cell_type": "code",
   "execution_count": 1,
   "id": "ee96fcef-b224-4f29-bcbe-d29accc01050",
   "metadata": {},
   "outputs": [],
   "source": [
    "from langchain_openai.chat_models import ChatOpenAI\n",
    "from ragas.llms import LangchainLLMWrapper\n",
    "\n",
    "llm = LangchainLLMWrapper(ChatOpenAI(model=\"gpt-4o\"))"
   ]
  },
  {
   "cell_type": "markdown",
   "id": "eff4987c-f406-4d76-87ad-129e29d8a3c5",
   "metadata": {},
   "source": [
    "## Metric - Factual correctness\n"
   ]
  },
  {
   "cell_type": "code",
   "execution_count": 2,
   "id": "8f96dc55-2642-487b-8ff6-464a9ab7680b",
   "metadata": {},
   "outputs": [],
   "source": [
    "from ragas.prompt import PydanticPrompt\n",
    "from pydantic import BaseModel\n",
    "\n",
    "class CreateQuestion(BaseModel):\n",
    "    term: str\n",
    "    answer_length: str  # Expected to be one of [\"long (20-50 words)\", \"short (1-5 words)\", \"medium (10-20 words)\"]\n",
    "\n",
    "class QuestionAnswer(BaseModel):\n",
    "    question: str\n",
    "    answer: str\n",
    "\n",
    "class QuestionAnswerPrompt(PydanticPrompt[CreateQuestion, QuestionAnswer]):\n",
    "    instruction: str = \"Given a seed term, generate a question and provide an answer that fits the specified answer_length.\"\n",
    "    input_model = CreateQuestion\n",
    "    output_model = QuestionAnswer\n",
    "    examples = [\n",
    "        (\n",
    "            CreateQuestion(term=\"gravity\", answer_length=\"short (1-5 words)\"),\n",
    "            QuestionAnswer(\n",
    "                question=\"What is gravity?\",\n",
    "                answer=\"A force of attraction.\"\n",
    "            )\n",
    "        ),\n",
    "        (\n",
    "            CreateQuestion(term=\"thermodynamics\", answer_length=\"long (20-50 words)\"),\n",
    "            QuestionAnswer(\n",
    "                question=\"What are the laws of thermodynamics?\",\n",
    "                answer=\"The laws of thermodynamics include the zeroth, first, second, and third laws, which describe the principles of temperature, energy conservation, entropy, and absolute zero.\"\n",
    "            )\n",
    "        ),\n",
    "        (\n",
    "            CreateQuestion(term=\"entropy\", answer_length=\"medium (10-20 words)\"),\n",
    "            QuestionAnswer(\n",
    "                question=\"What is entropy?\",\n",
    "                answer=\"Entropy measures the disorder or randomness of a system in thermodynamics.\"\n",
    "            )\n",
    "        )\n",
    "    ]"
   ]
  },
  {
   "cell_type": "code",
   "execution_count": 3,
   "id": "c9d80bd3-3e24-4dfd-b142-753e4b6f26f8",
   "metadata": {},
   "outputs": [],
   "source": [
    "class AnswerComparisonInput(BaseModel):\n",
    "    answer: str  # The original answer given\n",
    "    comparison_type: str  # Expected to be one of [\"full match\", \"partial match\", \"full mismatch\"]\n",
    "\n",
    "class GeneratedComparisonResponse(BaseModel):\n",
    "    response: str  # The new response based on the comparison type\n",
    "\n",
    "class ComparisonResponsePrompt(PydanticPrompt[AnswerComparisonInput, GeneratedComparisonResponse]):\n",
    "    instruction: str = \"Given an answer and comparison type, generate a new response that either fully matches, partially matches, or fully mismatches the given answer.\"\n",
    "    input_model = AnswerComparisonInput\n",
    "    output_model = GeneratedComparisonResponse\n",
    "    examples = [\n",
    "        (\n",
    "            AnswerComparisonInput(\n",
    "                answer=\"Gravity is a force of attraction between masses.\",\n",
    "                comparison_type=\"full match\"\n",
    "            ),\n",
    "            GeneratedComparisonResponse(\n",
    "                response=\"Gravity is a force that pulls masses toward each other.\"\n",
    "            )\n",
    "        ),\n",
    "        (\n",
    "            AnswerComparisonInput(\n",
    "                answer=\"Entropy measures disorder in a system.\",\n",
    "                comparison_type=\"partial match\"\n",
    "            ),\n",
    "            GeneratedComparisonResponse(\n",
    "                response=\"Entropy is related to disorder, but it also involves energy in systems.\"\n",
    "            )\n",
    "        ),\n",
    "        (\n",
    "            AnswerComparisonInput(\n",
    "                answer=\"Thermodynamics describes the relationships between heat and energy.\",\n",
    "                comparison_type=\"full mismatch\"\n",
    "            ),\n",
    "            GeneratedComparisonResponse(\n",
    "                response=\"Thermodynamics explains the movement of planets in space.\"\n",
    "            )\n",
    "        )\n",
    "    ]"
   ]
  },
  {
   "cell_type": "code",
   "execution_count": 4,
   "id": "13c5c824-99fb-43e8-af56-f289e1fd04fb",
   "metadata": {},
   "outputs": [],
   "source": [
    "prompt = QuestionAnswerPrompt()\n",
    "prompt_input = CreateQuestion(term=\"Entropy\", answer_length=\"long (20-50 words)\")\n",
    "output = await prompt.generate(data=prompt_input, llm=llm)"
   ]
  },
  {
   "cell_type": "code",
   "execution_count": 5,
   "id": "8151c946-b7d0-4cef-a44e-d46b08a7b180",
   "metadata": {},
   "outputs": [
    {
     "data": {
      "text/plain": [
       "('What is entropy in the context of thermodynamics?',\n",
       " \"Entropy is a measure of the disorder or randomness in a system, reflecting the number of microscopic configurations that correspond to a thermodynamic system's macroscopic state. It is a central concept in the second law of thermodynamics, which states that the total entropy of an isolated system can never decrease over time.\")"
      ]
     },
     "execution_count": 5,
     "metadata": {},
     "output_type": "execute_result"
    }
   ],
   "source": [
    "output.question, output.answer"
   ]
  },
  {
   "cell_type": "code",
   "execution_count": 6,
   "id": "462d4988-cd6a-4345-ba16-646beb6e0678",
   "metadata": {},
   "outputs": [],
   "source": [
    "prompt = ComparisonResponsePrompt()\n",
    "prompt_input = AnswerComparisonInput(answer=output.answer,comparison_type=\"partial match\")\n",
    "output = await prompt.generate(data=prompt_input, llm=llm)"
   ]
  },
  {
   "cell_type": "code",
   "execution_count": 7,
   "id": "4fd78450-d683-4f3e-8f5d-5760a3026d24",
   "metadata": {},
   "outputs": [
    {
     "data": {
      "text/plain": [
       "GeneratedComparisonResponse(response='Entropy is often associated with disorder in a system, and it plays a key role in the second law of thermodynamics, which suggests that entropy tends to increase in isolated systems.')"
      ]
     },
     "execution_count": 7,
     "metadata": {},
     "output_type": "execute_result"
    }
   ],
   "source": [
    "output"
   ]
  },
  {
   "cell_type": "code",
   "execution_count": 8,
   "id": "5d913125-fb31-46eb-9640-aa7798cc4c12",
   "metadata": {},
   "outputs": [],
   "source": [
    "# Define your percentages for each answer type\n",
    "answer_type_dict = {\n",
    "    \"long (20-50 words)\": 0.4,    # 40%\n",
    "    \"short (1-5 words)\": 0.3,     # 30%\n",
    "    \"medium (10-20 words)\": 0.3   # 30%\n",
    "}\n",
    "match_type_dict ={\n",
    "    \"full match\": 0.5,    # 50%\n",
    "    \"partial match\": 0.3, # 30%\n",
    "    \"full mismatch\": 0.2  # 20%\n",
    "}\n"
   ]
  },
  {
   "cell_type": "code",
   "execution_count": 9,
   "id": "592031db-28c4-4f45-a18c-b1b6aefbd938",
   "metadata": {},
   "outputs": [],
   "source": [
    "def load_terms():\n",
    "    # Path to the file\n",
    "    file_path = 'physics_terms.txt'\n",
    "    \n",
    "    # Reading the file into a list\n",
    "    with open(file_path, 'r') as file:\n",
    "        terms_list = [line.strip() for line in file.readlines()]\n",
    "\n",
    "    return terms_list"
   ]
  },
  {
   "cell_type": "code",
   "execution_count": 10,
   "id": "407b61b1-0860-437b-8eb7-96f2796f4782",
   "metadata": {},
   "outputs": [
    {
     "data": {
      "text/plain": [
       "130"
      ]
     },
     "execution_count": 10,
     "metadata": {},
     "output_type": "execute_result"
    }
   ],
   "source": [
    "len(load_terms())"
   ]
  },
  {
   "cell_type": "code",
   "execution_count": 11,
   "id": "ac268771-8406-473c-82e9-daa51a40c3ed",
   "metadata": {},
   "outputs": [],
   "source": [
    "import numpy as np"
   ]
  },
  {
   "cell_type": "code",
   "execution_count": 12,
   "id": "c7e354a9-dbf2-4d08-93f7-0c719354863c",
   "metadata": {},
   "outputs": [],
   "source": [
    "\n",
    "samples = []\n",
    "for term in load_terms():\n",
    "    sample = {}    \n",
    "    answer_type = np.random.choice(list(answer_type_dict.keys()),1,p=list(answer_type_dict.values()))[0]\n",
    "    match_type = np.random.choice(list(match_type_dict.keys()),1,p=list(match_type_dict.values()))[0]\n",
    "    prompt = QuestionAnswerPrompt()\n",
    "    prompt_input = CreateQuestion(term=term, answer_length=answer_type)\n",
    "    output = await prompt.generate(data=prompt_input, llm=llm)\n",
    "    sample.update(\n",
    "        {\n",
    "            \"user_input\":output.question,\n",
    "            \"reference\":output.answer,\n",
    "            \"term\":term,\n",
    "            \"answer_type\":answer_type\n",
    "        }\n",
    "    )\n",
    "\n",
    "    prompt = ComparisonResponsePrompt()\n",
    "    prompt_input = AnswerComparisonInput(answer=output.answer,comparison_type=match_type)\n",
    "    output = await prompt.generate(data=prompt_input, llm=llm)\n",
    "    sample.update({\n",
    "        \"response\":output.response,\n",
    "        \"match_type\":match_type\n",
    "    })\n",
    "\n",
    "    samples.append(sample)\n",
    "    \n",
    "        "
   ]
  },
  {
   "cell_type": "code",
   "execution_count": 13,
   "id": "c12a3f23-65b8-4e75-9e06-9f720402a8e2",
   "metadata": {},
   "outputs": [],
   "source": [
    "from datasets import Dataset\n",
    "dataset = Dataset.from_list(samples)"
   ]
  },
  {
   "cell_type": "code",
   "execution_count": 14,
   "id": "ef73aed5-164c-494f-9133-cd87b7bd05fb",
   "metadata": {},
   "outputs": [
    {
     "data": {
      "application/vnd.jupyter.widget-view+json": {
       "model_id": "d96b416b25844061977d83ce49ebba2b",
       "version_major": 2,
       "version_minor": 0
      },
      "text/plain": [
       "Pushing dataset shards to the dataset hub:   0%|          | 0/1 [00:00<?, ?it/s]"
      ]
     },
     "metadata": {},
     "output_type": "display_data"
    },
    {
     "data": {
      "application/vnd.jupyter.widget-view+json": {
       "model_id": "d40d76b9085a456da4166cda934a0359",
       "version_major": 2,
       "version_minor": 0
      },
      "text/plain": [
       "Creating parquet from Arrow format:   0%|          | 0/1 [00:00<?, ?ba/s]"
      ]
     },
     "metadata": {},
     "output_type": "display_data"
    },
    {
     "data": {
      "application/vnd.jupyter.widget-view+json": {
       "model_id": "cfa09f6213864c95b34df257d02a8276",
       "version_major": 2,
       "version_minor": 0
      },
      "text/plain": [
       "Deleting unused files from dataset repository:   0%|          | 0/1 [00:00<?, ?it/s]"
      ]
     },
     "metadata": {},
     "output_type": "display_data"
    },
    {
     "data": {
      "application/vnd.jupyter.widget-view+json": {
       "model_id": "5d650a5d106e44de848e3550b21cba56",
       "version_major": 2,
       "version_minor": 0
      },
      "text/plain": [
       "Downloading metadata:   0%|          | 0.00/638 [00:00<?, ?B/s]"
      ]
     },
     "metadata": {},
     "output_type": "display_data"
    }
   ],
   "source": [
    "dataset.push_to_hub(\"explodinggradients/physics_metrics_alignment\")"
   ]
  },
  {
   "cell_type": "code",
   "execution_count": 16,
   "id": "62387832-befb-4496-8f37-755ddba142f3",
   "metadata": {},
   "outputs": [
    {
     "data": {
      "text/plain": [
       "Dataset({\n",
       "    features: ['user_input', 'reference', 'term', 'answer_type', 'response', 'match_type'],\n",
       "    num_rows: 130\n",
       "})"
      ]
     },
     "execution_count": 16,
     "metadata": {},
     "output_type": "execute_result"
    }
   ],
   "source": [
    "dataset"
   ]
  },
  {
   "cell_type": "code",
   "execution_count": 20,
   "id": "b716bffa-9606-4d20-8258-fefa036fa813",
   "metadata": {},
   "outputs": [
    {
     "data": {
      "text/plain": [
       "{'user_input': 'How does gravity affect objects on Earth?',\n",
       " 'reference': \"Gravity pulls objects toward the Earth's center, giving them weight and influencing their motion.\",\n",
       " 'term': 'gravity',\n",
       " 'answer_type': 'medium (10-20 words)',\n",
       " 'response': \"Gravity causes objects to float away from the Earth's surface, reducing their weight and having no effect on their motion.\",\n",
       " 'match_type': 'full mismatch'}"
      ]
     },
     "execution_count": 20,
     "metadata": {},
     "output_type": "execute_result"
    }
   ],
   "source": [
    "dataset[0]"
   ]
  },
  {
   "cell_type": "code",
   "execution_count": null,
   "id": "e2c1b884-8fdf-4748-a91d-28d3f09b4547",
   "metadata": {},
   "outputs": [],
   "source": []
  }
 ],
 "metadata": {
  "kernelspec": {
   "display_name": "ragas",
   "language": "python",
   "name": "ragas"
  },
  "language_info": {
   "codemirror_mode": {
    "name": "ipython",
    "version": 3
   },
   "file_extension": ".py",
   "mimetype": "text/x-python",
   "name": "python",
   "nbconvert_exporter": "python",
   "pygments_lexer": "ipython3",
   "version": "3.10.8"
  }
 },
 "nbformat": 4,
 "nbformat_minor": 5
}
