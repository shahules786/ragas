{
 "cells": [
  {
   "cell_type": "markdown",
   "id": "d1a2e354-4686-4539-a084-17d7c70d8e8b",
   "metadata": {},
   "source": [
    "## Imports"
   ]
  },
  {
   "cell_type": "code",
   "execution_count": 1,
   "id": "4588b389-2a16-4465-938f-0b65126bed2f",
   "metadata": {},
   "outputs": [
    {
     "name": "stderr",
     "output_type": "stream",
     "text": [
      "/opt/homebrew/Caskroom/miniforge/base/envs/ragas/lib/python3.9/site-packages/tqdm/auto.py:21: TqdmWarning: IProgress not found. Please update jupyter and ipywidgets. See https://ipywidgets.readthedocs.io/en/stable/user_install.html\n",
      "  from .autonotebook import tqdm as notebook_tqdm\n"
     ]
    }
   ],
   "source": [
    "import pandas as pd\n",
    "from datasets import Dataset"
   ]
  },
  {
   "cell_type": "code",
   "execution_count": 2,
   "id": "a1af99be-381c-48fd-af91-48a5cc450f24",
   "metadata": {},
   "outputs": [
    {
     "name": "stderr",
     "output_type": "stream",
     "text": [
      "/Users/shahules/ragas/src/ragas/prompt/base.py:9: LangChainDeprecationWarning: As of langchain-core 0.3.0, LangChain uses pydantic v2 internally. The langchain_core.pydantic_v1 module was a compatibility shim for pydantic v1, and should no longer be used. Please update the code to import from Pydantic directly.\n",
      "\n",
      "For example, replace imports like: `from langchain_core.pydantic_v1 import BaseModel`\n",
      "with: `from pydantic import BaseModel`\n",
      "or the v1 compatibility namespace if you are working in a code base that has not been fully upgraded to pydantic 2 yet. \tfrom pydantic.v1 import BaseModel\n",
      "\n",
      "  from ragas.llms.prompt import PromptValue\n"
     ]
    }
   ],
   "source": [
    "from langchain_openai.chat_models import ChatOpenAI\n",
    "from ragas.llms import LangchainLLMWrapper\n",
    "\n",
    "llm_4o = LangchainLLMWrapper(ChatOpenAI(model=\"gpt-4o\"))\n",
    "llm_4o_mini = LangchainLLMWrapper(ChatOpenAI(model=\"gpt-4o-mini\"))"
   ]
  },
  {
   "cell_type": "markdown",
   "id": "4cf9b275-10be-46bf-b12a-f9b29afd428d",
   "metadata": {},
   "source": [
    "## Dataset"
   ]
  },
  {
   "cell_type": "code",
   "execution_count": 3,
   "id": "c9a3fa06-292a-485a-8671-ffb9f4c8865d",
   "metadata": {},
   "outputs": [],
   "source": [
    "dataset = Dataset.from_json(\"datasets/dataset_v3.json\")"
   ]
  },
  {
   "cell_type": "code",
   "execution_count": 4,
   "id": "8b2479c1-9d21-42b0-b826-ff29a41c8e00",
   "metadata": {},
   "outputs": [],
   "source": [
    "result_df = pd.read_csv(\"results/default_prompt_demo.csv\")\n",
    "result_df = result_df[result_df[\"factual_correctness\"]<1.0]"
   ]
  },
  {
   "cell_type": "code",
   "execution_count": 5,
   "id": "a5b39e9c-03fc-4546-987f-a3244bdefd1b",
   "metadata": {},
   "outputs": [],
   "source": [
    "incorrect_indices = result_df.index.values.tolist()"
   ]
  },
  {
   "cell_type": "code",
   "execution_count": 6,
   "id": "76787854-12be-43b0-970a-0abf5776438e",
   "metadata": {},
   "outputs": [],
   "source": [
    "dataset = dataset.select(incorrect_indices)"
   ]
  },
  {
   "cell_type": "code",
   "execution_count": 7,
   "id": "eeb2b615-59ba-4a30-ba14-3b76db1039b2",
   "metadata": {},
   "outputs": [
    {
     "data": {
      "text/html": [
       "<div>\n",
       "<style scoped>\n",
       "    .dataframe tbody tr th:only-of-type {\n",
       "        vertical-align: middle;\n",
       "    }\n",
       "\n",
       "    .dataframe tbody tr th {\n",
       "        vertical-align: top;\n",
       "    }\n",
       "\n",
       "    .dataframe thead th {\n",
       "        text-align: right;\n",
       "    }\n",
       "</style>\n",
       "<table border=\"1\" class=\"dataframe\">\n",
       "  <thead>\n",
       "    <tr style=\"text-align: right;\">\n",
       "      <th></th>\n",
       "      <th>user_input</th>\n",
       "      <th>response</th>\n",
       "      <th>reference</th>\n",
       "      <th>factual_correctness</th>\n",
       "    </tr>\n",
       "  </thead>\n",
       "  <tbody>\n",
       "    <tr>\n",
       "      <th>0</th>\n",
       "      <td>How did the invention of the wheel impact anci...</td>\n",
       "      <td># The Revolutionary Impact of the Wheel on Anc...</td>\n",
       "      <td>The invention of the wheel was a pivotal momen...</td>\n",
       "      <td>0.82</td>\n",
       "    </tr>\n",
       "    <tr>\n",
       "      <th>1</th>\n",
       "      <td>How did the discovery of fire impact early hum...</td>\n",
       "      <td># The Transformative Power of Fire in Early Hu...</td>\n",
       "      <td>The discovery of fire was a pivotal moment in ...</td>\n",
       "      <td>0.99</td>\n",
       "    </tr>\n",
       "    <tr>\n",
       "      <th>6</th>\n",
       "      <td>What were the causes and impacts of The Black ...</td>\n",
       "      <td># The Black Death: Causes and Impacts on Medie...</td>\n",
       "      <td>The Black Death, which swept through Europe in...</td>\n",
       "      <td>0.93</td>\n",
       "    </tr>\n",
       "    <tr>\n",
       "      <th>7</th>\n",
       "      <td>What were the significant impacts of Columbus'...</td>\n",
       "      <td># The Transformative Impact of Columbus' 1492 ...</td>\n",
       "      <td>Columbus' voyage to the Americas in 1492 had p...</td>\n",
       "      <td>0.98</td>\n",
       "    </tr>\n",
       "    <tr>\n",
       "      <th>8</th>\n",
       "      <td>What was the Protestant Reformation?</td>\n",
       "      <td># The Protestant Reformation: A Revolution in ...</td>\n",
       "      <td>The Protestant Reformation was a 16th-century ...</td>\n",
       "      <td>0.98</td>\n",
       "    </tr>\n",
       "    <tr>\n",
       "      <th>9</th>\n",
       "      <td>What were the major impacts of the Industrial ...</td>\n",
       "      <td># The Transformative Impacts of the Industrial...</td>\n",
       "      <td>The Industrial Revolution, which began in the ...</td>\n",
       "      <td>0.91</td>\n",
       "    </tr>\n",
       "    <tr>\n",
       "      <th>11</th>\n",
       "      <td>What were the main causes and consequences of ...</td>\n",
       "      <td># The French Revolution: Causes and Consequenc...</td>\n",
       "      <td>The French Revolution, which began in 1789, wa...</td>\n",
       "      <td>0.99</td>\n",
       "    </tr>\n",
       "    <tr>\n",
       "      <th>12</th>\n",
       "      <td>How did the invention of the printing press im...</td>\n",
       "      <td># The Printing Press: Catalyst of the Renaissa...</td>\n",
       "      <td>The invention of the printing press by Johanne...</td>\n",
       "      <td>0.96</td>\n",
       "    </tr>\n",
       "    <tr>\n",
       "      <th>13</th>\n",
       "      <td>What were the main factors that contributed to...</td>\n",
       "      <td># The Fall of the Roman Empire: A Perfect Stor...</td>\n",
       "      <td>The fall of the Roman Empire was a complex pro...</td>\n",
       "      <td>0.98</td>\n",
       "    </tr>\n",
       "    <tr>\n",
       "      <th>17</th>\n",
       "      <td>What were the major causes and consequences of...</td>\n",
       "      <td># The Major Causes and Consequences of World W...</td>\n",
       "      <td>World War II was primarily caused by the unres...</td>\n",
       "      <td>0.94</td>\n",
       "    </tr>\n",
       "    <tr>\n",
       "      <th>18</th>\n",
       "      <td>What were the main causes and consequences of ...</td>\n",
       "      <td># The Cold War: Causes and Consequences\\nThe C...</td>\n",
       "      <td>The Cold War was primarily caused by ideologic...</td>\n",
       "      <td>0.99</td>\n",
       "    </tr>\n",
       "    <tr>\n",
       "      <th>22</th>\n",
       "      <td>What were the key events and outcomes of the C...</td>\n",
       "      <td># The Cuban Missile Crisis: A Cold War Showdow...</td>\n",
       "      <td>The Cuban Missile Crisis was a pivotal moment ...</td>\n",
       "      <td>0.97</td>\n",
       "    </tr>\n",
       "    <tr>\n",
       "      <th>24</th>\n",
       "      <td>What were the main causes and outcomes of the ...</td>\n",
       "      <td># The Haitian Revolution: Causes and Outcomes\\...</td>\n",
       "      <td>The Haitian Revolution, which took place from ...</td>\n",
       "      <td>0.98</td>\n",
       "    </tr>\n",
       "    <tr>\n",
       "      <th>25</th>\n",
       "      <td>What were the causes and consequences of The O...</td>\n",
       "      <td># The Opium Wars: Causes and Consequences\\nThe...</td>\n",
       "      <td>The Opium Wars were two conflicts between Chin...</td>\n",
       "      <td>0.98</td>\n",
       "    </tr>\n",
       "    <tr>\n",
       "      <th>30</th>\n",
       "      <td>What was the purpose and impact of the Marshal...</td>\n",
       "      <td># The Marshall Plan: Reviving Post-War Europe\\...</td>\n",
       "      <td>The Marshall Plan, officially known as the Eur...</td>\n",
       "      <td>0.85</td>\n",
       "    </tr>\n",
       "    <tr>\n",
       "      <th>33</th>\n",
       "      <td>How did the invention of the Internet revoluti...</td>\n",
       "      <td># The Internet: A Global Communication Revolut...</td>\n",
       "      <td>The invention of the Internet revolutionized c...</td>\n",
       "      <td>0.96</td>\n",
       "    </tr>\n",
       "    <tr>\n",
       "      <th>34</th>\n",
       "      <td>How did Gutenberg's printing press revolutioni...</td>\n",
       "      <td># Gutenberg's Printing Press: A Catalyst for C...</td>\n",
       "      <td>Gutenberg's printing press, invented in the mi...</td>\n",
       "      <td>0.95</td>\n",
       "    </tr>\n",
       "    <tr>\n",
       "      <th>36</th>\n",
       "      <td>What were the main causes and impacts of the C...</td>\n",
       "      <td># The Crusades: Causes and Impacts on Medieval...</td>\n",
       "      <td>The Crusades were a series of religious and mi...</td>\n",
       "      <td>0.98</td>\n",
       "    </tr>\n",
       "    <tr>\n",
       "      <th>37</th>\n",
       "      <td>What were the key ideas and impacts of The Enl...</td>\n",
       "      <td># The Enlightenment: Key Ideas and Lasting Imp...</td>\n",
       "      <td>The Enlightenment, also known as the Age of Re...</td>\n",
       "      <td>0.98</td>\n",
       "    </tr>\n",
       "    <tr>\n",
       "      <th>38</th>\n",
       "      <td>What was the significance of the Fall of the B...</td>\n",
       "      <td># The Fall of the Bastille: A Turning Point in...</td>\n",
       "      <td>The Fall of the Bastille on July 14, 1789, was...</td>\n",
       "      <td>0.97</td>\n",
       "    </tr>\n",
       "    <tr>\n",
       "      <th>40</th>\n",
       "      <td>What were the key events and controversies sur...</td>\n",
       "      <td># The Assassination of JFK: Key Events and Con...</td>\n",
       "      <td>The assassination of John F. Kennedy, the 35th...</td>\n",
       "      <td>0.93</td>\n",
       "    </tr>\n",
       "    <tr>\n",
       "      <th>42</th>\n",
       "      <td>What were the main causes and consequences of ...</td>\n",
       "      <td># The Korean War: Causes and Consequences\\nThe...</td>\n",
       "      <td>The Korean War, which lasted from 1950 to 1953...</td>\n",
       "      <td>0.96</td>\n",
       "    </tr>\n",
       "    <tr>\n",
       "      <th>43</th>\n",
       "      <td>What were the main causes and outcomes of the ...</td>\n",
       "      <td># The First Crusade: Causes and Consequences\\n...</td>\n",
       "      <td>The First Crusade, initiated in 1096 and lasti...</td>\n",
       "      <td>0.98</td>\n",
       "    </tr>\n",
       "    <tr>\n",
       "      <th>47</th>\n",
       "      <td>What were the key events and treaties that led...</td>\n",
       "      <td># The Journey to the European Union: Key Event...</td>\n",
       "      <td>The formation of the European Union was a comp...</td>\n",
       "      <td>0.98</td>\n",
       "    </tr>\n",
       "    <tr>\n",
       "      <th>49</th>\n",
       "      <td>What were the key developments and impacts of ...</td>\n",
       "      <td># The Scientific Revolution: Key Developments ...</td>\n",
       "      <td>The Scientific Revolution, spanning the 16th a...</td>\n",
       "      <td>0.98</td>\n",
       "    </tr>\n",
       "  </tbody>\n",
       "</table>\n",
       "</div>"
      ],
      "text/plain": [
       "                                           user_input  \\\n",
       "0   How did the invention of the wheel impact anci...   \n",
       "1   How did the discovery of fire impact early hum...   \n",
       "6   What were the causes and impacts of The Black ...   \n",
       "7   What were the significant impacts of Columbus'...   \n",
       "8                What was the Protestant Reformation?   \n",
       "9   What were the major impacts of the Industrial ...   \n",
       "11  What were the main causes and consequences of ...   \n",
       "12  How did the invention of the printing press im...   \n",
       "13  What were the main factors that contributed to...   \n",
       "17  What were the major causes and consequences of...   \n",
       "18  What were the main causes and consequences of ...   \n",
       "22  What were the key events and outcomes of the C...   \n",
       "24  What were the main causes and outcomes of the ...   \n",
       "25  What were the causes and consequences of The O...   \n",
       "30  What was the purpose and impact of the Marshal...   \n",
       "33  How did the invention of the Internet revoluti...   \n",
       "34  How did Gutenberg's printing press revolutioni...   \n",
       "36  What were the main causes and impacts of the C...   \n",
       "37  What were the key ideas and impacts of The Enl...   \n",
       "38  What was the significance of the Fall of the B...   \n",
       "40  What were the key events and controversies sur...   \n",
       "42  What were the main causes and consequences of ...   \n",
       "43  What were the main causes and outcomes of the ...   \n",
       "47  What were the key events and treaties that led...   \n",
       "49  What were the key developments and impacts of ...   \n",
       "\n",
       "                                             response  \\\n",
       "0   # The Revolutionary Impact of the Wheel on Anc...   \n",
       "1   # The Transformative Power of Fire in Early Hu...   \n",
       "6   # The Black Death: Causes and Impacts on Medie...   \n",
       "7   # The Transformative Impact of Columbus' 1492 ...   \n",
       "8   # The Protestant Reformation: A Revolution in ...   \n",
       "9   # The Transformative Impacts of the Industrial...   \n",
       "11  # The French Revolution: Causes and Consequenc...   \n",
       "12  # The Printing Press: Catalyst of the Renaissa...   \n",
       "13  # The Fall of the Roman Empire: A Perfect Stor...   \n",
       "17  # The Major Causes and Consequences of World W...   \n",
       "18  # The Cold War: Causes and Consequences\\nThe C...   \n",
       "22  # The Cuban Missile Crisis: A Cold War Showdow...   \n",
       "24  # The Haitian Revolution: Causes and Outcomes\\...   \n",
       "25  # The Opium Wars: Causes and Consequences\\nThe...   \n",
       "30  # The Marshall Plan: Reviving Post-War Europe\\...   \n",
       "33  # The Internet: A Global Communication Revolut...   \n",
       "34  # Gutenberg's Printing Press: A Catalyst for C...   \n",
       "36  # The Crusades: Causes and Impacts on Medieval...   \n",
       "37  # The Enlightenment: Key Ideas and Lasting Imp...   \n",
       "38  # The Fall of the Bastille: A Turning Point in...   \n",
       "40  # The Assassination of JFK: Key Events and Con...   \n",
       "42  # The Korean War: Causes and Consequences\\nThe...   \n",
       "43  # The First Crusade: Causes and Consequences\\n...   \n",
       "47  # The Journey to the European Union: Key Event...   \n",
       "49  # The Scientific Revolution: Key Developments ...   \n",
       "\n",
       "                                            reference  factual_correctness  \n",
       "0   The invention of the wheel was a pivotal momen...                 0.82  \n",
       "1   The discovery of fire was a pivotal moment in ...                 0.99  \n",
       "6   The Black Death, which swept through Europe in...                 0.93  \n",
       "7   Columbus' voyage to the Americas in 1492 had p...                 0.98  \n",
       "8   The Protestant Reformation was a 16th-century ...                 0.98  \n",
       "9   The Industrial Revolution, which began in the ...                 0.91  \n",
       "11  The French Revolution, which began in 1789, wa...                 0.99  \n",
       "12  The invention of the printing press by Johanne...                 0.96  \n",
       "13  The fall of the Roman Empire was a complex pro...                 0.98  \n",
       "17  World War II was primarily caused by the unres...                 0.94  \n",
       "18  The Cold War was primarily caused by ideologic...                 0.99  \n",
       "22  The Cuban Missile Crisis was a pivotal moment ...                 0.97  \n",
       "24  The Haitian Revolution, which took place from ...                 0.98  \n",
       "25  The Opium Wars were two conflicts between Chin...                 0.98  \n",
       "30  The Marshall Plan, officially known as the Eur...                 0.85  \n",
       "33  The invention of the Internet revolutionized c...                 0.96  \n",
       "34  Gutenberg's printing press, invented in the mi...                 0.95  \n",
       "36  The Crusades were a series of religious and mi...                 0.98  \n",
       "37  The Enlightenment, also known as the Age of Re...                 0.98  \n",
       "38  The Fall of the Bastille on July 14, 1789, was...                 0.97  \n",
       "40  The assassination of John F. Kennedy, the 35th...                 0.93  \n",
       "42  The Korean War, which lasted from 1950 to 1953...                 0.96  \n",
       "43  The First Crusade, initiated in 1096 and lasti...                 0.98  \n",
       "47  The formation of the European Union was a comp...                 0.98  \n",
       "49  The Scientific Revolution, spanning the 16th a...                 0.98  "
      ]
     },
     "execution_count": 7,
     "metadata": {},
     "output_type": "execute_result"
    }
   ],
   "source": [
    "result_df"
   ]
  },
  {
   "cell_type": "markdown",
   "id": "7de74784-2383-42b4-bd0f-22bbdf0d6f62",
   "metadata": {},
   "source": [
    "## Evaluation"
   ]
  },
  {
   "cell_type": "code",
   "execution_count": 8,
   "id": "59144b49-890e-41bc-9b4f-ba195cf90bb3",
   "metadata": {},
   "outputs": [],
   "source": [
    "import os\n",
    "os.environ[\"LANGCHAIN_PROJECT\"]= \"Alignment\"\n",
    "os.environ[\"LANGCHAIN_TRACING_V2\"] = \"true\""
   ]
  },
  {
   "cell_type": "code",
   "execution_count": 9,
   "id": "140130ea-872e-46c1-a7db-0d9ac7030fcc",
   "metadata": {},
   "outputs": [],
   "source": [
    "from ragas.metrics import FactualCorrectness\n",
    "from ragas import EvaluationDataset\n",
    "from ragas import evaluate"
   ]
  },
  {
   "cell_type": "code",
   "execution_count": 10,
   "id": "bafd0b99-e2ac-47bf-bcef-fa4317ddf97b",
   "metadata": {},
   "outputs": [],
   "source": [
    "ragas_dataset = EvaluationDataset.from_hf_dataset(dataset)"
   ]
  },
  {
   "cell_type": "code",
   "execution_count": 11,
   "id": "4274eb94-1ead-48b2-a45c-db5b6ce3f1e6",
   "metadata": {},
   "outputs": [
    {
     "data": {
      "text/plain": [
       "EvaluationDataset(features=['user_input', 'response', 'reference'], len=25)"
      ]
     },
     "execution_count": 11,
     "metadata": {},
     "output_type": "execute_result"
    }
   ],
   "source": [
    "ragas_dataset"
   ]
  },
  {
   "cell_type": "code",
   "execution_count": 12,
   "id": "0ddd8a6f-bee4-41d9-907f-e343406e126c",
   "metadata": {},
   "outputs": [
    {
     "name": "stderr",
     "output_type": "stream",
     "text": [
      "Evaluating: 100%|███████████████████████████████████████| 10/10 [00:38<00:00,  3.88s/it]\n"
     ]
    }
   ],
   "source": [
    "ragas_output = evaluate(ragas_dataset[:10], metrics=[FactualCorrectness(with_examples=True)],raise_exceptions=True)"
   ]
  },
  {
   "cell_type": "code",
   "execution_count": 13,
   "id": "d632bac5-39d0-4795-85b6-2a60f80d21ea",
   "metadata": {},
   "outputs": [
    {
     "data": {
      "text/html": [
       "<div>\n",
       "<style scoped>\n",
       "    .dataframe tbody tr th:only-of-type {\n",
       "        vertical-align: middle;\n",
       "    }\n",
       "\n",
       "    .dataframe tbody tr th {\n",
       "        vertical-align: top;\n",
       "    }\n",
       "\n",
       "    .dataframe thead th {\n",
       "        text-align: right;\n",
       "    }\n",
       "</style>\n",
       "<table border=\"1\" class=\"dataframe\">\n",
       "  <thead>\n",
       "    <tr style=\"text-align: right;\">\n",
       "      <th></th>\n",
       "      <th>user_input</th>\n",
       "      <th>response</th>\n",
       "      <th>reference</th>\n",
       "      <th>factual_correctness</th>\n",
       "    </tr>\n",
       "  </thead>\n",
       "  <tbody>\n",
       "    <tr>\n",
       "      <th>0</th>\n",
       "      <td>How did the invention of the wheel impact anci...</td>\n",
       "      <td># The Revolutionary Impact of the Wheel on Anc...</td>\n",
       "      <td>The invention of the wheel was a pivotal momen...</td>\n",
       "      <td>0.83</td>\n",
       "    </tr>\n",
       "    <tr>\n",
       "      <th>1</th>\n",
       "      <td>How did the discovery of fire impact early hum...</td>\n",
       "      <td># The Transformative Power of Fire in Early Hu...</td>\n",
       "      <td>The discovery of fire was a pivotal moment in ...</td>\n",
       "      <td>0.85</td>\n",
       "    </tr>\n",
       "    <tr>\n",
       "      <th>2</th>\n",
       "      <td>What were the causes and impacts of The Black ...</td>\n",
       "      <td># The Black Death: Causes and Impacts on Medie...</td>\n",
       "      <td>The Black Death, which swept through Europe in...</td>\n",
       "      <td>1.00</td>\n",
       "    </tr>\n",
       "    <tr>\n",
       "      <th>3</th>\n",
       "      <td>What were the significant impacts of Columbus'...</td>\n",
       "      <td># The Transformative Impact of Columbus' 1492 ...</td>\n",
       "      <td>Columbus' voyage to the Americas in 1492 had p...</td>\n",
       "      <td>0.86</td>\n",
       "    </tr>\n",
       "    <tr>\n",
       "      <th>4</th>\n",
       "      <td>What was the Protestant Reformation?</td>\n",
       "      <td># The Protestant Reformation: A Revolution in ...</td>\n",
       "      <td>The Protestant Reformation was a 16th-century ...</td>\n",
       "      <td>1.00</td>\n",
       "    </tr>\n",
       "    <tr>\n",
       "      <th>5</th>\n",
       "      <td>What were the major impacts of the Industrial ...</td>\n",
       "      <td># The Transformative Impacts of the Industrial...</td>\n",
       "      <td>The Industrial Revolution, which began in the ...</td>\n",
       "      <td>1.00</td>\n",
       "    </tr>\n",
       "    <tr>\n",
       "      <th>6</th>\n",
       "      <td>What were the main causes and consequences of ...</td>\n",
       "      <td># The French Revolution: Causes and Consequenc...</td>\n",
       "      <td>The French Revolution, which began in 1789, wa...</td>\n",
       "      <td>1.00</td>\n",
       "    </tr>\n",
       "    <tr>\n",
       "      <th>7</th>\n",
       "      <td>How did the invention of the printing press im...</td>\n",
       "      <td># The Printing Press: Catalyst of the Renaissa...</td>\n",
       "      <td>The invention of the printing press by Johanne...</td>\n",
       "      <td>0.90</td>\n",
       "    </tr>\n",
       "    <tr>\n",
       "      <th>8</th>\n",
       "      <td>What were the main factors that contributed to...</td>\n",
       "      <td># The Fall of the Roman Empire: A Perfect Stor...</td>\n",
       "      <td>The fall of the Roman Empire was a complex pro...</td>\n",
       "      <td>0.88</td>\n",
       "    </tr>\n",
       "    <tr>\n",
       "      <th>9</th>\n",
       "      <td>What were the major causes and consequences of...</td>\n",
       "      <td># The Major Causes and Consequences of World W...</td>\n",
       "      <td>World War II was primarily caused by the unres...</td>\n",
       "      <td>0.94</td>\n",
       "    </tr>\n",
       "  </tbody>\n",
       "</table>\n",
       "</div>"
      ],
      "text/plain": [
       "                                          user_input  \\\n",
       "0  How did the invention of the wheel impact anci...   \n",
       "1  How did the discovery of fire impact early hum...   \n",
       "2  What were the causes and impacts of The Black ...   \n",
       "3  What were the significant impacts of Columbus'...   \n",
       "4               What was the Protestant Reformation?   \n",
       "5  What were the major impacts of the Industrial ...   \n",
       "6  What were the main causes and consequences of ...   \n",
       "7  How did the invention of the printing press im...   \n",
       "8  What were the main factors that contributed to...   \n",
       "9  What were the major causes and consequences of...   \n",
       "\n",
       "                                            response  \\\n",
       "0  # The Revolutionary Impact of the Wheel on Anc...   \n",
       "1  # The Transformative Power of Fire in Early Hu...   \n",
       "2  # The Black Death: Causes and Impacts on Medie...   \n",
       "3  # The Transformative Impact of Columbus' 1492 ...   \n",
       "4  # The Protestant Reformation: A Revolution in ...   \n",
       "5  # The Transformative Impacts of the Industrial...   \n",
       "6  # The French Revolution: Causes and Consequenc...   \n",
       "7  # The Printing Press: Catalyst of the Renaissa...   \n",
       "8  # The Fall of the Roman Empire: A Perfect Stor...   \n",
       "9  # The Major Causes and Consequences of World W...   \n",
       "\n",
       "                                           reference  factual_correctness  \n",
       "0  The invention of the wheel was a pivotal momen...                 0.83  \n",
       "1  The discovery of fire was a pivotal moment in ...                 0.85  \n",
       "2  The Black Death, which swept through Europe in...                 1.00  \n",
       "3  Columbus' voyage to the Americas in 1492 had p...                 0.86  \n",
       "4  The Protestant Reformation was a 16th-century ...                 1.00  \n",
       "5  The Industrial Revolution, which began in the ...                 1.00  \n",
       "6  The French Revolution, which began in 1789, wa...                 1.00  \n",
       "7  The invention of the printing press by Johanne...                 0.90  \n",
       "8  The fall of the Roman Empire was a complex pro...                 0.88  \n",
       "9  World War II was primarily caused by the unres...                 0.94  "
      ]
     },
     "execution_count": 13,
     "metadata": {},
     "output_type": "execute_result"
    }
   ],
   "source": [
    "ragas_output.to_pandas()"
   ]
  },
  {
   "cell_type": "markdown",
   "id": "0dddef84-8182-4314-8912-408d9f24c778",
   "metadata": {},
   "source": [
    "## Prepare <Pos><Neg> Dataset"
   ]
  },
  {
   "cell_type": "code",
   "execution_count": 28,
   "id": "7b1499dd-3a3c-40f8-87bb-26726ed30cd2",
   "metadata": {},
   "outputs": [],
   "source": [
    "import pandas as pd\n",
    "import json"
   ]
  },
  {
   "cell_type": "code",
   "execution_count": 31,
   "id": "1477ce71-0346-406f-9479-614e4075893b",
   "metadata": {},
   "outputs": [],
   "source": [
    "df_neg = pd.read_csv(\"/Users/shahules/Downloads/nli_negative.csv\")\n",
    "df_pos = pd.read_csv(\"/Users/shahules/Downloads/nli_positive.csv\")"
   ]
  },
  {
   "cell_type": "code",
   "execution_count": 34,
   "id": "8efe88fd-74f8-446b-a587-fb6ed4ab053c",
   "metadata": {},
   "outputs": [],
   "source": [
    "annotated_samples = []\n",
    "for neg_row in df_neg.itertuples():\n",
    "    input_data = eval(neg_row.input_data)['context']\n",
    "    for pos_row in df_pos.itertuples():\n",
    "        if input_data == eval(pos_row.input_data)['context']:\n",
    "            sample = {\"input\":input_data,\n",
    "             \"positive\":pos_row.output_output,\n",
    "             \"negative\":neg_row.output_output\n",
    "            }\n",
    "            annotated_samples.append(sample)"
   ]
  },
  {
   "cell_type": "code",
   "execution_count": 36,
   "id": "20538bdf-9487-4d67-95c0-e4d94e23bdd1",
   "metadata": {},
   "outputs": [
    {
     "data": {
      "text/plain": [
       "5"
      ]
     },
     "execution_count": 36,
     "metadata": {},
     "output_type": "execute_result"
    }
   ],
   "source": [
    "len(annotated_samples)"
   ]
  },
  {
   "cell_type": "code",
   "execution_count": 35,
   "id": "c1af73d9-5bf6-4aeb-a7af-7b8610947708",
   "metadata": {},
   "outputs": [],
   "source": [
    "with open(\"results/nli_sample.json\",\"w\") as file:\n",
    "    json.dump(annotated_samples,file,indent=4)"
   ]
  },
  {
   "cell_type": "code",
   "execution_count": null,
   "id": "0dc483b8-6a94-4fd1-b45d-83a92ec4d59b",
   "metadata": {},
   "outputs": [],
   "source": []
  },
  {
   "cell_type": "code",
   "execution_count": null,
   "id": "880f4740-39e2-4389-bdfc-d1fcaf8a03c3",
   "metadata": {},
   "outputs": [],
   "source": []
  }
 ],
 "metadata": {
  "kernelspec": {
   "display_name": "ragas",
   "language": "python",
   "name": "ragas"
  },
  "language_info": {
   "codemirror_mode": {
    "name": "ipython",
    "version": 3
   },
   "file_extension": ".py",
   "mimetype": "text/x-python",
   "name": "python",
   "nbconvert_exporter": "python",
   "pygments_lexer": "ipython3",
   "version": "3.9.20"
  }
 },
 "nbformat": 4,
 "nbformat_minor": 5
}
