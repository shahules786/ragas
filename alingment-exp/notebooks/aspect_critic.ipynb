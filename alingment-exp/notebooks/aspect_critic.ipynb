{
 "cells": [
  {
   "cell_type": "markdown",
   "id": "f708066d-2e7d-46c1-81db-7d5f526c6f74",
   "metadata": {},
   "source": [
    "## LLM\n",
    "- the idea to experiment the same methods on multiple LLMs to make sure the result are LLM agnostic, ideally. Practically measure the std b/w different models"
   ]
  },
  {
   "cell_type": "code",
   "execution_count": 1,
   "id": "7236a707-306b-403a-ba19-916c9ad82491",
   "metadata": {},
   "outputs": [],
   "source": [
    "%load_ext autoreload\n",
    "%autoreload 2"
   ]
  },
  {
   "cell_type": "code",
   "execution_count": 2,
   "id": "e82a0063-c456-4276-8f99-e7fd4011100e",
   "metadata": {},
   "outputs": [],
   "source": [
    "import os\n",
    "os.chdir(\"/Users/shahules/ragas/alingment-exp/\")"
   ]
  },
  {
   "cell_type": "code",
   "execution_count": 3,
   "id": "8dd3cabd-8ec6-4f55-9bd3-68b38ad70f31",
   "metadata": {},
   "outputs": [],
   "source": [
    "from tqdm import tqdm"
   ]
  },
  {
   "cell_type": "code",
   "execution_count": 4,
   "id": "b30b7e92-57e7-482e-b1ce-b55a259d2d40",
   "metadata": {},
   "outputs": [
    {
     "name": "stderr",
     "output_type": "stream",
     "text": [
      "/opt/homebrew/Caskroom/miniforge/base/envs/ragas/lib/python3.9/site-packages/tqdm/auto.py:21: TqdmWarning: IProgress not found. Please update jupyter and ipywidgets. See https://ipywidgets.readthedocs.io/en/stable/user_install.html\n",
      "  from .autonotebook import tqdm as notebook_tqdm\n"
     ]
    }
   ],
   "source": [
    "from langchain_openai.chat_models import ChatOpenAI\n",
    "from ragas.llms import LangchainLLMWrapper\n",
    "\n",
    "llm_4o = LangchainLLMWrapper(ChatOpenAI(model=\"gpt-4o\"))\n",
    "llm_4o_mini = LangchainLLMWrapper(ChatOpenAI(model=\"gpt-4o-mini\"))"
   ]
  },
  {
   "cell_type": "code",
   "execution_count": 5,
   "id": "c98778a7-e8c9-42c8-9f96-b70c30603484",
   "metadata": {},
   "outputs": [],
   "source": [
    "from langchain_openai.embeddings import OpenAIEmbeddings\n",
    "from ragas.embeddings import LangchainEmbeddingsWrapper\n",
    "\n",
    "\n",
    "embeddings = OpenAIEmbeddings(model=\"text-embedding-3-small\")\n",
    "langchain_embeddings = LangchainEmbeddingsWrapper(embeddings=embeddings) # any langchain Embeddings instance\n"
   ]
  },
  {
   "cell_type": "code",
   "execution_count": 6,
   "id": "279ad431-b006-464e-b9b6-5e2bcf6d71dc",
   "metadata": {},
   "outputs": [],
   "source": [
    "from langchain_aws import ChatBedrockConverse\n",
    "from langchain_aws import BedrockEmbeddings\n",
    "from ragas.llms import LangchainLLMWrapper\n",
    "from ragas.embeddings import LangchainEmbeddingsWrapper\n",
    "\n",
    "config = {\n",
    "    \"credentials_profile_name\": \"default\",  # E.g \"default\"\n",
    "    \"region_name\": \"us-east-1\",  # E.g. \"us-east-1\"\n",
    "    \"llm\": \"anthropic.claude-3-haiku-20240307-v1:0\",  # E.g \"anthropic.claude-3-5-sonnet-20240620-v1:0\"\n",
    "}\n",
    "\n",
    "bedrock_llm = ChatBedrockConverse(\n",
    "    credentials_profile_name=config[\"credentials_profile_name\"],\n",
    "    region_name=config[\"region_name\"],\n",
    "    base_url=f\"https://bedrock-runtime.{config['region_name']}.amazonaws.com\",\n",
    "    model=config[\"llm\"],\n",
    ")\n",
    "\n",
    "bedrock_llm = LangchainLLMWrapper(bedrock_llm)"
   ]
  },
  {
   "cell_type": "markdown",
   "id": "c0c93aed-a688-4ac9-84f5-fad2e81988bc",
   "metadata": {},
   "source": [
    "## tracing"
   ]
  },
  {
   "cell_type": "code",
   "execution_count": 7,
   "id": "f9ae5f85-23a2-4e82-ac4c-e18c9290c5d9",
   "metadata": {},
   "outputs": [],
   "source": [
    "import os\n",
    "os.environ[\"LANGCHAIN_PROJECT\"]= \"Alignment\"\n",
    "os.environ[\"LANGCHAIN_TRACING_V2\"] = \"true\""
   ]
  },
  {
   "cell_type": "markdown",
   "id": "02887fbb-4cda-4921-8dd3-7ce72e827f5f",
   "metadata": {},
   "source": [
    "## Evaluation"
   ]
  },
  {
   "cell_type": "code",
   "execution_count": 8,
   "id": "9308cc73-785a-4418-b53b-4f10801f4f31",
   "metadata": {},
   "outputs": [],
   "source": [
    "from ragas.metrics._aspect_critic import AspectCriticWithReference\n",
    "from ragas import EvaluationDataset\n",
    "from datasets import load_dataset, Dataset\n",
    "import numpy as np"
   ]
  },
  {
   "cell_type": "code",
   "execution_count": 9,
   "id": "11a351b5-1893-41bb-a3ff-a27e4e4ca744",
   "metadata": {},
   "outputs": [],
   "source": [
    "def prepare_eval_dataset(path,postive_clas=0.6, seed=42):\n",
    "    samples = []\n",
    "    np.random.seed(seed)\n",
    "    dataset = Dataset.from_json(path)\n",
    "    num = int(len(dataset)*postive_clas)\n",
    "    positive_sample_indices = np.random.randint(0,50,num).tolist()\n",
    "    negative_sample_indices = [i for i in range(len(dataset)) if i not in positive_sample_indices]\n",
    "    for i,row in enumerate(dataset):\n",
    "        dic = {\n",
    "                \"user_input\":row[\"user_input\"],\n",
    "                \"reference\": row[\"reference\"],\n",
    "                                \n",
    "            }\n",
    "        if i in positive_sample_indices:\n",
    "            dic.update(\n",
    "                {\n",
    "                    \"response\": row[\"response\"],\n",
    "                    \"target\": 1\n",
    "                }\n",
    "            )\n",
    "        else:\n",
    "             dic.update(\n",
    "                {\n",
    "                    \"response\": row[\"errored_response\"],\n",
    "                    \"target\": 0\n",
    "                }\n",
    "            )\n",
    "        samples.append(dic)\n",
    "    return Dataset.from_list(samples)\n",
    "            \n",
    "            \n",
    "    "
   ]
  },
  {
   "cell_type": "code",
   "execution_count": 12,
   "id": "bbdf481f-7416-4f91-ab46-6341ede26387",
   "metadata": {},
   "outputs": [
    {
     "name": "stderr",
     "output_type": "stream",
     "text": [
      "Generating train split: 50 examples [00:00, 4161.51 examples/s]\n"
     ]
    }
   ],
   "source": [
    "# dataset = prepare_eval_dataset(\"../datasets/dataset_v4.json\",postive_clas=0.6)"
   ]
  },
  {
   "cell_type": "code",
   "execution_count": 13,
   "id": "84b5dcd5-f806-4766-bf6b-fbeccdeca323",
   "metadata": {},
   "outputs": [
    {
     "name": "stderr",
     "output_type": "stream",
     "text": [
      "Creating json from Arrow format: 100%|███████████████████| 1/1 [00:00<00:00, 140.19ba/s]\n"
     ]
    },
    {
     "data": {
      "text/plain": [
       "163988"
      ]
     },
     "execution_count": 13,
     "metadata": {},
     "output_type": "execute_result"
    }
   ],
   "source": [
    "# dataset.to_json(\"../datasets/dataset_v4_test.json\")"
   ]
  },
  {
   "cell_type": "code",
   "execution_count": 14,
   "id": "7198b863-3a41-4f76-ad64-ba617dee3b24",
   "metadata": {},
   "outputs": [
    {
     "data": {
      "text/plain": [
       "50"
      ]
     },
     "execution_count": 14,
     "metadata": {},
     "output_type": "execute_result"
    }
   ],
   "source": [
    "len(dataset)"
   ]
  },
  {
   "cell_type": "code",
   "execution_count": 15,
   "id": "2b9a48b5-1a07-461c-9091-ef1c02354e29",
   "metadata": {},
   "outputs": [],
   "source": [
    "y_true = dataset[\"target\"]"
   ]
  },
  {
   "cell_type": "code",
   "execution_count": 1,
   "id": "3ca354ef-6de0-4db7-bccc-57dea9eb1946",
   "metadata": {},
   "outputs": [
    {
     "ename": "NameError",
     "evalue": "name 'Dataset' is not defined",
     "output_type": "error",
     "traceback": [
      "\u001b[0;31m---------------------------------------------------------------------------\u001b[0m",
      "\u001b[0;31mNameError\u001b[0m                                 Traceback (most recent call last)",
      "Cell \u001b[0;32mIn[1], line 1\u001b[0m\n\u001b[0;32m----> 1\u001b[0m dataset \u001b[38;5;241m=\u001b[39m \u001b[43mDataset\u001b[49m\u001b[38;5;241m.\u001b[39mfrom_json(\u001b[38;5;124m\"\u001b[39m\u001b[38;5;124mdatasets/dataset_eli5.json\u001b[39m\u001b[38;5;124m\"\u001b[39m)\n",
      "\u001b[0;31mNameError\u001b[0m: name 'Dataset' is not defined"
     ]
    }
   ],
   "source": [
    "dataset = Dataset.from_json(\"datasets/dataset_eli5.json\")"
   ]
  },
  {
   "cell_type": "code",
   "execution_count": 12,
   "id": "98558ed5-f4ac-421b-8d02-b848457c4a66",
   "metadata": {},
   "outputs": [],
   "source": [
    "eval_dataset = EvaluationDataset.from_hf_dataset(dataset)"
   ]
  },
  {
   "cell_type": "code",
   "execution_count": 13,
   "id": "b9f43f40-dcb4-488e-8fa9-d8192e4522cc",
   "metadata": {},
   "outputs": [
    {
     "data": {
      "text/plain": [
       "EvaluationDataset(features=['user_input', 'response', 'reference'], len=10)"
      ]
     },
     "execution_count": 13,
     "metadata": {},
     "output_type": "execute_result"
    }
   ],
   "source": [
    "eval_dataset"
   ]
  },
  {
   "cell_type": "markdown",
   "id": "97dda5ba-1296-4df6-862e-449bcff28724",
   "metadata": {},
   "source": [
    "## dataset modification"
   ]
  },
  {
   "cell_type": "code",
   "execution_count": 6,
   "id": "09166552-cb2f-49c2-9625-ff5c2a5768c5",
   "metadata": {},
   "outputs": [],
   "source": [
    "from datasets import load_dataset, Dataset\n",
    "import json"
   ]
  },
  {
   "cell_type": "code",
   "execution_count": 46,
   "id": "52191070-9f23-4ab7-ae38-315f5fbd8c78",
   "metadata": {},
   "outputs": [],
   "source": [
    "original_dataset = Dataset.from_json(\"../datasets/dataset_eli5.json\")\n",
    "dataset = load_dataset(\"explodinggradients/ELI5\")\n"
   ]
  },
  {
   "cell_type": "code",
   "execution_count": 47,
   "id": "f2a7f6b1-4a29-45ed-96a6-f4f47ae8db88",
   "metadata": {},
   "outputs": [
    {
     "data": {
      "text/plain": [
       "Dataset({\n",
       "    features: ['user_input', 'reference', 'term', 'response', 'errored_response', 'error_description'],\n",
       "    num_rows: 156\n",
       "})"
      ]
     },
     "execution_count": 47,
     "metadata": {},
     "output_type": "execute_result"
    }
   ],
   "source": [
    "original_dataset"
   ]
  },
  {
   "cell_type": "code",
   "execution_count": 48,
   "id": "4f5307aa-1528-4355-a6c7-9abdfb29ed3f",
   "metadata": {},
   "outputs": [
    {
     "name": "stdout",
     "output_type": "stream",
     "text": [
      "here\n",
      "here\n",
      "here\n",
      "here\n",
      "here\n",
      "here\n",
      "here\n",
      "here\n",
      "here\n",
      "here\n",
      "here\n",
      "here\n",
      "here\n",
      "here\n",
      "here\n",
      "here\n",
      "here\n",
      "here\n",
      "here\n",
      "here\n",
      "here\n",
      "here\n",
      "here\n",
      "here\n",
      "here\n",
      "here\n",
      "here\n",
      "here\n",
      "here\n",
      "here\n",
      "here\n",
      "here\n",
      "here\n",
      "here\n",
      "here\n",
      "here\n",
      "here\n",
      "here\n",
      "here\n",
      "here\n"
     ]
    },
    {
     "name": "stderr",
     "output_type": "stream",
     "text": [
      "Creating json from Arrow format: 100%|████████████████████████████████████| 1/1 [00:00<00:00, 157.70ba/s]\n"
     ]
    },
    {
     "name": "stdout",
     "output_type": "stream",
     "text": [
      "here\n",
      "here\n",
      "here\n",
      "here\n",
      "here\n",
      "here\n",
      "here\n",
      "here\n",
      "here\n",
      "here\n",
      "here\n",
      "here\n",
      "here\n",
      "here\n",
      "here\n",
      "here\n",
      "here\n",
      "here\n",
      "here\n",
      "here\n",
      "here\n",
      "here\n",
      "here\n"
     ]
    },
    {
     "name": "stderr",
     "output_type": "stream",
     "text": [
      "Creating json from Arrow format: 100%|████████████████████████████████████| 1/1 [00:00<00:00, 584.16ba/s]\n"
     ]
    }
   ],
   "source": [
    "for split in dataset:\n",
    "    samples = []\n",
    "    val = len(dataset[split]) * [None]\n",
    "    dataset[split] = dataset[split].add_column(\"error_description\",val)\n",
    "    for row in dataset[split]:\n",
    "        user_input = row['user_input']\n",
    "        error_description = None\n",
    "        if row['target'] == 0:\n",
    "            for sample in original_dataset:\n",
    "                if sample['user_input'] == user_input:\n",
    "                    print('here')\n",
    "                    error_description = sample[\"error_description\"]\n",
    "        \n",
    "        row[\"error_description\"] = error_description\n",
    "        samples.append(row)\n",
    "    Dataset.from_list(samples).to_json(f\"../datasets/ELI5_{split}\")\n",
    "\n",
    "        "
   ]
  },
  {
   "cell_type": "code",
   "execution_count": 49,
   "id": "6b2c6cff-55f6-490f-8db4-2f34f1837021",
   "metadata": {},
   "outputs": [
    {
     "name": "stderr",
     "output_type": "stream",
     "text": [
      "Generating train split: 100 examples [00:00, 22083.42 examples/s]\n"
     ]
    }
   ],
   "source": [
    "train = Dataset.from_json('../datasets/ELI5_test')"
   ]
  },
  {
   "cell_type": "code",
   "execution_count": 63,
   "id": "366454c3-e398-4662-ad80-af6cada8782e",
   "metadata": {},
   "outputs": [
    {
     "data": {
      "text/plain": [
       "{'user_input': 'What is the Theory of Mutation Rates and how does it impact evolutionary biology?',\n",
       " 'reference': 'The Theory of Mutation Rates explores how often mutations occur in a given genome over a specific period. It is crucial in evolutionary biology because it helps explain genetic variation within populations. Mutations can introduce new traits, some of which may offer a survival advantage or disadvantage, influencing natural selection. Understanding mutation rates allows scientists to predict evolutionary trends, study genetic diseases, and explore the mechanisms of adaptation. The theory also aids in estimating the timeframes of evolutionary events by comparing genetic differences between species.',\n",
       " 'response': \"The Theory of Mutation Rates is like counting how often little changes happen in the DNA of living things over time. These changes are important because they can make new traits, like superpowers, that help or don't help animals and plants survive. By knowing how often these changes happen, scientists can guess how living things might change in the future, learn about diseases, and figure out how long ago different animals and plants started being the same as each other.\",\n",
       " 'target': 0,\n",
       " 'error_description': \"The errored response incorrectly states that different animals and plants started being 'the same as each other,' which introduces a subtle factual inaccuracy.\"}"
      ]
     },
     "execution_count": 63,
     "metadata": {},
     "output_type": "execute_result"
    }
   ],
   "source": [
    "train.filter(lambda x: x['target'] == 0)[19]"
   ]
  },
  {
   "cell_type": "markdown",
   "id": "e5d53484-e1ab-40c7-97cd-7d645b05f229",
   "metadata": {},
   "source": [
    "## Aspect Critic"
   ]
  },
  {
   "cell_type": "code",
   "execution_count": 17,
   "id": "59667893-0d0e-4e6d-aac7-261da9c64c9a",
   "metadata": {},
   "outputs": [],
   "source": [
    "def random_examples(n=3):\n",
    "    from ragas.metrics._aspect_critic import AspectCriticInputWithReference,AspectCriticOutputWithReference\n",
    "    examples = [(\n",
    "    AspectCriticInputWithReference(\n",
    "        user_input=\"What is the main ingredient in traditional Japanese miso soup?\",\n",
    "        response=\"The main ingredient in traditional Japanese miso soup is soybeans.\",\n",
    "        reference=\"The main ingredient in traditional Japanese miso soup is miso paste, which is made from fermented soybeans.\",\n",
    "        criteria=\"Does the response accurately convey the main ingredient of the soup?\",\n",
    "    ),\n",
    "    AspectCriticOutputWithReference(\n",
    "        reason=\"The response mentions soybeans, which is part of the ingredient but does not fully capture the main ingredient, miso paste.\",\n",
    "        verdict=0,\n",
    "    ),\n",
    "),\n",
    "     (\n",
    "    AspectCriticInputWithReference(\n",
    "        user_input=\"When was the Declaration of Independence signed?\",\n",
    "        response=\"The Declaration of Independence was signed in 1776.\",\n",
    "        reference=\"The Declaration of Independence was signed on July 4, 1776.\",\n",
    "        criteria=\"Is the response factually complete, including both month and year?\",\n",
    "    ),\n",
    "    AspectCriticOutputWithReference(\n",
    "        reason=\"The response provides the correct year but omits the specific date, July 4, making it incomplete.\",\n",
    "        verdict=0,\n",
    "    ),\n",
    "),\n",
    "     (\n",
    "    AspectCriticInputWithReference(\n",
    "        user_input=\"What is the main ingredient in traditional Japanese miso soup?\",\n",
    "        response=\"The main ingredient in traditional Japanese miso soup is soybeans.\",\n",
    "        reference=\"The main ingredient in traditional Japanese miso soup is miso paste, which is made from fermented soybeans.\",\n",
    "        criteria=\"Does the response accurately convey the main ingredient of the soup?\",\n",
    "    ),\n",
    "    AspectCriticOutputWithReference(\n",
    "        reason=\"The response mentions soybeans, which is part of the ingredient but does not fully capture the main ingredient, miso paste.\",\n",
    "        verdict=0,\n",
    "    ),\n",
    ")]\n",
    "    return examples[:n]\n",
    "     "
   ]
  },
  {
   "cell_type": "code",
   "execution_count": 19,
   "id": "7df08839-9dc0-47ce-9f8d-81cdcf5407a2",
   "metadata": {},
   "outputs": [],
   "source": [
    "# new_prompt = \"Please evaluate the provided responses based on their accuracy and relevance to the user inputs and references. Assign a verdict of 1 for responses that align closely with the reference, even if they contain some additional context or elaboration, and 0 for incorrect responses that contain factual inaccuracies or significant deviations from the reference. Ensure that all critical details from the reference, including specific phrases or terms essential for accuracy, are included in the response to avoid missing key information that could affect the verdict. Provide a brief reason for your verdict, highlighting both strengths and weaknesses in the responses, and ensure that the evaluation remains concise, focusing on core factual accuracy and relevance to the reference. For guidance, examples of significant deviations include discrepancies in key dates or misinterpretations of critical facts\""
   ]
  },
  {
   "cell_type": "code",
   "execution_count": 14,
   "id": "0ef75234-2e3b-4d03-aa91-d443cd340fa8",
   "metadata": {},
   "outputs": [],
   "source": [
    "new_prompt = \"Given the user_input, reference and response. Is the response correct compared with the reference\""
   ]
  },
  {
   "cell_type": "code",
   "execution_count": 15,
   "id": "fb75bea8-5fcc-4439-afae-b94123b860ed",
   "metadata": {},
   "outputs": [],
   "source": [
    "critic = AspectCriticWithReference(name=\"answer correctness\",\n",
    "                      definition=new_prompt,dynamic_retrieval=False)\n"
   ]
  },
  {
   "cell_type": "code",
   "execution_count": 16,
   "id": "1e4961eb-719d-45d5-8eec-f3035b5fa861",
   "metadata": {},
   "outputs": [],
   "source": [
    "critic.single_turn_prompt.examples = []"
   ]
  },
  {
   "cell_type": "code",
   "execution_count": 17,
   "id": "8f68a003-8a6b-40a0-ac67-74f6f0391ac2",
   "metadata": {},
   "outputs": [],
   "source": [
    "critic.llm = llm_4o_mini\n",
    "critic.embedding_model = langchain_embeddings"
   ]
  },
  {
   "cell_type": "code",
   "execution_count": 18,
   "id": "73c5e53b-6e95-4682-8356-6bfcd2e31c3f",
   "metadata": {},
   "outputs": [],
   "source": [
    "from ragas import evaluate"
   ]
  },
  {
   "cell_type": "code",
   "execution_count": 19,
   "id": "eb5de705-5de0-46c8-b94e-ae9fa4472e00",
   "metadata": {},
   "outputs": [
    {
     "name": "stderr",
     "output_type": "stream",
     "text": [
      "Evaluating: 100%|███████████████████████████████████████| 10/10 [00:02<00:00,  3.48it/s]\n"
     ]
    }
   ],
   "source": [
    "result = evaluate(dataset=eval_dataset[:],metrics=[critic])"
   ]
  },
  {
   "cell_type": "code",
   "execution_count": 20,
   "id": "a55ccc5c-75a7-4a99-80dc-1b11edeca699",
   "metadata": {},
   "outputs": [
    {
     "name": "stdout",
     "output_type": "stream",
     "text": [
      "Evaluation results uploaded! View at https://app.ragas.io/alignment/evaluation/3b57bd77-aed2-4699-90ca-955dfbaad49f\n"
     ]
    },
    {
     "data": {
      "text/plain": [
       "'https://app.ragas.io/alignment/evaluation/3b57bd77-aed2-4699-90ca-955dfbaad49f'"
      ]
     },
     "execution_count": 20,
     "metadata": {},
     "output_type": "execute_result"
    }
   ],
   "source": [
    "result.upload()"
   ]
  },
  {
   "cell_type": "code",
   "execution_count": 26,
   "id": "8363f5ed-2bdc-4476-9af4-614e212bab55",
   "metadata": {},
   "outputs": [],
   "source": [
    "df = result.to_pandas()"
   ]
  },
  {
   "cell_type": "code",
   "execution_count": 27,
   "id": "aff33001-0e8d-4f56-b34f-3fa2a9a729e6",
   "metadata": {},
   "outputs": [
    {
     "data": {
      "text/html": [
       "<div>\n",
       "<style scoped>\n",
       "    .dataframe tbody tr th:only-of-type {\n",
       "        vertical-align: middle;\n",
       "    }\n",
       "\n",
       "    .dataframe tbody tr th {\n",
       "        vertical-align: top;\n",
       "    }\n",
       "\n",
       "    .dataframe thead th {\n",
       "        text-align: right;\n",
       "    }\n",
       "</style>\n",
       "<table border=\"1\" class=\"dataframe\">\n",
       "  <thead>\n",
       "    <tr style=\"text-align: right;\">\n",
       "      <th></th>\n",
       "      <th>user_input</th>\n",
       "      <th>response</th>\n",
       "      <th>reference</th>\n",
       "      <th>answer correctness</th>\n",
       "      <th>target</th>\n",
       "    </tr>\n",
       "  </thead>\n",
       "  <tbody>\n",
       "    <tr>\n",
       "      <th>0</th>\n",
       "      <td>How did the invention of the wheel impact anci...</td>\n",
       "      <td># The Revolutionary Impact of the Wheel on Anc...</td>\n",
       "      <td>The invention of the wheel was a pivotal momen...</td>\n",
       "      <td>1</td>\n",
       "      <td>0</td>\n",
       "    </tr>\n",
       "    <tr>\n",
       "      <th>1</th>\n",
       "      <td>How did the discovery of fire impact early hum...</td>\n",
       "      <td># The Transformative Power of Fire in Early Hu...</td>\n",
       "      <td>The discovery of fire was a pivotal moment in ...</td>\n",
       "      <td>1</td>\n",
       "      <td>1</td>\n",
       "    </tr>\n",
       "    <tr>\n",
       "      <th>2</th>\n",
       "      <td>What were the major impacts of the Agricultura...</td>\n",
       "      <td># The Transformative Impacts of the Agricultur...</td>\n",
       "      <td>The Agricultural Revolution, which began aroun...</td>\n",
       "      <td>1</td>\n",
       "      <td>1</td>\n",
       "    </tr>\n",
       "    <tr>\n",
       "      <th>3</th>\n",
       "      <td>What were the key events and consequences of t...</td>\n",
       "      <td># The Fall of Constantinople: A Turning Point ...</td>\n",
       "      <td>The Fall of Constantinople occurred on May 29,...</td>\n",
       "      <td>0</td>\n",
       "      <td>0</td>\n",
       "    </tr>\n",
       "    <tr>\n",
       "      <th>4</th>\n",
       "      <td>How did the birth of democracy in Athens shape...</td>\n",
       "      <td># The Birth of Democracy in Athens: A Revoluti...</td>\n",
       "      <td>The birth of democracy in Athens, around the 5...</td>\n",
       "      <td>1</td>\n",
       "      <td>0</td>\n",
       "    </tr>\n",
       "  </tbody>\n",
       "</table>\n",
       "</div>"
      ],
      "text/plain": [
       "                                          user_input  \\\n",
       "0  How did the invention of the wheel impact anci...   \n",
       "1  How did the discovery of fire impact early hum...   \n",
       "2  What were the major impacts of the Agricultura...   \n",
       "3  What were the key events and consequences of t...   \n",
       "4  How did the birth of democracy in Athens shape...   \n",
       "\n",
       "                                            response  \\\n",
       "0  # The Revolutionary Impact of the Wheel on Anc...   \n",
       "1  # The Transformative Power of Fire in Early Hu...   \n",
       "2  # The Transformative Impacts of the Agricultur...   \n",
       "3  # The Fall of Constantinople: A Turning Point ...   \n",
       "4  # The Birth of Democracy in Athens: A Revoluti...   \n",
       "\n",
       "                                           reference  answer correctness  \\\n",
       "0  The invention of the wheel was a pivotal momen...                   1   \n",
       "1  The discovery of fire was a pivotal moment in ...                   1   \n",
       "2  The Agricultural Revolution, which began aroun...                   1   \n",
       "3  The Fall of Constantinople occurred on May 29,...                   0   \n",
       "4  The birth of democracy in Athens, around the 5...                   1   \n",
       "\n",
       "   target  \n",
       "0       0  \n",
       "1       1  \n",
       "2       1  \n",
       "3       0  \n",
       "4       0  "
      ]
     },
     "execution_count": 27,
     "metadata": {},
     "output_type": "execute_result"
    }
   ],
   "source": [
    "df[\"target\"] = y_true\n",
    "df.head()"
   ]
  },
  {
   "cell_type": "code",
   "execution_count": 28,
   "id": "26e9c252-59df-47cd-a6ea-7e644fcb32b2",
   "metadata": {},
   "outputs": [],
   "source": [
    "y_pred = df[\"answer correctness\"].values.tolist()"
   ]
  },
  {
   "cell_type": "markdown",
   "id": "a37f3ac2-2a0c-494f-af1f-906ee1ca26ec",
   "metadata": {},
   "source": [
    "## evaluate the evaluation"
   ]
  },
  {
   "cell_type": "code",
   "execution_count": 29,
   "id": "e5ca7bfa-5ed2-46b5-ae42-84d35c6a6ec9",
   "metadata": {},
   "outputs": [],
   "source": [
    "from sklearn.metrics import f1_score,precision_score,recall_score"
   ]
  },
  {
   "cell_type": "code",
   "execution_count": 30,
   "id": "a831ca75-9e90-4d29-93c0-349779acbb74",
   "metadata": {},
   "outputs": [
    {
     "name": "stdout",
     "output_type": "stream",
     "text": [
      "f1 0.7096774193548387\n",
      "precision 0.55\n",
      "recall 1.0\n"
     ]
    }
   ],
   "source": [
    "print(\"f1\",f1_score(y_true,y_pred))\n",
    "print(\"precision\",precision_score(y_true,y_pred))\n",
    "print(\"recall\",recall_score(y_true,y_pred))"
   ]
  },
  {
   "cell_type": "markdown",
   "id": "ea28f5af-bb24-4c06-986c-8ffd6b881235",
   "metadata": {},
   "source": [
    "## json serializaition"
   ]
  },
  {
   "cell_type": "code",
   "execution_count": 63,
   "id": "7cda7720-2e5f-4664-9a9c-f1680d6d4ab1",
   "metadata": {},
   "outputs": [],
   "source": [
    "from typing import Any\n",
    "def serialize_for_json(data: Any) -> Any:\n",
    "    \"\"\"\n",
    "    Convert custom objects into a JSON-serializable format.\n",
    "\n",
    "    Parameters:\n",
    "    data (Any): The data to be converted, which may contain custom objects.\n",
    "\n",
    "    Returns:\n",
    "    Any: A JSON-serializable version of the input data.\n",
    "    \"\"\"\n",
    "    if isinstance(data, dict):\n",
    "        return {key: serialize_for_json(value) for key, value in data.items()}\n",
    "    elif isinstance(data, list):\n",
    "        return [serialize_for_json(item) for item in data]\n",
    "    elif hasattr(data, \"__dict__\"):\n",
    "        # Convert custom objects by serializing their attributes (assumes they use __dict__)\n",
    "        return serialize_for_json(data.__dict__)\n",
    "    else:\n",
    "        return data  # Return the data as-is if it is already JSON-serializable\n",
    "\n",
    "\n",
    "def format_dict(dic):\n",
    "    string = \"\"\n",
    "    for key, val in dic.items():\n",
    "        string += f\"\\n{key}:\\n\\t{val}\\n\"\n",
    "    return string\n"
   ]
  },
  {
   "cell_type": "markdown",
   "id": "64db4a7c-c09c-4ec5-92ac-3062a7c1c784",
   "metadata": {},
   "source": [
    "## Feedback samples"
   ]
  },
  {
   "cell_type": "code",
   "execution_count": 37,
   "id": "2e9ff5ef-cb08-411f-abef-0f9c0bf7116f",
   "metadata": {},
   "outputs": [],
   "source": [
    "wrong_predictions = [i for i in range(len(dataset)) if y_pred[i]!=y_true[i]]\n",
    "traces = result.traces"
   ]
  },
  {
   "cell_type": "code",
   "execution_count": 59,
   "id": "33561852-c1cf-46b5-aae7-b4ac7ce9ff08",
   "metadata": {},
   "outputs": [],
   "source": [
    "np.random.seed(42)\n",
    "subset_indices= np.random.choice(wrong_predictions,4)"
   ]
  },
  {
   "cell_type": "code",
   "execution_count": 60,
   "id": "8fce771c-ae07-4d87-8057-4e0c763e50e3",
   "metadata": {},
   "outputs": [
    {
     "data": {
      "text/plain": [
       "array([17, 44, 30, 25])"
      ]
     },
     "execution_count": 60,
     "metadata": {},
     "output_type": "execute_result"
    }
   ],
   "source": [
    "subset_indices"
   ]
  },
  {
   "cell_type": "code",
   "execution_count": 61,
   "id": "31b2acf6-5b4c-4d70-8994-c6238023b027",
   "metadata": {},
   "outputs": [],
   "source": [
    "traces_for_wrong = [traces[i] for i in subset_indices]"
   ]
  },
  {
   "cell_type": "markdown",
   "id": "14bb8979-051c-42c1-9bb0-27ff53b484fd",
   "metadata": {},
   "source": [
    "[17, 30, 25]"
   ]
  },
  {
   "cell_type": "code",
   "execution_count": 131,
   "id": "48266d70-685d-4ac9-8ccf-dbc0ed981c25",
   "metadata": {},
   "outputs": [
    {
     "data": {
      "text/plain": [
       "'Please evaluate the provided responses based on their accuracy and relevance to the user inputs and references. Assign a verdict of 1 for responses that align closely with the reference, even if they contain some additional context or elaboration, and 0 for incorrect responses that contain factual inaccuracies or significant deviations from the reference. Ensure that all critical details from the reference, including specific phrases or terms essential for accuracy, are included in the response to avoid missing key information that could affect the verdict. Provide a brief reason for your verdict, highlighting both strengths and weaknesses in the responses, and ensure that the evaluation remains concise, focusing on core factual accuracy and relevance to the reference. For guidance, examples of significant deviations include discrepancies in key dates or misinterpretations of critical facts'"
      ]
     },
     "execution_count": 131,
     "metadata": {},
     "output_type": "execute_result"
    }
   ],
   "source": [
    "new_prompt"
   ]
  },
  {
   "cell_type": "code",
   "execution_count": 151,
   "id": "37ea536e-a3ee-4792-aebe-f91cf5ebeb04",
   "metadata": {},
   "outputs": [],
   "source": [
    "import typing as t\n",
    "from pydantic import BaseModel\n",
    "from ragas.prompt import PydanticPrompt\n",
    "\n",
    "class SingleInputOutput(BaseModel):\n",
    "    input: str\n",
    "    incorrect_output: t.Dict[str, t.Any]\n",
    "    \n",
    "class ErrorAnalysisInput(BaseModel):\n",
    "    prompt: str\n",
    "    examples: t.List[SingleInputOutput]\n",
    "    \n",
    "class ErrorAnalysisOutput(BaseModel):\n",
    "    reason: str\n",
    "    \n",
    "class ErrorAnalysisPrompt(PydanticPrompt[ErrorAnalysisInput, ErrorAnalysisOutput]):\n",
    "    name: str = \"error_analysis\"\n",
    "    instruction: str = (\n",
    "        \"You're an expert reviewer. Given a prompt and (input  containing (user_input, response, reference), output) example, one of the expert annotaters in your team marked the output as incorrect.\"\n",
    "        \"Analyse input, output pair to understand why the ouput was marked as incorrect by the annotator\"\n",
    "    )\n",
    "    input_model = ErrorAnalysisInput\n",
    "    output_model = ErrorAnalysisOutput"
   ]
  },
  {
   "cell_type": "code",
   "execution_count": 178,
   "id": "d9d761bd-e559-469c-b881-7bfb58b1891d",
   "metadata": {},
   "outputs": [],
   "source": [
    "class PatternAnalysisInput(BaseModel):\n",
    "    reasons: t.List[str]\n",
    "\n",
    "class PatternAnalysisOutput(BaseModel):\n",
    "    output: t.List[str]\n",
    "\n",
    "\n",
    "class PatternAnalysisPrompt(PydanticPrompt[PatternAnalysisInput, PatternAnalysisOutput]):\n",
    "    instruction = (\n",
    "        \"Given a list of reasons for specific example for which a prompt yeilded incorrect output\"\n",
    "        \"do pattern analyse on the provided reasons and provide a general error statement\"\n",
    "    )\n",
    "    input_model = PatternAnalysisInput\n",
    "    output_model = PatternAnalysisOutput"
   ]
  },
  {
   "cell_type": "code",
   "execution_count": 179,
   "id": "36923ef6-0551-49fd-8a4e-5e35f93023c1",
   "metadata": {},
   "outputs": [],
   "source": [
    "def conver_to_single_input(trace):\n",
    "    data = serialize_for_json(trace['answer correctness'])['0_single_turn_aspect_critic_prompt_with_reference']\n",
    "    input_ = data[\"input\"]\n",
    "    input_ = format_dict(input_)\n",
    "    output = data[\"output\"][0]\n",
    "    return SingleInputOutput(input=input_,  incorrect_output=output)\n",
    "                \n",
    "    \n",
    "    "
   ]
  },
  {
   "cell_type": "code",
   "execution_count": 175,
   "id": "e43b0c19-5a81-480f-8ad5-1c6f45274e1a",
   "metadata": {},
   "outputs": [],
   "source": [
    "reasons = []\n",
    "for idx in [25,30]:\n",
    "    error_analysis_input = [conver_to_single_input(traces[idx])]\n",
    "    prompt_input = ErrorAnalysisInput(prompt=new_prompt,examples=error_analysis_input)\n",
    "    prompt = ErrorAnalysisPrompt()\n",
    "    response = await prompt.generate(data=prompt_input,llm=llm_4o_mini)\n",
    "    reasons.append(response.reason)"
   ]
  },
  {
   "cell_type": "code",
   "execution_count": 180,
   "id": "109f7efe-4a59-4e3e-89c7-84bc90acd6f9",
   "metadata": {},
   "outputs": [
    {
     "data": {
      "text/plain": [
       "PatternAnalysisOutput(output=['The output was marked as incorrect due to critical factual inaccuracies in the response, including incorrect dates and deviations from the required focus. These inaccuracies led to a failure in accurately reflecting the specific details from the reference material, resulting in a lower evaluation score.'])"
      ]
     },
     "execution_count": 180,
     "metadata": {},
     "output_type": "execute_result"
    }
   ],
   "source": [
    "prompt = PatternAnalysisPrompt()\n",
    "prompt_input = PatternAnalysisInput(reasons=reasons)\n",
    "await prompt.generate(data=prompt_input,llm=llm_4o_mini)"
   ]
  },
  {
   "cell_type": "code",
   "execution_count": 165,
   "id": "4a1a6758-ecdc-490c-8848-c433da056121",
   "metadata": {},
   "outputs": [
    {
     "data": {
      "text/plain": [
       "ErrorAnalysisOutput(reason=\"The output was marked as incorrect because it failed to accurately reflect the specific details from the reference. While the response provided a comprehensive overview of the factors leading to the end of Apartheid, it incorrectly stated the year of the Soweto Uprising as 1975 instead of 1976, which is a critical factual inaccuracy. Additionally, the response included excessive elaboration that, while informative, deviated from the concise nature required by the prompt. The inclusion of the phrase 'the end of the Cold War' without specifying its relevance to the context of Apartheid also contributed to the deviation from the reference.\")"
      ]
     },
     "execution_count": 165,
     "metadata": {},
     "output_type": "execute_result"
    }
   ],
   "source": [
    "response"
   ]
  },
  {
   "cell_type": "code",
   "execution_count": 160,
   "id": "d03c8bf9-d393-4106-84b2-1ba4bcbb564b",
   "metadata": {},
   "outputs": [
    {
     "data": {
      "text/plain": [
       "ErrorAnalysisOutput(reason=\"The output was marked as incorrect because, despite the response providing a comprehensive overview of the impact of Gutenberg's printing press, it contains inaccuracies regarding the timeline. The reference states that the printing press was invented in the mid-15th century, while the response claims it was invented in the early 15th century. This discrepancy in key dates is a significant deviation from the reference, which affects the overall factual accuracy of the response.\")"
      ]
     },
     "execution_count": 160,
     "metadata": {},
     "output_type": "execute_result"
    }
   ],
   "source": [
    "response"
   ]
  },
  {
   "cell_type": "code",
   "execution_count": 161,
   "id": "42cc2ae1-bfbc-43d5-a0a6-94bdda31f319",
   "metadata": {},
   "outputs": [
    {
     "data": {
      "text/plain": [
       "'Please evaluate the provided responses based on their accuracy and relevance to the user inputs and references. Assign a verdict of 1 for responses that align closely with the reference, even if they contain some additional context or elaboration, and 0 for incorrect responses that contain factual inaccuracies or significant deviations from the reference. Ensure that all critical details from the reference, including specific phrases or terms essential for accuracy, are included in the response to avoid missing key information that could affect the verdict. Provide a brief reason for your verdict, highlighting both strengths and weaknesses in the responses, and ensure that the evaluation remains concise, focusing on core factual accuracy and relevance to the reference. For guidance, examples of significant deviations include discrepancies in key dates or misinterpretations of critical facts'"
      ]
     },
     "execution_count": 161,
     "metadata": {},
     "output_type": "execute_result"
    }
   ],
   "source": [
    "new_prompt"
   ]
  },
  {
   "cell_type": "markdown",
   "id": "858363f2-fb75-4094-8fa9-66a2c6de48f8",
   "metadata": {},
   "source": [
    "## Analysis"
   ]
  },
  {
   "cell_type": "code",
   "execution_count": 8,
   "id": "36c2f2e7-5c18-45a6-bbbb-aeac0f6f69ce",
   "metadata": {},
   "outputs": [],
   "source": [
    "def get_confusion_indices(y_true, y_pred):\n",
    "    \"\"\"\n",
    "    Function to find the indices of TP, FP, FN, and TN.\n",
    "\n",
    "    Parameters:\n",
    "    y_true (list or np.array): Ground truth binary labels (0 or 1).\n",
    "    y_pred (list or np.array): Predicted binary labels (0 or 1).\n",
    "\n",
    "    Returns:\n",
    "    dict: A dictionary containing lists of indices for TP, FP, FN, and TN.\n",
    "    \"\"\"\n",
    "    tp = [i for i, (true, pred) in enumerate(zip(y_true, y_pred)) if true == 1 and pred == 1]\n",
    "    fp = [i for i, (true, pred) in enumerate(zip(y_true, y_pred)) if true == 0 and pred == 1]\n",
    "    fn = [i for i, (true, pred) in enumerate(zip(y_true, y_pred)) if true == 1 and pred == 0]\n",
    "    tn = [i for i, (true, pred) in enumerate(zip(y_true, y_pred)) if true == 0 and pred == 0]\n",
    "\n",
    "    return {\n",
    "        'TP': tp,\n",
    "        'FP': fp,\n",
    "        'FN': fn,\n",
    "        'TN': tn\n",
    "    }"
   ]
  },
  {
   "cell_type": "code",
   "execution_count": 26,
   "id": "62fe01f5-0034-47fa-80e7-bb8449a67981",
   "metadata": {},
   "outputs": [],
   "source": [
    "confusion_matrix = get_confusion_indices(y_true,y_pred)"
   ]
  },
  {
   "cell_type": "code",
   "execution_count": 28,
   "id": "ceae867d-eeec-4a9e-9782-7c01b9311457",
   "metadata": {},
   "outputs": [],
   "source": [
    "from collections import defaultdict\n",
    "samples = defaultdict(list)\n",
    "traces = result.traces\n",
    "for qdrant,indices in confusion_matrix.items():\n",
    "    for idx in indices:\n",
    "        samples[qdrant].append(serialize_for_json(traces[idx]['answer correctness']))"
   ]
  },
  {
   "cell_type": "code",
   "execution_count": 29,
   "id": "20a3e27b-1855-4797-a0a4-ffe336885501",
   "metadata": {
    "scrolled": true
   },
   "outputs": [
    {
     "data": {
      "text/plain": [
       "[17, 7, 1, 19]"
      ]
     },
     "execution_count": 29,
     "metadata": {},
     "output_type": "execute_result"
    }
   ],
   "source": [
    "[len(val) for val in samples.values()]"
   ]
  },
  {
   "cell_type": "code",
   "execution_count": 30,
   "id": "8f4be615-391e-4989-b57b-666e68b06b0f",
   "metadata": {},
   "outputs": [],
   "source": [
    "import json\n",
    "with open(\"datasets/dataset_v4_training_aspect_critic_annotated.json\",\"w\") as file:\n",
    "    json.dump(samples,file)"
   ]
  },
  {
   "cell_type": "markdown",
   "id": "73751ced-51a3-42aa-8412-bea1744e4c6d",
   "metadata": {},
   "source": [
    "## Embed and store samples"
   ]
  },
  {
   "cell_type": "code",
   "execution_count": 23,
   "id": "cc95d0d7-0fbe-47be-9043-34f893d19563",
   "metadata": {},
   "outputs": [],
   "source": [
    "import json\n",
    "import numpy as np\n",
    "samples = json.load(open(\"../datasets/dataset_v4_training_aspect_critic_annotated.json\"))\n",
    "                     \n",
    "# embeddings.aembed_documents()"
   ]
  },
  {
   "cell_type": "code",
   "execution_count": 24,
   "id": "c19b0a80-8380-41ec-aaf9-d4ebfac7e4e7",
   "metadata": {},
   "outputs": [],
   "source": [
    "def organise_training_samples(samples):\n",
    "\n",
    "    tp = samples[\"TP\"]\n",
    "    tn = samples[\"TN\"]\n",
    "    fp = samples['FP']\n",
    "    fn = samples['FN']\n",
    "    all_samples = tp + tn + fp + fn\n",
    "    final_samples = []\n",
    "    for sample in all_samples:\n",
    "        if sample in tp:\n",
    "            qdrant = 'TP'\n",
    "            target = 1\n",
    "        elif sample in fp:\n",
    "            qdrant = 'FP'\n",
    "            target = 0\n",
    "        elif sample in tn:\n",
    "            qdrant = 'TN'\n",
    "            target = 0\n",
    "        else:\n",
    "            qdrant = 'FN'\n",
    "            target = 1\n",
    "        sample = list(sample.values())[0]\n",
    "        sample['qdrant'] = qdrant\n",
    "        sample['target'] = target\n",
    "        _ = sample['input'].pop('criteria')\n",
    "        sample['output'] = sample['output'][0]\n",
    "        final_samples.append(sample)\n",
    "\n",
    "    return final_samples"
   ]
  },
  {
   "cell_type": "code",
   "execution_count": 25,
   "id": "ec19d5a1-a33d-4580-8d29-61a0fd4320ee",
   "metadata": {},
   "outputs": [],
   "source": [
    "samples = organise_training_samples(samples)"
   ]
  },
  {
   "cell_type": "code",
   "execution_count": 29,
   "id": "6701a298-5e27-47f8-aa3f-945bddc9a054",
   "metadata": {},
   "outputs": [
    {
     "name": "stderr",
     "output_type": "stream",
     "text": [
      "Creating json from Arrow format: 100%|██| 1/1 [00:00<00:00, 89.98ba/s]\n"
     ]
    },
    {
     "data": {
      "text/plain": [
       "153319"
      ]
     },
     "execution_count": 29,
     "metadata": {},
     "output_type": "execute_result"
    }
   ],
   "source": [
    "from datasets import Dataset\n",
    "Dataset.from_list(samples).to_json(\"../datasets/dataset_v4_training_annotated_full.json\")"
   ]
  },
  {
   "cell_type": "code",
   "execution_count": 30,
   "id": "edf004d1-9d21-445d-ad34-320fa53aabcf",
   "metadata": {},
   "outputs": [
    {
     "name": "stderr",
     "output_type": "stream",
     "text": [
      "Generating train split: 44 examples [00:00, 1448.89 examples/s]\n"
     ]
    },
    {
     "data": {
      "text/plain": [
       "Dataset({\n",
       "    features: ['input', 'output', 'qdrant', 'target'],\n",
       "    num_rows: 44\n",
       "})"
      ]
     },
     "execution_count": 30,
     "metadata": {},
     "output_type": "execute_result"
    }
   ],
   "source": [
    "Dataset.from_json(\"../datasets/dataset_v4_training_annotated_full.json\")"
   ]
  },
  {
   "cell_type": "code",
   "execution_count": 37,
   "id": "420863f3-c3ce-41bc-bb8c-1c4583810d64",
   "metadata": {},
   "outputs": [],
   "source": [
    "def embed(num_samples=20,seed=42):\n",
    "    tp = samples[\"TP\"]\n",
    "    tn = samples[\"TN\"]\n",
    "    fp = samples['FP']\n",
    "    fn = samples['FN']\n",
    "    all_samples = tp + tn + fp + fn\n",
    "    final_samples = []\n",
    "    for sample in all_samples:\n",
    "        if sample in tp:\n",
    "            qdrant = 'TP'\n",
    "            target = 1\n",
    "        elif sample in fp:\n",
    "            qdrant = 'FP'\n",
    "            target = 0\n",
    "        elif sample in tn:\n",
    "            qdrant = 'TN'\n",
    "            target = 0\n",
    "        else:\n",
    "            qdrant = 'FN'\n",
    "            target = 1\n",
    "        sample = list(sample.values())[0]\n",
    "        sample['qdrant'] = qdrant\n",
    "        sample['target'] = target\n",
    "        final_samples.append(sample)\n",
    "\n",
    "    np.random.seed(seed)\n",
    "    num_samples = min(num_samples,len(all_samples))\n",
    "    selected_samples = list(np.random.choice(final_samples,size=num_samples))\n",
    "    embed_points = [\n",
    "        \"\\n\".join(list(data['input'].values()))\n",
    "        for data in selected_samples\n",
    "    ]\n",
    "    vectors = embeddings.embed_documents(embed_points)\n",
    "    return selected_samples,np.array(vectors)"
   ]
  },
  {
   "cell_type": "code",
   "execution_count": 364,
   "id": "741c14be-ce86-42c6-90d3-0ded017aa503",
   "metadata": {},
   "outputs": [],
   "source": [
    "def json_save(data,path):\n",
    "    with open(path,\"w\") as file:\n",
    "        json.dump(data,file)"
   ]
  },
  {
   "cell_type": "code",
   "execution_count": 39,
   "id": "74a7b607-38f5-4ed9-9db7-a7b20a49f3d2",
   "metadata": {},
   "outputs": [],
   "source": [
    "vector_samples, vectors = embed(num_samples=20)\n"
   ]
  },
  {
   "cell_type": "code",
   "execution_count": 135,
   "id": "4d770030-166e-4166-afa0-bd134d3128ba",
   "metadata": {},
   "outputs": [
    {
     "data": {
      "text/plain": [
       "[('TN', 9), ('TP', 6), ('FP', 4), ('FN', 1)]"
      ]
     },
     "execution_count": 135,
     "metadata": {},
     "output_type": "execute_result"
    }
   ],
   "source": [
    "from collections import Counter\n",
    "Counter([sample['qdrant'] for sample in vector_samples]).most_common()"
   ]
  },
  {
   "cell_type": "code",
   "execution_count": 41,
   "id": "12dba73c-7a7b-4239-af49-d4fdbd2ace6a",
   "metadata": {},
   "outputs": [],
   "source": [
    "np.save('indices/selected_20_indices_input_resp_ref.npy', vectors)\n",
    "json_save(vector_samples,'indices/selected_20_indices_input_resp_ref.json')"
   ]
  },
  {
   "cell_type": "code",
   "execution_count": 11,
   "id": "2d75ad9c-2ae3-4f61-b0cd-72cb52a597be",
   "metadata": {
    "scrolled": true
   },
   "outputs": [],
   "source": [
    "data = json.load(open(\"indices/selected_20_indices.json\"))"
   ]
  },
  {
   "cell_type": "code",
   "execution_count": 5,
   "id": "94a76b4c-8f1c-4c04-aeb5-5d4341e03b80",
   "metadata": {},
   "outputs": [],
   "source": [
    "def add_target(data):\n",
    "    new_data = []\n",
    "    for item in data:\n",
    "        if item['qdrant'] in ['TP','FN']:\n",
    "            item['target'] = 1\n",
    "        elif item['qdrant'] in ['TN','FP']:\n",
    "            item['target'] = 0\n",
    "        new_data.append(item)\n",
    "    return new_data\n",
    "\n",
    "data = add_target(data)\n",
    "        \n",
    "    "
   ]
  },
  {
   "cell_type": "markdown",
   "id": "8f8615f8-e65f-4df6-b098-30ba60966f26",
   "metadata": {},
   "source": [
    "### Test retrival"
   ]
  },
  {
   "cell_type": "code",
   "execution_count": 31,
   "id": "4129eba6-bcae-4cf2-99e6-8267adec35a6",
   "metadata": {},
   "outputs": [],
   "source": [
    "from ragas.metrics._aspect_critic import AspectCriticWithReference\n",
    "critic = AspectCriticWithReference(name=\"answer correctness\",\n",
    "                      definition=\"Given the user_input, reference and response. Is the response correct compared with the reference\",)\n",
    "\n",
    "th"
   ]
  },
  {
   "cell_type": "code",
   "execution_count": 32,
   "id": "b4f5e92d-1f25-46e3-aa52-35118e82e0e7",
   "metadata": {},
   "outputs": [],
   "source": [
    "critic.embedding_model = langchain_embeddings\n",
    "critic.llm = llm_4o_mini"
   ]
  },
  {
   "cell_type": "code",
   "execution_count": 33,
   "id": "300a4481-2f6a-437a-95f0-4cc2ade402a3",
   "metadata": {},
   "outputs": [],
   "source": [
    "from ragas import SingleTurnSample\n",
    "dataset = Dataset.from_json(\"datasets/dataset_v4.json\")\n",
    "eval_sample = SingleTurnSample(**dataset[0])\n",
    "eval_sample.user_input = \"What were the causes and consequences of the Chernobyl Disaster?\""
   ]
  },
  {
   "cell_type": "code",
   "execution_count": 34,
   "id": "80f35be5-fed2-47a1-acd7-d81969b3d1b7",
   "metadata": {},
   "outputs": [
    {
     "data": {
      "text/plain": [
       "0"
      ]
     },
     "execution_count": 34,
     "metadata": {},
     "output_type": "execute_result"
    }
   ],
   "source": [
    "await critic.single_turn_ascore(eval_sample)"
   ]
  },
  {
   "cell_type": "markdown",
   "id": "76dc3491-a4ce-4183-9bc5-a3bd175bc7cc",
   "metadata": {},
   "source": [
    "## prompt optimisation"
   ]
  },
  {
   "cell_type": "code",
   "execution_count": 96,
   "id": "ff3159d3-6c3c-4ef3-b573-b4180ce2b1f3",
   "metadata": {},
   "outputs": [],
   "source": [
    "from sampling import SingleExample,PromptFromCorrectExample\n",
    "from ragas import evaluate"
   ]
  },
  {
   "cell_type": "code",
   "execution_count": 97,
   "id": "4dcac3ae-cd13-4b88-a952-7a42d2543d34",
   "metadata": {
    "scrolled": true
   },
   "outputs": [],
   "source": [
    "from ragas.metrics._aspect_critic import AspectCriticInputWithReference, AspectCriticOutputWithReference\n"
   ]
  },
  {
   "cell_type": "code",
   "execution_count": 98,
   "id": "9a855c85-9c36-45e6-8c70-cfa87ab69301",
   "metadata": {},
   "outputs": [],
   "source": [
    "def format_dict(dic):\n",
    "    string = \"\"\n",
    "    for key, val in dic.items():\n",
    "        string += f\"\\n{key}:\\n\\t{val}\\n\"\n",
    "    return string\n",
    "\n",
    "async def reverse_engineer_instruction_from_correct_examples(data,llm,num_instructions=5, num_samples=10,seed=42):\n",
    "    \"\"\"\n",
    "    reverse engineer prompts using correct example\n",
    "    \"\"\"\n",
    "    generated_prompts = []\n",
    "    \n",
    "    np.random.seed(seed=seed)\n",
    "    correct_examples = [sample for sample in data if sample['qdrant'] in ['TN','TP']]\n",
    "\n",
    "    prompt = PromptFromCorrectExample()\n",
    "    for i in tqdm(range(num_instructions)):\n",
    "        input_list, output_list = [],[]\n",
    "        \n",
    "        examples  = np.random.choice(correct_examples,size=3)\n",
    "        curr_examples = []\n",
    "        for example in examples:\n",
    "            _ = example['input'].pop('criteria') if 'criteria' in example['input'] else None\n",
    "            curr_examples.append((format_dict(example[\"input\"]),example['output'][0]))\n",
    "        prompt_input = SingleExample(examples=curr_examples)\n",
    "        response = await prompt.generate(data=prompt_input,llm=llm)\n",
    "        generated_prompts.append(response.instruction)\n",
    "\n",
    "    return generated_prompts\n",
    "\n",
    "\n",
    "    "
   ]
  },
  {
   "cell_type": "code",
   "execution_count": 99,
   "id": "7fbc886b-391a-4f4f-a811-de85e8e06e78",
   "metadata": {},
   "outputs": [
    {
     "name": "stderr",
     "output_type": "stream",
     "text": [
      "100%|███████████████████████| 5/5 [00:12<00:00,  2.53s/it]\n"
     ]
    }
   ],
   "source": [
    "candidate_prompts=await reverse_engineer_instruction_from_correct_examples(data,llm_4o_mini,num_samples=5)"
   ]
  },
  {
   "cell_type": "code",
   "execution_count": 114,
   "id": "10d74471-2aea-4a9b-8e87-bd5d89c0af71",
   "metadata": {},
   "outputs": [],
   "source": [
    "from datasets import Dataset\n",
    "import random\n",
    "from collections import defaultdict\n",
    "\n",
    "def stratified_sample_with_fallback(dataset: Dataset, batch_size: int, target_column: str = 'target') -> Dataset:\n",
    "    \"\"\"\n",
    "    Function to sample a batch of data with as equal distribution of target values as possible.\n",
    "    \n",
    "    Parameters:\n",
    "        dataset (Dataset): The Hugging Face dataset to sample from.\n",
    "        batch_size (int): The number of samples in the output batch.\n",
    "        target_column (str): The column name containing the target values.\n",
    "        \n",
    "    Returns:\n",
    "        Dataset: A batch of data with as close to equal distribution of target values as possible.\n",
    "    \"\"\"\n",
    "    np.random.seed(seed=42)\n",
    "    # Get all unique target values and count samples per target\n",
    "    target_values = dataset.unique(target_column)\n",
    "    target_counts = {target: 0 for target in target_values}\n",
    "    for example in dataset:\n",
    "        target_counts[example[target_column]] += 1\n",
    "    \n",
    "    # Calculate initial number of samples per class\n",
    "    num_classes = len(target_values)\n",
    "    samples_per_class = batch_size // num_classes\n",
    "    remaining_slots = batch_size\n",
    "\n",
    "    # Track sampled indices\n",
    "    sampled_indices = []\n",
    "    \n",
    "    # Sampling loop with fallback for insufficient samples\n",
    "    for target in target_values:\n",
    "        available_indices = [idx for idx, example in enumerate(dataset) if example[target_column] == target]\n",
    "        num_to_sample = min(samples_per_class, len(available_indices))\n",
    "        \n",
    "        # Sample available indices\n",
    "        sampled_indices.extend(random.sample(available_indices, num_to_sample))\n",
    "        remaining_slots -= num_to_sample\n",
    "    \n",
    "    # Handle remaining slots by resampling from classes with available samples\n",
    "    while remaining_slots > 0:\n",
    "        for target in target_values:\n",
    "            if remaining_slots <= 0:\n",
    "                break\n",
    "            available_indices = [idx for idx, example in enumerate(dataset) if example[target_column] == target]\n",
    "            if available_indices:\n",
    "                # Sample one additional index from available samples\n",
    "                sampled_indices.append(random.choice(available_indices))\n",
    "                remaining_slots -= 1\n",
    "\n",
    "    # Shuffle sampled indices to ensure randomness\n",
    "    random.shuffle(sampled_indices)\n",
    "    return dataset.select(sampled_indices)"
   ]
  },
  {
   "cell_type": "code",
   "execution_count": 165,
   "id": "a7db7c92-0535-43c0-b0a3-0199b1a30fda",
   "metadata": {},
   "outputs": [],
   "source": [
    "def score_prompts(dataset,candidate_prompts,batch_size,metric_kwargs={}):\n",
    "    result_scores = []\n",
    "    for prompt in candidate_prompts:\n",
    "        critic = AspectCriticWithReference(name=\"answer correctness\",\n",
    "                          definition=prompt,**metric_kwargs)\n",
    "        dataset = stratified_sample_with_fallback(dataset,batch_size,target_column='qdrant')\n",
    "        y_true = dataset['target']\n",
    "        eval_dataset = [data['input'] for data in dataset]\n",
    "        eval_dataset = EvaluationDataset.from_list(eval_dataset)\n",
    "        result = evaluate(dataset=eval_dataset,metrics=[critic])\n",
    "        traces = result.traces\n",
    "        df = result.to_pandas()\n",
    "        y_pred = df[\"answer correctness\"].values.tolist()\n",
    "        incorrect_indices = [i for i in range(len(y_pred)) if y_pred[i]!=y_true[i]]\n",
    "        feedback_samples = []\n",
    "        for idx in incorrect_indices:\n",
    "            if dataset[idx]['qdrant'] in ['TP','TN']:\n",
    "                dic ={\n",
    "                    \"input\":dataset[idx][\"input\"],\n",
    "                    \"incorrect_output\":serialize_for_json(traces[idx]['answer correctness']),\n",
    "                    \"expected_output\":dataset[idx][\"output\"][0]\n",
    "                }\n",
    "                dic['incorrect_output'] = dic['incorrect_output']['0_single_turn_aspect_critic_prompt_with_reference']['output'][0]\n",
    "                feedback_samples.append(dic)\n",
    "        fscore = f1_score(y_true,y_pred)\n",
    "        result_scores.append({\"prompt\":prompt,\"score\":fscore,\"feedback\":feedback_samples})\n",
    "    return result_scores\n",
    "        "
   ]
  },
  {
   "cell_type": "code",
   "execution_count": 168,
   "id": "bebc6c07-60ea-432d-836e-e2ab88d2b534",
   "metadata": {},
   "outputs": [
    {
     "name": "stderr",
     "output_type": "stream",
     "text": [
      "Evaluating: 100%|█████████| 10/10 [00:03<00:00,  2.90it/s]\n",
      "Flattening the indices: 100%|█| 10/10 [00:00<00:00, 2198.8\n",
      "Evaluating: 100%|█████████| 10/10 [00:02<00:00,  4.09it/s]\n",
      "Flattening the indices: 100%|█| 10/10 [00:00<00:00, 2354.5\n",
      "Evaluating: 100%|█████████| 10/10 [00:03<00:00,  2.57it/s]\n",
      "Flattening the indices: 100%|█| 10/10 [00:00<00:00, 2256.7\n",
      "Evaluating: 100%|█████████| 10/10 [00:04<00:00,  2.42it/s]\n",
      "Flattening the indices: 100%|█| 10/10 [00:00<00:00, 1755.3\n",
      "Evaluating: 100%|█████████| 10/10 [00:03<00:00,  2.90it/s]\n"
     ]
    }
   ],
   "source": [
    "training_dataset = Dataset.from_list(data)\n",
    "metric_kwargs = {\n",
    "    \"llm\":llm_4o_mini,\n",
    "    \"embedding_model\":embeddings,\n",
    "    \"dynamic_retrevial\": False\n",
    "}\n",
    "prompt_scores = score_prompts(training_dataset,candidate_prompts[:],10,metric_kwargs)"
   ]
  },
  {
   "cell_type": "code",
   "execution_count": 236,
   "id": "f1be8683-c53f-4fa3-876f-5e0a4a030f82",
   "metadata": {},
   "outputs": [],
   "source": [
    "from sampling import FeedbackExample, FeedbackMutationInput, FeedbackMutationPrompt"
   ]
  },
  {
   "cell_type": "code",
   "execution_count": 237,
   "id": "b3efa67d-6324-4848-800d-5d2b4253b02b",
   "metadata": {},
   "outputs": [],
   "source": [
    "async def get_feedback_for_prompt(prompt,llm):\n",
    "    mutation_prompt = FeedbackMutationPrompt()\n",
    "    original_prompt = prompt['prompt']\n",
    "    examples = []\n",
    "    for item in prompt['feedback']:\n",
    "        input_ = item['input']\n",
    "        if 'criteria' in input_:\n",
    "            _ = input_.pop(\"criteria\")\n",
    "        input_ = format_dict(input_)\n",
    "        prompt_input = FeedbackExample(input=input_,output=item[\"incorrect_output\"],expected_output=item[\"expected_output\"])\n",
    "        examples.append(prompt_input)\n",
    "    prompt_input = FeedbackMutationInput(prompt=original_prompt,examples=examples)\n",
    "    response = await mutation_prompt.generate(data=prompt_input,llm=llm)\n",
    "    return response.feedbacks\n",
    "        "
   ]
  },
  {
   "cell_type": "code",
   "execution_count": 238,
   "id": "e52598fc-457a-4a9e-904c-d2f5a67cd3af",
   "metadata": {},
   "outputs": [],
   "source": [
    "feedbacks = await get_feedback_for_prompt(prompt_scores[0],llm_4o_mini)"
   ]
  },
  {
   "cell_type": "code",
   "execution_count": 239,
   "id": "9ae54261-9d7e-4ef3-8d6e-9ea30ea76e83",
   "metadata": {},
   "outputs": [
    {
     "data": {
      "text/plain": [
       "['Clarify the criteria for assigning a verdict of 1 or 0, ensuring that the prompt explicitly states that a verdict of 1 should be given for responses that align closely with the reference, even if they contain some additional context or elaboration.',\n",
       " 'Emphasize the importance of including all critical details from the reference in the response, such as specific phrases or terms that are essential for accuracy, to avoid missing key information that could affect the verdict.',\n",
       " 'Encourage a more concise evaluation of responses, suggesting that while additional context can be informative, it should not detract from the core factual accuracy and relevance to the reference.']"
      ]
     },
     "execution_count": 239,
     "metadata": {},
     "output_type": "execute_result"
    }
   ],
   "source": [
    "feedbacks"
   ]
  },
  {
   "cell_type": "code",
   "execution_count": 240,
   "id": "058ff468-fc62-4d52-b3bc-ce731e20e663",
   "metadata": {},
   "outputs": [],
   "source": [
    "from sampling import FeedbackMutationPromptGeneration,FeedbackMutationPromptInput"
   ]
  },
  {
   "cell_type": "code",
   "execution_count": 241,
   "id": "64314106-36a7-444f-9535-baac7dc8d7ec",
   "metadata": {},
   "outputs": [],
   "source": [
    "async def generate_prompt_from_feedback(prompt,feedbacks,llm):\n",
    "    improvement_prompt = FeedbackMutationPromptGeneration()\n",
    "    prompt_input = FeedbackMutationPromptInput(prompt=prompt,feedbacks=feedbacks)\n",
    "    response = await improvement_prompt.generate(data=prompt_input,llm=llm)\n",
    "    return response.instruction"
   ]
  },
  {
   "cell_type": "code",
   "execution_count": 242,
   "id": "aa19d831-404a-4055-9968-3d6f52710744",
   "metadata": {},
   "outputs": [],
   "source": [
    "new_prompt = await generate_prompt_from_feedback(prompt_scores[0]['prompt'],feedbacks,llm_4o_mini)"
   ]
  },
  {
   "cell_type": "code",
   "execution_count": 247,
   "id": "8f21445f-c1b1-4ba0-aed3-3fd44638bd42",
   "metadata": {},
   "outputs": [
    {
     "name": "stderr",
     "output_type": "stream",
     "text": [
      "Evaluating: 100%|█████████| 10/10 [00:04<00:00,  2.18it/s]\n"
     ]
    }
   ],
   "source": [
    "prompt_scores = score_prompts(training_dataset,[new_prompt],10,metric_kwargs)"
   ]
  },
  {
   "cell_type": "code",
   "execution_count": 249,
   "id": "60b594a9-c07b-4988-a1bc-ae1ad2059eb0",
   "metadata": {},
   "outputs": [
    {
     "data": {
      "text/plain": [
       "[{'prompt': 'Please evaluate the provided responses based on their accuracy and relevance to the user inputs and references. Assign a verdict of 1 for responses that align closely with the reference, even if they contain some additional context or elaboration, and 0 for incorrect responses that contain factual inaccuracies or significant deviations from the reference. Ensure that all critical details from the reference, including specific phrases or terms essential for accuracy, are included in the response to avoid missing key information that could affect the verdict. Provide a brief reason for your verdict, highlighting both strengths and weaknesses in the responses, and ensure that the evaluation remains concise, focusing on core factual accuracy and relevance to the reference. For guidance, examples of significant deviations include discrepancies in key dates or misinterpretations of critical facts.',\n",
       "  'score': 0.7272727272727273,\n",
       "  'feedback': []}]"
      ]
     },
     "execution_count": 249,
     "metadata": {},
     "output_type": "execute_result"
    }
   ],
   "source": [
    "prompt_scores"
   ]
  },
  {
   "cell_type": "code",
   "execution_count": 1,
   "id": "cfb82c75-46e7-4d2a-a6f0-9079f69d7c00",
   "metadata": {},
   "outputs": [],
   "source": [
    "import json"
   ]
  },
  {
   "cell_type": "code",
   "execution_count": 3,
   "id": "023c92ac-d96d-484c-aee6-4ccbfe111edd",
   "metadata": {},
   "outputs": [],
   "source": [
    "data = json.load(open(\"../indices/selected_20_indices_input_resp_ref.json\"))"
   ]
  },
  {
   "cell_type": "code",
   "execution_count": 6,
   "id": "c4f396e5-542e-438a-9b4f-4f7a23688573",
   "metadata": {
    "scrolled": true
   },
   "outputs": [
    {
     "data": {
      "text/plain": [
       "[{'input': {'user_input': 'What were the main causes and outcomes of the Wars of the Roses?',\n",
       "   'response': '# The Wars of the Roses: Causes and Consequences\\nThe Wars of the Roses, a tumultuous period in English history, were marked by fierce battles and political maneuvering. Here’s a closer look at the causes and outcomes of this dynastic struggle:\\n\\n## Causes of the Wars\\n- **Weak Leadership:** The reign of King Henry VI was marred by his inability to assert control over the nobility. His weak leadership created a power vacuum, leading to intense rivalries among the English aristocracy.\\n- **Economic and Social Strife:** England was grappling with economic difficulties and social unrest, which fueled discontent and made the country ripe for conflict. These issues exacerbated the tensions between the rival factions.\\n- **Dynastic Rivalry:** The core of the conflict lay in the rivalry between the houses of Lancaster and York, both of which had claims to the English throne. This dynastic struggle was symbolized by the emblems of the red rose (Lancaster) and the white rose (York).\\n\\n## Outcomes of the Wars\\n- **Rise of the Tudors:** The wars culminated in the victory of the Lancastrian faction under Henry Tudor, who ascended the throne as King Henry VII. His victory at the Battle of Bosworth Field in 1486 marked the end of the Plantagenet dynasty.\\n- **Establishment of the Tudor Dynasty:** Henry VII’s reign ushered in the Tudor dynasty, which brought about significant changes in English governance and society. This new era was characterized by stronger centralized power and the stabilization of the monarchy.\\n- **End of Feudal Conflicts:** The conclusion of the Wars of the Roses helped to diminish the power of the feudal nobility, paving the way for a more unified and centralized England.\\n\\nIn essence, the Wars of the Roses were not just a series of battles but a transformative period that reshaped the English monarchy and set the stage for the modern state.',\n",
       "   'reference': 'The Wars of the Roses were a series of civil wars fought in England between the houses of Lancaster and York from 1455 to 1487. The main causes of these wars included the weak rule of King Henry VI, who was unable to control the nobility, leading to power struggles among the English aristocracy. Additionally, economic troubles and social unrest contributed to the conflict. The wars were characterized by a series of battles, shifting alliances, and political intrigue. The outcome of the Wars of the Roses was the eventual victory of the Lancastrian faction under Henry Tudor, who became King Henry VII. This victory effectively ended the Plantagenet dynasty and marked the beginning of the Tudor dynasty, bringing about significant changes in English governance and society.'},\n",
       "  'output': [{'reason': 'The response accurately outlines the main causes and outcomes of the Wars of the Roses, aligning well with the details provided in the reference.',\n",
       "    'verdict': 1}],\n",
       "  'qdrant': 'FP',\n",
       "  'target': 0},\n",
       " {'input': {'user_input': 'What were the key factors and outcomes of the Battle of Stalingrad during World War II?',\n",
       "   'response': '# The Battle of Stalingrad: A Turning Point in World War II\\nThe Battle of Stalingrad, one of the most brutal confrontations of World War II, was a clash of titans that reshaped the course of the war. Here’s a closer look at the key factors and outcomes:\\n\\n## Key Factors Leading to the Battle\\n- **Hitler’s Ambitions:** Adolf Hitler aimed to capture Stalingrad not only for its industrial resources but also for its symbolic significance. The city bore the name of Soviet leader Joseph Stalin, making it a prized target for Nazi Germany.\\n- **Soviet Resolve:** The Soviet Union, under Stalin’s leadership, was determined to defend the city at all costs. This resolve was fueled by both strategic necessity and national pride.\\n\\n## The Brutality of Urban Warfare\\n- **Urban Combat:** The battle was characterized by intense urban warfare, with soldiers fighting street by street, building by building. The city became a hellish landscape of destruction, with both sides suffering heavy casualties.\\n- **Civilian Suffering:** The civilian population of Stalingrad endured unimaginable hardships, caught in the crossfire and facing severe shortages of food and shelter.\\n\\n## The Soviet Counteroffensive: Operation Uranus\\n- **Encirclement of the German 6th Army:** In a dramatic turn of events, the Soviet Union launched Operation Uranus, a counteroffensive that encircled and trapped the German 6th Army. This maneuver was a masterstroke of military strategy.\\n- **German Surrender:** After months of relentless fighting and dwindling supplies, the encircled German forces were forced to surrender, marking a catastrophic defeat for Nazi Germany in February 1943.\\n\\n## Outcomes and Historical Impact\\n- **Decisive Soviet Victory:** The victory at Stalingrad was a turning point in the war, halting the German advance into the Soviet Union and shifting the momentum in favor of the Allies.\\n- **Beginning of Soviet Offensives:** Following Stalingrad, the Soviet Union launched a series of offensives that would eventually lead to the liberation of Eastern Europe and contribute to the downfall of Nazi Germany.\\n\\nIn essence, the Battle of Stalingrad was not just a military engagement; it was a symbol of resilience and a pivotal moment that altered the trajectory of World War II.',\n",
       "   'reference': \"The Battle of Stalingrad, fought between August 23, 1942, and February 2, 1943, was a pivotal confrontation between Nazi Germany and the Soviet Union during World War II. Key factors contributing to the battle included Hitler's strategic aim to capture Stalingrad for its industrial capacity and symbolic value, and the Soviet determination to defend the city at all costs. The battle was marked by brutal urban warfare and significant civilian casualties. The Soviet counteroffensive, Operation Uranus, encircled and trapped the German 6th Army, leading to their surrender. The outcome was a decisive Soviet victory, marking a turning point in the war by halting the German advance into the Soviet Union and beginning a series of Soviet offensives that would eventually lead to the liberation of Eastern Europe.\"},\n",
       "  'output': [{'reason': \"The response provides a detailed account of the Battle of Stalingrad, including key factors, the nature of the battle, and its outcomes, which aligns well with the reference. However, it lacks specific dates for the battle's duration, which are mentioned in the reference.\",\n",
       "    'verdict': 0}],\n",
       "  'qdrant': 'TN',\n",
       "  'target': 0},\n",
       " {'input': {'user_input': 'What were the key events and motivations that led to the formation of the World Trade Organization (WTO)?',\n",
       "   'response': '# The Birth of the World Trade Organization (WTO)\\nThe formation of the World Trade Organization (WTO) was a pivotal moment in the history of global trade, driven by a series of key events and motivations that reshaped international economic relations.\\n\\n## The Uruguay Round Negotiations\\n- **Timeline:** The Uruguay Round, spanning from 1986 to 1994, was a series of negotiations under the General Agreement on Tariffs and Trade (GATT).\\n- **Key Issues Addressed:**\\n  - **Trade in Services:** Unlike previous agreements, the Uruguay Round sought to include services, recognizing their growing importance in global trade.\\n  - **Intellectual Property Rights:** There was a pressing need to establish rules for protecting intellectual property across borders, ensuring innovation and creativity were safeguarded.\\n  - **Agricultural Subsidies:** The negotiations aimed to tackle the contentious issue of agricultural subsidies, which distorted trade and affected global markets.\\n\\n## Motivations for Establishing the WTO\\n- **Need for a Comprehensive Framework:** The limitations of GATT in addressing new trade challenges highlighted the necessity for a more robust institution.\\n- **Ensuring Smooth Trade Flows:** The WTO was designed to make international trade as smooth, predictable, and free as possible, reflecting the interconnected nature of modern economies.\\n- **Dispute Resolution:** A key feature of the WTO is its enhanced dispute resolution mechanism, providing a structured process for resolving trade conflicts between nations.\\n\\n## The Impact of the WTO\\n- **Globalization of Trade:** The establishment of the WTO on January 1, 1995, marked a significant step in the globalization of trade, symbolizing the growing interdependence of national economies.\\n- **Multilateral Trade Governance:** The WTO represents a shift towards a multilateral approach to trade governance, emphasizing cooperation and collective decision-making among member countries.\\n\\nIn essence, the creation of the WTO was a response to the evolving landscape of global trade, aiming to foster a more integrated and equitable international trading system.',\n",
       "   'reference': 'The formation of the World Trade Organization (WTO) was driven by the need for a global institution to oversee international trade rules and resolve disputes. It was established on January 1, 1995, following the Uruguay Round negotiations (1986-1994) under the General Agreement on Tariffs and Trade (GATT). The Uruguay Round aimed to address issues such as trade in services, intellectual property rights, and agricultural subsidies, which were not adequately covered by GATT. The WTO was created to provide a more comprehensive framework for trade negotiations and to ensure that trade flows as smoothly, predictably, and freely as possible. It also introduced a more robust dispute resolution mechanism to handle trade conflicts between member countries. The establishment of the WTO marked a significant step in the globalization of trade, reflecting the growing interdependence of national economies and the need for a multilateral approach to trade governance.'},\n",
       "  'output': [{'reason': 'The response provides a detailed account of the formation of the WTO, including key events and motivations, but it contains some extraneous information and lacks conciseness compared to the reference. However, it does cover the essential points mentioned in the reference.',\n",
       "    'verdict': 1}],\n",
       "  'qdrant': 'TP',\n",
       "  'target': 1},\n",
       " {'input': {'user_input': 'What was the Berlin Airlift and why was it significant in post-World War II history?',\n",
       "   'response': \"# The Berlin Airlift: A Defining Moment in Post-War History\\nThe Berlin Airlift was not just a logistical feat; it was a powerful symbol of determination and resilience during the early Cold War era. Here’s why it was so significant:\\n\\n## The Soviet Blockade\\n- **Context:** In 1949, the Soviet Union attempted to force the Western Allies out of Berlin by imposing a blockade, cutting off all ground routes to West Berlin. This move was part of the larger geopolitical struggle between the East and West, as the Soviets sought to expand their influence in Europe.\\n- **Isolation of West Berlin:** The blockade effectively isolated West Berlin, a city deep within Soviet-controlled East Germany, from the rest of the Western world, threatening its survival.\\n\\n## The Allied Response\\n- **The Airlift Operation:** In a dramatic response, the United States, United Kingdom, and other Allied nations launched the Berlin Airlift, a massive operation to supply the city by air. This was akin to a lifeline thrown to a drowning city, ensuring that West Berliners received food, fuel, and other essentials.\\n- **Scale and Success:** Over nearly a year, more than 200,000 flights delivered approximately 2.3 million tons of supplies. This unprecedented effort showcased the Allies' commitment to supporting West Berlin and resisting Soviet pressure.\\n\\n## Significance in the Cold War\\n- **Symbol of Resolve:** The Berlin Airlift was a clear demonstration of the Western Allies' resolve to stand firm against Soviet aggression. It was a pivotal moment that underscored the ideological divide between the East and West.\\n- **Innovation in Air Transport:** The operation highlighted the effectiveness of air transport in overcoming logistical challenges, setting a precedent for future humanitarian airlifts and military logistics.\\n\\nIn essence, the Berlin Airlift was more than just an operation; it was a testament to the power of unity and innovation in the face of adversity, leaving a lasting impact on the course of post-World War II history.\",\n",
       "   'reference': \"The Berlin Airlift was a major operation conducted by the Western Allies in response to the Soviet Union's blockade of West Berlin in 1948-1949. The blockade was an attempt by the Soviets to force the Allies out of Berlin by cutting off all ground routes to the city, effectively isolating it from the rest of West Germany. In response, the United States, United Kingdom, and other Allied nations organized a massive airlift to supply West Berlin with food, fuel, and other essential goods. Over the course of nearly a year, more than 200,000 flights delivered around 2.3 million tons of supplies to the beleaguered city. The Berlin Airlift was significant because it demonstrated the resolve of the Western Allies to support West Berlin and resist Soviet pressure, marking a key moment in the early Cold War. It also highlighted the effectiveness of air transport in overcoming logistical challenges and set a precedent for future humanitarian airlifts.\"},\n",
       "  'output': [{'reason': 'The response provides a detailed account of the Berlin Airlift, including the context of the Soviet blockade, the Allied response, and its significance in the Cold War, which aligns well with the reference. However, it contains some additional elaboration that is not strictly necessary for correctness.',\n",
       "    'verdict': 1}],\n",
       "  'qdrant': 'FP',\n",
       "  'target': 0},\n",
       " {'input': {'user_input': 'What were the key outcomes and significance of the Signing of the Maastricht Treaty?',\n",
       "   'response': '# The Maastricht Treaty: A Turning Point in European Integration\\nThe signing of the Maastricht Treaty on February 7, 1992, was a landmark event that reshaped the political and economic landscape of Europe. Here’s why it was so significant:\\n\\n## Establishment of the European Union (EU)\\n- **Birth of the EU:** The Maastricht Treaty officially established the European Union, transforming the existing European Economic Community into a more integrated political and economic entity.\\n- **A new era of cooperation:** This marked a new chapter in European history, where nations committed to working together more closely than ever before.\\n\\n## Introduction of the Euro\\n- **Single currency:** The treaty laid the groundwork for the creation of the euro, a single currency that would eventually be adopted by many EU member states.\\n- **Economic convergence:** Member states were required to meet specific economic criteria to adopt the euro, promoting fiscal discipline and economic stability across the region.\\n\\n## European Citizenship\\n- **Freedom of movement:** The treaty introduced the concept of European citizenship, granting citizens the right to live and work in any EU member state, fostering a sense of unity and shared identity.\\n\\n## Expanded Cooperation\\n- **Beyond economics:** The Maastricht Treaty expanded cooperation into areas such as foreign policy, security, and justice, reflecting a commitment to address common challenges collectively.\\n\\n## Significance and Legacy\\n- **Commitment to integration:** The signing of the treaty represented a commitment to deeper political and economic integration, aiming to ensure peace, stability, and prosperity in Europe.\\n- **A model for unity:** Despite challenges and criticisms, the treaty set a precedent for regional cooperation and integration, influencing similar efforts around the world.\\n\\nIn essence, the Maastricht Treaty was not just a legal document; it was a bold vision for a united Europe, striving for harmony and progress in a rapidly changing world.',\n",
       "   'reference': \"The Maastricht Treaty, signed on February 7, 1992, marked a significant milestone in European integration. It established the European Union (EU) and laid the groundwork for the creation of the euro, the EU's single currency. The treaty introduced the concept of European citizenship, allowing citizens to live and work in any EU member state. It also expanded cooperation in areas such as foreign policy, security, and justice. The treaty set criteria for economic convergence, which member states had to meet to adopt the euro. Its signing represented a commitment to deeper political and economic integration among European nations, aiming to ensure peace, stability, and prosperity in the region.\"},\n",
       "  'output': [{'reason': 'The response accurately captures the key outcomes and significance of the Maastricht Treaty, aligning well with the details provided in the reference.',\n",
       "    'verdict': 1}],\n",
       "  'qdrant': 'TP',\n",
       "  'target': 1},\n",
       " {'input': {'user_input': 'What were the main causes and consequences of the Arab Spring?',\n",
       "   'response': '# The Arab Spring: Causes and Consequences\\nThe Arab Spring was a monumental wave of change that swept across the Arab world in the early 2011s, leaving a lasting impact on the region. Here’s a closer look at its causes and consequences:\\n\\n## Main Causes of the Arab Spring\\n- **Authoritarian Regimes:** Decades of oppressive rule by authoritarian leaders fueled public anger and resentment. People were tired of living under regimes that stifled freedom and suppressed dissent.\\n- **Political Corruption:** Rampant corruption within governments eroded trust and legitimacy, as leaders enriched themselves at the expense of their citizens.\\n- **Human Rights Violations:** Systematic human rights abuses, including torture and arbitrary arrests, were common, leading to widespread discontent.\\n- **Economic Decline and Unemployment:** Many countries faced economic hardships, with high unemployment rates, especially among the youth, creating a sense of hopelessness and frustration.\\n- **Lack of Political Freedom:** Citizens were denied basic political rights and freedoms, such as free speech and fair elections, which fueled demands for change.\\n- **Role of Social Media:** Social media platforms became powerful tools for organizing protests and spreading information, helping to mobilize and unite people across borders.\\n\\n## Consequences of the Arab Spring\\n- **Democratic Transitions:** In some countries, like Tunisia, the Arab Spring led to successful transitions towards more democratic governance, offering hope for a brighter future.\\n- **Civil Wars:** In contrast, nations like Syria and Libya descended into prolonged and devastating civil wars, resulting in immense human suffering and instability.\\n- **Political and Social Changes:** The movement sparked significant political and social changes across the region, challenging the status quo and inspiring calls for reform.\\n- **Mixed Outcomes:** While some countries achieved reforms, others experienced increased instability, highlighting the complex and varied impact of the Arab Spring.\\n\\nIn essence, the Arab Spring was a powerful expression of the desire for change, with outcomes that continue to shape the political landscape of the Arab world today.',\n",
       "   'reference': 'The Arab Spring was a series of anti-government protests, uprisings, and armed rebellions that spread across much of the Arab world in the early 2010s. The main causes of the Arab Spring included widespread dissatisfaction with authoritarian regimes, political corruption, human rights violations, economic decline, unemployment, and a lack of political freedom. Social media played a crucial role in organizing and spreading the protests. The consequences of the Arab Spring were varied: some countries, like Tunisia, saw a transition to more democratic governance, while others, like Syria and Libya, descended into prolonged civil wars. The movement also led to significant political and social changes across the region, although the outcomes have been mixed, with some countries experiencing increased instability and others achieving some degree of reform.'},\n",
       "  'output': [{'reason': \"The response provides a detailed overview of the causes and consequences of the Arab Spring, aligning closely with the reference. However, it inaccurately states 'early 2011s' instead of 'early 2010s', which is a factual inaccuracy.\",\n",
       "    'verdict': 0}],\n",
       "  'qdrant': 'TN',\n",
       "  'target': 0},\n",
       " {'input': {'user_input': 'What were the main causes and outcomes of the Wars of the Roses?',\n",
       "   'response': '# The Wars of the Roses: Causes and Consequences\\nThe Wars of the Roses, a tumultuous period in English history, were marked by fierce battles and political maneuvering. Here’s a closer look at the causes and outcomes of this dynastic struggle:\\n\\n## Causes of the Wars\\n- **Weak Leadership:** The reign of King Henry VI was marred by his inability to assert control over the nobility. His weak leadership created a power vacuum, leading to intense rivalries among the English aristocracy.\\n- **Economic and Social Strife:** England was grappling with economic difficulties and social unrest, which fueled discontent and made the country ripe for conflict. These issues exacerbated the tensions between the rival factions.\\n- **Dynastic Rivalry:** The core of the conflict lay in the rivalry between the houses of Lancaster and York, both of which had claims to the English throne. This dynastic struggle was symbolized by the emblems of the red rose (Lancaster) and the white rose (York).\\n\\n## Outcomes of the Wars\\n- **Rise of the Tudors:** The wars culminated in the victory of the Lancastrian faction under Henry Tudor, who ascended the throne as King Henry VII. His victory at the Battle of Bosworth Field in 1486 marked the end of the Plantagenet dynasty.\\n- **Establishment of the Tudor Dynasty:** Henry VII’s reign ushered in the Tudor dynasty, which brought about significant changes in English governance and society. This new era was characterized by stronger centralized power and the stabilization of the monarchy.\\n- **End of Feudal Conflicts:** The conclusion of the Wars of the Roses helped to diminish the power of the feudal nobility, paving the way for a more unified and centralized England.\\n\\nIn essence, the Wars of the Roses were not just a series of battles but a transformative period that reshaped the English monarchy and set the stage for the modern state.',\n",
       "   'reference': 'The Wars of the Roses were a series of civil wars fought in England between the houses of Lancaster and York from 1455 to 1487. The main causes of these wars included the weak rule of King Henry VI, who was unable to control the nobility, leading to power struggles among the English aristocracy. Additionally, economic troubles and social unrest contributed to the conflict. The wars were characterized by a series of battles, shifting alliances, and political intrigue. The outcome of the Wars of the Roses was the eventual victory of the Lancastrian faction under Henry Tudor, who became King Henry VII. This victory effectively ended the Plantagenet dynasty and marked the beginning of the Tudor dynasty, bringing about significant changes in English governance and society.'},\n",
       "  'output': [{'reason': 'The response accurately outlines the main causes and outcomes of the Wars of the Roses, aligning well with the details provided in the reference.',\n",
       "    'verdict': 1}],\n",
       "  'qdrant': 'FP',\n",
       "  'target': 0},\n",
       " {'input': {'user_input': 'What were the significant impacts of the Hiroshima and Nagasaki bombings during World War II?',\n",
       "   'response': \"# The Profound Impacts of the Hiroshima and Nagasaki Bombings\\nThe bombings of Hiroshima and Nagasaki in August 1946 were not just military actions; they were events that reshaped the world. Here’s a closer look at their significant impacts:\\n\\n## Immediate Devastation\\n- **Loss of Life:** The bombings resulted in catastrophic loss of life, with approximately 140,000 people perishing in Hiroshima and 70,000 in Nagasaki by the end of 1945. The immediate aftermath was a scene of unimaginable destruction and human suffering.\\n- **Radiation Sickness:** Beyond the initial blast, countless survivors suffered from severe injuries and radiation sickness, a haunting reminder of the bombs' destructive power.\\n\\n## The End of World War II\\n- **Japan’s Surrender:** The sheer devastation demonstrated by the bombings compelled Japan to surrender, effectively bringing an end to World War II. This marked a pivotal moment in history, as the world witnessed the dawn of the nuclear age.\\n\\n## Long-term Political and Social Implications\\n- **Nuclear Arms Race:** The bombings signaled the start of the nuclear arms race during the Cold War, as nations scrambled to develop their own nuclear arsenals, forever altering global military strategies.\\n- **Ethical Debates:** These events sparked intense global debates on the ethics of nuclear warfare, raising questions about humanity’s capacity for destruction and the moral responsibilities of wielding such power.\\n\\n## Efforts Toward Nuclear Disarmament\\n- **International Control:** The bombings led to international efforts to control nuclear weapons proliferation, as the world grappled with the potential for future nuclear conflicts.\\n- **Hibakusha Advocacy:** The survivors, known as hibakusha, faced long-term health issues and social stigma. Their harrowing experiences have been instrumental in advocating for nuclear disarmament, serving as a powerful testament to the need for peace.\\n\\nIn essence, the bombings of Hiroshima and Nagasaki were not just historical events; they were catalysts for change, influencing global politics, ethics, and the ongoing quest for a world free of nuclear weapons.\",\n",
       "   'reference': \"The bombings of Hiroshima and Nagasaki in August 1945 had profound impacts both immediately and in the long term. Immediately, they resulted in the deaths of approximately 140,000 people in Hiroshima and 70,000 in Nagasaki by the end of 1945, with many more suffering from injuries and radiation sickness. The destruction of these cities demonstrated the devastating power of nuclear weapons, leading to Japan's surrender and the end of World War II. In the long term, the bombings had significant political and social implications, contributing to the start of the nuclear arms race during the Cold War. They also sparked global debates on the ethics of nuclear warfare and led to international efforts to control nuclear weapons proliferation. The survivors, known as hibakusha, faced long-term health issues and social stigma, and their experiences have been pivotal in advocating for nuclear disarmament.\"},\n",
       "  'output': [{'reason': 'The response contains several inaccuracies, including the incorrect date of the bombings (August 1946 instead of August 1945) and some details that are not fully aligned with the reference, although it does cover many relevant points.',\n",
       "    'verdict': 0}],\n",
       "  'qdrant': 'TN',\n",
       "  'target': 0},\n",
       " {'input': {'user_input': 'What were the key events and outcomes of the Battle of Waterloo?',\n",
       "   'response': '# The Battle of Waterloo: A Turning Point in European History\\nThe Battle of Waterloo, fought on June 18, 1816, was not just another military engagement; it was a pivotal moment that reshaped the future of Europe. Here’s a closer look at the key events and outcomes:\\n\\n## The Forces at Play\\n- **The French Army:** Led by the legendary Emperor Napoleon Bonaparte, the French forces were determined to reclaim their dominance in Europe.\\n- **The Seventh Coalition:** This formidable alliance included British, Dutch, Belgian, and Prussian forces, commanded by the Duke of Wellington and Gebhard Leberecht von Blücher. Their goal was to put an end to Napoleon’s ambitions once and for all.\\n\\n## Key Events of the Battle\\n- **Initial French Attacks:** The battle began with aggressive French assaults on the Allied left flank, testing the resolve and strength of Wellington’s forces.\\n- **Defense of Hougoumont:** The fierce defense of the Hougoumont farm became a symbol of Allied resilience, holding off repeated French attacks and playing a crucial role in the battle’s outcome.\\n- **Arrival of the Prussian Army:** The late but timely arrival of Blücher’s Prussian forces was the turning point. Their intervention overwhelmed the French, sealing Napoleon’s fate.\\n\\n## Outcomes and Aftermath\\n- **Decisive Coalition Victory:** The defeat at Waterloo forced Napoleon to abdicate once more, leading to his final exile on the remote island of Saint Helena.\\n- **Restoration of the Bourbon Monarchy:** With Napoleon’s fall, the Bourbon monarchy was restored in France, marking a return to conservative rule.\\n- **A New European Order:** The battle ushered in a period of relative peace across Europe, as conservative regimes re-established control and sought to prevent the rise of another figure like Napoleon.\\n\\nIn essence, the Battle of Waterloo was more than just a military defeat for Napoleon; it was a defining moment that ended an era of revolutionary upheaval and set the stage for a new political landscape in Europe.',\n",
       "   'reference': \"The Battle of Waterloo, fought on June 18, 1815, was a decisive conflict that marked the end of the Napoleonic Wars. It took place near Waterloo in present-day Belgium. The battle pitted the French army, led by Emperor Napoleon Bonaparte, against the Seventh Coalition, which included British, Dutch, Belgian, and Prussian forces under the command of the Duke of Wellington and Gebhard Leberecht von Blücher. Key events included the initial French attacks on the Allied left flank, the defense of the Hougoumont farm, and the late arrival of the Prussian army, which turned the tide against the French. The outcome was a decisive victory for the Coalition, leading to Napoleon's abdication and exile to Saint Helena, and the restoration of the Bourbon monarchy in France. The battle significantly altered the political landscape of Europe, ushering in a period of relative peace and the re-establishment of conservative regimes.\"},\n",
       "  'output': [{'reason': 'The response contains a significant error regarding the date of the battle, stating it was fought in 1816 instead of the correct year, 1815. This inaccuracy affects the overall correctness of the response compared to the reference.',\n",
       "    'verdict': 0}],\n",
       "  'qdrant': 'TN',\n",
       "  'target': 0},\n",
       " {'input': {'user_input': 'What is the historical significance of the Domesday Book?',\n",
       "   'response': '# The Historical Significance of the Domesday Book\\nThe Domesday Book, completed in 1086, stands as a monumental record from medieval England, offering a window into the past. Here’s why it remains historically significant:\\n\\n## Commissioned by William the Conqueror\\n- **Purpose:** After his conquest of England, William the Conqueror needed a detailed account of his new kingdom’s wealth and resources. The Domesday Book was commissioned to assess landholdings and ensure accurate taxation.\\n- **Scope:** This survey covered much of England and parts of Wales, making it one of the most comprehensive records of its time.\\n\\n## Insights into 11th-Century England\\n- **Social and Economic Structure:** The Domesday Book provides a detailed snapshot of the social and economic landscape, documenting land ownership, estate values, and available resources like livestock and agricultural land.\\n- **Feudal System:** It offers a clear view of the feudal system, illustrating the hierarchical structure of landholding and governance shortly after the Norman Conquest.\\n\\n## A Crucial Historical Document\\n- **Understanding Medieval Life:** For historians, the Domesday Book is an invaluable resource for understanding the administrative organization and daily life in 11th-century England.\\n- **Legacy:** Its meticulous records have made it a cornerstone for studying medieval history, offering insights that continue to inform our understanding of the past.\\n\\nIn essence, the Domesday Book is not just a record of land and wealth; it is a testament to the administrative prowess of the Normans and a vital source for understanding the medieval world.',\n",
       "   'reference': 'The Domesday Book, completed in 1086, is one of the most significant historical records from medieval England. Commissioned by William the Conqueror, it was a comprehensive survey of landholdings and resources across much of England and parts of Wales. The primary purpose was to assess the wealth and assets of the kingdom to ensure proper taxation. The Domesday Book provides invaluable insights into the social and economic structure of 11th-century England, detailing land ownership, the value of estates, and the resources available, such as livestock and agricultural land. It is considered a crucial document for understanding the feudal system and the administrative organization of the time, offering a snapshot of medieval life shortly after the Norman Conquest.'},\n",
       "  'output': [{'reason': 'The response provides a detailed explanation of the historical significance of the Domesday Book, aligning well with the reference. However, it includes additional information that, while relevant, is not strictly necessary to determine correctness against the reference.',\n",
       "    'verdict': 1}],\n",
       "  'qdrant': 'TP',\n",
       "  'target': 1},\n",
       " {'input': {'user_input': 'What is the historical significance of the Domesday Book?',\n",
       "   'response': '# The Historical Significance of the Domesday Book\\nThe Domesday Book, completed in 1086, stands as a monumental record from medieval England, offering a window into the past. Here’s why it remains historically significant:\\n\\n## Commissioned by William the Conqueror\\n- **Purpose:** After his conquest of England, William the Conqueror needed a detailed account of his new kingdom’s wealth and resources. The Domesday Book was commissioned to assess landholdings and ensure accurate taxation.\\n- **Scope:** This survey covered much of England and parts of Wales, making it one of the most comprehensive records of its time.\\n\\n## Insights into 11th-Century England\\n- **Social and Economic Structure:** The Domesday Book provides a detailed snapshot of the social and economic landscape, documenting land ownership, estate values, and available resources like livestock and agricultural land.\\n- **Feudal System:** It offers a clear view of the feudal system, illustrating the hierarchical structure of landholding and governance shortly after the Norman Conquest.\\n\\n## A Crucial Historical Document\\n- **Understanding Medieval Life:** For historians, the Domesday Book is an invaluable resource for understanding the administrative organization and daily life in 11th-century England.\\n- **Legacy:** Its meticulous records have made it a cornerstone for studying medieval history, offering insights that continue to inform our understanding of the past.\\n\\nIn essence, the Domesday Book is not just a record of land and wealth; it is a testament to the administrative prowess of the Normans and a vital source for understanding the medieval world.',\n",
       "   'reference': 'The Domesday Book, completed in 1086, is one of the most significant historical records from medieval England. Commissioned by William the Conqueror, it was a comprehensive survey of landholdings and resources across much of England and parts of Wales. The primary purpose was to assess the wealth and assets of the kingdom to ensure proper taxation. The Domesday Book provides invaluable insights into the social and economic structure of 11th-century England, detailing land ownership, the value of estates, and the resources available, such as livestock and agricultural land. It is considered a crucial document for understanding the feudal system and the administrative organization of the time, offering a snapshot of medieval life shortly after the Norman Conquest.'},\n",
       "  'output': [{'reason': 'The response provides a detailed explanation of the historical significance of the Domesday Book, aligning well with the reference. However, it includes additional information that, while relevant, is not strictly necessary to determine correctness against the reference.',\n",
       "    'verdict': 1}],\n",
       "  'qdrant': 'TP',\n",
       "  'target': 1},\n",
       " {'input': {'user_input': 'What were the key factors that contributed to the success of the D-Day Invasion during World War II?',\n",
       "   'response': \"# Key Factors Behind the Success of the D-Day Invasion\\nThe D-Day Invasion, or Operation Overlord, on June 6, 1945, was a pivotal moment in World War II. Its success was not a stroke of luck but the result of several critical factors working in harmony. Let's explore these elements:\\n\\n## Meticulous Planning and Deception\\n- **Operation Bodyguard:** This was a masterstroke of deception, convincing the Germans that the invasion would occur elsewhere, such as Pas de Calais. By misleading the enemy, the Allies ensured that German forces were spread thin and unprepared for the actual assault on Normandy.\\n\\n## Air and Naval Superiority\\n- **Control of Skies and Seas:** The Allies dominated the air and naval arenas, providing essential cover and support for the ground troops. This superiority allowed for effective bombardment of German defenses and safe passage for the invasion fleet.\\n\\n## Bravery and Determination of Allied Forces\\n- **Multinational Effort:** The courage of American, British, Canadian, and other Allied troops was a cornerstone of the operation. Their relentless spirit and determination to push forward, despite fierce resistance, were crucial to establishing a foothold in Normandy.\\n\\n## Innovative Technology\\n- **Mulberry Harbors and Specialized Tanks:** These technological innovations were game-changers. The Mulberry harbors allowed for rapid unloading of supplies and reinforcements, while specialized tanks, like the 'Hobart's Funnies,' overcame obstacles on the beaches.\\n\\n## Surprise and Scale\\n- **Overwhelming German Defenses:** The sheer scale of the operation, combined with the element of surprise, left German defenses reeling. The Allies' ability to land a massive force on the beaches of Normandy was a testament to their strategic planning and execution.\\n\\nIn essence, the success of D-Day was a symphony of strategy, bravery, and innovation, marking a turning point in the war and paving the way for the liberation of Western Europe.\",\n",
       "   'reference': 'The success of the D-Day Invasion, also known as Operation Overlord, on June 6, 1944, was due to several key factors. Firstly, meticulous planning and deception strategies, such as Operation Bodyguard, misled the Germans about the invasion location. Secondly, the Allies achieved air and naval superiority, which allowed them to control the skies and seas, providing crucial support to the ground troops. Thirdly, the bravery and determination of the Allied forces, including American, British, Canadian, and other troops, played a significant role. Additionally, the use of innovative technology, such as the Mulberry harbors and specialized tanks, facilitated the landing and movement of troops and equipment. Finally, the element of surprise and the sheer scale of the operation overwhelmed the German defenses, leading to a successful beachhead establishment in Normandy.'},\n",
       "  'output': [{'reason': 'The response contains several accurate points about the D-Day Invasion but incorrectly states the date as June 6, 1945, instead of the correct date, June 6, 1944. This factual inaccuracy affects the overall correctness of the response.',\n",
       "    'verdict': 0}],\n",
       "  'qdrant': 'TN',\n",
       "  'target': 0},\n",
       " {'input': {'user_input': 'What were the key events and significance of the Battle of the Bulge during World War II?',\n",
       "   'response': '# The Battle of the Bulge: A Turning Point in World War II\\nThe Battle of the Bulge, also known as the Ardennes Counteroffensive, was a dramatic and pivotal moment in World War II. Here’s a closer look at the key events and its significance:\\n\\n## The Surprise Offensive\\n- **Date and Location:** The battle began on December 16, 1945, and raged until January 25, 1945, across the dense forests of the Ardennes region in Belgium, France, and Luxembourg.\\n- **German Strategy:** In a bold move, the Germans launched a surprise attack aimed at splitting the Allied forces, capturing the crucial Belgian port of Antwerp, and encircling four Allied armies. This was their last-ditch effort to force the Western Allies into negotiating a peace treaty favorable to the Axis powers.\\n\\n## The Largest Battle for the U.S.\\n- **Scale and Intensity:** The Battle of the Bulge was the largest and bloodiest battle fought by the United States during World War II. The surprise and ferocity of the German attack initially caught the Allies off guard, leading to intense and brutal fighting.\\n\\n## Turning the Tide\\n- **Allied Resilience:** Despite early German successes, the Allies demonstrated remarkable resilience. Their ability to regroup, combined with superior air power and the eventual depletion of German resources, turned the tide of the battle.\\n- **Outcome:** The German forces were ultimately pushed back, marking the end of their last major offensive in the war.\\n\\n## Significance and Legacy\\n- **Impact on German Forces:** The failure of the offensive significantly weakened the German military, leaving them unable to defend effectively against the advancing Allied forces.\\n- **Contribution to the War’s End:** The Battle of the Bulge was a critical turning point that contributed to the eventual defeat of Nazi Germany and the end of the war in Europe.\\n\\nIn essence, the Battle of the Bulge was not just a clash of armies but a dramatic showdown that underscored the resilience and determination of the Allied forces, paving the way for victory in Europe.',\n",
       "   'reference': \"The Battle of the Bulge, also known as the Ardennes Counteroffensive, was a major German offensive campaign launched through the densely forested Ardennes region of Wallonia in Belgium, France, and Luxembourg on the Western Front toward the end of World War II. It began on December 16, 1944, and lasted until January 25, 1945. The surprise attack caught the Allied forces off guard, leading to the largest and bloodiest battle fought by the United States in World War II. The Germans aimed to split the Allied lines, capture the vital Belgian port of Antwerp, and encircle and destroy four Allied armies, which would force the Western Allies to negotiate a peace treaty in the Axis powers' favor. Despite initial successes, the German forces were eventually pushed back due to the Allies' resilience, air superiority, and the depletion of German resources. The battle marked the last major offensive by the German military in the war and significantly weakened their ability to defend against the advancing Allied forces, ultimately contributing to the end of the war in Europe.\"},\n",
       "  'output': [{'reason': 'The response contains several inaccuracies, including the incorrect start date of the battle (it began on December 16, 1944, not 1945) and lacks some details present in the reference, such as the specific mention of Wallonia.',\n",
       "    'verdict': 0}],\n",
       "  'qdrant': 'TN',\n",
       "  'target': 0},\n",
       " {'input': {'user_input': 'What were the main factors that led to the fall of the Qing Dynasty?',\n",
       "   'response': '# The Fall of the Qing Dynasty: A Perfect Storm of Challenges\\nThe collapse of the Qing Dynasty was not the result of a single event but rather a confluence of internal weaknesses and external pressures that together spelled the end of over two centuries of imperial rule in China. Here’s a closer look at the main factors that led to its downfall:\\n\\n## Internal Struggles\\n- **Corruption and Inefficiency:** The Qing government was plagued by corruption and inefficiency, which eroded public trust and weakened its ability to govern effectively. Imagine a ship with a leaky hull—no matter how grand it appears, it’s doomed to sink without repair.\\n- **Social Unrest:** Heavy taxation, land shortages, and famines left the population discontented and desperate. This widespread dissatisfaction fueled uprisings like the Taiping Rebellion, which further destabilized the dynasty.\\n- **Lack of Modernization:** While the world was rapidly industrializing, the Qing Dynasty failed to modernize its military and infrastructure, leaving it vulnerable to both internal and external threats.\\n\\n## External Pressures\\n- **Foreign Invasions and Unequal Treaties:** The Qing Dynasty faced invasions and was forced into unequal treaties by Western powers and Japan. These agreements, such as the Treaty of Nanking, stripped China of its sovereignty and economic control, much like a boxer forced to fight with one hand tied behind his back.\\n- **The Opium Wars:** These conflicts with Britain not only resulted in territorial losses, like the cession of Hong Kong, but also opened China to foreign exploitation, further weakening its economy and political standing.\\n\\n## The Final Blow: The 1912 Revolution\\n- **Failure to Reform:** Despite the mounting challenges, the Qing Dynasty’s inability to implement successful reforms sealed its fate. The 1912 Revolution was the final nail in the coffin, leading to the abdication of the last emperor, Puyi, and the birth of the Republic of China.\\n\\nIn essence, the fall of the Qing Dynasty was a dramatic tale of a once-mighty empire brought low by its own shortcomings and the relentless pressures of a changing world.',\n",
       "   'reference': \"The fall of the Qing Dynasty was influenced by a combination of internal and external factors. Internally, the dynasty faced significant corruption, inefficiency, and a lack of modernization within its government and military. The population was discontented due to heavy taxation, land shortages, and famines, which led to widespread unrest and uprisings such as the Taiping Rebellion. Externally, the Qing Dynasty was weakened by foreign invasions and unequal treaties imposed by Western powers and Japan, which eroded its sovereignty and economic stability. The Opium Wars and the subsequent Treaty of Nanking, for example, forced China to cede Hong Kong to Britain and open up several ports to foreign trade, undermining its control over its own economy. Additionally, the failure to successfully reform and modernize in response to these challenges further contributed to the dynasty's decline, culminating in the 1911 Revolution, which ultimately led to the abdication of the last emperor, Puyi, and the establishment of the Republic of China.\"},\n",
       "  'output': [{'reason': 'The response provides a detailed account of the factors leading to the fall of the Qing Dynasty, aligning closely with the reference. However, it includes some additional elaboration and metaphorical language that may not be necessary for a straightforward comparison.',\n",
       "    'verdict': 1}],\n",
       "  'qdrant': 'FP',\n",
       "  'target': 0},\n",
       " {'input': {'user_input': 'What were the key factors that contributed to the success of the D-Day Invasion during World War II?',\n",
       "   'response': \"# Key Factors Behind the Success of the D-Day Invasion\\nThe D-Day Invasion, or Operation Overlord, on June 6, 1945, was a pivotal moment in World War II. Its success was not a stroke of luck but the result of several critical factors working in harmony. Let's explore these elements:\\n\\n## Meticulous Planning and Deception\\n- **Operation Bodyguard:** This was a masterstroke of deception, convincing the Germans that the invasion would occur elsewhere, such as Pas de Calais. By misleading the enemy, the Allies ensured that German forces were spread thin and unprepared for the actual assault on Normandy.\\n\\n## Air and Naval Superiority\\n- **Control of Skies and Seas:** The Allies dominated the air and naval arenas, providing essential cover and support for the ground troops. This superiority allowed for effective bombardment of German defenses and safe passage for the invasion fleet.\\n\\n## Bravery and Determination of Allied Forces\\n- **Multinational Effort:** The courage of American, British, Canadian, and other Allied troops was a cornerstone of the operation. Their relentless spirit and determination to push forward, despite fierce resistance, were crucial to establishing a foothold in Normandy.\\n\\n## Innovative Technology\\n- **Mulberry Harbors and Specialized Tanks:** These technological innovations were game-changers. The Mulberry harbors allowed for rapid unloading of supplies and reinforcements, while specialized tanks, like the 'Hobart's Funnies,' overcame obstacles on the beaches.\\n\\n## Surprise and Scale\\n- **Overwhelming German Defenses:** The sheer scale of the operation, combined with the element of surprise, left German defenses reeling. The Allies' ability to land a massive force on the beaches of Normandy was a testament to their strategic planning and execution.\\n\\nIn essence, the success of D-Day was a symphony of strategy, bravery, and innovation, marking a turning point in the war and paving the way for the liberation of Western Europe.\",\n",
       "   'reference': 'The success of the D-Day Invasion, also known as Operation Overlord, on June 6, 1944, was due to several key factors. Firstly, meticulous planning and deception strategies, such as Operation Bodyguard, misled the Germans about the invasion location. Secondly, the Allies achieved air and naval superiority, which allowed them to control the skies and seas, providing crucial support to the ground troops. Thirdly, the bravery and determination of the Allied forces, including American, British, Canadian, and other troops, played a significant role. Additionally, the use of innovative technology, such as the Mulberry harbors and specialized tanks, facilitated the landing and movement of troops and equipment. Finally, the element of surprise and the sheer scale of the operation overwhelmed the German defenses, leading to a successful beachhead establishment in Normandy.'},\n",
       "  'output': [{'reason': 'The response contains several accurate points about the D-Day Invasion but incorrectly states the date as June 6, 1945, instead of the correct date, June 6, 1944. This factual inaccuracy affects the overall correctness of the response.',\n",
       "    'verdict': 0}],\n",
       "  'qdrant': 'TN',\n",
       "  'target': 0},\n",
       " {'input': {'user_input': 'What were the major causes and impacts of the Great Depression?',\n",
       "   'response': \"# The Great Depression: Causes and Impacts\\nThe Great Depression was not just an economic downturn; it was a seismic event that reshaped societies and governments worldwide. Here's a closer look at its causes and impacts:\\n\\n## Major Causes\\n- **Stock Market Crash of 1929:** Often seen as the spark that ignited the Great Depression, the crash wiped out millions of investors and shattered confidence in the financial system, much like a domino effect that led to further economic instability.\\n- **Bank Failures:** As banks collapsed, people lost their savings, leading to a vicious cycle of reduced spending and further economic decline. Imagine the panic of waking up to find your life savings vanished overnight.\\n- **Reduction in Consumer Spending:** With financial uncertainty looming, consumers tightened their belts, leading to decreased demand for goods and services, which in turn caused businesses to cut back on production and lay off workers.\\n- **Flawed Monetary Policies:** Central banks, particularly the Federal Reserve, failed to stabilize the economy, exacerbating the downturn. Their missteps were akin to a ship's captain steering into a storm rather than away from it.\\n\\n## Profound Impacts\\n- **Massive Unemployment and Poverty:** The Great Depression left millions jobless and destitute, transforming bustling cities into ghost towns and forcing families to make heartbreaking choices just to survive.\\n- **Decline in Industrial Output:** Factories shut down, and production plummeted, leading to a global economic slowdown that felt like the world had hit a pause button.\\n- **Bank Collapses and Trade Plummets:** With banks failing and international trade grinding to a halt, the interconnected global economy unraveled, leaving nations isolated and struggling.\\n\\n## Political and Social Changes\\n- **Government Intervention:** The crisis prompted governments to take more active roles in economic management, exemplified by the New Deal in the United States, which aimed to provide relief, recovery, and reform.\\n- **Social Hardship and Migration:** Families were torn apart as people migrated in search of work, altering family dynamics and reshaping communities.\\n- **Rise of Extremist Movements:** Economic despair fueled the rise of extremist political movements in Europe, setting the stage for World War II as people sought radical solutions to their suffering.\\n\\nIn essence, the Great Depression was a catalyst for change, forcing societies to rethink economic policies and paving the way for modern governmental roles in economic stabilization.\",\n",
       "   'reference': 'The Great Depression, which began in 1929 and lasted until the late 1930s, was a severe worldwide economic downturn. Its major causes included the stock market crash of October 1929, bank failures, reduction in consumer spending, and flawed monetary policies. The impacts were profound and widespread, leading to massive unemployment, poverty, and a significant decline in industrial output. Many banks collapsed, and international trade plummeted. The Great Depression also led to significant political changes, with governments taking more active roles in economic management, exemplified by the New Deal in the United States. Socially, it caused widespread hardship, leading to changes in family dynamics and migration patterns as people sought work. The economic turmoil also contributed to the rise of extremist political movements in Europe, setting the stage for World War II.'},\n",
       "  'output': [{'reason': \"The response provides a detailed overview of the causes and impacts of the Great Depression, aligning closely with the reference. However, it includes additional context and elaboration that, while informative, may not strictly adhere to the criteria of being 'correct' in a direct comparison with the reference.\",\n",
       "    'verdict': 1}],\n",
       "  'qdrant': 'TP',\n",
       "  'target': 1},\n",
       " {'input': {'user_input': 'What were the main causes and consequences of the Iranian Revolution of 1979?',\n",
       "   'response': \"# The Iranian Revolution of 1980: Causes and Consequences\\nThe Iranian Revolution of 1980 was a seismic event that reshaped not only Iran but also the geopolitical landscape of the Middle East. Here’s a closer look at the causes and consequences of this pivotal revolution:\\n\\n## Causes of the Revolution\\n- **Dissatisfaction with the Shah:** The reign of Shah Mohammad Reza Pahlavi was marred by authoritarian rule and perceived as heavily influenced by Western powers, especially the United States. Many Iranians viewed him as a puppet, disconnected from the cultural and religious values of the nation.\\n- **Economic Struggles:** Economic issues such as rampant inflation and high unemployment rates exacerbated public discontent. Despite Iran's oil wealth, many citizens felt the economic benefits were not reaching them, leading to widespread frustration.\\n- **Cultural and Religious Disconnect:** The Shah's modernization efforts often clashed with traditional and religious norms, creating a cultural rift. This disconnect fueled the revolutionary fervor, as many sought a return to Islamic values.\\n- **Leadership of Ayatollah Khomeini:** Ayatollah Ruhollah Khomeini emerged as a charismatic leader, using religious rhetoric and promises of social justice to galvanize support. His vision of an Islamic state resonated with many who were disillusioned with the Shah’s regime.\\n\\n## Consequences of the Revolution\\n- **Establishment of the Islamic Republic:** The revolution led to the creation of the Islamic Republic of Iran, a theocratic state governed by Islamic law. This marked a dramatic shift from the secular, Western-aligned monarchy.\\n- **Shift in Domestic and Foreign Policies:** Post-revolution, Iran distanced itself from Western influence, focusing instead on Islamic governance. This shift altered Iran’s foreign relations, particularly with the United States and its allies.\\n- **Impact on Middle Eastern Geopolitics:** The revolution had a ripple effect across the Middle East, contributing to regional tensions and conflicts. It inspired Islamic movements in other countries and altered the balance of power in the region.\\n\\nIn essence, the Iranian Revolution of 1980 was a turning point that not only transformed Iran’s political and social landscape but also had enduring implications for the broader Middle East.\",\n",
       "   'reference': \"The Iranian Revolution of 1979 was primarily caused by widespread dissatisfaction with the rule of Shah Mohammad Reza Pahlavi, who was seen as a puppet of Western powers, particularly the United States. His regime was marked by authoritarianism, corruption, and a disconnect from the cultural and religious values of the Iranian people. Economic issues, such as inflation and unemployment, also fueled public discontent. The revolution was led by Ayatollah Ruhollah Khomeini, who galvanized support through a combination of religious rhetoric and promises of social justice. The consequences of the revolution were profound, leading to the establishment of the Islamic Republic of Iran, a theocratic state governed by Islamic law. It resulted in significant changes in Iran's domestic and foreign policies, including a shift away from Western influence and a focus on Islamic governance. The revolution also had a lasting impact on the geopolitics of the Middle East, contributing to regional tensions and conflicts.\"},\n",
       "  'output': [{'reason': 'The response incorrectly refers to the Iranian Revolution as occurring in 1980 instead of 1979, which is a significant factual error. Additionally, while it covers many causes and consequences, the misidentification of the year undermines its correctness.',\n",
       "    'verdict': 0}],\n",
       "  'qdrant': 'TN',\n",
       "  'target': 0},\n",
       " {'input': {'user_input': 'How was penicillin discovered and what impact did it have on medicine?',\n",
       "   'response': '# The Accidental Discovery of Penicillin and Its Revolutionary Impact on Medicine\\nThe story of penicillin is a tale of serendipity and scientific breakthrough that forever changed the landscape of medicine. Here’s how it unfolded:\\n\\n## The Accidental Discovery\\n- **Alexander Fleming’s Observation:** In 1928, Alexander Fleming, a Scottish bacteriologist, stumbled upon a mold called Penicillium notatum in his petri dishes. This mold was not just an unwelcome guest; it was killing the surrounding bacteria. Imagine the surprise of finding a natural enemy of bacteria right in your lab!\\n- **Turning Accident into Innovation:** Fleming’s keen observation and curiosity turned this accident into a groundbreaking discovery. He realized that the mold produced a substance capable of killing bacteria, which he named penicillin.\\n\\n## The Birth of the Antibiotic Era\\n- **First True Antibiotic:** Penicillin became the first true antibiotic, a game-changer in the fight against bacterial infections. Before its discovery, many bacterial infections were often deadly, with limited treatment options available.\\n- **Mass Production During WWII:** The urgency of World War II accelerated the mass production of penicillin, saving countless lives by effectively treating infected wounds and diseases among soldiers.\\n\\n## Transformative Impact on Medicine\\n- **Reduction in Mortality Rates:** The introduction of penicillin drastically reduced mortality rates from bacterial infections, transforming medical practices and patient outcomes.\\n- **Foundation for Modern Medicine:** Penicillin’s success paved the way for the development of other antibiotics, marking the beginning of the antibiotic era. It set a precedent for future medical innovations and treatments.\\n\\nIn essence, the discovery of penicillin was not just a scientific milestone; it was a revolution that reshaped medicine, offering hope and healing to millions and laying the groundwork for modern medical advancements.',\n",
       "   'reference': 'Penicillin was discovered by Alexander Fleming in 1928 when he noticed that a mold called Penicillium notatum had contaminated his petri dishes and was killing the surrounding bacteria. This accidental discovery led to the development of penicillin as the first true antibiotic, revolutionizing the field of medicine. It provided an effective treatment for a wide range of bacterial infections, which were previously often fatal. During World War II, penicillin was mass-produced and saved countless lives by treating infected wounds and diseases. Its discovery marked the beginning of the antibiotic era, significantly reducing mortality rates and transforming medical practices.'},\n",
       "  'output': [{'reason': 'The response provides a detailed account of the discovery of penicillin and its impact on medicine, aligning closely with the reference. However, it includes additional context and elaboration that, while informative, may not be strictly necessary for correctness compared to the reference.',\n",
       "    'verdict': 1}],\n",
       "  'qdrant': 'TP',\n",
       "  'target': 1},\n",
       " {'input': {'user_input': 'What were the key factors that contributed to the success of the D-Day Invasion during World War II?',\n",
       "   'response': \"# Key Factors Behind the Success of the D-Day Invasion\\nThe D-Day Invasion, or Operation Overlord, on June 6, 1945, was a pivotal moment in World War II. Its success was not a stroke of luck but the result of several critical factors working in harmony. Let's explore these elements:\\n\\n## Meticulous Planning and Deception\\n- **Operation Bodyguard:** This was a masterstroke of deception, convincing the Germans that the invasion would occur elsewhere, such as Pas de Calais. By misleading the enemy, the Allies ensured that German forces were spread thin and unprepared for the actual assault on Normandy.\\n\\n## Air and Naval Superiority\\n- **Control of Skies and Seas:** The Allies dominated the air and naval arenas, providing essential cover and support for the ground troops. This superiority allowed for effective bombardment of German defenses and safe passage for the invasion fleet.\\n\\n## Bravery and Determination of Allied Forces\\n- **Multinational Effort:** The courage of American, British, Canadian, and other Allied troops was a cornerstone of the operation. Their relentless spirit and determination to push forward, despite fierce resistance, were crucial to establishing a foothold in Normandy.\\n\\n## Innovative Technology\\n- **Mulberry Harbors and Specialized Tanks:** These technological innovations were game-changers. The Mulberry harbors allowed for rapid unloading of supplies and reinforcements, while specialized tanks, like the 'Hobart's Funnies,' overcame obstacles on the beaches.\\n\\n## Surprise and Scale\\n- **Overwhelming German Defenses:** The sheer scale of the operation, combined with the element of surprise, left German defenses reeling. The Allies' ability to land a massive force on the beaches of Normandy was a testament to their strategic planning and execution.\\n\\nIn essence, the success of D-Day was a symphony of strategy, bravery, and innovation, marking a turning point in the war and paving the way for the liberation of Western Europe.\",\n",
       "   'reference': 'The success of the D-Day Invasion, also known as Operation Overlord, on June 6, 1944, was due to several key factors. Firstly, meticulous planning and deception strategies, such as Operation Bodyguard, misled the Germans about the invasion location. Secondly, the Allies achieved air and naval superiority, which allowed them to control the skies and seas, providing crucial support to the ground troops. Thirdly, the bravery and determination of the Allied forces, including American, British, Canadian, and other troops, played a significant role. Additionally, the use of innovative technology, such as the Mulberry harbors and specialized tanks, facilitated the landing and movement of troops and equipment. Finally, the element of surprise and the sheer scale of the operation overwhelmed the German defenses, leading to a successful beachhead establishment in Normandy.'},\n",
       "  'output': [{'reason': 'The response contains several accurate points about the D-Day Invasion but incorrectly states the date as June 6, 1945, instead of the correct date, June 6, 1944. This factual inaccuracy affects the overall correctness of the response.',\n",
       "    'verdict': 0}],\n",
       "  'qdrant': 'TN',\n",
       "  'target': 0},\n",
       " {'input': {'user_input': 'What were the causes and consequences of the Chernobyl Disaster?',\n",
       "   'response': '# The Chernobyl Disaster: Causes and Consequences\\nThe Chernobyl Disaster stands as one of the most catastrophic nuclear events in history, with far-reaching impacts that continue to resonate today. Here’s a closer look at what caused this disaster and its profound consequences:\\n\\n## Causes of the Disaster\\n- **Reactor Design Flaws:** The Chernobyl reactor had inherent design flaws that made it unstable during low-power operations. This was akin to driving a car with faulty brakes—an accident waiting to happen.\\n- **Inadequate Training:** The personnel operating the plant were not adequately trained to handle the reactor’s complexities. Imagine being handed the controls of a spaceship with only a car driving license; the lack of expertise was a critical factor.\\n- **The Fatal Test:** On April 26, 1986, a systems test was conducted to simulate a power outage. This test spiraled out of control, leading to a sudden power surge and ultimately, a catastrophic explosion.\\n\\n## Immediate Consequences\\n- **Loss of Life:** The explosion claimed the lives of two plant workers instantly. In the following months, 28 emergency responders succumbed to acute radiation sickness, highlighting the immediate human cost.\\n- **Radioactive Release:** The explosion released massive amounts of radioactive particles into the atmosphere, spreading across Europe like an invisible storm.\\n\\n## Long-term Effects\\n- **Evacuation and Resettlement:** Over 350,000 people were evacuated and resettled, leaving behind their homes and livelihoods in a haunting exodus.\\n- **Health Impacts:** The disaster led to increased rates of cancer and other illnesses in affected regions, casting a long shadow over public health.\\n\\n## Global Impact and Lessons Learned\\n- **Nuclear Safety Reforms:** The disaster prompted a global reevaluation of nuclear safety protocols. It was a wake-up call, leading to stricter safety measures and international cooperation in nuclear energy management.\\n- **Environmental and Social Legacy:** The Chernobyl disaster left a scar on the environment and society, serving as a somber reminder of the potential risks of nuclear energy.\\n\\nIn essence, the Chernobyl Disaster was a tragic convergence of human error and technological failure, with consequences that reshaped nuclear policies and underscored the critical importance of safety and preparedness in the nuclear industry.',\n",
       "   'reference': 'The Chernobyl Disaster, which occurred on April 26, 1986, was caused by a sudden surge of power during a reactor systems test at the Chernobyl Nuclear Power Plant in Ukraine. The explosion and subsequent fire released large quantities of radioactive particles into the atmosphere, which spread over much of Europe. The disaster was primarily caused by a flawed reactor design and inadequately trained personnel. The immediate consequences included the deaths of two plant workers on the night of the explosion and 28 emergency responders who died from acute radiation sickness within a few months. Long-term effects included widespread radioactive contamination, leading to the evacuation and resettlement of over 350,000 people. The disaster also had significant health impacts, with increased rates of cancer and other illnesses in affected areas. Additionally, it led to changes in nuclear safety protocols and policies worldwide, highlighting the need for improved safety measures and international cooperation in nuclear energy management.'},\n",
       "  'output': [{'reason': 'The response provides a detailed account of the causes and consequences of the Chernobyl Disaster, but it includes additional information and elaboration that is not present in the reference. While the core facts are accurate, the response is more expansive and interpretative than the reference, which may lead to discrepancies in factual correctness as per the criteria.',\n",
       "    'verdict': 0}],\n",
       "  'qdrant': 'FN',\n",
       "  'target': 1}]"
      ]
     },
     "execution_count": 6,
     "metadata": {},
     "output_type": "execute_result"
    }
   ],
   "source": [
    "add_target(data)"
   ]
  },
  {
   "cell_type": "code",
   "execution_count": 4,
   "id": "4681af3f-a688-4e02-a27f-98348ba465ed",
   "metadata": {},
   "outputs": [
    {
     "data": {
      "text/plain": [
       "{'input': {'user_input': 'What were the main causes and outcomes of the Wars of the Roses?',\n",
       "  'response': '# The Wars of the Roses: Causes and Consequences\\nThe Wars of the Roses, a tumultuous period in English history, were marked by fierce battles and political maneuvering. Here’s a closer look at the causes and outcomes of this dynastic struggle:\\n\\n## Causes of the Wars\\n- **Weak Leadership:** The reign of King Henry VI was marred by his inability to assert control over the nobility. His weak leadership created a power vacuum, leading to intense rivalries among the English aristocracy.\\n- **Economic and Social Strife:** England was grappling with economic difficulties and social unrest, which fueled discontent and made the country ripe for conflict. These issues exacerbated the tensions between the rival factions.\\n- **Dynastic Rivalry:** The core of the conflict lay in the rivalry between the houses of Lancaster and York, both of which had claims to the English throne. This dynastic struggle was symbolized by the emblems of the red rose (Lancaster) and the white rose (York).\\n\\n## Outcomes of the Wars\\n- **Rise of the Tudors:** The wars culminated in the victory of the Lancastrian faction under Henry Tudor, who ascended the throne as King Henry VII. His victory at the Battle of Bosworth Field in 1486 marked the end of the Plantagenet dynasty.\\n- **Establishment of the Tudor Dynasty:** Henry VII’s reign ushered in the Tudor dynasty, which brought about significant changes in English governance and society. This new era was characterized by stronger centralized power and the stabilization of the monarchy.\\n- **End of Feudal Conflicts:** The conclusion of the Wars of the Roses helped to diminish the power of the feudal nobility, paving the way for a more unified and centralized England.\\n\\nIn essence, the Wars of the Roses were not just a series of battles but a transformative period that reshaped the English monarchy and set the stage for the modern state.',\n",
       "  'reference': 'The Wars of the Roses were a series of civil wars fought in England between the houses of Lancaster and York from 1455 to 1487. The main causes of these wars included the weak rule of King Henry VI, who was unable to control the nobility, leading to power struggles among the English aristocracy. Additionally, economic troubles and social unrest contributed to the conflict. The wars were characterized by a series of battles, shifting alliances, and political intrigue. The outcome of the Wars of the Roses was the eventual victory of the Lancastrian faction under Henry Tudor, who became King Henry VII. This victory effectively ended the Plantagenet dynasty and marked the beginning of the Tudor dynasty, bringing about significant changes in English governance and society.'},\n",
       " 'output': [{'reason': 'The response accurately outlines the main causes and outcomes of the Wars of the Roses, aligning well with the details provided in the reference.',\n",
       "   'verdict': 1}],\n",
       " 'qdrant': 'FP'}"
      ]
     },
     "execution_count": 4,
     "metadata": {},
     "output_type": "execute_result"
    }
   ],
   "source": [
    "data[0]"
   ]
  },
  {
   "cell_type": "code",
   "execution_count": null,
   "id": "4d3bcc8a-f861-4562-98b0-7c47db87abb8",
   "metadata": {},
   "outputs": [],
   "source": []
  }
 ],
 "metadata": {
  "kernelspec": {
   "display_name": "ragas",
   "language": "python",
   "name": "ragas"
  },
  "language_info": {
   "codemirror_mode": {
    "name": "ipython",
    "version": 3
   },
   "file_extension": ".py",
   "mimetype": "text/x-python",
   "name": "python",
   "nbconvert_exporter": "python",
   "pygments_lexer": "ipython3",
   "version": "3.9.20"
  }
 },
 "nbformat": 4,
 "nbformat_minor": 5
}
