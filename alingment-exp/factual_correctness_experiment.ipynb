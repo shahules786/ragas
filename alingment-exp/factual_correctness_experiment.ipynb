{
 "cells": [
  {
   "cell_type": "markdown",
   "id": "38aa3c20-5a92-43f4-962a-2690588a3f01",
   "metadata": {},
   "source": [
    "See `Dataset for Metric Alignment` on Notes "
   ]
  },
  {
   "cell_type": "markdown",
   "id": "beb33cb7-fce8-4ed1-9f2e-0bbeb67c10a9",
   "metadata": {},
   "source": [
    "## Set LLM to use"
   ]
  },
  {
   "cell_type": "code",
   "execution_count": 1,
   "id": "a2fffbb6-f32b-4d53-b5d8-e2b6de369172",
   "metadata": {},
   "outputs": [],
   "source": [
    "%load_ext autoreload\n",
    "%autoreload 2"
   ]
  },
  {
   "cell_type": "code",
   "execution_count": 2,
   "id": "355e9f68-fe0e-47ec-b350-85ee2e8f1d7a",
   "metadata": {},
   "outputs": [],
   "source": [
    "import os\n",
    "os.chdir(\"/Users/shahules/ragas/alingment-exp/\")\n"
   ]
  },
  {
   "cell_type": "code",
   "execution_count": 3,
   "id": "ee96fcef-b224-4f29-bcbe-d29accc01050",
   "metadata": {},
   "outputs": [
    {
     "name": "stderr",
     "output_type": "stream",
     "text": [
      "/opt/homebrew/Caskroom/miniforge/base/envs/ragas/lib/python3.9/site-packages/tqdm/auto.py:21: TqdmWarning: IProgress not found. Please update jupyter and ipywidgets. See https://ipywidgets.readthedocs.io/en/stable/user_install.html\n",
      "  from .autonotebook import tqdm as notebook_tqdm\n"
     ]
    }
   ],
   "source": [
    "from langchain_openai.chat_models import ChatOpenAI\n",
    "from ragas.llms import LangchainLLMWrapper\n",
    "\n",
    "llm_4o = LangchainLLMWrapper(ChatOpenAI(model=\"gpt-4o\"))\n",
    "llm_4o_mini = LangchainLLMWrapper(ChatOpenAI(model=\"gpt-4o-mini\"))"
   ]
  },
  {
   "cell_type": "code",
   "execution_count": 4,
   "id": "f95ef632-25fc-4361-a778-eec78969a465",
   "metadata": {},
   "outputs": [],
   "source": [
    "from langchain_aws import ChatBedrockConverse\n",
    "from langchain_aws import BedrockEmbeddings\n",
    "from ragas.llms import LangchainLLMWrapper\n",
    "from ragas.embeddings import LangchainEmbeddingsWrapper\n",
    "\n",
    "config = {\n",
    "    \"credentials_profile_name\": \"default\",  # E.g \"default\"\n",
    "    \"region_name\": \"us-east-1\",  # E.g. \"us-east-1\"\n",
    "    \"llm\": \"anthropic.claude-3-haiku-20240307-v1:0\",  # E.g \"anthropic.claude-3-5-sonnet-20240620-v1:0\"\n",
    "}\n",
    "\n",
    "bedrock_llm = ChatBedrockConverse(\n",
    "    credentials_profile_name=config[\"credentials_profile_name\"],\n",
    "    region_name=config[\"region_name\"],\n",
    "    base_url=f\"https://bedrock-runtime.{config['region_name']}.amazonaws.com\",\n",
    "    model=config[\"llm\"],\n",
    ")\n",
    "\n",
    "bedrock_llm = LangchainLLMWrapper(bedrock_llm)"
   ]
  },
  {
   "cell_type": "markdown",
   "id": "eff4987c-f406-4d76-87ad-129e29d8a3c5",
   "metadata": {},
   "source": [
    "## Metric - Factual correctness\n"
   ]
  },
  {
   "cell_type": "code",
   "execution_count": 5,
   "id": "c9d80bd3-3e24-4dfd-b142-753e4b6f26f8",
   "metadata": {},
   "outputs": [],
   "source": [
    "from prompts import *"
   ]
  },
  {
   "cell_type": "code",
   "execution_count": 6,
   "id": "f2eae3f8-17b2-4329-ab23-62d79712f4bb",
   "metadata": {},
   "outputs": [],
   "source": [
    "FORMAT_TRANSFORMATIONS = [\n",
    "    \"Convert between narrative paragraphs and bullet points or vice versa.\",\n",
    "    \"Organize the content using headings and subheadings.\",\n",
    "    \"Change the order of information from chronological to thematic organization, or vice versa.\"\n",
    "]\n",
    "STYLE_TRANSFORMATIONS = [\n",
    "    \"Modify the answer by adding hedging language to make some statements less certain\",\n",
    "    \"Rewrite the answer using passive voice to introduce subtle ambiguity\",\n",
    "    \"Introduce ambiguity into the answer by making some statements less precise\",\n",
    "    \"Present the information in a different format (e.g., from bullet points to paragraphs or vice versa).\"\n",
    "]\n",
    "\n",
    "\n",
    "ERROR_TRANSFORMATIONS = [\n",
    "    \"Subtly introduce one minor claim along with an existing sentence\",\n",
    "    \"Subtly introduce single minor inconsistency in the cause-and-effect relationship.\",\n",
    "    \"Subtly add or remove single negation to change the meaning of a statement.\",\n",
    "    \"Introduce a subtle factual error\"\n",
    "]"
   ]
  },
  {
   "cell_type": "code",
   "execution_count": 7,
   "id": "5d913125-fb31-46eb-9640-aa7798cc4c12",
   "metadata": {},
   "outputs": [],
   "source": [
    "# Define your percentages for each answer type\n",
    "ANSWER_LENGTH_DICT = {\n",
    "    \"long (50+ words)\": 1.0,    # 40%\n",
    "}\n"
   ]
  },
  {
   "cell_type": "code",
   "execution_count": 8,
   "id": "592031db-28c4-4f45-a18c-b1b6aefbd938",
   "metadata": {},
   "outputs": [],
   "source": [
    "def load_terms():\n",
    "    # Path to the file\n",
    "    file_path = 'historical_events_100.txt'\n",
    "    \n",
    "    # Reading the file into a list\n",
    "    with open(file_path, 'r') as file:\n",
    "        terms_list = [line.strip() for line in file.readlines()]\n",
    "\n",
    "    return terms_list"
   ]
  },
  {
   "cell_type": "code",
   "execution_count": 9,
   "id": "407b61b1-0860-437b-8eb7-96f2796f4782",
   "metadata": {},
   "outputs": [
    {
     "data": {
      "text/plain": [
       "102"
      ]
     },
     "execution_count": 9,
     "metadata": {},
     "output_type": "execute_result"
    }
   ],
   "source": [
    "len(load_terms())"
   ]
  },
  {
   "cell_type": "code",
   "execution_count": 10,
   "id": "ac268771-8406-473c-82e9-daa51a40c3ed",
   "metadata": {},
   "outputs": [],
   "source": [
    "import numpy as np\n",
    "from tqdm import tqdm"
   ]
  },
  {
   "cell_type": "code",
   "execution_count": 12,
   "id": "c7e354a9-dbf2-4d08-93f7-0c719354863c",
   "metadata": {},
   "outputs": [
    {
     "name": "stderr",
     "output_type": "stream",
     "text": [
      " 58%|█████████████████████████████▍                     | 26/45 [04:06<03:27, 10.94s/it]"
     ]
    },
    {
     "name": "stdout",
     "output_type": "stream",
     "text": [
      "'StringIO' object has no attribute 'rewritten_answer'\n"
     ]
    },
    {
     "name": "stderr",
     "output_type": "stream",
     "text": [
      "100%|███████████████████████████████████████████████████| 45/45 [06:41<00:00,  8.93s/it]\n"
     ]
    }
   ],
   "source": [
    "\n",
    "samples = []\n",
    "for term in tqdm(load_terms()[57:]):\n",
    "    try:\n",
    "        sample = {}    \n",
    "        answer_length = np.random.choice(list(ANSWER_LENGTH_DICT.keys()),1,p=list(ANSWER_LENGTH_DICT.values()))[0]\n",
    "        \n",
    "        prompt = QuestionAnswerPrompt()\n",
    "        prompt_input = CreateQuestion(term=term, answer_length=answer_length)\n",
    "        output = await prompt.generate(data=prompt_input, llm=llm_4o)\n",
    "        sample.update(\n",
    "            {\n",
    "                \"user_input\":output.question,\n",
    "                \"reference\":output.answer,\n",
    "                \"term\":term,\n",
    "            }\n",
    "        )\n",
    "    \n",
    "        # style = np.random.choice(FORMAT_TRANSFORMATIONS,1)[0]\n",
    "        # format = np.random.choice(STYLE_TRANSFORMATIONS,1)[0]\n",
    "        # action = f\"Format Transformation:{format}\\nStyle Transformation:{style}\"\n",
    "    \n",
    "    \n",
    "        \n",
    "        # prompt = ResponseTransformationPrompt()\n",
    "        # prompt_input = ModifyAnswer(original_answer=output.answer, action=action)\n",
    "        # output = await prompt.generate(data=prompt_input, llm=llm_4o)\n",
    "        # sample.update({\n",
    "        #     \"response1\":output.new_answer,\n",
    "        # })\n",
    "        \n",
    "        # error = np.random.choice(ERROR_TRANSFORMATIONS,1)[0]\n",
    "        # prompt = ErrorInductionPrompt()\n",
    "        # prompt_input = ModifyAnswer(original_answer=output.new_answer,action=error)\n",
    "        # output = await prompt.generate(data=prompt_input, llm=llm_4o)\n",
    "    \n",
    "        prompt = RewritePrompt()\n",
    "        prompt_input = RewriteReference(question=output.question,reference_answer=output.answer)\n",
    "        output = await prompt.generate(data=prompt_input, llm=llm_4o)\n",
    "        \n",
    "        sample.update({\n",
    "            \"response\":output.rewritten_answer,\n",
    "        })\n",
    "        \n",
    "        samples.append(sample)\n",
    "    except Exception as e:\n",
    "        print(e)\n",
    "    \n",
    "        "
   ]
  },
  {
   "cell_type": "code",
   "execution_count": 13,
   "id": "c12a3f23-65b8-4e75-9e06-9f720402a8e2",
   "metadata": {},
   "outputs": [],
   "source": [
    "from datasets import Dataset\n",
    "dataset = Dataset.from_list(samples)\n"
   ]
  },
  {
   "cell_type": "code",
   "execution_count": 14,
   "id": "b19bc3ea-c853-4594-91af-5254bb3f176e",
   "metadata": {},
   "outputs": [
    {
     "name": "stderr",
     "output_type": "stream",
     "text": [
      "Creating json from Arrow format: 100%|████████████████████| 1/1 [00:00<00:00, 41.15ba/s]\n"
     ]
    },
    {
     "data": {
      "text/plain": [
       "141005"
      ]
     },
     "execution_count": 14,
     "metadata": {},
     "output_type": "execute_result"
    }
   ],
   "source": [
    "dataset.to_json(\"datasets/dataset_v4_training.json\")"
   ]
  },
  {
   "cell_type": "markdown",
   "id": "e9af70b9-1070-4986-9f75-c28b4d47c9c2",
   "metadata": {},
   "source": [
    "## Synthesize some negative points\n",
    "ie introduce factual inaccuracies. "
   ]
  },
  {
   "cell_type": "code",
   "execution_count": 17,
   "id": "a0311830-e524-443f-8c2c-4cd189e18ab7",
   "metadata": {},
   "outputs": [],
   "source": [
    "from prompts import RewritePromptWithError, Response\n",
    "from datasets import Dataset\n",
    "from tqdm import tqdm\n"
   ]
  },
  {
   "cell_type": "code",
   "execution_count": 18,
   "id": "31c62ddf-393c-4838-8775-23d4cb6de7f0",
   "metadata": {},
   "outputs": [],
   "source": [
    "prompt = RewritePromptWithError()\n"
   ]
  },
  {
   "cell_type": "code",
   "execution_count": 19,
   "id": "afd4c21e-b93c-455e-9ef5-94bd3d77da3d",
   "metadata": {},
   "outputs": [
    {
     "name": "stderr",
     "output_type": "stream",
     "text": [
      "Generating train split: 44 examples [00:00, 4440.87 examples/s]\n",
      "100%|███████████████████████████████████████████████████| 44/44 [05:13<00:00,  7.12s/it]\n",
      "Creating json from Arrow format: 100%|███████████████████| 1/1 [00:00<00:00, 130.81ba/s]\n"
     ]
    },
    {
     "data": {
      "text/plain": [
       "102334"
      ]
     },
     "execution_count": 19,
     "metadata": {},
     "output_type": "execute_result"
    }
   ],
   "source": [
    "dataset =  Dataset.from_json(\"datasets/dataset_v4_training.json\")\n",
    "prompt = RewritePromptWithError()\n",
    "samples = []\n",
    "for row in tqdm(dataset):\n",
    "    response = await prompt.generate(data=Response(response=row['response']),llm=llm_4o_mini)\n",
    "    samples.append(response.model_dump())\n",
    "\n",
    "\n",
    "    \n",
    "dataset = Dataset.from_list(samples)\n",
    "dataset.to_json(\"datasets/dataset_v4_errored.json\")\n",
    "    "
   ]
  },
  {
   "cell_type": "markdown",
   "id": "d550f9f5-de47-49cf-b1cf-386222c2312c",
   "metadata": {},
   "source": [
    "## MIX BOTH"
   ]
  },
  {
   "cell_type": "code",
   "execution_count": 21,
   "id": "3550c626-0e8a-4d13-92e2-6b58b7475f79",
   "metadata": {},
   "outputs": [],
   "source": [
    "from datasets import concatenate_datasets"
   ]
  },
  {
   "cell_type": "code",
   "execution_count": 22,
   "id": "a136dfbe-0c6f-4c62-a0b5-919d51899618",
   "metadata": {},
   "outputs": [
    {
     "name": "stderr",
     "output_type": "stream",
     "text": [
      "Creating json from Arrow format: 100%|███████████████████| 1/1 [00:00<00:00, 189.54ba/s]\n"
     ]
    },
    {
     "data": {
      "text/plain": [
       "243251"
      ]
     },
     "execution_count": 22,
     "metadata": {},
     "output_type": "execute_result"
    }
   ],
   "source": [
    "dataset1 = Dataset.from_json(\"datasets/dataset_v4_training.json\")\n",
    "dataset2 = Dataset.from_json(\"datasets/dataset_v4_errored.json\")\n",
    "dataset = concatenate_datasets([dataset1,dataset2],axis=1)\n",
    "dataset.to_json(\"datasets/dataset_v4_training.json\")\n"
   ]
  },
  {
   "cell_type": "code",
   "execution_count": 29,
   "id": "eb050eaa-e433-4edc-8cac-6e42618f470b",
   "metadata": {},
   "outputs": [
    {
     "data": {
      "text/plain": [
       "{'errored_response': \"# The Birth of Democracy in Athens: A Revolutionary Shift\\nThe emergence of democracy in Athens during the 6th century BCE was a groundbreaking development that transformed the political landscape of ancient Greece. Here's how this revolutionary system reshaped governance:\\n\\n## A Radical Departure from Tradition\\n- **From Monarchies to Democracy:** Before democracy, monarchies and oligarchies were the norm, where power was concentrated in the hands of a few. The Athenian model introduced a stark contrast by empowering ordinary citizens to have a direct say in governance.\\n- **Pioneering Leaders:** Visionaries like Cleisthenes spearheaded this transformation, dismantling the old political structures and paving the way for greater citizen involvement. His reforms were akin to a political revolution, shifting power from the elite to the people.\\n\\n## Key Democratic Institutions\\n- **The Assembly:** This was the beating heart of Athenian democracy, where citizens gathered to debate and vote on laws and policies. Imagine a bustling town square where every voice mattered, and decisions were made collectively.\\n- **The Council of 500:** Acting like a modern-day legislative committee, this council organized the Assembly's agenda, ensuring that discussions were structured and productive.\\n\\n## The Cultural Impact\\n- **Empowerment and Debate:** By giving citizens a platform to express their views, Athenian democracy fostered a culture of debate and public discourse. This was not just about governance; it was about creating a society where ideas could flourish.\\n- **Legacy and Influence:** Although it had its limitations—excluding women, slaves, and non-citizens—the principles of participation and public debate laid the groundwork for democratic thought in the Western world, influencing political systems for centuries.\\n\\nIn essence, the birth of democracy in Athens was more than a political change; it was a cultural revolution that inspired future generations and left an indelible mark on the history of governance.\",\n",
       " 'error_description': 'The date for the emergence of democracy in Athens was incorrectly stated as the 6th century BCE instead of the 5th century BCE, introducing a subtle factual inaccuracy.'}"
      ]
     },
     "execution_count": 29,
     "metadata": {},
     "output_type": "execute_result"
    }
   ],
   "source": [
    "samples[2]"
   ]
  },
  {
   "cell_type": "code",
   "execution_count": 13,
   "id": "ef73aed5-164c-494f-9133-cd87b7bd05fb",
   "metadata": {},
   "outputs": [],
   "source": [
    "# dataset.push_to_hub(\"explodinggradients/physics_metrics_alignment\")"
   ]
  },
  {
   "cell_type": "code",
   "execution_count": 14,
   "id": "b716bffa-9606-4d20-8258-fefa036fa813",
   "metadata": {},
   "outputs": [
    {
     "data": {
      "image/png": "[encoded data removed]",
      "text/plain": [
       "<Figure size 720x432 with 1 Axes>"
      ]
     },
     "metadata": {
      "needs_background": "light"
     },
     "output_type": "display_data"
    }
   ],
   "source": [
    "import matplotlib.pyplot as plt\n",
    "\n",
    "def plot_word_histogram(input_list):\n",
    "    # Count the number of words in each string\n",
    "    word_counts = [len(sentence.split()) for sentence in input_list]\n",
    "    \n",
    "    # Plot the histogram\n",
    "    plt.figure(figsize=(10, 6))\n",
    "    plt.hist(word_counts, bins=range(1, max(word_counts) + 2), edgecolor='black', align='left')\n",
    "    \n",
    "    plt.title('Histogram of Number of Words per Sentence')\n",
    "    plt.xlabel('Number of Words')\n",
    "    plt.ylabel('Frequency')\n",
    "    max_word_count = max(word_counts)\n",
    "    bins = np.linspace(1, max_word_count + 1, num=10)  # Adjust the number of bins\n",
    "    plt.xticks(bins)\n",
    "    plt.show()\n",
    "\n",
    "plot_word_histogram(dataset['reference'])"
   ]
  },
  {
   "cell_type": "code",
   "execution_count": 15,
   "id": "72b5c092-8d8f-47ff-89b2-427e4a472447",
   "metadata": {},
   "outputs": [],
   "source": [
    "# from collections import Counter\n",
    "# targets = Counter(dataset['answer_style'])\n",
    "# plt.figure(figsize=(10, 6))\n",
    "# plt.bar(targets.keys(), targets.values(), color='lightblue')\n",
    "# plt.show()"
   ]
  },
  {
   "cell_type": "markdown",
   "id": "e32063bd-ebc3-49e9-954f-fc2176607ea5",
   "metadata": {},
   "source": [
    "## Evaluation"
   ]
  },
  {
   "cell_type": "code",
   "execution_count": 16,
   "id": "a2c04d2f-0795-469d-95b5-b1f9e84d910d",
   "metadata": {},
   "outputs": [],
   "source": [
    "import os\n",
    "os.environ[\"LANGCHAIN_PROJECT\"]= \"Alignment\"\n",
    "os.environ[\"LANGCHAIN_TRACING_V2\"] = \"false\""
   ]
  },
  {
   "cell_type": "code",
   "execution_count": 17,
   "id": "e2c1b884-8fdf-4748-a91d-28d3f09b4547",
   "metadata": {},
   "outputs": [
    {
     "data": {
      "application/vnd.jupyter.widget-view+json": {
       "model_id": "681e363752b54dbeb13fe53060b017d8",
       "version_major": 2,
       "version_minor": 0
      },
      "text/plain": [
       "Downloading data files:   0%|          | 0/1 [00:00<?, ?it/s]"
      ]
     },
     "metadata": {},
     "output_type": "display_data"
    },
    {
     "data": {
      "application/vnd.jupyter.widget-view+json": {
       "model_id": "1b457d950640447ab1231565281ca496",
       "version_major": 2,
       "version_minor": 0
      },
      "text/plain": [
       "Extracting data files:   0%|          | 0/1 [00:00<?, ?it/s]"
      ]
     },
     "metadata": {},
     "output_type": "display_data"
    },
    {
     "data": {
      "application/vnd.jupyter.widget-view+json": {
       "model_id": "9ca0ef2097b940b485aa3ec3a8257906",
       "version_major": 2,
       "version_minor": 0
      },
      "text/plain": [
       "Generating train split: 0 examples [00:00, ? examples/s]"
      ]
     },
     "metadata": {},
     "output_type": "display_data"
    }
   ],
   "source": [
    "from ragas.metrics import FactualCorrectness\n",
    "from ragas import EvaluationDataset\n",
    "from datasets import load_dataset, Dataset\n",
    "dataset = Dataset.from_json(\"datasets/dataset_v3.json\")"
   ]
  },
  {
   "cell_type": "code",
   "execution_count": 18,
   "id": "6f94e4f5-af6c-4f10-b90f-f34dff4c9a05",
   "metadata": {},
   "outputs": [
    {
     "data": {
      "text/plain": [
       "{'user_input': 'How did the discovery of fire impact early human societies and their development?',\n",
       " 'reference': 'The discovery of fire was a pivotal moment in human history, profoundly impacting early human societies and their development. Fire provided warmth, protection, and a means to cook food, which led to significant dietary changes and improved nutrition. This allowed early humans to thrive in various environments and expand their territories. The ability to cook food also made it easier to digest and safer to eat, reducing the risk of disease. Fire enabled the development of new tools and technologies, as it was used to harden wooden tools and later to work with metals. Socially, fire became a focal point for gatherings, fostering communication, cooperation, and the sharing of knowledge. It also played a crucial role in cultural and ritualistic practices, influencing the social structures and belief systems of early human communities. Overall, the mastery of fire was a catalyst for human evolution, driving advancements in technology, society, and culture.',\n",
       " 'term': 'Discovery of Fire',\n",
       " 'response': '# The Transformative Power of Fire in Early Human Societies\\nThe discovery of fire was not just a technological breakthrough; it was a transformative force that reshaped early human societies in profound ways. Here’s how fire impacted our ancestors:\\n\\n## Survival and Expansion\\n- **Warmth and Protection:** Fire provided essential warmth, allowing early humans to survive in colder climates and expand their territories beyond the warm regions of Africa.\\n- **Safety from Predators:** The glow and heat of fire deterred predators, offering a sense of security and enabling humans to settle in new areas.\\n\\n## Dietary Revolution\\n- **Cooking and Nutrition:** Cooking food with fire led to significant dietary changes. It made food easier to digest and nutrients more accessible, which improved overall health and nutrition.\\n- **Disease Reduction:** By cooking food, early humans reduced the risk of consuming harmful bacteria and parasites, leading to healthier communities.\\n\\n## Technological Advancements\\n- **Tool Development:** Fire was used to harden wooden tools, making them more effective. This innovation paved the way for the development of more complex tools and technologies.\\n- **Metalworking:** Eventually, fire enabled the smelting of metals, marking the beginning of the Bronze and Iron Ages and revolutionizing tool and weapon production.\\n\\n## Social and Cultural Impact\\n- **Community Gatherings:** Fire became a central element in social gatherings, fostering communication and cooperation among group members. It was around the fire that stories were told, and knowledge was shared.\\n- **Cultural Practices:** Fire played a crucial role in rituals and ceremonies, influencing the belief systems and social structures of early human communities.\\n\\n## Catalyst for Human Evolution\\n- **Driving Progress:** The mastery of fire was a catalyst for human evolution, driving advancements in technology, society, and culture. It allowed humans to adapt to diverse environments and laid the groundwork for future innovations.\\n\\nIn essence, the discovery of fire was a turning point that not only ensured survival but also sparked the development of complex societies, setting the stage for the remarkable journey of human evolution.'}"
      ]
     },
     "execution_count": 18,
     "metadata": {},
     "output_type": "execute_result"
    }
   ],
   "source": [
    "dataset[1]"
   ]
  },
  {
   "cell_type": "markdown",
   "id": "efe046df-2704-4403-ae98-a6b8d04db660",
   "metadata": {},
   "source": [
    "## \n",
    "Evaluating with different settings"
   ]
  },
  {
   "cell_type": "code",
   "execution_count": 19,
   "id": "ef39a888-8fa0-4944-813a-8c4bd7d32705",
   "metadata": {},
   "outputs": [],
   "source": [
    "from ragas import evaluate\n",
    "import numpy as np\n",
    "\n",
    "subsample = dataset\n",
    "ragas_dataset = EvaluationDataset.from_hf_dataset(subsample)\n"
   ]
  },
  {
   "cell_type": "markdown",
   "id": "6738cda4-979a-440c-b484-d5c85fe9e9dc",
   "metadata": {},
   "source": [
    "### Case 1: Ragas with default prompt + (No demo)"
   ]
  },
  {
   "cell_type": "code",
   "execution_count": 20,
   "id": "d0ba4a87-99ad-49fb-9feb-0b4b7e9171cc",
   "metadata": {},
   "outputs": [
    {
     "data": {
      "application/vnd.jupyter.widget-view+json": {
       "model_id": "359c6665b9a941f9a21c0853a24b2ec5",
       "version_major": 2,
       "version_minor": 0
      },
      "text/plain": [
       "Evaluating:   0%|          | 0/50 [00:00<?, ?it/s]"
      ]
     },
     "metadata": {},
     "output_type": "display_data"
    }
   ],
   "source": [
    "ragas_output = evaluate(ragas_dataset[:], metrics=[FactualCorrectness(with_examples=False)],raise_exceptions=True)"
   ]
  },
  {
   "cell_type": "code",
   "execution_count": 21,
   "id": "0095aa43-ac30-45aa-8d8e-af385bc8047a",
   "metadata": {},
   "outputs": [
    {
     "data": {
      "text/html": [
       "<div>\n",
       "<style scoped>\n",
       "    .dataframe tbody tr th:only-of-type {\n",
       "        vertical-align: middle;\n",
       "    }\n",
       "\n",
       "    .dataframe tbody tr th {\n",
       "        vertical-align: top;\n",
       "    }\n",
       "\n",
       "    .dataframe thead th {\n",
       "        text-align: right;\n",
       "    }\n",
       "</style>\n",
       "<table border=\"1\" class=\"dataframe\">\n",
       "  <thead>\n",
       "    <tr style=\"text-align: right;\">\n",
       "      <th></th>\n",
       "      <th>user_input</th>\n",
       "      <th>response</th>\n",
       "      <th>reference</th>\n",
       "      <th>factual_correctness</th>\n",
       "    </tr>\n",
       "  </thead>\n",
       "  <tbody>\n",
       "    <tr>\n",
       "      <th>0</th>\n",
       "      <td>How did the invention of the wheel impact anci...</td>\n",
       "      <td># The Revolutionary Impact of the Wheel on Anc...</td>\n",
       "      <td>The invention of the wheel was a pivotal momen...</td>\n",
       "      <td>0.82</td>\n",
       "    </tr>\n",
       "    <tr>\n",
       "      <th>1</th>\n",
       "      <td>How did the discovery of fire impact early hum...</td>\n",
       "      <td># The Transformative Power of Fire in Early Hu...</td>\n",
       "      <td>The discovery of fire was a pivotal moment in ...</td>\n",
       "      <td>0.99</td>\n",
       "    </tr>\n",
       "    <tr>\n",
       "      <th>2</th>\n",
       "      <td>What were the major impacts of the Agricultura...</td>\n",
       "      <td># The Transformative Impacts of the Agricultur...</td>\n",
       "      <td>The Agricultural Revolution, which began aroun...</td>\n",
       "      <td>1.00</td>\n",
       "    </tr>\n",
       "    <tr>\n",
       "      <th>3</th>\n",
       "      <td>What were the key events and consequences of t...</td>\n",
       "      <td># The Fall of Constantinople: A Turning Point ...</td>\n",
       "      <td>The Fall of Constantinople occurred on May 29,...</td>\n",
       "      <td>1.00</td>\n",
       "    </tr>\n",
       "    <tr>\n",
       "      <th>4</th>\n",
       "      <td>How did the birth of democracy in Athens shape...</td>\n",
       "      <td># The Birth of Democracy in Athens: A Revoluti...</td>\n",
       "      <td>The birth of democracy in Athens, around the 5...</td>\n",
       "      <td>1.00</td>\n",
       "    </tr>\n",
       "    <tr>\n",
       "      <th>5</th>\n",
       "      <td>What were the significant impacts of the signi...</td>\n",
       "      <td># The Magna Carta: A Cornerstone of Constituti...</td>\n",
       "      <td>The signing of the Magna Carta in 1215 had pro...</td>\n",
       "      <td>1.00</td>\n",
       "    </tr>\n",
       "    <tr>\n",
       "      <th>6</th>\n",
       "      <td>What were the causes and impacts of The Black ...</td>\n",
       "      <td># The Black Death: Causes and Impacts on Medie...</td>\n",
       "      <td>The Black Death, which swept through Europe in...</td>\n",
       "      <td>1.00</td>\n",
       "    </tr>\n",
       "    <tr>\n",
       "      <th>7</th>\n",
       "      <td>What were the significant impacts of Columbus'...</td>\n",
       "      <td># The Transformative Impact of Columbus' 1492 ...</td>\n",
       "      <td>Columbus' voyage to the Americas in 1492 had p...</td>\n",
       "      <td>0.98</td>\n",
       "    </tr>\n",
       "    <tr>\n",
       "      <th>8</th>\n",
       "      <td>What was the Protestant Reformation?</td>\n",
       "      <td># The Protestant Reformation: A Revolution in ...</td>\n",
       "      <td>The Protestant Reformation was a 16th-century ...</td>\n",
       "      <td>0.98</td>\n",
       "    </tr>\n",
       "    <tr>\n",
       "      <th>9</th>\n",
       "      <td>What were the major impacts of the Industrial ...</td>\n",
       "      <td># The Transformative Impacts of the Industrial...</td>\n",
       "      <td>The Industrial Revolution, which began in the ...</td>\n",
       "      <td>0.95</td>\n",
       "    </tr>\n",
       "    <tr>\n",
       "      <th>10</th>\n",
       "      <td>What is the significance of the American Decla...</td>\n",
       "      <td># The Significance of the American Declaration...</td>\n",
       "      <td>The American Declaration of Independence, adop...</td>\n",
       "      <td>1.00</td>\n",
       "    </tr>\n",
       "    <tr>\n",
       "      <th>11</th>\n",
       "      <td>What were the main causes and consequences of ...</td>\n",
       "      <td># The French Revolution: Causes and Consequenc...</td>\n",
       "      <td>The French Revolution, which began in 1789, wa...</td>\n",
       "      <td>0.99</td>\n",
       "    </tr>\n",
       "    <tr>\n",
       "      <th>12</th>\n",
       "      <td>How did the invention of the printing press im...</td>\n",
       "      <td># The Printing Press: Catalyst of the Renaissa...</td>\n",
       "      <td>The invention of the printing press by Johanne...</td>\n",
       "      <td>0.96</td>\n",
       "    </tr>\n",
       "    <tr>\n",
       "      <th>13</th>\n",
       "      <td>What were the main factors that contributed to...</td>\n",
       "      <td># The Fall of the Roman Empire: A Perfect Stor...</td>\n",
       "      <td>The fall of the Roman Empire was a complex pro...</td>\n",
       "      <td>0.96</td>\n",
       "    </tr>\n",
       "    <tr>\n",
       "      <th>14</th>\n",
       "      <td>What were the key terms and consequences of th...</td>\n",
       "      <td># The Treaty of Versailles: Key Terms and Cons...</td>\n",
       "      <td>The Treaty of Versailles, signed on June 28, 1...</td>\n",
       "      <td>1.00</td>\n",
       "    </tr>\n",
       "    <tr>\n",
       "      <th>15</th>\n",
       "      <td>What was the significance of The Renaissance i...</td>\n",
       "      <td># The Renaissance: A Cultural Rebirth in Europ...</td>\n",
       "      <td>The Renaissance marked a period of cultural re...</td>\n",
       "      <td>1.00</td>\n",
       "    </tr>\n",
       "    <tr>\n",
       "      <th>16</th>\n",
       "      <td>What were the main causes and consequences of ...</td>\n",
       "      <td># The Causes and Consequences of World War I\\n...</td>\n",
       "      <td>World War I, also known as the Great War, was ...</td>\n",
       "      <td>1.00</td>\n",
       "    </tr>\n",
       "    <tr>\n",
       "      <th>17</th>\n",
       "      <td>What were the major causes and consequences of...</td>\n",
       "      <td># The Major Causes and Consequences of World W...</td>\n",
       "      <td>World War II was primarily caused by the unres...</td>\n",
       "      <td>1.00</td>\n",
       "    </tr>\n",
       "    <tr>\n",
       "      <th>18</th>\n",
       "      <td>What were the main causes and consequences of ...</td>\n",
       "      <td># The Cold War: Causes and Consequences\\nThe C...</td>\n",
       "      <td>The Cold War was primarily caused by ideologic...</td>\n",
       "      <td>1.00</td>\n",
       "    </tr>\n",
       "    <tr>\n",
       "      <th>19</th>\n",
       "      <td>What were the significant consequences of the ...</td>\n",
       "      <td># The Ripple Effect of Archduke Franz Ferdinan...</td>\n",
       "      <td>The assassination of Archduke Franz Ferdinand ...</td>\n",
       "      <td>1.00</td>\n",
       "    </tr>\n",
       "    <tr>\n",
       "      <th>20</th>\n",
       "      <td>What was the significance of the first Moon la...</td>\n",
       "      <td># The Significance of the First Moon Landing i...</td>\n",
       "      <td>The first Moon landing in 1969 marked a monume...</td>\n",
       "      <td>1.00</td>\n",
       "    </tr>\n",
       "    <tr>\n",
       "      <th>21</th>\n",
       "      <td>What were the main factors leading to the Fall...</td>\n",
       "      <td># The Fall of the Berlin Wall: A Turning Point...</td>\n",
       "      <td>The Fall of the Berlin Wall was primarily due ...</td>\n",
       "      <td>1.00</td>\n",
       "    </tr>\n",
       "    <tr>\n",
       "      <th>22</th>\n",
       "      <td>What were the key events and outcomes of the C...</td>\n",
       "      <td># The Cuban Missile Crisis: A Cold War Showdow...</td>\n",
       "      <td>The Cuban Missile Crisis was a pivotal moment ...</td>\n",
       "      <td>0.97</td>\n",
       "    </tr>\n",
       "    <tr>\n",
       "      <th>23</th>\n",
       "      <td>What were the main causes and outcomes of the ...</td>\n",
       "      <td># The Russian Revolution of 1917: Causes and C...</td>\n",
       "      <td>The Russian Revolution of 1917 was a pivotal e...</td>\n",
       "      <td>1.00</td>\n",
       "    </tr>\n",
       "    <tr>\n",
       "      <th>24</th>\n",
       "      <td>What were the main causes and outcomes of the ...</td>\n",
       "      <td># The Haitian Revolution: Causes and Outcomes\\...</td>\n",
       "      <td>The Haitian Revolution, which took place from ...</td>\n",
       "      <td>0.98</td>\n",
       "    </tr>\n",
       "    <tr>\n",
       "      <th>25</th>\n",
       "      <td>What were the causes and consequences of The O...</td>\n",
       "      <td># The Opium Wars: Causes and Consequences\\nThe...</td>\n",
       "      <td>The Opium Wars were two conflicts between Chin...</td>\n",
       "      <td>1.00</td>\n",
       "    </tr>\n",
       "    <tr>\n",
       "      <th>26</th>\n",
       "      <td>What were the key changes and impacts of the M...</td>\n",
       "      <td># The Meiji Restoration: Transforming Japan\\nT...</td>\n",
       "      <td>The Meiji Restoration, which began in 1868, wa...</td>\n",
       "      <td>1.00</td>\n",
       "    </tr>\n",
       "    <tr>\n",
       "      <th>27</th>\n",
       "      <td>What were the major causes and consequences of...</td>\n",
       "      <td># The Partition of India in 1947: Causes and C...</td>\n",
       "      <td>The Partition of India in 1947 was a significa...</td>\n",
       "      <td>1.00</td>\n",
       "    </tr>\n",
       "    <tr>\n",
       "      <th>28</th>\n",
       "      <td>When and why was the United Nations created?</td>\n",
       "      <td># The Birth of the United Nations: A Beacon of...</td>\n",
       "      <td>The United Nations was created in 1945 to prom...</td>\n",
       "      <td>1.00</td>\n",
       "    </tr>\n",
       "    <tr>\n",
       "      <th>29</th>\n",
       "      <td>What were the key factors that led to the end ...</td>\n",
       "      <td># The End of Apartheid: A Confluence of Forces...</td>\n",
       "      <td>The end of Apartheid in South Africa was the r...</td>\n",
       "      <td>0.98</td>\n",
       "    </tr>\n",
       "    <tr>\n",
       "      <th>30</th>\n",
       "      <td>What was the purpose and impact of the Marshal...</td>\n",
       "      <td># The Marshall Plan: Reviving Post-War Europe\\...</td>\n",
       "      <td>The Marshall Plan, officially known as the Eur...</td>\n",
       "      <td>0.84</td>\n",
       "    </tr>\n",
       "    <tr>\n",
       "      <th>31</th>\n",
       "      <td>What were the key factors and events that led ...</td>\n",
       "      <td># The Birth of NATO: A Response to Post-War Te...</td>\n",
       "      <td>The formation of NATO, the North Atlantic Trea...</td>\n",
       "      <td>1.00</td>\n",
       "    </tr>\n",
       "    <tr>\n",
       "      <th>32</th>\n",
       "      <td>What were the significant impacts of the 9/11 ...</td>\n",
       "      <td># The Global Ripple Effects of the 9/11 Attack...</td>\n",
       "      <td>The 9/11 Attacks had profound impacts on globa...</td>\n",
       "      <td>1.00</td>\n",
       "    </tr>\n",
       "    <tr>\n",
       "      <th>33</th>\n",
       "      <td>How did the invention of the Internet revoluti...</td>\n",
       "      <td># The Internet: A Global Communication Revolut...</td>\n",
       "      <td>The invention of the Internet revolutionized c...</td>\n",
       "      <td>0.96</td>\n",
       "    </tr>\n",
       "    <tr>\n",
       "      <th>34</th>\n",
       "      <td>How did Gutenberg's printing press revolutioni...</td>\n",
       "      <td># Gutenberg's Printing Press: A Catalyst for C...</td>\n",
       "      <td>Gutenberg's printing press, invented in the mi...</td>\n",
       "      <td>0.95</td>\n",
       "    </tr>\n",
       "    <tr>\n",
       "      <th>35</th>\n",
       "      <td>What was the significance of the Signing of th...</td>\n",
       "      <td># The Significance of the Emancipation Proclam...</td>\n",
       "      <td>It declared the freedom of all enslaved people...</td>\n",
       "      <td>0.98</td>\n",
       "    </tr>\n",
       "    <tr>\n",
       "      <th>36</th>\n",
       "      <td>What were the main causes and impacts of the C...</td>\n",
       "      <td># The Crusades: Causes and Impacts on Medieval...</td>\n",
       "      <td>The Crusades were a series of religious and mi...</td>\n",
       "      <td>0.98</td>\n",
       "    </tr>\n",
       "    <tr>\n",
       "      <th>37</th>\n",
       "      <td>What were the key ideas and impacts of The Enl...</td>\n",
       "      <td># The Enlightenment: Key Ideas and Lasting Imp...</td>\n",
       "      <td>The Enlightenment, also known as the Age of Re...</td>\n",
       "      <td>0.98</td>\n",
       "    </tr>\n",
       "    <tr>\n",
       "      <th>38</th>\n",
       "      <td>What was the significance of the Fall of the B...</td>\n",
       "      <td># The Fall of the Bastille: A Turning Point in...</td>\n",
       "      <td>The Fall of the Bastille on July 14, 1789, was...</td>\n",
       "      <td>0.97</td>\n",
       "    </tr>\n",
       "    <tr>\n",
       "      <th>39</th>\n",
       "      <td>What was the Suez Crisis and when did it occur?</td>\n",
       "      <td># The Suez Crisis: A Turning Point in 20th Cen...</td>\n",
       "      <td>The Suez Crisis was a diplomatic and military ...</td>\n",
       "      <td>1.00</td>\n",
       "    </tr>\n",
       "    <tr>\n",
       "      <th>40</th>\n",
       "      <td>What were the key events and controversies sur...</td>\n",
       "      <td># The Assassination of JFK: Key Events and Con...</td>\n",
       "      <td>The assassination of John F. Kennedy, the 35th...</td>\n",
       "      <td>1.00</td>\n",
       "    </tr>\n",
       "    <tr>\n",
       "      <th>41</th>\n",
       "      <td>What were the main causes of the Vietnam War?</td>\n",
       "      <td># Unraveling the Causes of the Vietnam War\\nTh...</td>\n",
       "      <td>The Vietnam War was primarily caused by the sp...</td>\n",
       "      <td>1.00</td>\n",
       "    </tr>\n",
       "    <tr>\n",
       "      <th>42</th>\n",
       "      <td>What were the main causes and consequences of ...</td>\n",
       "      <td># The Korean War: Causes and Consequences\\nThe...</td>\n",
       "      <td>The Korean War, which lasted from 1950 to 1953...</td>\n",
       "      <td>0.96</td>\n",
       "    </tr>\n",
       "    <tr>\n",
       "      <th>43</th>\n",
       "      <td>What were the main causes and outcomes of the ...</td>\n",
       "      <td># The First Crusade: Causes and Consequences\\n...</td>\n",
       "      <td>The First Crusade, initiated in 1096 and lasti...</td>\n",
       "      <td>0.94</td>\n",
       "    </tr>\n",
       "    <tr>\n",
       "      <th>44</th>\n",
       "      <td>What were the key outcomes and significance of...</td>\n",
       "      <td># The Camp David Accords: A Turning Point in M...</td>\n",
       "      <td>The Camp David Accords, signed in September 19...</td>\n",
       "      <td>1.00</td>\n",
       "    </tr>\n",
       "    <tr>\n",
       "      <th>45</th>\n",
       "      <td>What was the purpose and impact of the Spanish...</td>\n",
       "      <td># The Spanish Inquisition: Purpose and Impact\\...</td>\n",
       "      <td>The Spanish Inquisition was established in 147...</td>\n",
       "      <td>1.00</td>\n",
       "    </tr>\n",
       "    <tr>\n",
       "      <th>46</th>\n",
       "      <td>What were the main causes and consequences of ...</td>\n",
       "      <td># The Great Schism: Causes and Consequences\\nT...</td>\n",
       "      <td>The Great Schism, also known as the East-West ...</td>\n",
       "      <td>0.95</td>\n",
       "    </tr>\n",
       "    <tr>\n",
       "      <th>47</th>\n",
       "      <td>What were the key events and treaties that led...</td>\n",
       "      <td># The Journey to the European Union: Key Event...</td>\n",
       "      <td>The formation of the European Union was a comp...</td>\n",
       "      <td>0.98</td>\n",
       "    </tr>\n",
       "    <tr>\n",
       "      <th>48</th>\n",
       "      <td>What were some key factors that led to the ind...</td>\n",
       "      <td># Key Factors Leading to the Independence of A...</td>\n",
       "      <td>Key factors included nationalist movements, we...</td>\n",
       "      <td>1.00</td>\n",
       "    </tr>\n",
       "    <tr>\n",
       "      <th>49</th>\n",
       "      <td>What were the key developments and impacts of ...</td>\n",
       "      <td># The Scientific Revolution: Key Developments ...</td>\n",
       "      <td>The Scientific Revolution, spanning the 16th a...</td>\n",
       "      <td>0.98</td>\n",
       "    </tr>\n",
       "  </tbody>\n",
       "</table>\n",
       "</div>"
      ],
      "text/plain": [
       "                                           user_input  \\\n",
       "0   How did the invention of the wheel impact anci...   \n",
       "1   How did the discovery of fire impact early hum...   \n",
       "2   What were the major impacts of the Agricultura...   \n",
       "3   What were the key events and consequences of t...   \n",
       "4   How did the birth of democracy in Athens shape...   \n",
       "5   What were the significant impacts of the signi...   \n",
       "6   What were the causes and impacts of The Black ...   \n",
       "7   What were the significant impacts of Columbus'...   \n",
       "8                What was the Protestant Reformation?   \n",
       "9   What were the major impacts of the Industrial ...   \n",
       "10  What is the significance of the American Decla...   \n",
       "11  What were the main causes and consequences of ...   \n",
       "12  How did the invention of the printing press im...   \n",
       "13  What were the main factors that contributed to...   \n",
       "14  What were the key terms and consequences of th...   \n",
       "15  What was the significance of The Renaissance i...   \n",
       "16  What were the main causes and consequences of ...   \n",
       "17  What were the major causes and consequences of...   \n",
       "18  What were the main causes and consequences of ...   \n",
       "19  What were the significant consequences of the ...   \n",
       "20  What was the significance of the first Moon la...   \n",
       "21  What were the main factors leading to the Fall...   \n",
       "22  What were the key events and outcomes of the C...   \n",
       "23  What were the main causes and outcomes of the ...   \n",
       "24  What were the main causes and outcomes of the ...   \n",
       "25  What were the causes and consequences of The O...   \n",
       "26  What were the key changes and impacts of the M...   \n",
       "27  What were the major causes and consequences of...   \n",
       "28       When and why was the United Nations created?   \n",
       "29  What were the key factors that led to the end ...   \n",
       "30  What was the purpose and impact of the Marshal...   \n",
       "31  What were the key factors and events that led ...   \n",
       "32  What were the significant impacts of the 9/11 ...   \n",
       "33  How did the invention of the Internet revoluti...   \n",
       "34  How did Gutenberg's printing press revolutioni...   \n",
       "35  What was the significance of the Signing of th...   \n",
       "36  What were the main causes and impacts of the C...   \n",
       "37  What were the key ideas and impacts of The Enl...   \n",
       "38  What was the significance of the Fall of the B...   \n",
       "39    What was the Suez Crisis and when did it occur?   \n",
       "40  What were the key events and controversies sur...   \n",
       "41      What were the main causes of the Vietnam War?   \n",
       "42  What were the main causes and consequences of ...   \n",
       "43  What were the main causes and outcomes of the ...   \n",
       "44  What were the key outcomes and significance of...   \n",
       "45  What was the purpose and impact of the Spanish...   \n",
       "46  What were the main causes and consequences of ...   \n",
       "47  What were the key events and treaties that led...   \n",
       "48  What were some key factors that led to the ind...   \n",
       "49  What were the key developments and impacts of ...   \n",
       "\n",
       "                                             response  \\\n",
       "0   # The Revolutionary Impact of the Wheel on Anc...   \n",
       "1   # The Transformative Power of Fire in Early Hu...   \n",
       "2   # The Transformative Impacts of the Agricultur...   \n",
       "3   # The Fall of Constantinople: A Turning Point ...   \n",
       "4   # The Birth of Democracy in Athens: A Revoluti...   \n",
       "5   # The Magna Carta: A Cornerstone of Constituti...   \n",
       "6   # The Black Death: Causes and Impacts on Medie...   \n",
       "7   # The Transformative Impact of Columbus' 1492 ...   \n",
       "8   # The Protestant Reformation: A Revolution in ...   \n",
       "9   # The Transformative Impacts of the Industrial...   \n",
       "10  # The Significance of the American Declaration...   \n",
       "11  # The French Revolution: Causes and Consequenc...   \n",
       "12  # The Printing Press: Catalyst of the Renaissa...   \n",
       "13  # The Fall of the Roman Empire: A Perfect Stor...   \n",
       "14  # The Treaty of Versailles: Key Terms and Cons...   \n",
       "15  # The Renaissance: A Cultural Rebirth in Europ...   \n",
       "16  # The Causes and Consequences of World War I\\n...   \n",
       "17  # The Major Causes and Consequences of World W...   \n",
       "18  # The Cold War: Causes and Consequences\\nThe C...   \n",
       "19  # The Ripple Effect of Archduke Franz Ferdinan...   \n",
       "20  # The Significance of the First Moon Landing i...   \n",
       "21  # The Fall of the Berlin Wall: A Turning Point...   \n",
       "22  # The Cuban Missile Crisis: A Cold War Showdow...   \n",
       "23  # The Russian Revolution of 1917: Causes and C...   \n",
       "24  # The Haitian Revolution: Causes and Outcomes\\...   \n",
       "25  # The Opium Wars: Causes and Consequences\\nThe...   \n",
       "26  # The Meiji Restoration: Transforming Japan\\nT...   \n",
       "27  # The Partition of India in 1947: Causes and C...   \n",
       "28  # The Birth of the United Nations: A Beacon of...   \n",
       "29  # The End of Apartheid: A Confluence of Forces...   \n",
       "30  # The Marshall Plan: Reviving Post-War Europe\\...   \n",
       "31  # The Birth of NATO: A Response to Post-War Te...   \n",
       "32  # The Global Ripple Effects of the 9/11 Attack...   \n",
       "33  # The Internet: A Global Communication Revolut...   \n",
       "34  # Gutenberg's Printing Press: A Catalyst for C...   \n",
       "35  # The Significance of the Emancipation Proclam...   \n",
       "36  # The Crusades: Causes and Impacts on Medieval...   \n",
       "37  # The Enlightenment: Key Ideas and Lasting Imp...   \n",
       "38  # The Fall of the Bastille: A Turning Point in...   \n",
       "39  # The Suez Crisis: A Turning Point in 20th Cen...   \n",
       "40  # The Assassination of JFK: Key Events and Con...   \n",
       "41  # Unraveling the Causes of the Vietnam War\\nTh...   \n",
       "42  # The Korean War: Causes and Consequences\\nThe...   \n",
       "43  # The First Crusade: Causes and Consequences\\n...   \n",
       "44  # The Camp David Accords: A Turning Point in M...   \n",
       "45  # The Spanish Inquisition: Purpose and Impact\\...   \n",
       "46  # The Great Schism: Causes and Consequences\\nT...   \n",
       "47  # The Journey to the European Union: Key Event...   \n",
       "48  # Key Factors Leading to the Independence of A...   \n",
       "49  # The Scientific Revolution: Key Developments ...   \n",
       "\n",
       "                                            reference  factual_correctness  \n",
       "0   The invention of the wheel was a pivotal momen...                 0.82  \n",
       "1   The discovery of fire was a pivotal moment in ...                 0.99  \n",
       "2   The Agricultural Revolution, which began aroun...                 1.00  \n",
       "3   The Fall of Constantinople occurred on May 29,...                 1.00  \n",
       "4   The birth of democracy in Athens, around the 5...                 1.00  \n",
       "5   The signing of the Magna Carta in 1215 had pro...                 1.00  \n",
       "6   The Black Death, which swept through Europe in...                 1.00  \n",
       "7   Columbus' voyage to the Americas in 1492 had p...                 0.98  \n",
       "8   The Protestant Reformation was a 16th-century ...                 0.98  \n",
       "9   The Industrial Revolution, which began in the ...                 0.95  \n",
       "10  The American Declaration of Independence, adop...                 1.00  \n",
       "11  The French Revolution, which began in 1789, wa...                 0.99  \n",
       "12  The invention of the printing press by Johanne...                 0.96  \n",
       "13  The fall of the Roman Empire was a complex pro...                 0.96  \n",
       "14  The Treaty of Versailles, signed on June 28, 1...                 1.00  \n",
       "15  The Renaissance marked a period of cultural re...                 1.00  \n",
       "16  World War I, also known as the Great War, was ...                 1.00  \n",
       "17  World War II was primarily caused by the unres...                 1.00  \n",
       "18  The Cold War was primarily caused by ideologic...                 1.00  \n",
       "19  The assassination of Archduke Franz Ferdinand ...                 1.00  \n",
       "20  The first Moon landing in 1969 marked a monume...                 1.00  \n",
       "21  The Fall of the Berlin Wall was primarily due ...                 1.00  \n",
       "22  The Cuban Missile Crisis was a pivotal moment ...                 0.97  \n",
       "23  The Russian Revolution of 1917 was a pivotal e...                 1.00  \n",
       "24  The Haitian Revolution, which took place from ...                 0.98  \n",
       "25  The Opium Wars were two conflicts between Chin...                 1.00  \n",
       "26  The Meiji Restoration, which began in 1868, wa...                 1.00  \n",
       "27  The Partition of India in 1947 was a significa...                 1.00  \n",
       "28  The United Nations was created in 1945 to prom...                 1.00  \n",
       "29  The end of Apartheid in South Africa was the r...                 0.98  \n",
       "30  The Marshall Plan, officially known as the Eur...                 0.84  \n",
       "31  The formation of NATO, the North Atlantic Trea...                 1.00  \n",
       "32  The 9/11 Attacks had profound impacts on globa...                 1.00  \n",
       "33  The invention of the Internet revolutionized c...                 0.96  \n",
       "34  Gutenberg's printing press, invented in the mi...                 0.95  \n",
       "35  It declared the freedom of all enslaved people...                 0.98  \n",
       "36  The Crusades were a series of religious and mi...                 0.98  \n",
       "37  The Enlightenment, also known as the Age of Re...                 0.98  \n",
       "38  The Fall of the Bastille on July 14, 1789, was...                 0.97  \n",
       "39  The Suez Crisis was a diplomatic and military ...                 1.00  \n",
       "40  The assassination of John F. Kennedy, the 35th...                 1.00  \n",
       "41  The Vietnam War was primarily caused by the sp...                 1.00  \n",
       "42  The Korean War, which lasted from 1950 to 1953...                 0.96  \n",
       "43  The First Crusade, initiated in 1096 and lasti...                 0.94  \n",
       "44  The Camp David Accords, signed in September 19...                 1.00  \n",
       "45  The Spanish Inquisition was established in 147...                 1.00  \n",
       "46  The Great Schism, also known as the East-West ...                 0.95  \n",
       "47  The formation of the European Union was a comp...                 0.98  \n",
       "48  Key factors included nationalist movements, we...                 1.00  \n",
       "49  The Scientific Revolution, spanning the 16th a...                 0.98  "
      ]
     },
     "execution_count": 21,
     "metadata": {},
     "output_type": "execute_result"
    }
   ],
   "source": [
    "ragas_output.to_pandas()"
   ]
  },
  {
   "cell_type": "code",
   "execution_count": 27,
   "id": "86258ade-2f5d-44a1-aff7-43444c14a1aa",
   "metadata": {},
   "outputs": [],
   "source": [
    "pred = np.nan_to_num(ragas_output.to_pandas()['factual_correctness'].values).tolist()\n",
    "real = [1]* len(pred)"
   ]
  },
  {
   "cell_type": "code",
   "execution_count": 28,
   "id": "31e1bb03-9cfe-4ebf-b7f3-41e49240e5eb",
   "metadata": {},
   "outputs": [
    {
     "data": {
      "text/plain": [
       "1.9400000000000015"
      ]
     },
     "execution_count": 28,
     "metadata": {},
     "output_type": "execute_result"
    }
   ],
   "source": [
    "from sklearn.metrics import mean_absolute_error\n",
    "mean_absolute_error(pred,real)*100"
   ]
  },
  {
   "cell_type": "code",
   "execution_count": 29,
   "id": "5db18757-7953-4cdd-87ef-d8fa9e405940",
   "metadata": {},
   "outputs": [],
   "source": [
    "ragas_output.to_pandas().to_csv(\"results/default_prompt_no_demo.csv\",index=False)"
   ]
  },
  {
   "cell_type": "markdown",
   "id": "3c3fbc74-203a-43ad-be02-b691b0a23de9",
   "metadata": {},
   "source": [
    "## Case 2 : Ragas with default prompt + Random 3 demo"
   ]
  },
  {
   "cell_type": "code",
   "execution_count": 31,
   "id": "2120f02f-9dd7-4620-b4dd-f06a964b8e88",
   "metadata": {},
   "outputs": [],
   "source": [
    "scorer = FactualCorrectness(with_examples=True)"
   ]
  },
  {
   "cell_type": "code",
   "execution_count": 32,
   "id": "deeee2be-eec0-4991-ad30-0d5c657c847e",
   "metadata": {},
   "outputs": [
    {
     "data": {
      "application/vnd.jupyter.widget-view+json": {
       "model_id": "ab977ef2dde3486da0258be95a7642a5",
       "version_major": 2,
       "version_minor": 0
      },
      "text/plain": [
       "Evaluating:   0%|          | 0/50 [00:00<?, ?it/s]"
      ]
     },
     "metadata": {},
     "output_type": "display_data"
    }
   ],
   "source": [
    "ragas_output = evaluate(ragas_dataset, metrics=[scorer])"
   ]
  },
  {
   "cell_type": "code",
   "execution_count": 34,
   "id": "8e9b2804-9b6d-435a-bac4-cf9ff850a7c3",
   "metadata": {},
   "outputs": [],
   "source": [
    "\n",
    "pred = np.nan_to_num(ragas_output.to_pandas()['factual_correctness'].values).tolist()\n",
    "real = [1]* len(pred)"
   ]
  },
  {
   "cell_type": "code",
   "execution_count": 35,
   "id": "6cfea3eb-3863-4319-8c4b-bd99b364f797",
   "metadata": {},
   "outputs": [
    {
     "data": {
      "text/plain": [
       "2.160000000000001"
      ]
     },
     "execution_count": 35,
     "metadata": {},
     "output_type": "execute_result"
    }
   ],
   "source": [
    "from sklearn.metrics import mean_absolute_error\n",
    "mean_absolute_error(pred,real)*100"
   ]
  },
  {
   "cell_type": "code",
   "execution_count": 36,
   "id": "6325cdae-a4b7-4336-908c-b081327b908d",
   "metadata": {},
   "outputs": [],
   "source": [
    "ragas_output.to_pandas().to_csv(\"results/default_prompt_demo.csv\",index=False)"
   ]
  },
  {
   "cell_type": "markdown",
   "id": "c3ebdc11-711d-4610-a3fb-ec2cd700d068",
   "metadata": {},
   "source": [
    "## Analysis"
   ]
  }
 ],
 "metadata": {
  "kernelspec": {
   "display_name": "ragas",
   "language": "python",
   "name": "ragas"
  },
  "language_info": {
   "codemirror_mode": {
    "name": "ipython",
    "version": 3
   },
   "file_extension": ".py",
   "mimetype": "text/x-python",
   "name": "python",
   "nbconvert_exporter": "python",
   "pygments_lexer": "ipython3",
   "version": "3.9.20"
  }
 },
 "nbformat": 4,
 "nbformat_minor": 5
}
