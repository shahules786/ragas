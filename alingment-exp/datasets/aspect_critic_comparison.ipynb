{
 "cells": [
  {
   "cell_type": "code",
   "execution_count": 1,
   "id": "4cf5dbb6-6b5f-4b89-a8b8-1cda1cd7f713",
   "metadata": {},
   "outputs": [],
   "source": [
    "%load_ext autoreload\n",
    "%autoreload 2"
   ]
  },
  {
   "cell_type": "code",
   "execution_count": 2,
   "id": "413a5f89-e22c-496a-9dab-5fedfc2b903c",
   "metadata": {},
   "outputs": [],
   "source": [
    "import os\n",
    "os.chdir(\"/Users/shahules/ragas/alingment-exp/\")"
   ]
  },
  {
   "cell_type": "markdown",
   "id": "8e7faa72-7930-43ed-bae0-a68b6eff9eae",
   "metadata": {},
   "source": [
    "## Load Model"
   ]
  },
  {
   "cell_type": "code",
   "execution_count": 3,
   "id": "2a8d5e2d-d962-4f67-a770-32cc49f1d944",
   "metadata": {},
   "outputs": [
    {
     "name": "stderr",
     "output_type": "stream",
     "text": [
      "/opt/homebrew/Caskroom/miniforge/base/envs/ragas/lib/python3.9/site-packages/tqdm/auto.py:21: TqdmWarning: IProgress not found. Please update jupyter and ipywidgets. See https://ipywidgets.readthedocs.io/en/stable/user_install.html\n",
      "  from .autonotebook import tqdm as notebook_tqdm\n"
     ]
    }
   ],
   "source": [
    "from langchain_openai.chat_models import ChatOpenAI\n",
    "from ragas.llms import LangchainLLMWrapper\n",
    "\n",
    "llm_4o = LangchainLLMWrapper(ChatOpenAI(model=\"gpt-4o\"))\n",
    "llm_4o_mini = LangchainLLMWrapper(ChatOpenAI(model=\"gpt-4o-mini\"))"
   ]
  },
  {
   "cell_type": "code",
   "execution_count": 4,
   "id": "173c3c09-1a43-4a41-a5ab-4d12215909e4",
   "metadata": {},
   "outputs": [],
   "source": [
    "from langchain_openai.embeddings import OpenAIEmbeddings\n",
    "from ragas.embeddings import LangchainEmbeddingsWrapper\n",
    "\n",
    "\n",
    "embeddings = OpenAIEmbeddings(model=\"text-embedding-3-small\")\n",
    "langchain_embeddings = LangchainEmbeddingsWrapper(embeddings=embeddings) # any langchain Embeddings instance\n"
   ]
  },
  {
   "cell_type": "code",
   "execution_count": 5,
   "id": "f9b4e41a-e62e-406f-9a9a-bca190dbba4f",
   "metadata": {},
   "outputs": [],
   "source": [
    "from langchain_aws import ChatBedrockConverse\n",
    "from langchain_aws import BedrockEmbeddings\n",
    "from ragas.llms import LangchainLLMWrapper\n",
    "from ragas.embeddings import LangchainEmbeddingsWrapper\n",
    "\n",
    "config = {\n",
    "    \"credentials_profile_name\": \"default\",  # E.g \"default\"\n",
    "    \"region_name\": \"us-east-1\",  # E.g. \"us-east-1\"\n",
    "    \"llm\": \"anthropic.claude-3-haiku-20240307-v1:0\",  # E.g \"anthropic.claude-3-5-sonnet-20240620-v1:0\"\n",
    "}\n",
    "\n",
    "bedrock_llm = ChatBedrockConverse(\n",
    "    credentials_profile_name=config[\"credentials_profile_name\"],\n",
    "    region_name=config[\"region_name\"],\n",
    "    base_url=f\"https://bedrock-runtime.{config['region_name']}.amazonaws.com\",\n",
    "    model=config[\"llm\"],\n",
    ")\n",
    "\n",
    "bedrock_llm = LangchainLLMWrapper(bedrock_llm)"
   ]
  },
  {
   "cell_type": "markdown",
   "id": "1007a6da-be65-4b16-970c-b2a3f1efdf22",
   "metadata": {},
   "source": [
    "## Dataset"
   ]
  },
  {
   "cell_type": "code",
   "execution_count": 6,
   "id": "0eaf7d12-399d-4134-835e-544f42cdafe4",
   "metadata": {},
   "outputs": [],
   "source": [
    "from datasets import Dataset"
   ]
  },
  {
   "cell_type": "code",
   "execution_count": 7,
   "id": "61c837db-8a82-4969-b3cf-25de8b615a69",
   "metadata": {},
   "outputs": [],
   "source": [
    "test_dataset = Dataset.from_json(\"./datasets/dataset_v4_test.json\")\n",
    "train_dataset = Dataset.from_json(\"./datasets/dataset_v4_training_annotated_full.json\")"
   ]
  },
  {
   "cell_type": "markdown",
   "id": "e8136074-46fd-488d-8631-4b82b2baa21b",
   "metadata": {},
   "source": [
    "## Comparison"
   ]
  },
  {
   "cell_type": "code",
   "execution_count": 8,
   "id": "f11551ff-c893-46a3-98c8-0b0b29fe18da",
   "metadata": {},
   "outputs": [],
   "source": [
    "import json\n",
    "def save_result(result):\n",
    "    data = json.load(open(\"./results/aspect_critic/result.json\"))\n",
    "    data.append(result)\n",
    "    with open(\"./results/aspect_critic/result.json\",\"w\") as file:\n",
    "        json.dump(data,file,indent=4)\n",
    "        "
   ]
  },
  {
   "cell_type": "code",
   "execution_count": 9,
   "id": "6ab61f53-3313-441e-bcda-030be91f11b8",
   "metadata": {},
   "outputs": [],
   "source": [
    "from scripts import run_evaluation"
   ]
  },
  {
   "cell_type": "code",
   "execution_count": 11,
   "id": "c144f935-678e-412a-9d48-3daa32c291f4",
   "metadata": {},
   "outputs": [
    {
     "name": "stderr",
     "output_type": "stream",
     "text": [
      "Evaluating:   0%|                                                | 0/50 [00:00<?, ?it/s]\n",
      "Generating train split: 20 examples [00:00, 940.25 examples/s]\n",
      "Evaluating: 100%|███████████████████████████████████████| 50/50 [00:12<00:00,  3.89it/s]"
     ]
    },
    {
     "name": "stdout",
     "output_type": "stream",
     "text": [
      "{'score': 0.7857142857142857, 'prompt': 'Evaluate the response based on its alignment with the reference text and determine if it is correct. Consider the accuracy of the information, the relevance of the details provided, and any factual inaccuracies. Ensure that specific dates or timeframes mentioned in the reference are present in the response, as their absence can lead to misalignment. Emphasize the importance of verifying that all critical details, such as dates, are included to ensure full alignment with the reference. Provide a reason for your evaluation and assign a verdict: 1 if the response is correct and aligns well with the reference, and 0 if there are significant inaccuracies, missing critical details like dates, or misalignments.', 'metric': 'answer_correctness', 'initial_prompt': 'Evaluate the response based on its alignment with the reference text and determine if it is correct. Consider the accuracy of the information, the relevance of the details provided, and any factual inaccuracies. Ensure that specific dates or timeframes mentioned in the reference are present in the response, as their absence can lead to misalignment. Emphasize the importance of verifying that all critical details, such as dates, are included to ensure full alignment with the reference. Provide a reason for your evaluation and assign a verdict: 1 if the response is correct and aligns well with the reference, and 0 if there are significant inaccuracies, missing critical details like dates, or misalignments.', 'final_prompt': 'Evaluate the response based on its alignment with the reference text and determine if it is correct. Consider the accuracy of the information, the relevance of the details provided, and any factual inaccuracies. Ensure that specific dates or timeframes mentioned in the reference are present in the response, as their absence can lead to misalignment. Emphasize the importance of verifying that all critical details, such as dates, are included to ensure full alignment with the reference. Provide a reason for your evaluation and assign a verdict: 1 if the response is correct and aligns well with the reference, and 0 if there are significant inaccuracies, missing critical details like dates, or misalignments.', 'llm': 'text-embedding-3-small', 'embedding_model': True, 'dynamic_retrieval': True, 'search_type': 'similarity'}\n"
     ]
    },
    {
     "name": "stderr",
     "output_type": "stream",
     "text": [
      "\n"
     ]
    }
   ],
   "source": [
    "config ={\n",
    "    \n",
    "    \"test_data\":\"./datasets/dataset_v4_test.json\",\n",
    "    \"train_data\":\"./datasets/dataset_v4_training_annotated_full.json\",\n",
    "    \"llm\":llm_4o,\n",
    "    \"embedding_model\":langchain_embeddings,\n",
    "    \"prompt_optimisation\":False,\n",
    "    \"dynamic_retrieval\": True,\n",
    "    \"search_type\": \"similarity\",\n",
    "    \"num_train_samples\":20,\n",
    "    \"batch_size\":12,\n",
    "    \"seed\":42,\n",
    "    }\n",
    "\n",
    "result = await run_evaluation(**config)\n",
    "print(result)"
   ]
  },
  {
   "cell_type": "code",
   "execution_count": 12,
   "id": "2afa5dca-572c-46dc-9351-7f2709298b20",
   "metadata": {},
   "outputs": [],
   "source": [
    "save_result(result)"
   ]
  },
  {
   "cell_type": "markdown",
   "id": "f812065d-6340-489e-a593-52a3a09c014a",
   "metadata": {},
   "source": [
    "Evaluate the provided response based on its accuracy and relevance to the reference text. Given the user_input, reference, and response, assign a verdict of 1 for correct and relevant responses, and 0 for those that contain factual inaccuracies or significant deviations. Clearly define the criteria for accuracy and relevance, emphasizing the importance of specific factual details, such as dates. Identify and highlight any factual inaccuracies in the response, even if the overall content appears relevant and accurate. Additionally, provide a nuanced evaluation by considering the completeness of the information presented, rather than solely focusing on alignment with the reference."
   ]
  },
  {
   "cell_type": "code",
   "execution_count": 11,
   "id": "644a59af-fe5c-4c7e-a423-e119a902914e",
   "metadata": {},
   "outputs": [
    {
     "data": {
      "text/plain": [
       "{'score': 0.6567164179104478,\n",
       " 'prompt': 'Given the user_input, reference and response. Is the response correct compared with the reference',\n",
       " 'metric': 'answer_correctness',\n",
       " 'initial_prompt': 'Given the user_input, reference and response. Is the response correct compared with the reference',\n",
       " 'final_prompt': 'Given the user_input, reference and response. Is the response correct compared with the reference',\n",
       " 'llm': 'text-embedding-3-small',\n",
       " 'embedding_model': None,\n",
       " 'dynamic_retrieval': False,\n",
       " 'search_type': None}"
      ]
     },
     "execution_count": 11,
     "metadata": {},
     "output_type": "execute_result"
    }
   ],
   "source": [
    "result"
   ]
  },
  {
   "cell_type": "code",
   "execution_count": 82,
   "id": "e3ca18b2-6b2b-4c15-b27e-05315f4cb16b",
   "metadata": {},
   "outputs": [],
   "source": [
    "save_result(result)"
   ]
  },
  {
   "cell_type": "markdown",
   "id": "35ec84a3-814d-4183-ba34-4b4e1ce8e761",
   "metadata": {},
   "source": [
    "## Analysis"
   ]
  },
  {
   "cell_type": "code",
   "execution_count": 13,
   "id": "dcd6bad0-98d5-4555-8047-3fca0f3e145e",
   "metadata": {},
   "outputs": [
    {
     "ename": "FileNotFoundError",
     "evalue": "[Errno 2] No such file or directory: 'train_vectors.json'",
     "output_type": "error",
     "traceback": [
      "\u001b[0;31m---------------------------------------------------------------------------\u001b[0m",
      "\u001b[0;31mFileNotFoundError\u001b[0m                         Traceback (most recent call last)",
      "Cell \u001b[0;32mIn[13], line 2\u001b[0m\n\u001b[1;32m      1\u001b[0m \u001b[38;5;28;01mimport\u001b[39;00m \u001b[38;5;21;01mjson\u001b[39;00m\n\u001b[0;32m----> 2\u001b[0m data \u001b[38;5;241m=\u001b[39m json\u001b[38;5;241m.\u001b[39mload(\u001b[38;5;28;43mopen\u001b[39;49m\u001b[43m(\u001b[49m\u001b[38;5;124;43m\"\u001b[39;49m\u001b[38;5;124;43mtrain_vectors.json\u001b[39;49m\u001b[38;5;124;43m\"\u001b[39;49m\u001b[43m)\u001b[49m)\n",
      "File \u001b[0;32m/opt/homebrew/Caskroom/miniforge/base/envs/ragas/lib/python3.9/site-packages/IPython/core/interactiveshell.py:310\u001b[0m, in \u001b[0;36m_modified_open\u001b[0;34m(file, *args, **kwargs)\u001b[0m\n\u001b[1;32m    303\u001b[0m \u001b[38;5;28;01mif\u001b[39;00m file \u001b[38;5;129;01min\u001b[39;00m {\u001b[38;5;241m0\u001b[39m, \u001b[38;5;241m1\u001b[39m, \u001b[38;5;241m2\u001b[39m}:\n\u001b[1;32m    304\u001b[0m     \u001b[38;5;28;01mraise\u001b[39;00m \u001b[38;5;167;01mValueError\u001b[39;00m(\n\u001b[1;32m    305\u001b[0m         \u001b[38;5;124mf\u001b[39m\u001b[38;5;124m\"\u001b[39m\u001b[38;5;124mIPython won\u001b[39m\u001b[38;5;124m'\u001b[39m\u001b[38;5;124mt let you open fd=\u001b[39m\u001b[38;5;132;01m{\u001b[39;00mfile\u001b[38;5;132;01m}\u001b[39;00m\u001b[38;5;124m by default \u001b[39m\u001b[38;5;124m\"\u001b[39m\n\u001b[1;32m    306\u001b[0m         \u001b[38;5;124m\"\u001b[39m\u001b[38;5;124mas it is likely to crash IPython. If you know what you are doing, \u001b[39m\u001b[38;5;124m\"\u001b[39m\n\u001b[1;32m    307\u001b[0m         \u001b[38;5;124m\"\u001b[39m\u001b[38;5;124myou can use builtins\u001b[39m\u001b[38;5;124m'\u001b[39m\u001b[38;5;124m open.\u001b[39m\u001b[38;5;124m\"\u001b[39m\n\u001b[1;32m    308\u001b[0m     )\n\u001b[0;32m--> 310\u001b[0m \u001b[38;5;28;01mreturn\u001b[39;00m \u001b[43mio_open\u001b[49m\u001b[43m(\u001b[49m\u001b[43mfile\u001b[49m\u001b[43m,\u001b[49m\u001b[43m \u001b[49m\u001b[38;5;241;43m*\u001b[39;49m\u001b[43margs\u001b[49m\u001b[43m,\u001b[49m\u001b[43m \u001b[49m\u001b[38;5;241;43m*\u001b[39;49m\u001b[38;5;241;43m*\u001b[39;49m\u001b[43mkwargs\u001b[49m\u001b[43m)\u001b[49m\n",
      "\u001b[0;31mFileNotFoundError\u001b[0m: [Errno 2] No such file or directory: 'train_vectors.json'"
     ]
    }
   ],
   "source": [
    "import json\n",
    "data = json.load(open(\"train_vectors.json\"))"
   ]
  },
  {
   "cell_type": "code",
   "execution_count": null,
   "id": "f1fc6f07-ff57-4310-b1bd-c3f21c012644",
   "metadata": {},
   "outputs": [],
   "source": [
    "train_data = Dataset.from_list(data)"
   ]
  },
  {
   "cell_type": "code",
   "execution_count": 14,
   "id": "50128236-223a-43fe-bbae-410a7e56459d",
   "metadata": {},
   "outputs": [
    {
     "ename": "NameError",
     "evalue": "name 'train_data' is not defined",
     "output_type": "error",
     "traceback": [
      "\u001b[0;31m---------------------------------------------------------------------------\u001b[0m",
      "\u001b[0;31mNameError\u001b[0m                                 Traceback (most recent call last)",
      "Cell \u001b[0;32mIn[14], line 1\u001b[0m\n\u001b[0;32m----> 1\u001b[0m \u001b[38;5;28mlen\u001b[39m(\u001b[43mtrain_data\u001b[49m)\n",
      "\u001b[0;31mNameError\u001b[0m: name 'train_data' is not defined"
     ]
    }
   ],
   "source": [
    "len(train_data)"
   ]
  },
  {
   "cell_type": "code",
   "execution_count": 17,
   "id": "ba1492f8-fee1-4f09-8558-a526d3ce59b0",
   "metadata": {},
   "outputs": [],
   "source": [
    "from scripts.utils import stratified_sample_no_duplicates"
   ]
  },
  {
   "cell_type": "code",
   "execution_count": 18,
   "id": "e4105e66-5207-4a37-8a35-42f5be82a6dc",
   "metadata": {},
   "outputs": [],
   "source": [
    "batch_data = stratified_sample_no_duplicates(train_data,20,target_column='qdrant',seed=42)\n"
   ]
  },
  {
   "cell_type": "code",
   "execution_count": null,
   "id": "468ee199-869f-4cd7-8aa3-fbf65d7678f0",
   "metadata": {},
   "outputs": [],
   "source": [
    "[1, 4, 6, 7, 10, 13]\n"
   ]
  },
  {
   "cell_type": "code",
   "execution_count": 27,
   "id": "da0179a4-92c5-419d-94b3-a9d45a590f48",
   "metadata": {},
   "outputs": [
    {
     "data": {
      "text/plain": [
       "{'input': {'reference': \"The fall of the Qing Dynasty was influenced by a combination of internal and external factors. Internally, the dynasty faced significant corruption, inefficiency, and a lack of modernization within its government and military. The population was discontented due to heavy taxation, land shortages, and famines, which led to widespread unrest and uprisings such as the Taiping Rebellion. Externally, the Qing Dynasty was weakened by foreign invasions and unequal treaties imposed by Western powers and Japan, which eroded its sovereignty and economic stability. The Opium Wars and the subsequent Treaty of Nanking, for example, forced China to cede Hong Kong to Britain and open up several ports to foreign trade, undermining its control over its own economy. Additionally, the failure to successfully reform and modernize in response to these challenges further contributed to the dynasty's decline, culminating in the 1911 Revolution, which ultimately led to the abdication of the last emperor, Puyi, and the establishment of the Republic of China.\",\n",
       "  'response': '# The Fall of the Qing Dynasty: A Perfect Storm of Challenges\\nThe collapse of the Qing Dynasty was not the result of a single event but rather a confluence of internal weaknesses and external pressures that together spelled the end of over two centuries of imperial rule in China. Here’s a closer look at the main factors that led to its downfall:\\n\\n## Internal Struggles\\n- **Corruption and Inefficiency:** The Qing government was plagued by corruption and inefficiency, which eroded public trust and weakened its ability to govern effectively. Imagine a ship with a leaky hull—no matter how grand it appears, it’s doomed to sink without repair.\\n- **Social Unrest:** Heavy taxation, land shortages, and famines left the population discontented and desperate. This widespread dissatisfaction fueled uprisings like the Taiping Rebellion, which further destabilized the dynasty.\\n- **Lack of Modernization:** While the world was rapidly industrializing, the Qing Dynasty failed to modernize its military and infrastructure, leaving it vulnerable to both internal and external threats.\\n\\n## External Pressures\\n- **Foreign Invasions and Unequal Treaties:** The Qing Dynasty faced invasions and was forced into unequal treaties by Western powers and Japan. These agreements, such as the Treaty of Nanking, stripped China of its sovereignty and economic control, much like a boxer forced to fight with one hand tied behind his back.\\n- **The Opium Wars:** These conflicts with Britain not only resulted in territorial losses, like the cession of Hong Kong, but also opened China to foreign exploitation, further weakening its economy and political standing.\\n\\n## The Final Blow: The 1912 Revolution\\n- **Failure to Reform:** Despite the mounting challenges, the Qing Dynasty’s inability to implement successful reforms sealed its fate. The 1912 Revolution was the final nail in the coffin, leading to the abdication of the last emperor, Puyi, and the birth of the Republic of China.\\n\\nIn essence, the fall of the Qing Dynasty was a dramatic tale of a once-mighty empire brought low by its own shortcomings and the relentless pressures of a changing world.',\n",
       "  'user_input': 'What were the main factors that led to the fall of the Qing Dynasty?'},\n",
       " 'output': {'reason': 'The response provides a detailed account of the factors leading to the fall of the Qing Dynasty, aligning closely with the reference. However, it includes some additional elaboration and metaphorical language that may not be necessary for a straightforward comparison.',\n",
       "  'verdict': 1},\n",
       " 'qdrant': 'FP',\n",
       " 'target': 0}"
      ]
     },
     "execution_count": 27,
     "metadata": {},
     "output_type": "execute_result"
    }
   ],
   "source": [
    "batch_data[13]"
   ]
  },
  {
   "cell_type": "code",
   "execution_count": 19,
   "id": "679e950a-693a-4354-92ac-462125fe0466",
   "metadata": {},
   "outputs": [],
   "source": [
    "from collections import Counter"
   ]
  },
  {
   "cell_type": "code",
   "execution_count": 20,
   "id": "b8b3aee4-8544-49bc-b943-9e1828fa8497",
   "metadata": {},
   "outputs": [
    {
     "data": {
      "text/plain": [
       "[('What were the main causes and outcomes of the Wars of the Roses?', 2),\n",
       " ('What is the historical significance of the Domesday Book?', 2),\n",
       " ('What were the key outcomes and significance of the Signing of the Maastricht Treaty?',\n",
       "  1),\n",
       " ('How was penicillin discovered and what impact did it have on medicine?', 1),\n",
       " ('What were the key events and outcomes of the Battle of Waterloo?', 1),\n",
       " ('What were the significant impacts of the Hiroshima and Nagasaki bombings during World War II?',\n",
       "  1),\n",
       " ('What were the key events and motivations that led to the formation of the World Trade Organization (WTO)?',\n",
       "  1),\n",
       " ('What was the Berlin Airlift and why was it significant in post-World War II history?',\n",
       "  1),\n",
       " ('What were the causes and consequences of the Chernobyl Disaster?', 1),\n",
       " ('What were the key factors and outcomes of the Battle of Stalingrad during World War II?',\n",
       "  1),\n",
       " ('What were the key factors that contributed to the success of the D-Day Invasion during World War II?',\n",
       "  1),\n",
       " ('What were the main factors that led to the fall of the Qing Dynasty?', 1),\n",
       " ('What were the key events and significance of the Battle of the Bulge during World War II?',\n",
       "  1)]"
      ]
     },
     "execution_count": 20,
     "metadata": {},
     "output_type": "execute_result"
    }
   ],
   "source": [
    "Counter([data['input']['user_input'] for data in batch_data]).most_common()"
   ]
  },
  {
   "cell_type": "code",
   "execution_count": 28,
   "id": "72c6f2f1-dd68-46a8-bdae-ae1970645e80",
   "metadata": {},
   "outputs": [],
   "source": [
    "train_dataset = Dataset.from_json(\"./datasets/dataset_v4_training.json\")\n"
   ]
  },
  {
   "cell_type": "code",
   "execution_count": 29,
   "id": "3a3df3d1-1ca8-4eba-aca1-2d195b5e75da",
   "metadata": {},
   "outputs": [],
   "source": [
    "search_input = 'What were the main factors that led to the fall of the Qing Dynasty?'"
   ]
  },
  {
   "cell_type": "code",
   "execution_count": 30,
   "id": "3a86439a-20ba-4bb8-9183-b71ff4d3954e",
   "metadata": {},
   "outputs": [],
   "source": [
    "for data in train_dataset:\n",
    "    if data['user_input'] == search_input:\n",
    "        break"
   ]
  },
  {
   "cell_type": "code",
   "execution_count": 31,
   "id": "03498b81-c177-4f74-9117-2d91bcd2e2ba",
   "metadata": {},
   "outputs": [
    {
     "data": {
      "text/plain": [
       "{'user_input': 'What were the main factors that led to the fall of the Qing Dynasty?',\n",
       " 'reference': \"The fall of the Qing Dynasty was influenced by a combination of internal and external factors. Internally, the dynasty faced significant corruption, inefficiency, and a lack of modernization within its government and military. The population was discontented due to heavy taxation, land shortages, and famines, which led to widespread unrest and uprisings such as the Taiping Rebellion. Externally, the Qing Dynasty was weakened by foreign invasions and unequal treaties imposed by Western powers and Japan, which eroded its sovereignty and economic stability. The Opium Wars and the subsequent Treaty of Nanking, for example, forced China to cede Hong Kong to Britain and open up several ports to foreign trade, undermining its control over its own economy. Additionally, the failure to successfully reform and modernize in response to these challenges further contributed to the dynasty's decline, culminating in the 1911 Revolution, which ultimately led to the abdication of the last emperor, Puyi, and the establishment of the Republic of China.\",\n",
       " 'term': 'Fall of the Qing Dynasty',\n",
       " 'response': '# The Fall of the Qing Dynasty: A Perfect Storm of Challenges\\nThe collapse of the Qing Dynasty was not the result of a single event but rather a confluence of internal weaknesses and external pressures that together spelled the end of over two centuries of imperial rule in China. Here’s a closer look at the main factors that led to its downfall:\\n\\n## Internal Struggles\\n- **Corruption and Inefficiency:** The Qing government was plagued by corruption and inefficiency, which eroded public trust and weakened its ability to govern effectively. Imagine a ship with a leaky hull—no matter how grand it appears, it’s doomed to sink without repair.\\n- **Social Unrest:** Heavy taxation, land shortages, and famines left the population discontented and desperate. This widespread dissatisfaction fueled uprisings like the Taiping Rebellion, which further destabilized the dynasty.\\n- **Lack of Modernization:** While the world was rapidly industrializing, the Qing Dynasty failed to modernize its military and infrastructure, leaving it vulnerable to both internal and external threats.\\n\\n## External Pressures\\n- **Foreign Invasions and Unequal Treaties:** The Qing Dynasty faced invasions and was forced into unequal treaties by Western powers and Japan. These agreements, such as the Treaty of Nanking, stripped China of its sovereignty and economic control, much like a boxer forced to fight with one hand tied behind his back.\\n- **The Opium Wars:** These conflicts with Britain not only resulted in territorial losses, like the cession of Hong Kong, but also opened China to foreign exploitation, further weakening its economy and political standing.\\n\\n## The Final Blow: The 1911 Revolution\\n- **Failure to Reform:** Despite the mounting challenges, the Qing Dynasty’s inability to implement successful reforms sealed its fate. The 1911 Revolution was the final nail in the coffin, leading to the abdication of the last emperor, Puyi, and the birth of the Republic of China.\\n\\nIn essence, the fall of the Qing Dynasty was a dramatic tale of a once-mighty empire brought low by its own shortcomings and the relentless pressures of a changing world.',\n",
       " 'errored_response': '# The Fall of the Qing Dynasty: A Perfect Storm of Challenges\\nThe collapse of the Qing Dynasty was not the result of a single event but rather a confluence of internal weaknesses and external pressures that together spelled the end of over two centuries of imperial rule in China. Here’s a closer look at the main factors that led to its downfall:\\n\\n## Internal Struggles\\n- **Corruption and Inefficiency:** The Qing government was plagued by corruption and inefficiency, which eroded public trust and weakened its ability to govern effectively. Imagine a ship with a leaky hull—no matter how grand it appears, it’s doomed to sink without repair.\\n- **Social Unrest:** Heavy taxation, land shortages, and famines left the population discontented and desperate. This widespread dissatisfaction fueled uprisings like the Taiping Rebellion, which further destabilized the dynasty.\\n- **Lack of Modernization:** While the world was rapidly industrializing, the Qing Dynasty failed to modernize its military and infrastructure, leaving it vulnerable to both internal and external threats.\\n\\n## External Pressures\\n- **Foreign Invasions and Unequal Treaties:** The Qing Dynasty faced invasions and was forced into unequal treaties by Western powers and Japan. These agreements, such as the Treaty of Nanking, stripped China of its sovereignty and economic control, much like a boxer forced to fight with one hand tied behind his back.\\n- **The Opium Wars:** These conflicts with Britain not only resulted in territorial losses, like the cession of Hong Kong, but also opened China to foreign exploitation, further weakening its economy and political standing.\\n\\n## The Final Blow: The 1912 Revolution\\n- **Failure to Reform:** Despite the mounting challenges, the Qing Dynasty’s inability to implement successful reforms sealed its fate. The 1912 Revolution was the final nail in the coffin, leading to the abdication of the last emperor, Puyi, and the birth of the Republic of China.\\n\\nIn essence, the fall of the Qing Dynasty was a dramatic tale of a once-mighty empire brought low by its own shortcomings and the relentless pressures of a changing world.',\n",
       " 'error_description': \"The errored response incorrectly states that the final blow was the '1912 Revolution' instead of the '1911 Revolution', introducing a subtle factual inaccuracy.\"}"
      ]
     },
     "execution_count": 31,
     "metadata": {},
     "output_type": "execute_result"
    }
   ],
   "source": [
    "data"
   ]
  },
  {
   "cell_type": "code",
   "execution_count": null,
   "id": "d2176130-ca3b-4fc9-bc40-35cb3b64e020",
   "metadata": {},
   "outputs": [],
   "source": []
  }
 ],
 "metadata": {
  "kernelspec": {
   "display_name": "ragas",
   "language": "python",
   "name": "ragas"
  },
  "language_info": {
   "codemirror_mode": {
    "name": "ipython",
    "version": 3
   },
   "file_extension": ".py",
   "mimetype": "text/x-python",
   "name": "python",
   "nbconvert_exporter": "python",
   "pygments_lexer": "ipython3",
   "version": "3.9.20"
  }
 },
 "nbformat": 4,
 "nbformat_minor": 5
}
