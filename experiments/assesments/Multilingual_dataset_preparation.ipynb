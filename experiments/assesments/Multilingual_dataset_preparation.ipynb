{
 "cells": [
  {
   "cell_type": "code",
   "execution_count": 37,
   "id": "17b3257b-c22d-4507-916b-2bb7cc998468",
   "metadata": {},
   "outputs": [],
   "source": [
    "import openai\n",
    "from openai import OpenAI\n",
    "from datasets import Dataset, load_dataset\n",
    "import backoff\n",
    "from tqdm import tqdm\n",
    "\n",
    "client = OpenAI()\n"
   ]
  },
  {
   "cell_type": "code",
   "execution_count": 38,
   "id": "c3995ecc-97e9-4909-aa9c-561cc5ad42ea",
   "metadata": {},
   "outputs": [],
   "source": [
    "def language_convert(text, language=\"hindi\"):\n",
    "\n",
    "    is_list = False\n",
    "    if isinstance(text, list):\n",
    "        text = \"\\n\".join(text)\n",
    "        is_list = True\n",
    "\n",
    "    response = llm(f\"convert following into {language}:{text}\")\n",
    "    return response if not is_list else [response]\n",
    "\n"
   ]
  },
  {
   "cell_type": "code",
   "execution_count": 39,
   "id": "1b86f0d7-13d7-4e0e-a0eb-098e7acf52b5",
   "metadata": {},
   "outputs": [],
   "source": [
    "@backoff.on_exception(backoff.expo, openai.APIError)\n",
    "def llm(prompt, **kwargs):\n",
    "    response = client.chat.completions.create(\n",
    "        model=kwargs.get(\"model\", \"gpt-4\"),\n",
    "        messages=[{\"role\": \"system\", \"content\": prompt}],\n",
    "        temperature=kwargs.get(\"temperature\", 0),\n",
    "        top_p=kwargs.get(\"top_p\", 1),\n",
    "        frequency_penalty=kwargs.get(\"frequency_penalty\", 0.0),\n",
    "        presence_penalty=kwargs.get(\"presence_penalty\", 0.0),\n",
    "        max_tokens=kwargs.get(\"max_tokens\", 4000),\n",
    "        n=kwargs.get(\"n\", 1),\n",
    "    )\n",
    "    return response.choices[0].message.content"
   ]
  },
  {
   "cell_type": "code",
   "execution_count": 40,
   "id": "5744d612-629b-4aaf-9fcd-a3ae38e30236",
   "metadata": {},
   "outputs": [],
   "source": [
    "def convert_dataset(dataset, lang=\"hindi\"):\n",
    "\n",
    "    for key in tqdm(dataset.features.keys()):\n",
    "        dataset = dataset.map(lambda ex: {key:language_convert(ex[key],lang)})\n",
    "\n",
    "    return dataset"
   ]
  },
  {
   "cell_type": "markdown",
   "id": "69b0877c-7085-411e-92aa-0caf1416c6b5",
   "metadata": {},
   "source": [
    "## Load dataset"
   ]
  },
  {
   "cell_type": "code",
   "execution_count": 16,
   "id": "786304b9-0b19-4486-aa58-e5ca580e7a0a",
   "metadata": {},
   "outputs": [
    {
     "name": "stderr",
     "output_type": "stream",
     "text": [
      "No config specified, defaulting to: amnesty_qa/english\n",
      "Found cached dataset amnesty_qa (/Users/shahules/.cache/huggingface/datasets/explodinggradients___amnesty_qa/english/1.0.0/061b5017d6cc681b4e33100596f256dc332ec9d306b7e6f05c48f1f0ecaa7aa0)\n",
      "100%|████████████████████████████████████████████████████| 1/1 [00:00<00:00, 216.30it/s]\n"
     ]
    }
   ],
   "source": [
    "english_dataset = load_dataset(\"explodinggradients/amnesty_qa\")[\"train\"]"
   ]
  },
  {
   "cell_type": "code",
   "execution_count": 41,
   "id": "db4a18e4-9af1-451d-b2f8-43d48273d929",
   "metadata": {},
   "outputs": [
    {
     "name": "stderr",
     "output_type": "stream",
     "text": [
      "  0%|                                                             | 0/4 [00:00<?, ?it/s]\n",
      "Map:   0%|                                                | 0/20 [00:00<?, ? examples/s]\u001b[A\n",
      "Map:   5%|██                                      | 1/20 [00:04<01:27,  4.62s/ examples]\u001b[A\n",
      "Map:  10%|████                                    | 2/20 [00:17<02:54,  9.67s/ examples]\u001b[A\n",
      "Map:  15%|██████                                  | 3/20 [00:27<02:48,  9.88s/ examples]\u001b[A\n",
      "Map:  20%|████████                                | 4/20 [00:37<02:38,  9.91s/ examples]\u001b[A\n",
      "Map:  25%|██████████                              | 5/20 [00:43<02:07,  8.48s/ examples]\u001b[A\n",
      "Map:  30%|████████████                            | 6/20 [00:53<02:04,  8.89s/ examples]\u001b[A\n",
      "Map:  35%|██████████████                          | 7/20 [01:07<02:15, 10.42s/ examples]\u001b[A\n",
      "Map:  40%|████████████████                        | 8/20 [01:19<02:11, 10.97s/ examples]\u001b[A\n",
      "Map:  45%|██████████████████                      | 9/20 [01:26<01:47,  9.81s/ examples]\u001b[A\n",
      "Map:  50%|███████████████████▌                   | 10/20 [01:36<01:37,  9.76s/ examples]\u001b[A\n",
      "Map:  55%|█████████████████████▍                 | 11/20 [01:44<01:25,  9.47s/ examples]\u001b[A\n",
      "Map:  60%|███████████████████████▍               | 12/20 [01:50<01:05,  8.20s/ examples]\u001b[A\n",
      "Map:  65%|█████████████████████████▎             | 13/20 [01:54<00:49,  7.02s/ examples]\u001b[A\n",
      "Map:  70%|███████████████████████████▎           | 14/20 [01:58<00:35,  5.96s/ examples]\u001b[A\n",
      "Map:  75%|█████████████████████████████▎         | 15/20 [02:11<00:41,  8.34s/ examples]\u001b[A\n",
      "Map:  80%|███████████████████████████████▏       | 16/20 [02:20<00:33,  8.28s/ examples]\u001b[A\n",
      "Map:  85%|█████████████████████████████████▏     | 17/20 [02:31<00:27,  9.32s/ examples]\u001b[A\n",
      "Map:  90%|███████████████████████████████████    | 18/20 [02:47<00:22, 11.24s/ examples]\u001b[A\n",
      "Map:  95%|█████████████████████████████████████  | 19/20 [02:58<00:11, 11.26s/ examples]\u001b[A\n",
      "Map: 100%|███████████████████████████████████████| 20/20 [03:05<00:00,  9.89s/ examples]\u001b[A\n",
      " 25%|█████████████                                       | 1/4 [03:05<09:16, 185.61s/it]\u001b[A\n",
      "Map:   0%|                                                | 0/20 [00:00<?, ? examples/s]\u001b[A\n",
      "Map:   5%|██                                      | 1/20 [01:31<29:02, 91.69s/ examples]\u001b[A\n",
      "Map:  10%|███▉                                   | 2/20 [03:47<35:13, 117.39s/ examples]\u001b[A\n",
      "Map:  15%|██████                                  | 3/20 [03:57<19:27, 68.68s/ examples]\u001b[A\n",
      "Map:  20%|████████                                | 4/20 [04:12<12:40, 47.55s/ examples]\u001b[A\n",
      "Map:  25%|██████████                              | 5/20 [04:46<10:37, 42.52s/ examples]\u001b[A\n",
      "Map:  30%|████████████                            | 6/20 [04:58<07:28, 32.02s/ examples]\u001b[A\n",
      "Map:  35%|██████████████                          | 7/20 [05:21<06:18, 29.10s/ examples]\u001b[A\n",
      "Map:  40%|████████████████                        | 8/20 [05:31<04:36, 23.03s/ examples]\u001b[A\n",
      "Map:  45%|██████████████████                      | 9/20 [05:40<03:26, 18.81s/ examples]\u001b[A\n",
      "Map:  50%|███████████████████▌                   | 10/20 [05:56<02:58, 17.86s/ examples]\u001b[A\n",
      "Map:  55%|█████████████████████▍                 | 11/20 [06:45<04:05, 27.32s/ examples]\u001b[A\n",
      "Map:  60%|███████████████████████▍               | 12/20 [07:07<03:25, 25.65s/ examples]\u001b[A\n",
      "Map:  65%|█████████████████████████▎             | 13/20 [07:12<02:16, 19.57s/ examples]\u001b[A\n",
      "Map:  70%|███████████████████████████▎           | 14/20 [07:24<01:42, 17.11s/ examples]\u001b[A\n",
      "Map:  75%|█████████████████████████████▎         | 15/20 [07:36<01:18, 15.78s/ examples]\u001b[A\n",
      "Map:  80%|███████████████████████████████▏       | 16/20 [09:23<02:52, 43.20s/ examples]\u001b[A\n",
      "Map:  85%|█████████████████████████████████▏     | 17/20 [09:55<01:59, 39.86s/ examples]\u001b[A\n",
      "Map:  90%|███████████████████████████████████    | 18/20 [10:27<01:14, 37.33s/ examples]\u001b[A\n",
      "Map:  95%|█████████████████████████████████████  | 19/20 [11:31<00:45, 45.34s/ examples]\u001b[A\n",
      "Map: 100%|███████████████████████████████████████| 20/20 [11:39<00:00, 34.21s/ examples]\u001b[A\n",
      " 50%|██████████████████████████                          | 2/4 [14:45<16:15, 487.96s/it]\u001b[A\n",
      "Map:   0%|                                                | 0/20 [00:00<?, ? examples/s]\u001b[A\n",
      "Map:   5%|█▉                                     | 1/20 [02:13<42:24, 133.92s/ examples]\u001b[A\n",
      "Map:  10%|███▌                                | 2/20 [45:23<7:53:29, 1578.30s/ examples]\u001b[A\n",
      "Map:  15%|█████▌                               | 3/20 [46:10<4:09:05, 879.14s/ examples]\u001b[A\n",
      "Map:  20%|███████▍                             | 4/20 [46:29<2:23:51, 539.45s/ examples]\u001b[A\n",
      "Map:  25%|█████████▎                           | 5/20 [49:41<1:43:36, 414.45s/ examples]\u001b[A\n",
      "Map:  30%|███████████                          | 6/20 [49:52<1:04:40, 277.18s/ examples]\u001b[A\n",
      "Map:  35%|█████████████▋                         | 7/20 [50:12<41:50, 193.10s/ examples]\u001b[A\n",
      "Map:  40%|███████████████▌                       | 8/20 [51:49<32:30, 162.52s/ examples]\u001b[A\n",
      "Map:  45%|█████████████████▌                     | 9/20 [52:09<21:37, 117.99s/ examples]\u001b[A\n",
      "Map:  50%|███████████████████▌                   | 10/20 [52:46<15:28, 92.88s/ examples]\u001b[A\n",
      "Map:  55%|████████████████████▉                 | 11/20 [56:42<20:30, 136.68s/ examples]\u001b[A\n",
      "Map:  60%|██████████████████████▊               | 12/20 [58:24<16:49, 126.19s/ examples]\u001b[A\n",
      "Map:  65%|█████████████████████████▎             | 13/20 [58:31<10:30, 90.12s/ examples]\u001b[A\n",
      "Map:  70%|███████████████████████████▎           | 14/20 [59:20<07:45, 77.59s/ examples]\u001b[A\n",
      "Map:  75%|███████████████████████████▊         | 15/20 [1:00:12<05:49, 69.92s/ examples]\u001b[A\n",
      "Map:  80%|████████████████████████████▊       | 16/20 [1:04:29<08:24, 126.10s/ examples]\u001b[A\n",
      "Map:  85%|██████████████████████████████▌     | 17/20 [1:07:24<07:02, 140.91s/ examples]\u001b[A\n",
      "Map:  90%|████████████████████████████████▍   | 18/20 [1:11:58<06:01, 180.88s/ examples]\u001b[A\n",
      "Map:  95%|██████████████████████████████████▏ | 19/20 [1:15:27<03:09, 189.39s/ examples]\u001b[A\n",
      "Map: 100%|████████████████████████████████████| 20/20 [1:15:35<00:00, 135.06s/ examples]\u001b[A\n",
      " 75%|████████████████████████████████████▊            | 3/4 [1:30:21<38:56, 2336.40s/it]\u001b[A\n",
      "Map:   0%|                                                | 0/20 [00:00<?, ? examples/s]\u001b[A\n",
      "Map:   5%|█▉                                     | 1/20 [02:05<39:35, 125.01s/ examples]\u001b[A\n",
      "Map:  10%|███▉                                   | 2/20 [04:06<36:54, 123.05s/ examples]\u001b[A\n",
      "Map:  15%|██████                                  | 3/20 [04:38<23:01, 81.28s/ examples]\u001b[A\n",
      "Map:  20%|████████                                | 4/20 [04:55<14:55, 55.95s/ examples]\u001b[A\n",
      "Map:  25%|██████████                              | 5/20 [06:05<15:17, 61.18s/ examples]\u001b[A\n",
      "Map:  30%|████████████                            | 6/20 [06:43<12:26, 53.30s/ examples]\u001b[A\n",
      "Map:  35%|██████████████                          | 7/20 [07:15<10:00, 46.18s/ examples]\u001b[A\n",
      "Map:  40%|████████████████                        | 8/20 [08:23<10:38, 53.19s/ examples]\u001b[A\n",
      "Map:  45%|██████████████████                      | 9/20 [10:45<14:49, 80.85s/ examples]\u001b[A\n",
      "Map:  50%|███████████████████▌                   | 10/20 [12:50<15:44, 94.50s/ examples]\u001b[A\n",
      "Map:  55%|█████████████████████▍                 | 11/20 [14:13<13:39, 91.01s/ examples]\u001b[A\n",
      "Map:  60%|███████████████████████▍               | 12/20 [14:46<09:47, 73.38s/ examples]\u001b[A\n",
      "Map:  65%|█████████████████████████▎             | 13/20 [15:25<07:21, 63.09s/ examples]\u001b[A\n",
      "Map:  70%|███████████████████████████▎           | 14/20 [17:03<07:21, 73.52s/ examples]\u001b[A\n",
      "Map:  75%|█████████████████████████████▎         | 15/20 [17:24<04:48, 57.71s/ examples]\u001b[A\n",
      "Map:  80%|███████████████████████████████▏       | 16/20 [19:38<05:22, 80.59s/ examples]\u001b[A\n",
      "Map:  85%|█████████████████████████████████▏     | 17/20 [20:48<03:52, 77.45s/ examples]\u001b[A\n",
      "Map:  90%|██████████████████████████████████▏   | 18/20 [47:58<18:08, 544.11s/ examples]\u001b[A\n",
      "Map:  95%|████████████████████████████████████  | 19/20 [50:50<07:12, 432.37s/ examples]\u001b[A\n",
      "Map: 100%|██████████████████████████████████████| 20/20 [51:53<00:00, 321.34s/ examples]\u001b[A\n",
      "100%|█████████████████████████████████████████████████| 4/4 [2:22:14<00:00, 2133.70s/it]\u001b[A\n"
     ]
    }
   ],
   "source": [
    "hindi_dataset=convert_dataset(english_dataset)"
   ]
  },
  {
   "cell_type": "code",
   "execution_count": 42,
   "id": "34620bf1-01bb-461b-9d65-7de1b5e0335d",
   "metadata": {},
   "outputs": [
    {
     "name": "stderr",
     "output_type": "stream",
     "text": [
      "Creating CSV from Arrow format: 100%|█████████████████████| 1/1 [00:00<00:00, 18.13ba/s]\n"
     ]
    },
    {
     "data": {
      "text/plain": [
       "133295"
      ]
     },
     "execution_count": 42,
     "metadata": {},
     "output_type": "execute_result"
    }
   ],
   "source": [
    "hindi_dataset.to_csv(\"/Users/shahules/Downloads/amnesty_qa_hindi.csv\")"
   ]
  },
  {
   "cell_type": "code",
   "execution_count": null,
   "id": "8d3340a4-8570-4750-b589-3f73943bd8d1",
   "metadata": {},
   "outputs": [],
   "source": []
  }
 ],
 "metadata": {
  "kernelspec": {
   "display_name": "ragas",
   "language": "python",
   "name": "ragas"
  },
  "language_info": {
   "codemirror_mode": {
    "name": "ipython",
    "version": 3
   },
   "file_extension": ".py",
   "mimetype": "text/x-python",
   "name": "python",
   "nbconvert_exporter": "python",
   "pygments_lexer": "ipython3",
   "version": "3.10.8"
  }
 },
 "nbformat": 4,
 "nbformat_minor": 5
}
