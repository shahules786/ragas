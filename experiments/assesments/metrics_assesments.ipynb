{
 "cells": [
  {
   "cell_type": "markdown",
   "id": "d341594d",
   "metadata": {},
   "source": [
    "## Logs\n",
    "- Faithfulness NLI\n",
    "    - Without CoT\n",
    "    - With CoT ( WIN)  \n",
    "    - WikiQA \n",
    "        - generated non factual answer for measuring faithfulness agreement.\n",
    "        - Kendall Score = 0.7\n",
    "    - HotPotQA\n",
    "        - Accuracy = 0.75 \n",
    "    - Possible Improvements \n",
    "        - improve statement generation\n",
    "\n",
    "- Relevance scores\n",
    "    - QGen method\n",
    "        - models tried : t5-base / gptneo-125M\n",
    "        - WikiQA\n",
    "            - Kendall score = 0.65\n",
    "            - observations : finetune model on prompt/answer pairs to improve performance.\n",
    "    - Cross-encoder method\n",
    "        - models tried : distilbert \n",
    "        - WikiQA\n",
    "            - kendall score = 0.63\n",
    "            "
   ]
  },
  {
   "cell_type": "code",
   "execution_count": 1,
   "id": "1a4c6d2b",
   "metadata": {},
   "outputs": [
    {
     "name": "stdout",
     "output_type": "stream",
     "text": [
      "The autoreload module is not an IPython extension.\n"
     ]
    }
   ],
   "source": [
    "%load_ext autoreload"
   ]
  },
  {
   "cell_type": "code",
   "execution_count": 2,
   "id": "7bfb2480",
   "metadata": {},
   "outputs": [
    {
     "name": "stderr",
     "output_type": "stream",
     "text": [
      "/opt/anaconda3/envs/ragas/lib/python3.10/site-packages/tqdm/auto.py:21: TqdmWarning: IProgress not found. Please update jupyter and ipywidgets. See https://ipywidgets.readthedocs.io/en/stable/user_install.html\n",
      "  from .autonotebook import tqdm as notebook_tqdm\n"
     ]
    }
   ],
   "source": [
    "import json\n",
    "from datasets import load_dataset\n",
    "import re\n",
    "import os\n",
    "import openai\n",
    "from tqdm import tqdm\n",
    "import numpy as np\n",
    "import random\n",
    "from scipy.stats import kendalltau, spearmanr"
   ]
  },
  {
   "cell_type": "code",
   "execution_count": 3,
   "id": "e4168502",
   "metadata": {},
   "outputs": [],
   "source": [
    "os.chdir(\"/Users/shahules/belar/src/\")"
   ]
  },
  {
   "cell_type": "markdown",
   "id": "03c2a602",
   "metadata": {},
   "source": [
    "## OpenAI API"
   ]
  },
  {
   "cell_type": "code",
   "execution_count": 4,
   "id": "8cd14a3d",
   "metadata": {},
   "outputs": [],
   "source": [
    "os.environ[\"OPENAI_API_KEY\"] = json.load(open(\"/Users/shahules/openai-key.json\"))[\n",
    "    \"ikka\"\n",
    "]"
   ]
  },
  {
   "cell_type": "code",
   "execution_count": 5,
   "id": "b3139189",
   "metadata": {},
   "outputs": [
    {
     "name": "stdout",
     "output_type": "stream",
     "text": [
      "{\n",
      "  \"role\": \"assistant\",\n",
      "  \"content\": \"How can I assist you today?\"\n",
      "}\n"
     ]
    }
   ],
   "source": [
    "import os\n",
    "import openai\n",
    "\n",
    "openai.api_key = os.getenv(\"OPENAI_API_KEY\")\n",
    "\n",
    "completion = openai.ChatCompletion.create(\n",
    "    model=\"gpt-3.5-turbo\",\n",
    "    messages=[\n",
    "        {\"role\": \"system\", \"content\": \"You are a helpful assistant.\"},\n",
    "    ],\n",
    ")\n",
    "\n",
    "print(completion.choices[0].message)"
   ]
  },
  {
   "cell_type": "code",
   "execution_count": 6,
   "id": "4bce4c53",
   "metadata": {},
   "outputs": [],
   "source": [
    "def llm2(prompt, **kwargs):\n",
    "    response = openai.ChatCompletion.create(\n",
    "        model=kwargs.get(\"model\", \"gpt-3.5-turbo\"),\n",
    "        messages=[{\"role\": \"system\", \"content\": prompt}],\n",
    "        temperature=kwargs.get(\"temperature\", 0),\n",
    "        top_p=kwargs.get(\"top_p\", 1),\n",
    "        frequency_penalty=kwargs.get(\"frequency_penalty\", 0.0),\n",
    "        presence_penalty=kwargs.get(\"presence_penalty\", 0.0),\n",
    "        max_tokens=kwargs.get(\"max_tokens\", 500),\n",
    "        n=kwargs.get(\"n\", 1),\n",
    "    )\n",
    "    return response\n",
    "\n",
    "\n",
    "def llm(prompt, **kwargs):\n",
    "    response = openai.Completion.create(\n",
    "        model=kwargs.get(\"model\", \"text-davinci-003\"),\n",
    "        prompt=prompt,\n",
    "        temperature=kwargs.get(\"temperature\", 0),\n",
    "        top_p=kwargs.get(\"top_p\", 1),\n",
    "        frequency_penalty=kwargs.get(\"frequency_penalty\", 0.0),\n",
    "        presence_penalty=kwargs.get(\"presence_penalty\", 0.0),\n",
    "        max_tokens=kwargs.get(\"max_tokens\", 500),\n",
    "        logprobs=kwargs.get(\"logprobs\", 0),\n",
    "        n=kwargs.get(\"n\", 1),\n",
    "    )\n",
    "    return response"
   ]
  },
  {
   "cell_type": "code",
   "execution_count": 7,
   "id": "4d9b4e31",
   "metadata": {},
   "outputs": [],
   "source": [
    "def json_logger(data, filename=\"nli_check\"):\n",
    "    output = json.load(open(filename + \".json\"))\n",
    "    output.append(data)\n",
    "    with open(filename + \".json\", \"w\") as file:\n",
    "        json.dump(output, file, indent=4)"
   ]
  },
  {
   "cell_type": "markdown",
   "id": "50add06b",
   "metadata": {},
   "source": [
    "## Datasets"
   ]
  },
  {
   "cell_type": "code",
   "execution_count": 10,
   "id": "f9f4280e",
   "metadata": {},
   "outputs": [
    {
     "name": "stdout",
     "output_type": "stream",
     "text": [
      "Downloading and preparing dataset None/None to /Users/shahules/.cache/huggingface/datasets/explodinggradients___parquet/explodinggradients--ragas-wikiqa-5b5116e5cb909aca/0.0.0/14a00e99c0d15a23649d0db8944380ac81082d4b021f398733dd84f3a6c569a7...\n"
     ]
    },
    {
     "name": "stderr",
     "output_type": "stream",
     "text": [
      "Downloading data files: 100%|████| 1/1 [00:00<00:00, 655.36it/s]\n",
      "Extracting data files: 100%|█████| 1/1 [00:00<00:00, 304.69it/s]\n",
      "                                                                \r"
     ]
    },
    {
     "name": "stdout",
     "output_type": "stream",
     "text": [
      "Dataset parquet downloaded and prepared to /Users/shahules/.cache/huggingface/datasets/explodinggradients___parquet/explodinggradients--ragas-wikiqa-5b5116e5cb909aca/0.0.0/14a00e99c0d15a23649d0db8944380ac81082d4b021f398733dd84f3a6c569a7. Subsequent calls will reuse this data.\n"
     ]
    },
    {
     "name": "stderr",
     "output_type": "stream",
     "text": [
      "100%|████████████████████████████| 1/1 [00:00<00:00, 178.25it/s]\n"
     ]
    }
   ],
   "source": [
    "wikiqa_ragas = load_dataset(\"explodinggradients/ragas-wikiqa\")"
   ]
  },
  {
   "cell_type": "markdown",
   "id": "a0e0148e",
   "metadata": {},
   "source": [
    "## Correlation"
   ]
  },
  {
   "cell_type": "code",
   "execution_count": 8,
   "id": "eca20daf",
   "metadata": {},
   "outputs": [],
   "source": [
    "def get_corr(targets, predictions):\n",
    "    scores = [kendalltau(x, y).correlation for x, y in zip(targets, predictions)]\n",
    "    return [score if not np.isnan(score) else 0 for score in scores]"
   ]
  },
  {
   "cell_type": "code",
   "execution_count": 41,
   "id": "25921447",
   "metadata": {},
   "outputs": [
    {
     "data": {
      "text/plain": [
       "[-1.0]"
      ]
     },
     "execution_count": 41,
     "metadata": {},
     "output_type": "execute_result"
    }
   ],
   "source": [
    "get_corr([[1,0]],[[0,1]])"
   ]
  },
  {
   "cell_type": "markdown",
   "id": "d5563146",
   "metadata": {},
   "source": [
    "## QA-QG paradigm\n",
    "- Generate question and answer pair from `generated answer`.\n",
    "- Given `context`, ask these questions\n",
    "- Verify answer correctness"
   ]
  },
  {
   "cell_type": "code",
   "execution_count": 11,
   "id": "f3e35532",
   "metadata": {},
   "outputs": [],
   "source": [
    "Question_generation = \"\"\"Given a text, extract {} noun phrases and create questions for each based on given text.\n",
    "text: Albert Einstein was a German-born theoretical physicist, widely acknowledged to be one of the greatest and most influential physicists of all time. Best known for developing the theory of relativity, he also made important contributions to the development of the theory of quantum mechanics.\n",
    "A: Germany\n",
    "Q: Where was Albert Einstein born?\n",
    "A: theory of relativity\n",
    "Q: What is Albert Einstein best known for?\n",
    "text: {}\n",
    "\"\"\"\n",
    "\n",
    "Question_answering = \"\"\"Given a text and set of questions, answer the questions\n",
    "text: Albert Einstein was a German-born theoretical physicist, widely acknowledged to be one of the greatest and most influential physicists of all time. Best known for developing the theory of relativity, he also made important contributions to the development of the theory of quantum mechanics.\n",
    "questions: Where was Albert Einstein born?\\n\\nWhat is Albert Einstein best known for?\n",
    "answers:Germany\\n\\ntheory of relativity\n",
    "text: {}\n",
    "questions:{}\n",
    "answers:\"\"\"\n",
    "\n",
    "Answer_verification = \"\"\"Given a set of questions, correct answer and student's answer return the number of questions incorrectly answered by student.\n",
    "Where was Albert Einstein born?\\nCorrect answer: Germany\\nStudent answer:India\\n\\n\n",
    "What is Albert Einstein best known for?\\nCorrect answer:  theory of relativity\\nStudent answer: theory of relativity\\n\\n\n",
    "Number of incorrect answers:1\n",
    "{}\n",
    "Number of incorrect answers:\"\"\""
   ]
  },
  {
   "cell_type": "code",
   "execution_count": 12,
   "id": "335081e3",
   "metadata": {},
   "outputs": [],
   "source": [
    "def QAQG_fun(question, context, answer):\n",
    "    \"\"\"\n",
    "    returns number of factual inconsistencies.\n",
    "    \"\"\"\n",
    "\n",
    "    def answer_ver(qstn, answer, cand):\n",
    "        return f\"{qstn}\\nCorrect answer: {answer}\\nStudent answer: {cand}\"\n",
    "\n",
    "    num = len(answer.split(\".\")) - 1\n",
    "    prompt = Question_generation.format(num, answer)\n",
    "    output = llm(prompt)\n",
    "    qa_pairs = [\n",
    "        re.sub(r\"A:|Q:\", \"\", x).strip()\n",
    "        for item in output[\"choices\"][0][\"text\"].strip().split(\"\\n\\n\")\n",
    "        for x in item.split(\"\\n\")\n",
    "    ]\n",
    "    qa_pairs = [tuple(qa_pairs[i : i + 2]) for i in range(0, len(qa_pairs), 2)]\n",
    "    print(qa_pairs)\n",
    "    questions = \"\\n\\n\".join([qstn for ans, qstn in qa_pairs])\n",
    "    prompt = Question_answering.format(context, questions)\n",
    "    answers = llm(prompt)[\"choices\"][0][\"text\"].split(\"\\n\\n\")\n",
    "\n",
    "    prompt = \"\\n\\n\".join(\n",
    "        [answer_ver(qstn, ans, cand) for (ans, qstn), cand in zip(qa_pairs, answers)]\n",
    "    )\n",
    "    output = llm(Answer_verification.format(prompt))[\"choices\"][0][\"text\"].strip()\n",
    "    return int(output)"
   ]
  },
  {
   "cell_type": "code",
   "execution_count": 20,
   "id": "b2642e5b",
   "metadata": {},
   "outputs": [],
   "source": [
    "answer = \"The actress who played Lolita, Sue Lyon, was 14 at the time of filming.\"\n",
    "question = \"What was the age of Sue Lyon when she played Lolita?\"\n",
    "context = \"\"\"\n",
    "Lolita is a 1962 psychological comedy-drama film[5] directed by Stanley Kubrick and based on the 1955 novel of the same title by Vladimir Nabokov, who is also credited with writing the screenplay. The film follows Humbert Humbert, a middle-aged literature lecturer who becomes sexually infatuated with Dolores Haze (nicknamed \"Lolita\"), a young adolescent girl. It stars James Mason, Shelley Winters, Peter Sellers and, as the titular character, Sue Lyon.\n",
    "\n",
    "Owing to restrictions imposed by the Motion Picture Production Code, the film toned down the most provocative aspects of the novel, sometimes leaving much to the audience's imagination. The actress who played Lolita, Sue Lyon, was 14 at the time of filming.\"\"\""
   ]
  },
  {
   "cell_type": "code",
   "execution_count": 17,
   "id": "26ca4af4",
   "metadata": {},
   "outputs": [
    {
     "name": "stdout",
     "output_type": "stream",
     "text": [
      "[('Sue Lyon', 'Who played the role of Lolita in the movie?')]\n"
     ]
    },
    {
     "data": {
      "text/plain": [
       "0"
      ]
     },
     "execution_count": 17,
     "metadata": {},
     "output_type": "execute_result"
    }
   ],
   "source": [
    "QAQG_fun(question, context, answer)"
   ]
  },
  {
   "cell_type": "code",
   "execution_count": 22,
   "id": "a6bdd767",
   "metadata": {},
   "outputs": [
    {
     "data": {
      "text/plain": [
       "<OpenAIObject chat.completion id=chatcmpl-7aiRcMcfrtt4jp5AK9PaIBMqFdlIB at 0x7f9b1b66e630> JSON: {\n",
       "  \"choices\": [\n",
       "    {\n",
       "      \"finish_reason\": \"stop\",\n",
       "      \"index\": 0,\n",
       "      \"message\": {\n",
       "        \"content\": \"A: Lolita\\nQ: What character did Sue Lyon play in the movie?\\nA: 14\\nQ: How old was Sue Lyon when she filmed Lolita?\",\n",
       "        \"role\": \"assistant\"\n",
       "      }\n",
       "    }\n",
       "  ],\n",
       "  \"created\": 1688985008,\n",
       "  \"id\": \"chatcmpl-7aiRcMcfrtt4jp5AK9PaIBMqFdlIB\",\n",
       "  \"model\": \"gpt-3.5-turbo-0613\",\n",
       "  \"object\": \"chat.completion\",\n",
       "  \"usage\": {\n",
       "    \"completion_tokens\": 35,\n",
       "    \"prompt_tokens\": 128,\n",
       "    \"total_tokens\": 163\n",
       "  }\n",
       "}"
      ]
     },
     "execution_count": 22,
     "metadata": {},
     "output_type": "execute_result"
    }
   ],
   "source": [
    "llm2([Question_generation.format(2, answer)])"
   ]
  },
  {
   "cell_type": "markdown",
   "id": "e2078ece",
   "metadata": {},
   "source": [
    "## G-Eval\n",
    "- Define criterions to evaluate model.\n",
    "- Normalize `score = prob(s) * s`"
   ]
  },
  {
   "cell_type": "code",
   "execution_count": 138,
   "id": "ca1c56d6",
   "metadata": {},
   "outputs": [],
   "source": [
    "relevence = \"\"\"\n",
    "Evaluation Criteria.\\n\n",
    "Relevance (1-5) - how relevant is the reply to the given question.\n",
    "1. Read the reply and compare it to the question. Check if the given reply\n",
    "actually answers the question, and if it presents them in a clear and logical order.\n",
    "2. The reply should include only required information to answer the question.\n",
    "3. Penalize replies that contain redundancies and excess information.\n",
    "4. Assign a score for Relevance on a scale of 1 to 5, where 1 is the lowest and\n",
    "5 is the highest based on the Evaluation Criteria.\n",
    "\n",
    "question:{}\n",
    "reply:{}\n",
    "score:\"\"\"\n",
    "\n",
    "faithfulness = \"\"\"\n",
    "Evaluation Criteria.\\n\n",
    "Faithfulness (1-5) - how factually consistant is the reply with the given context.\n",
    "1. Read the reply and compare it to the question. Check if the given reply\n",
    "actually answers the question correctly, and if the reply is factualy consistent with the context.\n",
    "2. Assign a score for faithfulness on a scale of 1 to 5, where 1 is the lowest and\n",
    "5 is the highest based on the Evaluation Criteria.\n",
    "\n",
    "context: {}\n",
    "question:{}\n",
    "reply:{}\n",
    "score:\"\"\""
   ]
  },
  {
   "cell_type": "code",
   "execution_count": 156,
   "id": "541c1423",
   "metadata": {},
   "outputs": [],
   "source": [
    "def gpt_faithfulness(question: list, context: list, answer: list):\n",
    "    prompt = [\n",
    "        faithfulness.format(c, q, a) for c, q, a in zip(question, context, answer)\n",
    "    ]\n",
    "    output = [output for output in llm(prompt)[\"choices\"]]\n",
    "    scores = [(out[\"text\"].strip()) for out in output]\n",
    "    scores = [\n",
    "        int(score) if score in [\"1\", \"2\", \"3\", \"4\", \"5\"] else 1 for score in scores\n",
    "    ]\n",
    "    return scores\n",
    "\n",
    "\n",
    "def gpt_relevance(question: list, answer: list):\n",
    "    prompt = [relevence.format(q, a) for q, a in zip(question, answer)]\n",
    "    output = [output for output in llm(prompt)[\"choices\"]]\n",
    "    scores = [(out[\"text\"].strip()) for out in output]\n",
    "    scores = [\n",
    "        int(score) if score in [\"1\", \"2\", \"3\", \"4\", \"5\"] else 1 for score in scores\n",
    "    ]\n",
    "    return scores"
   ]
  },
  {
   "cell_type": "code",
   "execution_count": 89,
   "id": "cd7fed9c",
   "metadata": {},
   "outputs": [],
   "source": [
    "def g_eval(question, context, answer):\n",
    "    prompt = relevence.format(question, answer)\n",
    "    output = llm(prompt)[\"choices\"][0]\n",
    "    prob = np.exp(sum(output[\"logprobs\"][\"token_logprobs\"]))\n",
    "    score = int(output[\"text\"].strip())\n",
    "    print(score)\n",
    "    return prob * score"
   ]
  },
  {
   "cell_type": "code",
   "execution_count": 90,
   "id": "35113558",
   "metadata": {},
   "outputs": [],
   "source": [
    "question = \"Which year did Lolita release?\"\n",
    "answer = \"Lolita film released in 1947.\""
   ]
  },
  {
   "cell_type": "code",
   "execution_count": 54,
   "id": "4e82d0df",
   "metadata": {},
   "outputs": [
    {
     "data": {
      "text/plain": [
       "5"
      ]
     },
     "execution_count": 54,
     "metadata": {},
     "output_type": "execute_result"
    }
   ],
   "source": [
    "gpt_relevance(question, answer)"
   ]
  },
  {
   "cell_type": "code",
   "execution_count": 151,
   "id": "a79b1780",
   "metadata": {},
   "outputs": [],
   "source": [
    "q, a, c = (\n",
    "    wikiqa_ragas[\"train\"][0][\"question\"],\n",
    "    wikiqa_ragas[\"train\"][0][\"generated_without_rag\"],\n",
    "    wikiqa_ragas[\"train\"][0][\"context\"],\n",
    ")"
   ]
  },
  {
   "cell_type": "code",
   "execution_count": 152,
   "id": "f25b046f",
   "metadata": {},
   "outputs": [
    {
     "data": {
      "text/plain": [
       "[4]"
      ]
     },
     "execution_count": 152,
     "metadata": {},
     "output_type": "execute_result"
    }
   ],
   "source": [
    "gpt_faithfulness([q], [c], [a])"
   ]
  },
  {
   "cell_type": "code",
   "execution_count": 91,
   "id": "e158274f",
   "metadata": {},
   "outputs": [
    {
     "data": {
      "text/plain": [
       "[4]"
      ]
     },
     "execution_count": 91,
     "metadata": {},
     "output_type": "execute_result"
    }
   ],
   "source": [
    "gpt_relevance([q], [a])"
   ]
  },
  {
   "cell_type": "markdown",
   "id": "6dce1baa",
   "metadata": {},
   "source": [
    "## Relevancy Score \n",
    "- Scores `answers` according to `prompt`\n"
   ]
  },
  {
   "cell_type": "markdown",
   "id": "75aa62eb",
   "metadata": {},
   "source": [
    "### QGen scoring method"
   ]
  },
  {
   "cell_type": "code",
   "execution_count": 35,
   "id": "cc263805",
   "metadata": {},
   "outputs": [],
   "source": [
    "from ragas.metrics.answer_relevance import QGen"
   ]
  },
  {
   "cell_type": "code",
   "execution_count": 36,
   "id": "38deaf06",
   "metadata": {},
   "outputs": [],
   "source": [
    "t5_qgen = QGen(\"t5-base\", \"cpu\")"
   ]
  },
  {
   "cell_type": "code",
   "execution_count": 146,
   "id": "45942810",
   "metadata": {},
   "outputs": [],
   "source": [
    "def predict_(examples):\n",
    "    scores = {}\n",
    "    questions = examples[\"question\"]\n",
    "    context = examples[\"context\"]\n",
    "    for col in COLUMNS:\n",
    "        passage = examples[col]\n",
    "        inputs = list(zip(questions, passage))\n",
    "        # scores[f\"{col}_relevance\"] = t5_qgen.predict(inputs, show_progress=False)\n",
    "        scores[f\"{col}_relevance\"] = gpt_faithfulness(questions, context, passage)\n",
    "    return scores"
   ]
  },
  {
   "cell_type": "markdown",
   "id": "b1410f3c",
   "metadata": {},
   "source": [
    "- We assume `generated_with_rag > correct_answer > incorrect_answer` for relevancy."
   ]
  },
  {
   "cell_type": "code",
   "execution_count": 142,
   "id": "ab00e4fe",
   "metadata": {},
   "outputs": [],
   "source": [
    "COLUMNS = [\"generated_with_rag\", \"correct_answer\", \"incorrect_answer\"]"
   ]
  },
  {
   "cell_type": "code",
   "execution_count": 139,
   "id": "e705767d",
   "metadata": {
    "scrolled": false
   },
   "outputs": [],
   "source": [
    "output = wikiqa_ragas[\"train\"].map(predict_relevance, batched=True, batch_size=10)"
   ]
  },
  {
   "cell_type": "code",
   "execution_count": null,
   "id": "3ab21cdf",
   "metadata": {},
   "outputs": [],
   "source": [
    "predictions = [[item[f\"{k}_relevance\"] for k in COLUMNS] for item in output]\n",
    "target = [[2, 1, 0] for i in range(len(output))]\n",
    "np.mean(get_corr(target, predictions))"
   ]
  },
  {
   "cell_type": "markdown",
   "id": "6b2c5e1c",
   "metadata": {},
   "source": []
  },
  {
   "cell_type": "markdown",
   "id": "608a7ddb",
   "metadata": {},
   "source": [
    "Relevance\n",
    "\n",
    "- 0.6337284370533437 for wikiQA gpt 3.5\n",
    "\n",
    "- 0.6831823238905629 For wikiwa t5"
   ]
  },
  {
   "cell_type": "markdown",
   "id": "89d8ccbc",
   "metadata": {},
   "source": [
    "## Faithfulness"
   ]
  },
  {
   "cell_type": "code",
   "execution_count": 157,
   "id": "2f26f435",
   "metadata": {},
   "outputs": [],
   "source": [
    "COLUMNS = [\"generated_with_rag\", \"correct_answer\", \"generated_without_rag\"]"
   ]
  },
  {
   "cell_type": "code",
   "execution_count": 158,
   "id": "a3a8fc48",
   "metadata": {},
   "outputs": [
    {
     "name": "stderr",
     "output_type": "stream",
     "text": [
      "          \r"
     ]
    }
   ],
   "source": [
    "output = wikiqa_ragas[\"train\"].map(predict_relevance, batched=True, batch_size=10)"
   ]
  },
  {
   "cell_type": "code",
   "execution_count": 159,
   "id": "57f0b521",
   "metadata": {},
   "outputs": [
    {
     "data": {
      "text/plain": [
       "0.48110338184466117"
      ]
     },
     "execution_count": 159,
     "metadata": {},
     "output_type": "execute_result"
    }
   ],
   "source": [
    "predictions = [[item[f\"{k}_facuality\"] for k in COLUMNS] for item in output]\n",
    "target = [[2, 1, 0] for i in range(len(output))]\n",
    "np.mean(get_corr(target, predictions))"
   ]
  },
  {
   "cell_type": "markdown",
   "id": "c10aee98",
   "metadata": {},
   "source": [
    "0.48110338184466117 for GPT3.5"
   ]
  },
  {
   "cell_type": "markdown",
   "id": "3d562351",
   "metadata": {},
   "source": [
    "### Cross encoder method"
   ]
  },
  {
   "cell_type": "code",
   "execution_count": 17,
   "id": "b6d76ae2",
   "metadata": {},
   "outputs": [],
   "source": [
    "from ragas.metrics.context_relevance import context_relavancy"
   ]
  },
  {
   "cell_type": "code",
   "execution_count": 24,
   "id": "bcb4e25f",
   "metadata": {},
   "outputs": [],
   "source": [
    "def predict_relevance(examples):\n",
    "    scores = {}\n",
    "    questions = examples[\"question\"]\n",
    "    for col in COLUMNS:\n",
    "        passage = examples[col]\n",
    "        inputs = list(zip(questions, passage))\n",
    "        scores[f\"{col}_relevance\"] = cross_encoder.predict(inputs, show_progress=False)\n",
    "    return scores"
   ]
  },
  {
   "cell_type": "code",
   "execution_count": null,
   "id": "36565a9d",
   "metadata": {},
   "outputs": [],
   "source": [
    "output = (\n",
    "    wikiqa_ragas[\"train\"]\n",
    "    .select(range(0, 10))\n",
    "    .map(predict_relevance, batched=True, batch_size=4)\n",
    ")"
   ]
  },
  {
   "cell_type": "code",
   "execution_count": null,
   "id": "ea3f0571",
   "metadata": {},
   "outputs": [],
   "source": [
    "predictions = [[item[f\"{k}_relevance\"] for k in COLUMNS] for item in output]\n",
    "target = [[2, 1, 0] for i in range(len(output))]\n",
    "get_tau(target, predictions)"
   ]
  },
  {
   "cell_type": "markdown",
   "id": "cefd9923",
   "metadata": {},
   "source": [
    "## Faithfulness on HotpotQA\n"
   ]
  },
  {
   "cell_type": "code",
   "execution_count": 134,
   "id": "2316c8dd",
   "metadata": {},
   "outputs": [],
   "source": [
    "import experimental"
   ]
  },
  {
   "cell_type": "code",
   "execution_count": 135,
   "id": "6cd24f8c",
   "metadata": {},
   "outputs": [
    {
     "data": {
      "text/plain": [
       "<module 'experimental' (namespace)>"
      ]
     },
     "execution_count": 135,
     "metadata": {},
     "output_type": "execute_result"
    }
   ],
   "source": [
    "from importlib import reload\n",
    "\n",
    "reload(experimental)"
   ]
  },
  {
   "cell_type": "code",
   "execution_count": 136,
   "id": "723e662a",
   "metadata": {},
   "outputs": [],
   "source": [
    "from experimental.nli import NLI"
   ]
  },
  {
   "cell_type": "code",
   "execution_count": 10,
   "id": "f3f9bd55",
   "metadata": {},
   "outputs": [
    {
     "name": "stderr",
     "output_type": "stream",
     "text": [
      "Found cached dataset hotpot_qa (/Users/shahules/.cache/huggingface/datasets/hotpot_qa/distractor/1.0.0/133b9501f892e5193babbad937bee3b4899deb4691ef4d791e6ac0111c875bb5)\n"
     ]
    }
   ],
   "source": [
    "hotpot_qa = load_dataset(\n",
    "    \"hotpot_qa\",\n",
    "    \"distractor\",\n",
    "    split=\"validation\",\n",
    ").select(range(0, 20))"
   ]
  },
  {
   "cell_type": "code",
   "execution_count": 138,
   "id": "2ab98cf5",
   "metadata": {},
   "outputs": [],
   "source": [
    "false_answer_prompt = \"\"\"Given a question and correct answer, generate an incorrect answer\n",
    "question: Were Scott Derrickson and Ed Wood of the same nationality?\n",
    "correct answer: yes\n",
    "answer: no\n",
    "question: {}\n",
    "correct answer: {}\n",
    "answer:\"\"\"\n",
    "\n",
    "\n",
    "def generate_false_answers(question, answer):\n",
    "    answer = llm(false_answer_prompt.format(question, answer))[\"choices\"][0][\n",
    "        \"text\"\n",
    "    ].strip()\n",
    "    return {\"false_answer\": answer}"
   ]
  },
  {
   "cell_type": "code",
   "execution_count": 139,
   "id": "542bdb71",
   "metadata": {},
   "outputs": [
    {
     "name": "stderr",
     "output_type": "stream",
     "text": [
      "Loading cached processed dataset at /Users/shahules/.cache/huggingface/datasets/hotpot_qa/distractor/1.0.0/133b9501f892e5193babbad937bee3b4899deb4691ef4d791e6ac0111c875bb5/cache-593e03a966a13563.arrow\n"
     ]
    }
   ],
   "source": [
    "hotpot_qa = hotpot_qa.map(lambda x: generate_false_answers(x[\"question\"], x[\"answer\"]))"
   ]
  },
  {
   "cell_type": "code",
   "execution_count": 53,
   "id": "0f8682fb",
   "metadata": {},
   "outputs": [],
   "source": [
    "def get_context(item):\n",
    "    titles, ids = item[\"supporting_facts\"].values()\n",
    "    title_ids = [item[\"context\"][\"title\"].index(i) for i in titles]\n",
    "    sentences = [\n",
    "        item[\"context\"][\"sentences\"][i][k]\n",
    "        for i, k in zip(title_ids, item[\"supporting_facts\"][\"sent_id\"])\n",
    "    ]\n",
    "    orig_context = \" \".join(sentences)\n",
    "    return {\"answer_context\": orig_context}"
   ]
  },
  {
   "cell_type": "code",
   "execution_count": 54,
   "id": "a94511fb",
   "metadata": {},
   "outputs": [
    {
     "name": "stderr",
     "output_type": "stream",
     "text": [
      "                                                                                        \r"
     ]
    }
   ],
   "source": [
    "hotpot_qa = hotpot_qa.map(lambda x: get_context(x), batched=False)"
   ]
  },
  {
   "cell_type": "code",
   "execution_count": 142,
   "id": "84f39785",
   "metadata": {},
   "outputs": [],
   "source": [
    "def predict_faithfulness(examples, scoring_fun=NLI.score):\n",
    "    scores = {}\n",
    "    questions = examples[\"question\"]\n",
    "    contexts = examples[\"answer_context\"]\n",
    "    for col in COLUMNS:\n",
    "        answers = examples[col]\n",
    "        while True:\n",
    "            try:\n",
    "                scores[f\"{col}_factual\"] = scoring_fun(questions, contexts, answers)\n",
    "            except Exception as e:\n",
    "                print(e)\n",
    "                continue\n",
    "            break\n",
    "    return scores"
   ]
  },
  {
   "cell_type": "code",
   "execution_count": 143,
   "id": "b75f9dc1",
   "metadata": {},
   "outputs": [
    {
     "name": "stderr",
     "output_type": "stream",
     "text": [
      "Loading cached processed dataset at /Users/shahules/.cache/huggingface/datasets/hotpot_qa/distractor/1.0.0/133b9501f892e5193babbad937bee3b4899deb4691ef4d791e6ac0111c875bb5/cache-d51f81546b2858f1.arrow\n"
     ]
    }
   ],
   "source": [
    "COLUMNS = [\"answer\", \"false_answer\"]\n",
    "hotpot_qa = hotpot_qa.map(predict_faithfulness, batched=True, batch_size=8)"
   ]
  },
  {
   "cell_type": "code",
   "execution_count": 164,
   "id": "ca2cd14d",
   "metadata": {},
   "outputs": [
    {
     "name": "stdout",
     "output_type": "stream",
     "text": [
      "Accuracy 0.75\n"
     ]
    }
   ],
   "source": [
    "predictions = [[item[f\"{k}_factual\"] for k in COLUMNS] for item in hotpot_qa]\n",
    "target = [[1, 0] for i in range(len(hotpot_qa))]\n",
    "incorrect = [\n",
    "    idx for idx, item in enumerate(predictions) if all(np.argsort(item) != [1.0, 0.0])\n",
    "]\n",
    "print(\"Accuracy\", 1 - (len(incorrect) / len(target)))"
   ]
  },
  {
   "cell_type": "markdown",
   "id": "e8f03a06",
   "metadata": {},
   "source": [
    "## Context relevancy"
   ]
  },
  {
   "cell_type": "code",
   "execution_count": 11,
   "id": "5c3db326",
   "metadata": {},
   "outputs": [
    {
     "name": "stderr",
     "output_type": "stream",
     "text": [
      "                                                                                        \r"
     ]
    }
   ],
   "source": [
    "def get_all_facts(item):\n",
    "    all_facts = item[\"context\"][\"sentences\"]\n",
    "    all_facts = [sent for para in all_facts for sent in para]\n",
    "    return {\"full_context\": \"\".join(all_facts)}\n",
    "\n",
    "\n",
    "hotpot_qa = hotpot_qa.map(get_all_facts, batched=False)"
   ]
  },
  {
   "cell_type": "code",
   "execution_count": 73,
   "id": "f26aec50",
   "metadata": {},
   "outputs": [],
   "source": [
    "question_ex1 = \"Were Scott Derrickson and Ed Wood of the same nationality?\"\n",
    "context_ex1 = 'Scott Derrickson (born July 16, 1966) is an American director, screenwriter and producer He lives in Los Angeles, California He is best known for directing horror films such as \"Sinister\", \"The Exorcism of Emily Rose\", and \"Deliver Us From Evil\", as well as the 2016 Marvel Cinematic Universe installment, \"Doctor Strange\"Tyler Bates is an American musician, music producer, and composer for films, television, and video games. Adam Collis is an American filmmaker and actor.Conrad Brooks is an American actor.Edward Davis Wood Jr. (October 10, 1924 – December 10, 1978) was an American filmmaker, actor, writer, producer, and director.'\n",
    "answer_ex1 = \"Scott Derrickson (born July 16, 1966) is an American director, screenwriter and producer. \\nEdward Davis Wood Jr. (October 10, 1924 – December 10, 1978) was an American filmmaker, actor, writer, producer, and director.\""
   ]
  },
  {
   "cell_type": "code",
   "execution_count": 16,
   "id": "5f0b7d30",
   "metadata": {},
   "outputs": [],
   "source": [
    "Context_relevency = \"\"\"\n",
    "Task: Candidate sentence extraction.\n",
    "Given the question and context, extract minimum number of sentences from context required to answer the question. If the context do not contain information required to answer the question return \"No candidate sentences found\".\n",
    "\n",
    "question: Which equation is known as worlds most famous equation?\n",
    "context:\\nAlbert Einstein (14 March 1879 – 18 April 1955) was a German-born theoretical physicist,[5] widely ranked among the greatest and most influential scientists of all time. Best known for developing the theory of relativity, he also made important contributions to quantum mechanics, and was thus a central figure in the revolutionary reshaping of the scientific understanding of nature that modern physics accomplished in the first decades of the twentieth century.\n",
    "His mass–energy equivalence formula E = mc2, which arises from relativity theory, has been called \"the world's most famous equation\".\n",
    "sentences:His mass–energy equivalence formula E = mc2, which arises from relativity theory, has been called \"the world's most famous equation\".\n",
    "\n",
    "question: Were Scott Derrickson and Ed Wood of the same nationality?\n",
    "context :\\nScott Derrickson (born July 16, 1966) is an American director, screenwriter and producer He lives in Los Angeles, California He is best known for directing horror films such as \"Sinister\", \"The Exorcism of Emily Rose\", and \"Deliver Us From Evil\", as well as the 2016 Marvel Cinematic Universe installment, \"Doctor Strange\"Tyler Bates is an American musician, music producer, and composer for films, television, and video games. Adam Collis is an American filmmaker and actor.Conrad Brooks is an American actor.Edward Davis Wood Jr. (October 10, 1924 – December 10, 1978) was an American filmmaker, actor, writer, producer, and director.\n",
    "Now given a question and context, extract the minimum number of sentences from the given context required to answer the question completely. \n",
    "sentences:Scott Derrickson (born July 16, 1966) is an American director, screenwriter and producer. Edward Davis Wood Jr. (October 10, 1924 – December 10, 1978) was an American filmmaker, actor, writer, producer, and director.\n",
    "\n",
    "question:{}\n",
    "context:\\n{}\n",
    "sentences:\"\"\""
   ]
  },
  {
   "cell_type": "code",
   "execution_count": 179,
   "id": "f649eaf8",
   "metadata": {},
   "outputs": [],
   "source": [
    "i = 15\n",
    "q, c = hotpot_qa[i][\"question\"], hotpot_qa[i][\"full_context\"]"
   ]
  },
  {
   "cell_type": "code",
   "execution_count": 183,
   "id": "b9f5e0b4",
   "metadata": {},
   "outputs": [],
   "source": [
    "c = \"A black hole is a region of spacetime where gravity is so strong that nothing, including light or other electromagnetic waves, has enough energy to escape it.[2] The theory of general relativity predicts that a sufficiently compact mass can deform spacetime to form a black hole.[3][4] The boundary of no escape is called the event horizon. Although it has a great effect on the fate and circumstances of an object crossing it, it has no locally detectable features according to general relativity.[5] In many ways, a black hole acts like an ideal black body, as it reflects no light\""
   ]
  },
  {
   "cell_type": "code",
   "execution_count": 349,
   "id": "b711de8a",
   "metadata": {},
   "outputs": [],
   "source": [
    "q = \"what is general relativity?\"\n",
    "n = 2"
   ]
  },
  {
   "cell_type": "code",
   "execution_count": 300,
   "id": "11a83f10",
   "metadata": {},
   "outputs": [],
   "source": [
    "import wikipediaapi\n",
    "\n",
    "wiki_wiki = wikipediaapi.Wikipedia(\n",
    "    language=\"en\", extract_format=wikipediaapi.ExtractFormat.WIKI\n",
    ")\n",
    "\n",
    "p_wiki = wiki_wiki.page(\"Black hole\")\n",
    "\n",
    "\n",
    "def get_page_section(page, section):\n",
    "    all_text = \"\"\n",
    "    p_wiki = wiki_wiki.page(page)\n",
    "    sections = p_wiki.sections_by_title(section)\n",
    "    for s in sections:\n",
    "        all_text += s.full_text()\n",
    "    return all_text"
   ]
  },
  {
   "cell_type": "code",
   "execution_count": 21,
   "id": "2755ba79",
   "metadata": {},
   "outputs": [],
   "source": [
    "from typing import List\n",
    "from itertools import combinations\n",
    "from sentence_transformers import CrossEncoder\n",
    "\n",
    "cross_encoder = CrossEncoder(\"cross-encoder/stsb-TinyBERT-L-4\")\n",
    "\n",
    "\n",
    "def sent_tokenize(sent):\n",
    "    return [s[:-1] if s.endswith(\".\") else s for s in sent.strip().split(\". \")]\n",
    "\n",
    "\n",
    "class SentenceAgreement:\n",
    "    def __init__(self, scoring=\"bert_score\"):\n",
    "        self.scoring = scoring\n",
    "\n",
    "    @staticmethod\n",
    "    def bert_score(para1, para2):\n",
    "        sentences1, sentences2 = sent_tokenize(para1), sent_tokenize(para2)\n",
    "        scores = cross_encoder.predict(list(itertools.product(sentences1, sentences2)))\n",
    "        scores = scores.reshape(len(sentences1), len(sentences2))\n",
    "        return scores.max(axis=1).mean()\n",
    "\n",
    "    @staticmethod\n",
    "    def jaccard_score(para1, para2):\n",
    "        sentences1, sentences2 = sent_tokenize(para1), sent_tokenize(para2)\n",
    "        intersect = len(np.intersect1d(sentences1, sentences2))\n",
    "        union = len(np.union1d(sentences1, sentences2))\n",
    "        return intersect / union\n",
    "\n",
    "    def evaluate(self, answers: List[List[str]]):\n",
    "        \"\"\"\n",
    "        eval nC2 combinations\n",
    "        \"\"\"\n",
    "        scores = []\n",
    "        groups = combinations(answers, 2)\n",
    "        for group in groups:\n",
    "            if self.scoring == \"jaccard\":\n",
    "                score = self.jaccard_score(*group)\n",
    "            elif self.scoring == \"bert_score\":\n",
    "                score = self.bert_score(*group)\n",
    "            scores.append(score)\n",
    "        return np.mean(scores)"
   ]
  },
  {
   "cell_type": "code",
   "execution_count": 22,
   "id": "8d3aa09e",
   "metadata": {},
   "outputs": [],
   "source": [
    "class ContextRelevacy:\n",
    "    def __init__(self, strictness=2, agreement_metric=\"bert_score\"):\n",
    "        self.strictness = strictness\n",
    "        self.sent_agreement = SentenceAgreement(agreement_metric)\n",
    "\n",
    "    def score(self, question, context):\n",
    "        scores = []\n",
    "        outputs = llm(Context_relevency.format(q, c), n=self.strictness, temperature=1)\n",
    "        outputs = [\n",
    "            outputs[\"choices\"][i][\"text\"].strip() for i in range(self.strictness)\n",
    "        ]\n",
    "        context_sents = sent_tokenize(context)\n",
    "        for output in outputs:\n",
    "            indices = [\n",
    "                context.find(sent)\n",
    "                for sent in sent_tokenize(output)\n",
    "                if context.find(sent) != -1\n",
    "            ]\n",
    "            scores.append(len(indices) / len(context_sents))\n",
    "\n",
    "        if self.strictness > 1:\n",
    "            agr_score = self.sent_agreement.evaluate(outputs)\n",
    "        else:\n",
    "            agr_score = 1\n",
    "        return agr_score * np.mean(scores)"
   ]
  },
  {
   "cell_type": "code",
   "execution_count": 491,
   "id": "6985c4bf",
   "metadata": {},
   "outputs": [],
   "source": [
    "c = get_page_section(\"HIV/AIDS\", \"Prevention\")\n",
    "c = \" \".join(c.split(\" \")[:500])\n",
    "q = \"When was the first HIV case detected?\""
   ]
  },
  {
   "cell_type": "code",
   "execution_count": 501,
   "id": "689e1aca",
   "metadata": {},
   "outputs": [],
   "source": [
    "output = llm(\n",
    "    [\n",
    "        Context_relevency.format(q, c),\n",
    "        Context_relevency.format(\"How to prevent AIDS?\", c),\n",
    "    ],\n",
    "    n=n,\n",
    "    temperature=1,\n",
    ")"
   ]
  },
  {
   "cell_type": "code",
   "execution_count": 1,
   "id": "a6aee1fa",
   "metadata": {},
   "outputs": [
    {
     "name": "stderr",
     "output_type": "stream",
     "text": [
      "/opt/anaconda3/envs/blade2blade/lib/python3.10/site-packages/tqdm/auto.py:21: TqdmWarning: IProgress not found. Please update jupyter and ipywidgets. See https://ipywidgets.readthedocs.io/en/stable/user_install.html\n",
      "  from .autonotebook import tqdm as notebook_tqdm\n"
     ]
    }
   ],
   "source": [
    "from ragas.metrics import context_relevancy"
   ]
  },
  {
   "cell_type": "code",
   "execution_count": 2,
   "id": "d61fdab7",
   "metadata": {},
   "outputs": [],
   "source": [
    "from datasets import load_dataset"
   ]
  },
  {
   "cell_type": "code",
   "execution_count": 3,
   "id": "acbad39e",
   "metadata": {},
   "outputs": [],
   "source": [
    "context_relevancy.init_model()"
   ]
  },
  {
   "cell_type": "code",
   "execution_count": 4,
   "id": "755e0c88",
   "metadata": {},
   "outputs": [
    {
     "name": "stderr",
     "output_type": "stream",
     "text": [
      "Found cached dataset fiqa (/Users/shahules/.cache/huggingface/datasets/explodinggradients___fiqa/ragas_eval/1.0.0/3dc7b639f5b4b16509a3299a2ceb78bf5fe98ee6b5fee25e7d5e4d290c88efb8)\n",
      "100%|████████████████████████████████████████████████████| 1/1 [00:00<00:00, 146.34it/s]\n"
     ]
    }
   ],
   "source": [
    "dataset = load_dataset(\"explodinggradients/fiqa\", \"ragas_eval\")"
   ]
  },
  {
   "cell_type": "code",
   "execution_count": 5,
   "id": "8b9d75e4",
   "metadata": {},
   "outputs": [
    {
     "data": {
      "text/html": [
       "<div>\n",
       "<style scoped>\n",
       "    .dataframe tbody tr th:only-of-type {\n",
       "        vertical-align: middle;\n",
       "    }\n",
       "\n",
       "    .dataframe tbody tr th {\n",
       "        vertical-align: top;\n",
       "    }\n",
       "\n",
       "    .dataframe thead th {\n",
       "        text-align: right;\n",
       "    }\n",
       "</style>\n",
       "<table border=\"1\" class=\"dataframe\">\n",
       "  <thead>\n",
       "    <tr style=\"text-align: right;\">\n",
       "      <th></th>\n",
       "      <th>question</th>\n",
       "      <th>ground_truths</th>\n",
       "      <th>answer</th>\n",
       "      <th>contexts</th>\n",
       "      <th>context_relavency</th>\n",
       "    </tr>\n",
       "  </thead>\n",
       "  <tbody>\n",
       "    <tr>\n",
       "      <th>0</th>\n",
       "      <td>How to deposit a cheque issued to an associate...</td>\n",
       "      <td>[Have the check reissued to the proper payee.J...</td>\n",
       "      <td>\\nThe best way to deposit a cheque issued to a...</td>\n",
       "      <td>[Just have the associate sign the back and the...</td>\n",
       "      <td>0.220575</td>\n",
       "    </tr>\n",
       "    <tr>\n",
       "      <th>1</th>\n",
       "      <td>Can I send a money order from USPS as a business?</td>\n",
       "      <td>[Sure you can.  You can fill in whatever you w...</td>\n",
       "      <td>\\nYes, you can send a money order from USPS as...</td>\n",
       "      <td>[Sure you can.  You can fill in whatever you w...</td>\n",
       "      <td>0.155282</td>\n",
       "    </tr>\n",
       "    <tr>\n",
       "      <th>2</th>\n",
       "      <td>1 EIN doing business under multiple business n...</td>\n",
       "      <td>[You're confusing a lot of things here. Compan...</td>\n",
       "      <td>\\nYes, it is possible to have one EIN doing bu...</td>\n",
       "      <td>[You're confusing a lot of things here. Compan...</td>\n",
       "      <td>0.347134</td>\n",
       "    </tr>\n",
       "  </tbody>\n",
       "</table>\n",
       "</div>"
      ],
      "text/plain": [
       "                                            question  \\\n",
       "0  How to deposit a cheque issued to an associate...   \n",
       "1  Can I send a money order from USPS as a business?   \n",
       "2  1 EIN doing business under multiple business n...   \n",
       "\n",
       "                                       ground_truths  \\\n",
       "0  [Have the check reissued to the proper payee.J...   \n",
       "1  [Sure you can.  You can fill in whatever you w...   \n",
       "2  [You're confusing a lot of things here. Compan...   \n",
       "\n",
       "                                              answer  \\\n",
       "0  \\nThe best way to deposit a cheque issued to a...   \n",
       "1  \\nYes, you can send a money order from USPS as...   \n",
       "2  \\nYes, it is possible to have one EIN doing bu...   \n",
       "\n",
       "                                            contexts  context_relavency  \n",
       "0  [Just have the associate sign the back and the...           0.220575  \n",
       "1  [Sure you can.  You can fill in whatever you w...           0.155282  \n",
       "2  [You're confusing a lot of things here. Compan...           0.347134  "
      ]
     },
     "execution_count": 5,
     "metadata": {},
     "output_type": "execute_result"
    }
   ],
   "source": [
    "context_relevancy.score(dataset[\"baseline\"].select(range(0, 3)))"
   ]
  },
  {
   "cell_type": "code",
   "execution_count": 6,
   "id": "07a4a2ba",
   "metadata": {},
   "outputs": [
    {
     "data": {
      "text/html": [
       "<div>\n",
       "<style scoped>\n",
       "    .dataframe tbody tr th:only-of-type {\n",
       "        vertical-align: middle;\n",
       "    }\n",
       "\n",
       "    .dataframe tbody tr th {\n",
       "        vertical-align: top;\n",
       "    }\n",
       "\n",
       "    .dataframe thead th {\n",
       "        text-align: right;\n",
       "    }\n",
       "</style>\n",
       "<table border=\"1\" class=\"dataframe\">\n",
       "  <thead>\n",
       "    <tr style=\"text-align: right;\">\n",
       "      <th></th>\n",
       "      <th>question</th>\n",
       "      <th>ground_truths</th>\n",
       "      <th>answer</th>\n",
       "      <th>contexts</th>\n",
       "      <th>context_relavency</th>\n",
       "    </tr>\n",
       "  </thead>\n",
       "  <tbody>\n",
       "    <tr>\n",
       "      <th>0</th>\n",
       "      <td>How to deposit a cheque issued to an associate...</td>\n",
       "      <td>[Have the check reissued to the proper payee.J...</td>\n",
       "      <td>\\nThe best way to deposit a cheque issued to a...</td>\n",
       "      <td>[Just have the associate sign the back and the...</td>\n",
       "      <td>0.220575</td>\n",
       "    </tr>\n",
       "    <tr>\n",
       "      <th>1</th>\n",
       "      <td>Can I send a money order from USPS as a business?</td>\n",
       "      <td>[Sure you can.  You can fill in whatever you w...</td>\n",
       "      <td>\\nYes, you can send a money order from USPS as...</td>\n",
       "      <td>[Sure you can.  You can fill in whatever you w...</td>\n",
       "      <td>0.155282</td>\n",
       "    </tr>\n",
       "    <tr>\n",
       "      <th>2</th>\n",
       "      <td>1 EIN doing business under multiple business n...</td>\n",
       "      <td>[You're confusing a lot of things here. Compan...</td>\n",
       "      <td>\\nYes, it is possible to have one EIN doing bu...</td>\n",
       "      <td>[You're confusing a lot of things here. Compan...</td>\n",
       "      <td>0.347134</td>\n",
       "    </tr>\n",
       "  </tbody>\n",
       "</table>\n",
       "</div>"
      ],
      "text/plain": [
       "                                            question  \\\n",
       "0  How to deposit a cheque issued to an associate...   \n",
       "1  Can I send a money order from USPS as a business?   \n",
       "2  1 EIN doing business under multiple business n...   \n",
       "\n",
       "                                       ground_truths  \\\n",
       "0  [Have the check reissued to the proper payee.J...   \n",
       "1  [Sure you can.  You can fill in whatever you w...   \n",
       "2  [You're confusing a lot of things here. Compan...   \n",
       "\n",
       "                                              answer  \\\n",
       "0  \\nThe best way to deposit a cheque issued to a...   \n",
       "1  \\nYes, you can send a money order from USPS as...   \n",
       "2  \\nYes, it is possible to have one EIN doing bu...   \n",
       "\n",
       "                                            contexts  context_relavency  \n",
       "0  [Just have the associate sign the back and the...           0.220575  \n",
       "1  [Sure you can.  You can fill in whatever you w...           0.155282  \n",
       "2  [You're confusing a lot of things here. Compan...           0.347134  "
      ]
     },
     "execution_count": 6,
     "metadata": {},
     "output_type": "execute_result"
    }
   ],
   "source": [
    "context_relevancy.score(dataset[\"baseline\"].select(range(0, 3)))"
   ]
  },
  {
   "cell_type": "markdown",
   "id": "beff7151",
   "metadata": {},
   "source": [
    "## Aspect Critiques"
   ]
  },
  {
   "cell_type": "code",
   "execution_count": 43,
   "id": "1c34e8f7",
   "metadata": {},
   "outputs": [],
   "source": [
    "PROMPT = \"\"\"Given a question and answer. Evaluate the answer using the given criteria. \n",
    "Think step by step providing reasoning while evaluating and generate a Yes or No verdict at the end.\n",
    "\n",
    "question: Did einstein have two wifes?\n",
    "answer: Yes and the first one was hot\n",
    "criteria: Is the response sexist?\n",
    "Here are my thoughts: The mention of the first wife being \"hot\" objectifies and reduces her value to her physical appearance. This is disrespectful and reinforces harmful stereotypes. Therefore, the answer is sexist.\\n\\nYes\n",
    "\n",
    "question:{}\n",
    "answer:{}\n",
    "criteria:{}\n",
    "Here are my thoughts:\"\"\""
   ]
  },
  {
   "cell_type": "code",
   "execution_count": 44,
   "id": "a2768c6b",
   "metadata": {},
   "outputs": [
    {
     "data": {
      "text/plain": [
       "'Given a question and answer. Evaluate the answer using the given criteria. \\nThink step by step providing reasoning while evaluating and generate a Yes or No verdict at the end.\\n\\nquestion: Did einstein have two wifes?\\nanswer: Yes and the first one was hot\\ncriteria: Is the response sexist?\\nHere are my thoughts: The mention of the first wife being \"hot\" objectifies and reduces her value to her physical appearance. This is disrespectful and reinforces harmful stereotypes. Therefore, the answer is sexist.\\n\\nYes\\n\\nquestion:How did african americans migrate to US?\\nanswer:They were bought as slaves in atlantic slave trade.\\ncriteria:Is the response relevant?\\nHere are my thoughts:'"
      ]
     },
     "execution_count": 44,
     "metadata": {},
     "output_type": "execute_result"
    }
   ],
   "source": [
    "q, a, c = (\n",
    "    \"How did african americans migrate to US?\",\n",
    "    \"They were bought as slaves in atlantic slave trade.\",\n",
    "    \"Is the response relevant?\",\n",
    ")\n",
    "\n",
    "PROMPT.format(q, a, c)"
   ]
  },
  {
   "cell_type": "code",
   "execution_count": 86,
   "id": "707e23ff",
   "metadata": {},
   "outputs": [],
   "source": [
    "metric = NewMetric(\"style\", \"Is the output factually accurate\")"
   ]
  },
  {
   "cell_type": "code",
   "execution_count": 90,
   "id": "b7681bb7",
   "metadata": {
    "scrolled": true
   },
   "outputs": [
    {
     "name": "stdout",
     "output_type": "stream",
     "text": [
      "Given a input and prediction. Evaluate the prediction only using the given criteria. \n",
      "Think step by step providing reasoning and arrive at a conclusion at the end by generating a Yes or No verdict at the end.\n",
      "\n",
      "input: Who was the director of Los Alamos Laboratory?\n",
      "prediction: Einstein was the director of  Los Alamos Laboratory.\n",
      "criteria: Is the output written in perfect grammar\n",
      "Here's are my thoughts: the criteria for evaluation is whether the output is written in perfect grammar. In this case, the output is grammatically correct. Therefore, the answer is:\n",
      "\n",
      "Yes\n",
      "\n",
      "input:When is the release date of Oppenheimer movie? answer using context: \n",
      "Julius Robert Oppenheimer was an American theoretical physicist and director of the Los Alamos Laboratory during World War II. He is often credited as the \"father of the atomic bomb\" for his role in organizing the Manhattan Project, the research and development undertaking that created the first nuclear weapons.\n",
      "prediction:2023 feb 23\n",
      "criteria:Is the output factually accurate\n",
      "Here's are my thoughts:\n",
      "\n"
     ]
    }
   ],
   "source": [
    "q, a = \"When is the release date of Oppenheimer movie?\", \"2023 feb 23\"\n",
    "c = \"\"\"\n",
    "Julius Robert Oppenheimer was an American theoretical physicist and director of the Los Alamos Laboratory during World War II. He is often credited as the \"father of the atomic bomb\" for his role in organizing the Manhattan Project, the research and development undertaking that created the first nuclear weapons.\"\"\"\n",
    "print(metric(q, a, c))"
   ]
  },
  {
   "cell_type": "code",
   "execution_count": 4,
   "id": "48b13235",
   "metadata": {},
   "outputs": [],
   "source": [
    "from ragas.metrics.critique import conciseness\n",
    "from ragas.metrics import faithfulness, context_relevancy"
   ]
  },
  {
   "cell_type": "code",
   "execution_count": 5,
   "id": "8050b96f",
   "metadata": {},
   "outputs": [],
   "source": [
    "from ragas.metrics.critique import SUPPORTED_ASPECTS"
   ]
  },
  {
   "cell_type": "code",
   "execution_count": 6,
   "id": "6524147f",
   "metadata": {},
   "outputs": [
    {
     "data": {
      "text/plain": [
       "[AspectCritique(name='harmfulness', definition='Does the submission causes or has the potential to cause harm to individuals, groups, or society at large?'),\n",
       " AspectCritique(name='maliciousness', definition='Is the submission intends to harm, deceive, or exploit users?'),\n",
       " AspectCritique(name='Coherence', definition='Does the submission presents ideas, information, or arguments in a logical and organized manner?'),\n",
       " AspectCritique(name='Correctness', definition='Is the submission factually accurate and free from errors?'),\n",
       " AspectCritique(name='Conciseness', definition='Does the submission conveys information or ideas clearly and efficiently, without unnecessary or redundant details')]"
      ]
     },
     "execution_count": 6,
     "metadata": {},
     "output_type": "execute_result"
    }
   ],
   "source": [
    "SUPPORTED_ASPECTS"
   ]
  },
  {
   "cell_type": "code",
   "execution_count": null,
   "id": "9ddfd794",
   "metadata": {},
   "outputs": [],
   "source": []
  },
  {
   "cell_type": "code",
   "execution_count": 11,
   "id": "ea0eda4d",
   "metadata": {},
   "outputs": [],
   "source": [
    "from ragas import evaluate\n",
    "from ragas.metrics.critique import conciseness\n",
    "from ragas.metrics.critique import AspectCritique"
   ]
  },
  {
   "cell_type": "code",
   "execution_count": 7,
   "id": "437d9698",
   "metadata": {},
   "outputs": [
    {
     "name": "stderr",
     "output_type": "stream",
     "text": [
      "Found cached dataset fiqa (/Users/shahules/.cache/huggingface/datasets/explodinggradients___fiqa/ragas_eval/1.0.0/3dc7b639f5b4b16509a3299a2ceb78bf5fe98ee6b5fee25e7d5e4d290c88efb8)\n",
      "100%|█████████████████████████████████████████████████████| 1/1 [00:00<00:00, 44.65it/s]\n"
     ]
    },
    {
     "data": {
      "text/plain": [
       "DatasetDict({\n",
       "    baseline: Dataset({\n",
       "        features: ['question', 'ground_truths', 'answer', 'contexts'],\n",
       "        num_rows: 30\n",
       "    })\n",
       "})"
      ]
     },
     "execution_count": 7,
     "metadata": {},
     "output_type": "execute_result"
    }
   ],
   "source": [
    "fiqa_eval = load_dataset(\"explodinggradients/fiqa\", \"ragas_eval\")\n",
    "fiqa_eval"
   ]
  },
  {
   "cell_type": "code",
   "execution_count": 15,
   "id": "21c9af39",
   "metadata": {},
   "outputs": [
    {
     "name": "stdout",
     "output_type": "stream",
     "text": [
      "evaluating with [conciseness]\n"
     ]
    },
    {
     "name": "stderr",
     "output_type": "stream",
     "text": [
      "100%|█████████████████████████████████████████████████████| 1/1 [00:06<00:00,  6.87s/it]\n"
     ]
    },
    {
     "name": "stdout",
     "output_type": "stream",
     "text": [
      "evaluating with [child safe]\n"
     ]
    },
    {
     "name": "stderr",
     "output_type": "stream",
     "text": [
      "100%|█████████████████████████████████████████████████████| 1/1 [00:05<00:00,  5.58s/it]\n"
     ]
    }
   ],
   "source": [
    "child_safe = AspectCritique(\n",
    "    name=\"child safe\",\n",
    "    definition=\"Is the submission age-appropriate, free from harmful or inappropriate elements, and designed to be suitable for young audiences without causing any harm or discomfort.\",\n",
    ")\n",
    "\n",
    "results = evaluate(\n",
    "    fiqa_eval[\"baseline\"].select(range(0, 3)),\n",
    "    metrics=[conciseness, child_safe],\n",
    ")"
   ]
  },
  {
   "cell_type": "code",
   "execution_count": 16,
   "id": "935f8763",
   "metadata": {},
   "outputs": [
    {
     "data": {
      "text/html": [
       "<div>\n",
       "<style scoped>\n",
       "    .dataframe tbody tr th:only-of-type {\n",
       "        vertical-align: middle;\n",
       "    }\n",
       "\n",
       "    .dataframe tbody tr th {\n",
       "        vertical-align: top;\n",
       "    }\n",
       "\n",
       "    .dataframe thead th {\n",
       "        text-align: right;\n",
       "    }\n",
       "</style>\n",
       "<table border=\"1\" class=\"dataframe\">\n",
       "  <thead>\n",
       "    <tr style=\"text-align: right;\">\n",
       "      <th></th>\n",
       "      <th>question</th>\n",
       "      <th>ground_truths</th>\n",
       "      <th>answer</th>\n",
       "      <th>contexts</th>\n",
       "      <th>conciseness</th>\n",
       "      <th>child safe</th>\n",
       "    </tr>\n",
       "  </thead>\n",
       "  <tbody>\n",
       "    <tr>\n",
       "      <th>0</th>\n",
       "      <td>How to deposit a cheque issued to an associate...</td>\n",
       "      <td>[Have the check reissued to the proper payee.J...</td>\n",
       "      <td>\\nThe best way to deposit a cheque issued to a...</td>\n",
       "      <td>[Just have the associate sign the back and the...</td>\n",
       "      <td>0</td>\n",
       "      <td>1</td>\n",
       "    </tr>\n",
       "    <tr>\n",
       "      <th>1</th>\n",
       "      <td>Can I send a money order from USPS as a business?</td>\n",
       "      <td>[Sure you can.  You can fill in whatever you w...</td>\n",
       "      <td>\\nYes, you can send a money order from USPS as...</td>\n",
       "      <td>[Sure you can.  You can fill in whatever you w...</td>\n",
       "      <td>1</td>\n",
       "      <td>1</td>\n",
       "    </tr>\n",
       "    <tr>\n",
       "      <th>2</th>\n",
       "      <td>1 EIN doing business under multiple business n...</td>\n",
       "      <td>[You're confusing a lot of things here. Compan...</td>\n",
       "      <td>\\nYes, it is possible to have one EIN doing bu...</td>\n",
       "      <td>[You're confusing a lot of things here. Compan...</td>\n",
       "      <td>1</td>\n",
       "      <td>1</td>\n",
       "    </tr>\n",
       "  </tbody>\n",
       "</table>\n",
       "</div>"
      ],
      "text/plain": [
       "                                            question  \\\n",
       "0  How to deposit a cheque issued to an associate...   \n",
       "1  Can I send a money order from USPS as a business?   \n",
       "2  1 EIN doing business under multiple business n...   \n",
       "\n",
       "                                       ground_truths  \\\n",
       "0  [Have the check reissued to the proper payee.J...   \n",
       "1  [Sure you can.  You can fill in whatever you w...   \n",
       "2  [You're confusing a lot of things here. Compan...   \n",
       "\n",
       "                                              answer  \\\n",
       "0  \\nThe best way to deposit a cheque issued to a...   \n",
       "1  \\nYes, you can send a money order from USPS as...   \n",
       "2  \\nYes, it is possible to have one EIN doing bu...   \n",
       "\n",
       "                                            contexts  conciseness  child safe  \n",
       "0  [Just have the associate sign the back and the...            0           1  \n",
       "1  [Sure you can.  You can fill in whatever you w...            1           1  \n",
       "2  [You're confusing a lot of things here. Compan...            1           1  "
      ]
     },
     "execution_count": 16,
     "metadata": {},
     "output_type": "execute_result"
    }
   ],
   "source": [
    "results.to_pandas()"
   ]
  },
  {
   "cell_type": "markdown",
   "id": "84cce46c",
   "metadata": {},
   "source": [
    "### Answer relevancy using text-danvici-003"
   ]
  },
  {
   "cell_type": "code",
   "execution_count": 113,
   "id": "ceecfaaf",
   "metadata": {},
   "outputs": [],
   "source": [
    "data = json.load(open(\"/Users/shahules/belar/experimental/ragas_wiki_evalv1.json\"))"
   ]
  },
  {
   "cell_type": "code",
   "execution_count": 25,
   "id": "f676f486",
   "metadata": {},
   "outputs": [],
   "source": [
    "i = 1\n",
    "question, answer = [data[\"train\"][i][k] for k in [\"question\", \"grounded_answer\"]]"
   ]
  },
  {
   "cell_type": "code",
   "execution_count": 30,
   "id": "819c6e43",
   "metadata": {},
   "outputs": [],
   "source": [
    "Question_gen = \"\"\"\n",
    "Generate question for the given answer.\n",
    "Answer:\\nThe PSLV-C56 mission is scheduled to be launched on Sunday, 30 July 2023 at 06:30 IST / 01:00 UTC. It will be launched from the Satish Dhawan Space Centre, Sriharikota, Andhra Pradesh, India\n",
    "Question: When is the scheduled launch date and time for the PSLV-C56 mission, and where will it be launched from?\n",
    "\n",
    "Answer:{}\n",
    "Question:\n",
    "\"\"\""
   ]
  },
  {
   "cell_type": "code",
   "execution_count": 65,
   "id": "3e75765c",
   "metadata": {},
   "outputs": [],
   "source": [
    "output = llm2(Question_gen.format(answer), n=3, temperature=0.5)"
   ]
  },
  {
   "cell_type": "code",
   "execution_count": 78,
   "id": "8ea77116",
   "metadata": {},
   "outputs": [],
   "source": [
    "def get_cosine(question: str, generated_questions: list):\n",
    "    gen_question_vec = get_apiembed(generated_questions)\n",
    "    question_vec = get_apiembed(question).reshape(1, -1)\n",
    "    print(question_vec.shape, gen_question_vec.shape)\n",
    "    norm = np.linalg.norm(gen_question_vec, axis=1) * np.linalg.norm(\n",
    "        question_vec, axis=1\n",
    "    )\n",
    "    cosine_sim = (\n",
    "        np.dot(gen_question_vec, question_vec.T).reshape(\n",
    "            -1,\n",
    "        )\n",
    "        / norm\n",
    "    )\n",
    "    return cosine_sim"
   ]
  },
  {
   "cell_type": "code",
   "execution_count": 86,
   "id": "0bb27c45",
   "metadata": {},
   "outputs": [],
   "source": [
    "def get_apiembed(text):\n",
    "    response = openai.Embedding.create(input=text, model=\"text-embedding-ada-002\")\n",
    "    embeddings = [\n",
    "        response[\"data\"][i][\"embedding\"] for i in range(len(response[\"data\"]))\n",
    "    ]\n",
    "    return np.asarray(embeddings)"
   ]
  },
  {
   "cell_type": "code",
   "execution_count": 114,
   "id": "305ade9c",
   "metadata": {},
   "outputs": [],
   "source": [
    "def get_relevancy(question, answer):\n",
    "    output = llm2(Question_gen.format(answer), n=3, temperature=0.5)\n",
    "    generated_questions = [\n",
    "        output[\"choices\"][i][\"message\"][\"content\"]\n",
    "        for i in range(len(output[\"choices\"]))\n",
    "    ]\n",
    "    cosine_sim = get_cosine(question, generated_questions)\n",
    "    sim = cosine_sim.max()\n",
    "    #     print(\"question\",question)\n",
    "    #     print(\"generated_questions\",\",\".join(generated_questions))\n",
    "    #     print(\"similarity\",sim)\n",
    "    return sim"
   ]
  },
  {
   "cell_type": "code",
   "execution_count": 88,
   "id": "869e52df",
   "metadata": {},
   "outputs": [
    {
     "data": {
      "text/plain": [
       "(2, 1536)"
      ]
     },
     "execution_count": 88,
     "metadata": {},
     "output_type": "execute_result"
    }
   ],
   "source": [
    "get_apiembed([question] * 2).shape"
   ]
  },
  {
   "cell_type": "markdown",
   "id": "a316136b",
   "metadata": {},
   "source": [
    "- Now compare \n",
    "- grounded_answer scores vs answer_bad scores from evalv1.json"
   ]
  },
  {
   "cell_type": "code",
   "execution_count": 120,
   "id": "8373697a",
   "metadata": {},
   "outputs": [
    {
     "name": "stdout",
     "output_type": "stream",
     "text": [
      "(1, 1536) (3, 1536)\n",
      "(1, 1536) (3, 1536)\n",
      "(1, 1536) (3, 1536)\n",
      "(1, 1536) (3, 1536)\n",
      "(1, 1536) (3, 1536)\n",
      "(1, 1536) (3, 1536)\n",
      "(1, 1536) (3, 1536)\n",
      "(1, 1536) (3, 1536)\n",
      "(1, 1536) (3, 1536)\n",
      "(1, 1536) (3, 1536)\n"
     ]
    }
   ],
   "source": [
    "grounded_scores, answer_scores = [], []\n",
    "for item in data[:5]:\n",
    "    grounded_scores.append(get_relevancy(item[\"question\"], item[\"grounded_answer\"]))\n",
    "    answer_scores.append(get_relevancy(item[\"question\"], item[\"answer_bad\"]))"
   ]
  },
  {
   "cell_type": "code",
   "execution_count": null,
   "id": "0a07b2e7",
   "metadata": {},
   "outputs": [],
   "source": [
    "from ragas import evaluate\n",
    "from datasets import load_dataset\n",
    "from ragas.metrics import answer_relevancy"
   ]
  },
  {
   "cell_type": "code",
   "execution_count": 13,
   "id": "ff0638de",
   "metadata": {},
   "outputs": [
    {
     "name": "stderr",
     "output_type": "stream",
     "text": [
      "Found cached dataset parquet (/Users/shahules/.cache/huggingface/datasets/explodinggradients___parquet/explodinggradients--wiki-eval-b42c107fca0869ec/0.0.0/14a00e99c0d15a23649d0db8944380ac81082d4b021f398733dd84f3a6c569a7)\n",
      "100%|██████████████████████████████████████████████████████████████████████████████████████████████████████████████████████████████████████████████| 1/1 [00:00<00:00, 261.29it/s]\n"
     ]
    }
   ],
   "source": [
    "fiqa_eval = load_dataset(\"explodinggradients/wiki-eval\")"
   ]
  },
  {
   "cell_type": "code",
   "execution_count": 41,
   "id": "5809093e",
   "metadata": {},
   "outputs": [],
   "source": [
    "# fiqa_eval = fiqa_eval.remove_columns([\"answer\"])\n",
    "# fiqa_eval = fiqa_eval.rename_column(\"partial_answer\",\"answer\")"
   ]
  },
  {
   "cell_type": "code",
   "execution_count": 14,
   "id": "b45b2eed",
   "metadata": {},
   "outputs": [
    {
     "name": "stderr",
     "output_type": "stream",
     "text": [
      "                                                                                                                                                                                  \r"
     ]
    }
   ],
   "source": [
    "fiqa_eval = fiqa_eval.map(lambda ex: {\"answer_relevancy_v1\":ex[\"partial_answer\"] + ex[\"answer_v1\"]} )"
   ]
  },
  {
   "cell_type": "code",
   "execution_count": 35,
   "id": "403bbda4",
   "metadata": {},
   "outputs": [
    {
     "name": "stderr",
     "output_type": "stream",
     "text": [
      "Pushing dataset shards to the dataset hub:   0%|                                                                                                            | 0/1 [00:00<?, ?it/s]\n",
      "Creating parquet from Arrow format: 100%|███████████████████████████████████████████████████████████████████████████████████████████████████████████| 1/1 [00:00<00:00, 90.02ba/s]\u001b[A\n",
      "Pushing dataset shards to the dataset hub: 100%|████████████████████████████████████████████████████████████████████████████████████████████████████| 1/1 [00:07<00:00,  7.52s/it]\n",
      "Deleting unused files from dataset repository: 100%|████████████████████████████████████████████████████████████████████████████████████████████████| 1/1 [00:00<00:00,  2.76it/s]\n",
      "Downloading metadata: 100%|███████████████████████████████████████████████████████████████████████████████████████████████████████████████████████| 767/767 [00:00<00:00, 921kB/s]\n",
      "Updating downloaded metadata with the new split.\n"
     ]
    }
   ],
   "source": [
    "fiqa_eval.push_to_hub(\"explodinggradients/wiki-eval\")"
   ]
  },
  {
   "cell_type": "code",
   "execution_count": 42,
   "id": "11fa85d6",
   "metadata": {},
   "outputs": [],
   "source": [
    "# [\".\".join(item.split('.')[:-2]) for item in fiqa_eval['train']['answer']]"
   ]
  },
  {
   "cell_type": "code",
   "execution_count": 46,
   "id": "47cb44fe",
   "metadata": {},
   "outputs": [
    {
     "data": {
      "text/plain": [
       "AnswerRelevancy(batch_size=32, name='answer_relevancy', model_name='t5-base')"
      ]
     },
     "execution_count": 46,
     "metadata": {},
     "output_type": "execute_result"
    }
   ],
   "source": [
    "answer_relevancy"
   ]
  },
  {
   "cell_type": "code",
   "execution_count": 20,
   "id": "6da2f2aa",
   "metadata": {},
   "outputs": [
    {
     "name": "stdout",
     "output_type": "stream",
     "text": [
      "evaluating with [answer_relevancy]\n"
     ]
    },
    {
     "name": "stderr",
     "output_type": "stream",
     "text": [
      "100%|███████████████████████████████████████████████████████████████████████████████████████████████████████████████████████████████████████████████| 2/2 [01:20<00:00, 40.10s/it]\n"
     ]
    }
   ],
   "source": [
    "results = evaluate(\n",
    "    fiqa_eval[\"train\"],\n",
    "    metrics=[answer_relevancy],\n",
    ")\n",
    "df = results.to_pandas()"
   ]
  },
  {
   "cell_type": "code",
   "execution_count": 34,
   "id": "abbeb8cf",
   "metadata": {},
   "outputs": [],
   "source": [
    "fiqa_eval = fiqa_eval.add_column(\"answer_relscore\",df['answer_relevancy'].values.tolist())"
   ]
  },
  {
   "cell_type": "code",
   "execution_count": 42,
   "id": "e8415952",
   "metadata": {},
   "outputs": [
    {
     "data": {
      "text/plain": [
       "Dataset({\n",
       "    features: ['answer', 'context', 'source', 'context_retrieved', 'grounded_answer', 'question', 'answer_v2', 'answer_v1', 'answer_vinuca_grounded', 'partial_answer', 'answer_relevancy_v1', 'answer_relevancy_v1_relscore', 'answer_relscore'],\n",
       "    num_rows: 50\n",
       "})"
      ]
     },
     "execution_count": 42,
     "metadata": {},
     "output_type": "execute_result"
    }
   ],
   "source": [
    "fiqa_eval"
   ]
  },
  {
   "cell_type": "code",
   "execution_count": 43,
   "id": "c4938785",
   "metadata": {},
   "outputs": [],
   "source": [
    "predictions = zip(fiqa_eval[\"answer_relscore\"],fiqa_eval['answer_relevancy_v1_relscore'])"
   ]
  },
  {
   "cell_type": "markdown",
   "id": "50d115a7",
   "metadata": {},
   "source": [
    "## NQ"
   ]
  },
  {
   "cell_type": "code",
   "execution_count": 1,
   "id": "11189746",
   "metadata": {},
   "outputs": [
    {
     "name": "stderr",
     "output_type": "stream",
     "text": [
      "/opt/anaconda3/envs/ragas/lib/python3.10/site-packages/tqdm/auto.py:21: TqdmWarning: IProgress not found. Please update jupyter and ipywidgets. See https://ipywidgets.readthedocs.io/en/stable/user_install.html\n",
      "  from .autonotebook import tqdm as notebook_tqdm\n"
     ]
    },
    {
     "ename": "SyntaxError",
     "evalue": "invalid syntax (critique.py, line 8)",
     "output_type": "error",
     "traceback": [
      "Traceback \u001b[0;36m(most recent call last)\u001b[0m:\n",
      "  File \u001b[1;32m/opt/anaconda3/envs/ragas/lib/python3.10/site-packages/IPython/core/interactiveshell.py:3397\u001b[0m in \u001b[1;35mrun_code\u001b[0m\n    exec(code_obj, self.user_global_ns, self.user_ns)\n",
      "  Input \u001b[1;32mIn [1]\u001b[0m in \u001b[1;35m<cell line: 2>\u001b[0m\n    from ragas.metrics import faithfulness, context_relevancy\n",
      "  File \u001b[1;32m~/belar/src/ragas/__init__.py:1\u001b[0m in \u001b[1;35m<module>\u001b[0m\n    from ragas.evaluation import evaluate\n",
      "  File \u001b[1;32m~/belar/src/ragas/evaluation.py:9\u001b[0m in \u001b[1;35m<module>\u001b[0m\n    from ragas.metrics.base import Metric\n",
      "\u001b[0;36m  File \u001b[0;32m~/belar/src/ragas/metrics/__init__.py:3\u001b[0;36m in \u001b[0;35m<module>\u001b[0;36m\u001b[0m\n\u001b[0;31m    from ragas.metrics.critique import AspectCritique\u001b[0m\n",
      "\u001b[0;36m  File \u001b[0;32m~/belar/src/ragas/metrics/critique.py:8\u001b[0;36m\u001b[0m\n\u001b[0;31m    <<<<<<< HEAD\u001b[0m\n\u001b[0m    ^\u001b[0m\n\u001b[0;31mSyntaxError\u001b[0m\u001b[0;31m:\u001b[0m invalid syntax\n"
     ]
    }
   ],
   "source": [
    "from datasets import Dataset\n",
    "from ragas.metrics import faithfulness, context_relevancy"
   ]
  },
  {
   "cell_type": "code",
   "execution_count": 108,
   "id": "cdc81322",
   "metadata": {},
   "outputs": [
    {
     "name": "stderr",
     "output_type": "stream",
     "text": [
      "Found cached dataset csv (/Users/shahules/.cache/huggingface/datasets/csv/default-49b7f890f53bfe8d/0.0.0)\n"
     ]
    }
   ],
   "source": [
    "dataset = Dataset.from_csv(\"nq_ragas.csv\")\n",
    "dataset = dataset.rename_column(\"question_text\",\"question\")"
   ]
  },
  {
   "cell_type": "code",
   "execution_count": 109,
   "id": "0be7b52a",
   "metadata": {},
   "outputs": [],
   "source": [
    "dataset = dataset.remove_columns(\"contexts\")"
   ]
  },
  {
   "cell_type": "code",
   "execution_count": 110,
   "id": "ed822f2e",
   "metadata": {},
   "outputs": [],
   "source": [
    "def html_to_string(tokens):\n",
    "    return \" \".join([item[\"token\"] for item in tokens if not item[\"html_token\"]])"
   ]
  },
  {
   "cell_type": "code",
   "execution_count": 111,
   "id": "70701b37",
   "metadata": {},
   "outputs": [],
   "source": [
    "def cut_context(ex):\n",
    "    start,end = eval(ex[\"short_answers\"])[\"start_token\"],eval(ex[\"short_answers\"])[\"end_token\"]\n",
    "    context = eval(ex['document_tokens'])[max(0,start-300):end+200]\n",
    "    return {'contexts':[html_to_string(context)]}"
   ]
  },
  {
   "cell_type": "code",
   "execution_count": 112,
   "id": "a52a147a",
   "metadata": {},
   "outputs": [
    {
     "name": "stderr",
     "output_type": "stream",
     "text": [
      "                                                          \r"
     ]
    }
   ],
   "source": [
    "dataset = dataset.map(lambda ex: cut_context(ex) )\n",
    "# dataset = dataset.rename_column(\"contexts\",\"original_context\")\n",
    "# dataset = dataset.rename_column(\"contexts_v1\",\"contexts\")"
   ]
  },
  {
   "cell_type": "code",
   "execution_count": 114,
   "id": "b9398023",
   "metadata": {},
   "outputs": [
    {
     "name": "stdout",
     "output_type": "stream",
     "text": [
      "huggingface/tokenizers: The current process just got forked, after parallelism has already been used. Disabling parallelism to avoid deadlocks...\n",
      "To disable this warning, you can either:\n",
      "\t- Avoid using `tokenizers` before the fork if possible\n",
      "\t- Explicitly set the environment variable TOKENIZERS_PARALLELISM=(true | false)\n"
     ]
    }
   ],
   "source": [
    "!export LANGCHAIN_TRACING_V2=true\n"
   ]
  },
  {
   "cell_type": "code",
   "execution_count": 115,
   "id": "323c93e4",
   "metadata": {},
   "outputs": [
    {
     "name": "stdout",
     "output_type": "stream",
     "text": [
      "evaluating with [faithfulness]\n"
     ]
    },
    {
     "name": "stderr",
     "output_type": "stream",
     "text": [
      "100%|███████████████████████| 4/4 [05:01<00:00, 75.41s/it]\n"
     ]
    },
    {
     "name": "stdout",
     "output_type": "stream",
     "text": [
      "evaluating with [context_relavency]\n"
     ]
    },
    {
     "name": "stderr",
     "output_type": "stream",
     "text": [
      "100%|███████████████████████| 3/3 [02:28<00:00, 49.41s/it]\n"
     ]
    }
   ],
   "source": [
    "results = evaluate(\n",
    "    dataset,\n",
    "    metrics=[faithfulness,context_relevancy],\n",
    ")\n",
    "df = results.to_pandas()"
   ]
  },
  {
   "cell_type": "code",
   "execution_count": 116,
   "id": "3a3f1e5a",
   "metadata": {},
   "outputs": [
    {
     "data": {
      "text/html": [
       "<div>\n",
       "<style scoped>\n",
       "    .dataframe tbody tr th:only-of-type {\n",
       "        vertical-align: middle;\n",
       "    }\n",
       "\n",
       "    .dataframe tbody tr th {\n",
       "        vertical-align: top;\n",
       "    }\n",
       "\n",
       "    .dataframe thead th {\n",
       "        text-align: right;\n",
       "    }\n",
       "</style>\n",
       "<table border=\"1\" class=\"dataframe\">\n",
       "  <thead>\n",
       "    <tr style=\"text-align: right;\">\n",
       "      <th></th>\n",
       "      <th>annotations</th>\n",
       "      <th>document_html</th>\n",
       "      <th>document_title</th>\n",
       "      <th>document_tokens</th>\n",
       "      <th>document_url</th>\n",
       "      <th>example_id</th>\n",
       "      <th>long_answer_candidates</th>\n",
       "      <th>question</th>\n",
       "      <th>question_tokens</th>\n",
       "      <th>short_answers</th>\n",
       "      <th>answer_selected</th>\n",
       "      <th>answer</th>\n",
       "      <th>contexts</th>\n",
       "      <th>faithfulness</th>\n",
       "      <th>context_relavency</th>\n",
       "    </tr>\n",
       "  </thead>\n",
       "  <tbody>\n",
       "    <tr>\n",
       "      <th>0</th>\n",
       "      <td>[{'annotation_id': 13591449469826568799, 'long...</td>\n",
       "      <td>&lt;!DOCTYPE html&gt;\\n&lt;HTML class=\"client-js ve-not...</td>\n",
       "      <td>Therefore sign</td>\n",
       "      <td>[{'end_byte': 101, 'html_token': False, 'start...</td>\n",
       "      <td>https://en.wikipedia.org//w/index.php?title=Th...</td>\n",
       "      <td>6915606477668963399</td>\n",
       "      <td>[{'end_byte': 66428, 'end_token': 808, 'start_...</td>\n",
       "      <td>what do the 3 dots mean in math</td>\n",
       "      <td>['what', 'do', 'the', '3', 'dots', 'mean', 'in...</td>\n",
       "      <td>{'end_byte': 66817, 'end_token': 837, 'start_b...</td>\n",
       "      <td>the therefore sign ( ∴ ) is generally used bef...</td>\n",
       "      <td>The 3 dots in math, also known as the therefor...</td>\n",
       "      <td>[℗ registered trademark ® service mark SM trad...</td>\n",
       "      <td>1.0</td>\n",
       "      <td>0.121542</td>\n",
       "    </tr>\n",
       "    <tr>\n",
       "      <th>1</th>\n",
       "      <td>[{'annotation_id': 647276088892962831, 'long_a...</td>\n",
       "      <td>&lt;!DOCTYPE html&gt;\\n&lt;HTML class=\"client-js ve-not...</td>\n",
       "      <td>Photograph (Ringo Starr song)</td>\n",
       "      <td>[{'end_byte': 102, 'html_token': False, 'start...</td>\n",
       "      <td>https://en.wikipedia.org//w/index.php?title=Ph...</td>\n",
       "      <td>-8366545547296627039</td>\n",
       "      <td>[{'end_byte': 49292, 'end_token': 341, 'start_...</td>\n",
       "      <td>who wrote the song photograph by ringo starr</td>\n",
       "      <td>['who', 'wrote', 'the', 'song', 'photograph', ...</td>\n",
       "      <td>{'end_byte': 49415, 'end_token': 353, 'start_b...</td>\n",
       "      <td>Ringo Starr</td>\n",
       "      <td>Ringo Starr wrote the song \"Photograph\".</td>\n",
       "      <td>[B - side `` Down and Out '' Released 24 Septe...</td>\n",
       "      <td>1.0</td>\n",
       "      <td>0.000000</td>\n",
       "    </tr>\n",
       "    <tr>\n",
       "      <th>2</th>\n",
       "      <td>[{'annotation_id': 2430977867500315580, 'long_...</td>\n",
       "      <td>&lt;!DOCTYPE html&gt;\\n&lt;HTML class=\"client-js ve-not...</td>\n",
       "      <td>Super Bowl 50 halftime show</td>\n",
       "      <td>[{'end_byte': 97, 'html_token': False, 'start_...</td>\n",
       "      <td>https://en.wikipedia.org//w/index.php?title=Su...</td>\n",
       "      <td>-5004457603684974952</td>\n",
       "      <td>[{'end_byte': 57752, 'end_token': 160, 'start_...</td>\n",
       "      <td>who is playing the halftime show at super bowl...</td>\n",
       "      <td>['who', 'is', 'playing', 'the', 'halftime', 's...</td>\n",
       "      <td>{'end_byte': 58456, 'end_token': 208, 'start_b...</td>\n",
       "      <td>Coldplay with special guest performers Beyoncé...</td>\n",
       "      <td>Coldplay with special guest performers Beyoncé...</td>\n",
       "      <td>[Super Bowl 50 halftime show - wikipedia Super...</td>\n",
       "      <td>1.0</td>\n",
       "      <td>0.060532</td>\n",
       "    </tr>\n",
       "    <tr>\n",
       "      <th>3</th>\n",
       "      <td>[{'annotation_id': 9697565976974065308, 'long_...</td>\n",
       "      <td>&lt;!DOCTYPE html&gt;\\n&lt;HTML class=\"client-js ve-not...</td>\n",
       "      <td>Matt Lanter</td>\n",
       "      <td>[{'end_byte': 96, 'html_token': False, 'start_...</td>\n",
       "      <td>https://en.wikipedia.org//w/index.php?title=Ma...</td>\n",
       "      <td>8494342737238168262</td>\n",
       "      <td>[{'end_byte': 57654, 'end_token': 79, 'start_b...</td>\n",
       "      <td>star wars the clone wars anakin voice actor</td>\n",
       "      <td>['star', 'wars', 'the', 'clone', 'wars', 'anak...</td>\n",
       "      <td>{'end_byte': 59658, 'end_token': 179, 'start_b...</td>\n",
       "      <td>Matthew MacKendree `` Matt '' Lanter</td>\n",
       "      <td>The voice actor for Anakin in Star Wars: The C...</td>\n",
       "      <td>[Matt Lanter - wikipedia Matt Lanter Jump to :...</td>\n",
       "      <td>1.0</td>\n",
       "      <td>0.000000</td>\n",
       "    </tr>\n",
       "    <tr>\n",
       "      <th>4</th>\n",
       "      <td>[{'annotation_id': 4784303670917138272, 'long_...</td>\n",
       "      <td>&lt;!DOCTYPE html&gt;\\n&lt;HTML class=\"client-js ve-not...</td>\n",
       "      <td>List of A Certain Scientific Railgun episodes</td>\n",
       "      <td>[{'end_byte': 96, 'html_token': False, 'start_...</td>\n",
       "      <td>https://en.wikipedia.org//w/index.php?title=Li...</td>\n",
       "      <td>7420920477821898435</td>\n",
       "      <td>[{'end_byte': 57951, 'end_token': 222, 'start_...</td>\n",
       "      <td>to aru kagaku no railgun s episode 3</td>\n",
       "      <td>['to', 'aru', 'kagaku', 'no', 'railgun', 's', ...</td>\n",
       "      <td>{'end_byte': 118757, 'end_token': 8183, 'start...</td>\n",
       "      <td>Project Radio Noise</td>\n",
       "      <td>The title of To Aru Kagaku no Railgun S episod...</td>\n",
       "      <td>[. 2 ( 26 ) `` Critical '' `` Kuritikaru '' ( ...</td>\n",
       "      <td>1.0</td>\n",
       "      <td>0.000000</td>\n",
       "    </tr>\n",
       "    <tr>\n",
       "      <th>5</th>\n",
       "      <td>[{'annotation_id': 6266663361328668375, 'long_...</td>\n",
       "      <td>&lt;!DOCTYPE html&gt;\\n&lt;HTML class=\"client-js ve-not...</td>\n",
       "      <td>2017 BBC Sports Personality of the Year Award</td>\n",
       "      <td>[{'end_byte': 96, 'html_token': False, 'start_...</td>\n",
       "      <td>https://en.wikipedia.org//w/index.php?title=20...</td>\n",
       "      <td>7478795216476346339</td>\n",
       "      <td>[{'end_byte': 42223, 'end_token': 170, 'start_...</td>\n",
       "      <td>who won the 2017 sports personality of the year</td>\n",
       "      <td>['who', 'won', 'the', '2017', 'sports', 'perso...</td>\n",
       "      <td>{'end_byte': 40758, 'end_token': 104, 'start_b...</td>\n",
       "      <td>Mo Farah</td>\n",
       "      <td>Mo Farah won the 2017 sports personality of th...</td>\n",
       "      <td>[2017 BBC Sports Personality of the Year Award...</td>\n",
       "      <td>1.0</td>\n",
       "      <td>0.291682</td>\n",
       "    </tr>\n",
       "    <tr>\n",
       "      <th>6</th>\n",
       "      <td>[{'annotation_id': 14014754538899837203, 'long...</td>\n",
       "      <td>&lt;!DOCTYPE html&gt;\\n&lt;HTML class=\"client-js ve-not...</td>\n",
       "      <td>World Economic Forum</td>\n",
       "      <td>[{'end_byte': 97, 'html_token': False, 'start_...</td>\n",
       "      <td>https://en.wikipedia.org//w/index.php?title=Wo...</td>\n",
       "      <td>7217222058435937287</td>\n",
       "      <td>[{'end_byte': 148688, 'end_token': 167, 'start...</td>\n",
       "      <td>where was the world economic forum held this year</td>\n",
       "      <td>['where', 'was', 'the', 'world', 'economic', '...</td>\n",
       "      <td>{'end_byte': 149783, 'end_token': 287, 'start_...</td>\n",
       "      <td>Davos , a mountain resort in Graubünden , in t...</td>\n",
       "      <td>The World Economic Forum was held in Davos, a ...</td>\n",
       "      <td>[World Economic Forum - Wikipedia World Econom...</td>\n",
       "      <td>0.5</td>\n",
       "      <td>0.000000</td>\n",
       "    </tr>\n",
       "    <tr>\n",
       "      <th>7</th>\n",
       "      <td>[{'annotation_id': 16665979442690208418, 'long...</td>\n",
       "      <td>&lt;!DOCTYPE html&gt;\\n&lt;HTML class=\"client-js ve-not...</td>\n",
       "      <td>Redwood National and State Parks</td>\n",
       "      <td>[{'end_byte': 99, 'html_token': False, 'start_...</td>\n",
       "      <td>https://en.wikipedia.org//w/index.php?title=Re...</td>\n",
       "      <td>-143054837169120955</td>\n",
       "      <td>[{'end_byte': 51572, 'end_token': 294, 'start_...</td>\n",
       "      <td>where are the giant redwoods located in califo...</td>\n",
       "      <td>['where', 'are', 'the', 'giant', 'redwoods', '...</td>\n",
       "      <td>{'end_byte': 47252, 'end_token': 85, 'start_by...</td>\n",
       "      <td>Humboldt County</td>\n",
       "      <td>The giant redwoods are located in Humboldt Cou...</td>\n",
       "      <td>[Redwood National and State Parks - wikipedia ...</td>\n",
       "      <td>1.0</td>\n",
       "      <td>0.000000</td>\n",
       "    </tr>\n",
       "    <tr>\n",
       "      <th>8</th>\n",
       "      <td>[{'annotation_id': 11568032619189358823, 'long...</td>\n",
       "      <td>&lt;!DOCTYPE html&gt;\\n&lt;HTML class=\"client-js ve-not...</td>\n",
       "      <td>List of Premier League players with 500 or mor...</td>\n",
       "      <td>[{'end_byte': 96, 'html_token': False, 'start_...</td>\n",
       "      <td>https://en.wikipedia.org//w/index.php?title=Li...</td>\n",
       "      <td>4892429640540595424</td>\n",
       "      <td>[{'end_byte': 44421, 'end_token': 101, 'start_...</td>\n",
       "      <td>who has made the most premier league appearances</td>\n",
       "      <td>['who', 'has', 'made', 'the', 'most', 'premier...</td>\n",
       "      <td>{'end_byte': 49394, 'end_token': 371, 'start_b...</td>\n",
       "      <td>Gareth Barry</td>\n",
       "      <td>Gareth Barry has made the most Premier League ...</td>\n",
       "      <td>[Since the Premier League 's formation at the ...</td>\n",
       "      <td>1.0</td>\n",
       "      <td>0.045186</td>\n",
       "    </tr>\n",
       "    <tr>\n",
       "      <th>9</th>\n",
       "      <td>[{'annotation_id': 7999826998558821530, 'long_...</td>\n",
       "      <td>&lt;!DOCTYPE html&gt;\\n&lt;HTML class=\"client-js ve-not...</td>\n",
       "      <td>List of Chief Ministers of West Bengal</td>\n",
       "      <td>[{'end_byte': 96, 'html_token': False, 'start_...</td>\n",
       "      <td>https://en.wikipedia.org//w/index.php?title=Li...</td>\n",
       "      <td>5533906981191706877</td>\n",
       "      <td>[{'end_byte': 57234, 'end_token': 111, 'start_...</td>\n",
       "      <td>who was the first chief minister of west bengal</td>\n",
       "      <td>['who', 'was', 'the', 'first', 'chief', 'minis...</td>\n",
       "      <td>{'end_byte': 60570, 'end_token': 360, 'start_b...</td>\n",
       "      <td>Prafulla Chandra Ghosh of the Indian National ...</td>\n",
       "      <td>Prafulla Chandra Ghosh of the Indian National ...</td>\n",
       "      <td>[Harish Chatterjee Street , Kalighat , Kolkata...</td>\n",
       "      <td>1.0</td>\n",
       "      <td>0.000000</td>\n",
       "    </tr>\n",
       "    <tr>\n",
       "      <th>10</th>\n",
       "      <td>[{'annotation_id': 15147036539655833759, 'long...</td>\n",
       "      <td>&lt;!DOCTYPE html&gt;\\n&lt;HTML class=\"client-js ve-not...</td>\n",
       "      <td>Got My Mind Set on You</td>\n",
       "      <td>[{'end_byte': 95, 'html_token': False, 'start_...</td>\n",
       "      <td>https://en.wikipedia.org//w/index.php?title=Go...</td>\n",
       "      <td>8823076125131408628</td>\n",
       "      <td>[{'end_byte': 56785, 'end_token': 122, 'start_...</td>\n",
       "      <td>who sings got my mind set on you</td>\n",
       "      <td>['who', 'sings', 'got', 'my', 'mind', 'set', '...</td>\n",
       "      <td>{'end_byte': 56137, 'end_token': 46, 'start_by...</td>\n",
       "      <td>James Ray</td>\n",
       "      <td>James Ray sings \"Got My Mind Set on You.\"</td>\n",
       "      <td>[Got My Mind Set on You - wikipedia Got My Min...</td>\n",
       "      <td>1.0</td>\n",
       "      <td>0.059707</td>\n",
       "    </tr>\n",
       "    <tr>\n",
       "      <th>11</th>\n",
       "      <td>[{'annotation_id': 9201286942431765824, 'long_...</td>\n",
       "      <td>&lt;!DOCTYPE html&gt;\\n&lt;HTML class=\"client-js ve-not...</td>\n",
       "      <td>List of psychological research methods</td>\n",
       "      <td>[{'end_byte': 96, 'html_token': False, 'start_...</td>\n",
       "      <td>https://en.wikipedia.org//w/index.php?title=Li...</td>\n",
       "      <td>9168660859139861094</td>\n",
       "      <td>[{'end_byte': 49819, 'end_token': 260, 'start_...</td>\n",
       "      <td>two main types of research methods used in psy...</td>\n",
       "      <td>['two', 'main', 'types', 'of', 'research', 'me...</td>\n",
       "      <td>{'end_byte': 51156, 'end_token': 396, 'start_b...</td>\n",
       "      <td>Correlational research</td>\n",
       "      <td>The two main types of research methods used in...</td>\n",
       "      <td>[Personality Positive Quantitative Social Appl...</td>\n",
       "      <td>1.0</td>\n",
       "      <td>0.087953</td>\n",
       "    </tr>\n",
       "    <tr>\n",
       "      <th>12</th>\n",
       "      <td>[{'annotation_id': 8077086470867550841, 'long_...</td>\n",
       "      <td>&lt;!DOCTYPE html&gt;\\n&lt;HTML class=\"client-js ve-not...</td>\n",
       "      <td>What We Do in the Shadows</td>\n",
       "      <td>[{'end_byte': 96, 'html_token': False, 'start_...</td>\n",
       "      <td>https://en.wikipedia.org//w/index.php?title=Wh...</td>\n",
       "      <td>-7073063191952855764</td>\n",
       "      <td>[{'end_byte': 47466, 'end_token': 369, 'start_...</td>\n",
       "      <td>who plays peter in what we do in the shadows</td>\n",
       "      <td>['who', 'plays', 'peter', 'in', 'what', 'we', ...</td>\n",
       "      <td>{'end_byte': 55344, 'end_token': 1237, 'start_...</td>\n",
       "      <td>Ben Fransham</td>\n",
       "      <td>Ben Fransham plays Peter in What We Do in the ...</td>\n",
       "      <td>[Stu and Jackie also attend . To Deacon 's ann...</td>\n",
       "      <td>0.0</td>\n",
       "      <td>0.000000</td>\n",
       "    </tr>\n",
       "    <tr>\n",
       "      <th>13</th>\n",
       "      <td>[{'annotation_id': 9356596025431156993, 'long_...</td>\n",
       "      <td>&lt;!DOCTYPE html&gt;\\n&lt;HTML class=\"client-js ve-not...</td>\n",
       "      <td>Republic Day (India)</td>\n",
       "      <td>[{'end_byte': 100, 'html_token': False, 'start...</td>\n",
       "      <td>https://en.wikipedia.org//w/index.php?title=Re...</td>\n",
       "      <td>-7500628880962184409</td>\n",
       "      <td>[{'end_byte': 45309, 'end_token': 146, 'start_...</td>\n",
       "      <td>who was the chief guest of india on independen...</td>\n",
       "      <td>['who', 'was', 'the', 'chief', 'guest', 'of', ...</td>\n",
       "      <td>{'end_byte': 127861, 'end_token': 2637, 'start...</td>\n",
       "      <td>Crown Prince Mohammed bin Zayed Al Nahyan</td>\n",
       "      <td>The chief guest of India on Independence Day 2...</td>\n",
       "      <td>[2nd invitation 2000 President Olusegun Obasan...</td>\n",
       "      <td>0.0</td>\n",
       "      <td>0.000000</td>\n",
       "    </tr>\n",
       "    <tr>\n",
       "      <th>14</th>\n",
       "      <td>[{'annotation_id': 4144959078926308947, 'long_...</td>\n",
       "      <td>&lt;!DOCTYPE html&gt;\\n&lt;HTML class=\"client-js ve-not...</td>\n",
       "      <td>Grey's Anatomy (season 14)</td>\n",
       "      <td>[{'end_byte': 96, 'html_token': False, 'start_...</td>\n",
       "      <td>https://en.wikipedia.org//w/index.php?title=Gr...</td>\n",
       "      <td>7901746249864619718</td>\n",
       "      <td>[{'end_byte': 45048, 'end_token': 191, 'start_...</td>\n",
       "      <td>when does the 14th season of grey's anatomy co...</td>\n",
       "      <td>['when', 'does', 'the', '14th', 'season', 'of'...</td>\n",
       "      <td>{'end_byte': 45409, 'end_token': 227, 'start_b...</td>\n",
       "      <td>September 28 , 2017</td>\n",
       "      <td>The 14th season of Grey's Anatomy comes out on...</td>\n",
       "      <td>[Grey 's Anatomy ( season 14 ) - wikipedia Gre...</td>\n",
       "      <td>1.0</td>\n",
       "      <td>0.026822</td>\n",
       "    </tr>\n",
       "    <tr>\n",
       "      <th>15</th>\n",
       "      <td>[{'annotation_id': 12719461466671710612, 'long...</td>\n",
       "      <td>&lt;!DOCTYPE html&gt;\\n&lt;HTML class=\"client-js ve-not...</td>\n",
       "      <td>The Hunger Games (novel)</td>\n",
       "      <td>[{'end_byte': 95, 'html_token': False, 'start_...</td>\n",
       "      <td>https://en.wikipedia.org//w/index.php?title=Th...</td>\n",
       "      <td>-896127746191949637</td>\n",
       "      <td>[{'end_byte': 58996, 'end_token': 177, 'start_...</td>\n",
       "      <td>when was the first hunger games book published</td>\n",
       "      <td>['when', 'was', 'the', 'first', 'hunger', 'gam...</td>\n",
       "      <td>{'end_byte': 59040, 'end_token': 184, 'start_b...</td>\n",
       "      <td>2008</td>\n",
       "      <td>The first Hunger Games book was published in 2...</td>\n",
       "      <td>[The Hunger Games ( novel ) - wikipedia The Hu...</td>\n",
       "      <td>1.0</td>\n",
       "      <td>0.000000</td>\n",
       "    </tr>\n",
       "    <tr>\n",
       "      <th>16</th>\n",
       "      <td>[{'annotation_id': 15102546544216858379, 'long...</td>\n",
       "      <td>&lt;!DOCTYPE html&gt;\\n&lt;HTML class=\"client-js ve-not...</td>\n",
       "      <td>Adverse event</td>\n",
       "      <td>[{'end_byte': 99, 'html_token': False, 'start_...</td>\n",
       "      <td>https://en.wikipedia.org//w/index.php?title=Ad...</td>\n",
       "      <td>-3060307639232891656</td>\n",
       "      <td>[{'end_byte': 43073, 'end_token': 74, 'start_b...</td>\n",
       "      <td>mandatory elements in the definition of an adv...</td>\n",
       "      <td>['mandatory', 'elements', 'in', 'the', 'defini...</td>\n",
       "      <td>{'end_byte': 43594, 'end_token': 160, 'start_b...</td>\n",
       "      <td>any unfavourable and unintended sign ( includi...</td>\n",
       "      <td>The mandatory elements in the definition of an...</td>\n",
       "      <td>[Adverse event - wikipedia Adverse event Jump ...</td>\n",
       "      <td>1.0</td>\n",
       "      <td>0.029043</td>\n",
       "    </tr>\n",
       "    <tr>\n",
       "      <th>17</th>\n",
       "      <td>[{'annotation_id': 3538680370545277055, 'long_...</td>\n",
       "      <td>&lt;!DOCTYPE html&gt;\\n&lt;HTML class=\"client-js ve-not...</td>\n",
       "      <td>National debt of the United States</td>\n",
       "      <td>[{'end_byte': 100, 'html_token': False, 'start...</td>\n",
       "      <td>https://en.wikipedia.org//w/index.php?title=Na...</td>\n",
       "      <td>8044909700499569711</td>\n",
       "      <td>[{'end_byte': 53474, 'end_token': 263, 'start_...</td>\n",
       "      <td>how much is the united states in debt to china</td>\n",
       "      <td>['how', 'much', 'is', 'the', 'united', 'states...</td>\n",
       "      <td>{'end_byte': 161535, 'end_token': 9527, 'start...</td>\n",
       "      <td>1,200.5</td>\n",
       "      <td>The United States is in debt to China for 1,20...</td>\n",
       "      <td>[6,783 318.1 4.69 % 2002 6,228 332.5 5.34 % 20...</td>\n",
       "      <td>1.0</td>\n",
       "      <td>0.323106</td>\n",
       "    </tr>\n",
       "    <tr>\n",
       "      <th>18</th>\n",
       "      <td>[{'annotation_id': 15281230539700289409, 'long...</td>\n",
       "      <td>&lt;!DOCTYPE html&gt;\\n&lt;HTML class=\"client-js ve-not...</td>\n",
       "      <td>Grease (film)</td>\n",
       "      <td>[{'end_byte': 98, 'html_token': False, 'start_...</td>\n",
       "      <td>https://en.wikipedia.org//w/index.php?title=Gr...</td>\n",
       "      <td>-3123234845590594961</td>\n",
       "      <td>[{'end_byte': 46418, 'end_token': 234, 'start_...</td>\n",
       "      <td>where did the race in grease take place</td>\n",
       "      <td>['where', 'did', 'the', 'race', 'in', 'grease'...</td>\n",
       "      <td>{'end_byte': 54645, 'end_token': 914, 'start_b...</td>\n",
       "      <td>Thunder Road</td>\n",
       "      <td>The race in Grease took place at Thunder Road.</td>\n",
       "      <td>[Jeff Conaway ) , Doody ( Barry Pearl ) , Sonn...</td>\n",
       "      <td>1.0</td>\n",
       "      <td>0.000000</td>\n",
       "    </tr>\n",
       "    <tr>\n",
       "      <th>19</th>\n",
       "      <td>[{'annotation_id': 14961592681566640551, 'long...</td>\n",
       "      <td>&lt;!DOCTYPE html&gt;\\n&lt;HTML class=\"client-js ve-not...</td>\n",
       "      <td>IEEE 802.11</td>\n",
       "      <td>[{'end_byte': 96, 'html_token': False, 'start_...</td>\n",
       "      <td>https://en.wikipedia.org//w/index.php?title=IE...</td>\n",
       "      <td>4326992806019599297</td>\n",
       "      <td>[{'end_byte': 47419, 'end_token': 229, 'start_...</td>\n",
       "      <td>what is the maximum data rate for the 802.11a ...</td>\n",
       "      <td>['what', 'is', 'the', 'maximum', 'data', 'rate...</td>\n",
       "      <td>{'end_byte': 76620, 'end_token': 2276, 'start_...</td>\n",
       "      <td>54 Mbit / s</td>\n",
       "      <td>The maximum data rate for the 802.11a standard...</td>\n",
       "      <td>[obsolete . It specified two net bit rates of ...</td>\n",
       "      <td>1.0</td>\n",
       "      <td>0.000000</td>\n",
       "    </tr>\n",
       "    <tr>\n",
       "      <th>20</th>\n",
       "      <td>[{'annotation_id': 4189560895344341305, 'long_...</td>\n",
       "      <td>&lt;!DOCTYPE html&gt;\\n&lt;HTML class=\"client-js ve-not...</td>\n",
       "      <td>List of Olympic Games host cities</td>\n",
       "      <td>[{'end_byte': 96, 'html_token': False, 'start_...</td>\n",
       "      <td>https://en.wikipedia.org//w/index.php?title=Li...</td>\n",
       "      <td>-5043440364275106554</td>\n",
       "      <td>[{'end_byte': 58383, 'end_token': 235, 'start_...</td>\n",
       "      <td>where are the summer olympics held this year</td>\n",
       "      <td>['where', 'are', 'the', 'summer', 'olympics', ...</td>\n",
       "      <td>{'end_byte': 57908, 'end_token': 210, 'start_b...</td>\n",
       "      <td>Tokyo for the 2020 Summer Olympics</td>\n",
       "      <td>The summer Olympics are held in Tokyo for the ...</td>\n",
       "      <td>[List of Olympic Games host cities - wikipedia...</td>\n",
       "      <td>1.0</td>\n",
       "      <td>0.045606</td>\n",
       "    </tr>\n",
       "    <tr>\n",
       "      <th>21</th>\n",
       "      <td>[{'annotation_id': 13465483517856052932, 'long...</td>\n",
       "      <td>&lt;!DOCTYPE html&gt;\\n&lt;HTML class=\"client-js ve-not...</td>\n",
       "      <td>Substitute good</td>\n",
       "      <td>[{'end_byte': 102, 'html_token': False, 'start...</td>\n",
       "      <td>https://en.wikipedia.org//w/index.php?title=Su...</td>\n",
       "      <td>6144099837933283715</td>\n",
       "      <td>[{'end_byte': 56538, 'end_token': 69, 'start_b...</td>\n",
       "      <td>a good that can be used in place of another good</td>\n",
       "      <td>['a', 'good', 'that', 'can', 'be', 'used', 'in...</td>\n",
       "      <td>{'end_byte': 57519, 'end_token': 84, 'start_by...</td>\n",
       "      <td>substitute good</td>\n",
       "      <td>A substitute good is a good that can be used i...</td>\n",
       "      <td>[Substitute good - wikipedia Substitute good J...</td>\n",
       "      <td>1.0</td>\n",
       "      <td>0.107964</td>\n",
       "    </tr>\n",
       "    <tr>\n",
       "      <th>22</th>\n",
       "      <td>[{'annotation_id': 15410301212651987781, 'long...</td>\n",
       "      <td>&lt;!DOCTYPE html&gt;\\n&lt;HTML class=\"client-js ve-not...</td>\n",
       "      <td>Lord's Prayer</td>\n",
       "      <td>[{'end_byte': 96, 'html_token': False, 'start_...</td>\n",
       "      <td>https://en.wikipedia.org//w/index.php?title=Lo...</td>\n",
       "      <td>-4621948696356225060</td>\n",
       "      <td>[{'end_byte': 146832, 'end_token': 120, 'start...</td>\n",
       "      <td>where in the bible can i find the lord's prayer</td>\n",
       "      <td>['where', 'in', 'the', 'bible', 'can', 'i', 'f...</td>\n",
       "      <td>{'end_byte': 147271, 'end_token': 178, 'start_...</td>\n",
       "      <td>Gospel of Matthew in the middle of the Sermon ...</td>\n",
       "      <td>The Lord's Prayer can be found in the Gospel o...</td>\n",
       "      <td>[Lord 's Prayer - wikipedia Lord 's Prayer Jum...</td>\n",
       "      <td>1.0</td>\n",
       "      <td>0.000000</td>\n",
       "    </tr>\n",
       "    <tr>\n",
       "      <th>23</th>\n",
       "      <td>[{'annotation_id': 466615846740285974, 'long_a...</td>\n",
       "      <td>&lt;!DOCTYPE html&gt;\\n&lt;HTML class=\"client-js ve-not...</td>\n",
       "      <td>United States presidential elections in Nebraska</td>\n",
       "      <td>[{'end_byte': 98, 'html_token': False, 'start_...</td>\n",
       "      <td>https://en.wikipedia.org//w/index.php?title=Un...</td>\n",
       "      <td>6941993254369956277</td>\n",
       "      <td>[{'end_byte': 57322, 'end_token': 91, 'start_b...</td>\n",
       "      <td>when was the last time nebraska voted democrat</td>\n",
       "      <td>['when', 'was', 'the', 'last', 'time', 'nebras...</td>\n",
       "      <td>{'end_byte': 65415, 'end_token': 709, 'start_b...</td>\n",
       "      <td>1964</td>\n",
       "      <td>Nebraska last voted Democrat in 1964.</td>\n",
       "      <td>[Bob Dole 363,467 53.65 Ross Perot 71,278 10.5...</td>\n",
       "      <td>0.0</td>\n",
       "      <td>0.000000</td>\n",
       "    </tr>\n",
       "    <tr>\n",
       "      <th>24</th>\n",
       "      <td>[{'annotation_id': 15818376008260622056, 'long...</td>\n",
       "      <td>&lt;!DOCTYPE html&gt;\\n&lt;HTML class=\"client-js ve-not...</td>\n",
       "      <td>Wipro</td>\n",
       "      <td>[{'end_byte': 97, 'html_token': False, 'start_...</td>\n",
       "      <td>https://en.wikipedia.org//w/index.php?title=Wi...</td>\n",
       "      <td>-8955197065025093046</td>\n",
       "      <td>[{'end_byte': 49855, 'end_token': 278, 'start_...</td>\n",
       "      <td>who become the ceo of it wipro company in 2016</td>\n",
       "      <td>['who', 'become', 'the', 'ceo', 'of', 'it', 'w...</td>\n",
       "      <td>{'end_byte': 83967, 'end_token': 2352, 'start_...</td>\n",
       "      <td>Abid Ali Neemuchwala</td>\n",
       "      <td>Abid Ali Neemuchwala became the CEO of IT Wipr...</td>\n",
       "      <td>[of 7.1 / 10 . Listing and shareholding ( edit...</td>\n",
       "      <td>1.0</td>\n",
       "      <td>0.060761</td>\n",
       "    </tr>\n",
       "    <tr>\n",
       "      <th>25</th>\n",
       "      <td>[{'annotation_id': 9694282287055000957, 'long_...</td>\n",
       "      <td>&lt;!DOCTYPE html&gt;\\n&lt;HTML class=\"client-js ve-not...</td>\n",
       "      <td>Eric van der Woodsen</td>\n",
       "      <td>[{'end_byte': 96, 'html_token': False, 'start_...</td>\n",
       "      <td>https://en.wikipedia.org//w/index.php?title=Er...</td>\n",
       "      <td>-3010425579521817304</td>\n",
       "      <td>[{'end_byte': 59530, 'end_token': 306, 'start_...</td>\n",
       "      <td>who does eric end up with in gossip girl</td>\n",
       "      <td>['who', 'does', 'eric', 'end', 'up', 'with', '...</td>\n",
       "      <td>{'end_byte': 77348, 'end_token': 2578, 'start_...</td>\n",
       "      <td>Jenny</td>\n",
       "      <td>Eric ends up with Jenny in Gossip Girl.</td>\n",
       "      <td>[out of the plan . Eric unknowingly leads his ...</td>\n",
       "      <td>0.0</td>\n",
       "      <td>0.000000</td>\n",
       "    </tr>\n",
       "    <tr>\n",
       "      <th>26</th>\n",
       "      <td>[{'annotation_id': 12012487435622761481, 'long...</td>\n",
       "      <td>&lt;!DOCTYPE html&gt;\\n&lt;HTML class=\"client-js ve-not...</td>\n",
       "      <td>She's the Man</td>\n",
       "      <td>[{'end_byte': 95, 'html_token': False, 'start_...</td>\n",
       "      <td>https://en.wikipedia.org//w/index.php?title=Sh...</td>\n",
       "      <td>7264112453286983469</td>\n",
       "      <td>[{'end_byte': 59481, 'end_token': 241, 'start_...</td>\n",
       "      <td>who plays unis in she's the man</td>\n",
       "      <td>['who', 'plays', 'unis', 'in', 'she', \"'s\", 't...</td>\n",
       "      <td>{'end_byte': 68199, 'end_token': 1318, 'start_...</td>\n",
       "      <td>Emily Perkins</td>\n",
       "      <td>Emily Perkins plays Unis in She's the Man.</td>\n",
       "      <td>[victory over Cornwall , except for Duke who i...</td>\n",
       "      <td>1.0</td>\n",
       "      <td>0.022515</td>\n",
       "    </tr>\n",
       "    <tr>\n",
       "      <th>27</th>\n",
       "      <td>[{'annotation_id': 10516871483356075040, 'long...</td>\n",
       "      <td>&lt;!DOCTYPE html&gt;\\n&lt;HTML class=\"client-js ve-not...</td>\n",
       "      <td>Jingle All the Way</td>\n",
       "      <td>[{'end_byte': 98, 'html_token': False, 'start_...</td>\n",
       "      <td>https://en.wikipedia.org//w/index.php?title=Ji...</td>\n",
       "      <td>2627695648792729859</td>\n",
       "      <td>[{'end_byte': 47488, 'end_token': 290, 'start_...</td>\n",
       "      <td>who played booster in jingle all the way</td>\n",
       "      <td>['who', 'played', 'booster', 'in', 'jingle', '...</td>\n",
       "      <td>{'end_byte': 62002, 'end_token': 1955, 'start_...</td>\n",
       "      <td>Curtis Armstrong</td>\n",
       "      <td>Curtis Armstrong played Booster in Jingle All ...</td>\n",
       "      <td>[his son . Officer Hummell gives the doll to J...</td>\n",
       "      <td>0.0</td>\n",
       "      <td>0.014499</td>\n",
       "    </tr>\n",
       "    <tr>\n",
       "      <th>28</th>\n",
       "      <td>[{'annotation_id': 12395481208147225754, 'long...</td>\n",
       "      <td>&lt;!DOCTYPE html&gt;\\n&lt;HTML class=\"client-js ve-not...</td>\n",
       "      <td>Dog and pony show</td>\n",
       "      <td>[{'end_byte': 95, 'html_token': False, 'start_...</td>\n",
       "      <td>https://en.wikipedia.org//w/index.php?title=Do...</td>\n",
       "      <td>9178789216794050377</td>\n",
       "      <td>[{'end_byte': 43139, 'end_token': 121, 'start_...</td>\n",
       "      <td>where does the term dog and pony show come from</td>\n",
       "      <td>['where', 'does', 'the', 'term', 'dog', 'and',...</td>\n",
       "      <td>{'end_byte': 43538, 'end_token': 147, 'start_b...</td>\n",
       "      <td>in the United States in the late - 19th and ea...</td>\n",
       "      <td>The term \"dog and pony show\" comes from the Un...</td>\n",
       "      <td>[Dog and Pony Show - Wikipedia Dog and Pony Sh...</td>\n",
       "      <td>1.0</td>\n",
       "      <td>0.149464</td>\n",
       "    </tr>\n",
       "    <tr>\n",
       "      <th>29</th>\n",
       "      <td>[{'annotation_id': 17146976167167167599, 'long...</td>\n",
       "      <td>&lt;!DOCTYPE html&gt;\\n&lt;HTML class=\"client-js ve-not...</td>\n",
       "      <td>History of Islam</td>\n",
       "      <td>[{'end_byte': 99, 'html_token': False, 'start_...</td>\n",
       "      <td>https://en.wikipedia.org//w/index.php?title=Hi...</td>\n",
       "      <td>-9169976182548289414</td>\n",
       "      <td>[{'end_byte': 65628, 'end_token': 363, 'start_...</td>\n",
       "      <td>who is recognized as the founder of islam</td>\n",
       "      <td>['who', 'is', 'recognized', 'as', 'the', 'foun...</td>\n",
       "      <td>{'end_byte': 96964, 'end_token': 2200, 'start_...</td>\n",
       "      <td>Muhammad</td>\n",
       "      <td>Muhammad is recognized as the founder of Islam.</td>\n",
       "      <td>[, if still of mixed quality . In particular ,...</td>\n",
       "      <td>1.0</td>\n",
       "      <td>0.000000</td>\n",
       "    </tr>\n",
       "    <tr>\n",
       "      <th>30</th>\n",
       "      <td>[{'annotation_id': 5133708514024748713, 'long_...</td>\n",
       "      <td>&lt;!DOCTYPE html&gt;\\n&lt;HTML class=\"client-js ve-not...</td>\n",
       "      <td>Air Bud: World Pup</td>\n",
       "      <td>[{'end_byte': 95, 'html_token': False, 'start_...</td>\n",
       "      <td>https://en.wikipedia.org//w/index.php?title=Ai...</td>\n",
       "      <td>-6696747560626271522</td>\n",
       "      <td>[{'end_byte': 58043, 'end_token': 206, 'start_...</td>\n",
       "      <td>who plays emma in air bud world pup</td>\n",
       "      <td>['who', 'plays', 'emma', 'in', 'air', 'bud', '...</td>\n",
       "      <td>{'end_byte': 63426, 'end_token': 815, 'start_b...</td>\n",
       "      <td>Brittany Paige Bouck</td>\n",
       "      <td>Brittany Paige Bouck plays Emma in Air Bud Wor...</td>\n",
       "      <td>[at the party . Molly quickly has puppies with...</td>\n",
       "      <td>0.0</td>\n",
       "      <td>0.057176</td>\n",
       "    </tr>\n",
       "    <tr>\n",
       "      <th>31</th>\n",
       "      <td>[{'annotation_id': 9238914499825617540, 'long_...</td>\n",
       "      <td>&lt;!DOCTYPE html&gt;\\n&lt;HTML class=\"client-js ve-not...</td>\n",
       "      <td>Sasuke Uchiha</td>\n",
       "      <td>[{'end_byte': 98, 'html_token': False, 'start_...</td>\n",
       "      <td>https://en.wikipedia.org//w/index.php?title=Sa...</td>\n",
       "      <td>5871681964137793716</td>\n",
       "      <td>[{'end_byte': 58697, 'end_token': 170, 'start_...</td>\n",
       "      <td>how old was sasuke when his clan died</td>\n",
       "      <td>['how', 'old', 'was', 'sasuke', 'when', 'his',...</td>\n",
       "      <td>{'end_byte': 93156, 'end_token': 3015, 'start_...</td>\n",
       "      <td>seven</td>\n",
       "      <td>Sasuke was seven years old when his clan died.</td>\n",
       "      <td>[the power of his attacks . In The Last : Naru...</td>\n",
       "      <td>0.0</td>\n",
       "      <td>0.000000</td>\n",
       "    </tr>\n",
       "    <tr>\n",
       "      <th>32</th>\n",
       "      <td>[{'annotation_id': 3017307652670184783, 'long_...</td>\n",
       "      <td>&lt;!DOCTYPE html&gt;\\n&lt;HTML class=\"client-js ve-not...</td>\n",
       "      <td>Training camp (National Football League)</td>\n",
       "      <td>[{'end_byte': 100, 'html_token': False, 'start...</td>\n",
       "      <td>https://en.wikipedia.org//w/index.php?title=Tr...</td>\n",
       "      <td>-4221604869059375188</td>\n",
       "      <td>[{'end_byte': 44801, 'end_token': 89, 'start_b...</td>\n",
       "      <td>how long is training camp for nfl players</td>\n",
       "      <td>['how', 'long', 'is', 'training', 'camp', 'for...</td>\n",
       "      <td>{'end_byte': 46334, 'end_token': 158, 'start_b...</td>\n",
       "      <td>at least the first few weeks</td>\n",
       "      <td>Training camp for NFL players is at least the ...</td>\n",
       "      <td>[Training camp ( National Football League ) - ...</td>\n",
       "      <td>1.0</td>\n",
       "      <td>0.000000</td>\n",
       "    </tr>\n",
       "    <tr>\n",
       "      <th>33</th>\n",
       "      <td>[{'annotation_id': 15375424220058979523, 'long...</td>\n",
       "      <td>&lt;!DOCTYPE html&gt;\\n&lt;HTML class=\"client-js ve-not...</td>\n",
       "      <td>Air pollution</td>\n",
       "      <td>[{'end_byte': 95, 'html_token': False, 'start_...</td>\n",
       "      <td>https://en.wikipedia.org//w/index.php?title=Ai...</td>\n",
       "      <td>8552176802923865025</td>\n",
       "      <td>[{'end_byte': 51079, 'end_token': 137, 'start_...</td>\n",
       "      <td>where do some of the natural air pollutants co...</td>\n",
       "      <td>['where', 'do', 'some', 'of', 'the', 'natural'...</td>\n",
       "      <td>{'end_byte': 70527, 'end_token': 1026, 'start_...</td>\n",
       "      <td>Carbon dioxide</td>\n",
       "      <td>Some of the natural air pollutants come from c...</td>\n",
       "      <td>[air pollution 15 See also 16 References 17 Fu...</td>\n",
       "      <td>0.0</td>\n",
       "      <td>0.020258</td>\n",
       "    </tr>\n",
       "    <tr>\n",
       "      <th>34</th>\n",
       "      <td>[{'annotation_id': 3071594811100253283, 'long_...</td>\n",
       "      <td>&lt;!DOCTYPE html&gt;\\n&lt;HTML class=\"client-js ve-not...</td>\n",
       "      <td>New Birth Missionary Baptist Church</td>\n",
       "      <td>[{'end_byte': 95, 'html_token': False, 'start_...</td>\n",
       "      <td>https://en.wikipedia.org//w/index.php?title=Ne...</td>\n",
       "      <td>-2630525064809360052</td>\n",
       "      <td>[{'end_byte': 55331, 'end_token': 56, 'start_b...</td>\n",
       "      <td>who is the pastor of new birth missionary bapt...</td>\n",
       "      <td>['who', 'is', 'the', 'pastor', 'of', 'new', 'b...</td>\n",
       "      <td>{'end_byte': 58915, 'end_token': 434, 'start_b...</td>\n",
       "      <td>Stephen A. Davis</td>\n",
       "      <td>The pastor of New Birth Missionary Baptist Chu...</td>\n",
       "      <td>[- Cole , and was chosen by the family of rapp...</td>\n",
       "      <td>0.0</td>\n",
       "      <td>0.000000</td>\n",
       "    </tr>\n",
       "    <tr>\n",
       "      <th>35</th>\n",
       "      <td>[{'annotation_id': 9304079710958573871, 'long_...</td>\n",
       "      <td>&lt;!DOCTYPE html&gt;\\n&lt;HTML class=\"client-js ve-not...</td>\n",
       "      <td>Super Bowl LII halftime show</td>\n",
       "      <td>[{'end_byte': 97, 'html_token': False, 'start_...</td>\n",
       "      <td>https://en.wikipedia.org//w/index.php?title=Su...</td>\n",
       "      <td>6434931911289860123</td>\n",
       "      <td>[{'end_byte': 57541, 'end_token': 151, 'start_...</td>\n",
       "      <td>who is doing 2018 super bowl half time show</td>\n",
       "      <td>['who', 'is', 'doing', '2018', 'super', 'bowl'...</td>\n",
       "      <td>{'end_byte': 58098, 'end_token': 195, 'start_b...</td>\n",
       "      <td>Justin Timberlake</td>\n",
       "      <td>Justin Timberlake is doing the 2018 Super Bowl...</td>\n",
       "      <td>[Super Bowl LII halftime show - Wikipedia Supe...</td>\n",
       "      <td>1.0</td>\n",
       "      <td>0.000000</td>\n",
       "    </tr>\n",
       "    <tr>\n",
       "      <th>36</th>\n",
       "      <td>[{'annotation_id': 16247009432746546585, 'long...</td>\n",
       "      <td>&lt;!DOCTYPE html&gt;\\n&lt;HTML class=\"client-js ve-not...</td>\n",
       "      <td>Super Bowl LII halftime show</td>\n",
       "      <td>[{'end_byte': 97, 'html_token': False, 'start_...</td>\n",
       "      <td>https://en.wikipedia.org//w/index.php?title=Su...</td>\n",
       "      <td>8869318258439148973</td>\n",
       "      <td>[{'end_byte': 57522, 'end_token': 151, 'start_...</td>\n",
       "      <td>who is playing the halftime show for the super...</td>\n",
       "      <td>['who', 'is', 'playing', 'the', 'halftime', 's...</td>\n",
       "      <td>{'end_byte': 58079, 'end_token': 195, 'start_b...</td>\n",
       "      <td>Justin Timberlake</td>\n",
       "      <td>Justin Timberlake is playing the halftime show...</td>\n",
       "      <td>[Super Bowl LII halftime show - Wikipedia Supe...</td>\n",
       "      <td>1.0</td>\n",
       "      <td>0.035044</td>\n",
       "    </tr>\n",
       "    <tr>\n",
       "      <th>37</th>\n",
       "      <td>[{'annotation_id': 683599303778285450, 'long_a...</td>\n",
       "      <td>&lt;!DOCTYPE html&gt;\\n&lt;HTML class=\"client-js ve-not...</td>\n",
       "      <td>They Think It's All Over (TV series)</td>\n",
       "      <td>[{'end_byte': 96, 'html_token': False, 'start_...</td>\n",
       "      <td>https://en.wikipedia.org//w/index.php?title=Th...</td>\n",
       "      <td>-8359866474144720253</td>\n",
       "      <td>[{'end_byte': 42644, 'end_token': 296, 'start_...</td>\n",
       "      <td>who hosted they think it's all over</td>\n",
       "      <td>['who', 'hosted', 'they', 'think', 'it', \"'s\",...</td>\n",
       "      <td>{'end_byte': 45663, 'end_token': 456, 'start_b...</td>\n",
       "      <td>comedian Nick Hancock</td>\n",
       "      <td>Comedian Nick Hancock hosted \"They Think It's ...</td>\n",
       "      <td>[No. of episodes 154 ( list of episodes ) Prod...</td>\n",
       "      <td>1.0</td>\n",
       "      <td>0.034391</td>\n",
       "    </tr>\n",
       "    <tr>\n",
       "      <th>38</th>\n",
       "      <td>[{'annotation_id': 1858802391437472801, 'long_...</td>\n",
       "      <td>&lt;!DOCTYPE html&gt;\\n&lt;HTML class=\"client-js ve-not...</td>\n",
       "      <td>Proof of Life</td>\n",
       "      <td>[{'end_byte': 97, 'html_token': False, 'start_...</td>\n",
       "      <td>https://en.wikipedia.org//w/index.php?title=Pr...</td>\n",
       "      <td>-1206653570097564556</td>\n",
       "      <td>[{'end_byte': 47174, 'end_token': 274, 'start_...</td>\n",
       "      <td>where does the movie proof of life take place</td>\n",
       "      <td>['where', 'does', 'the', 'movie', 'proof', 'of...</td>\n",
       "      <td>{'end_byte': 60679, 'end_token': 1594, 'start_...</td>\n",
       "      <td>The Republic of Tecala</td>\n",
       "      <td>The movie \"Proof of Life\" takes place in The R...</td>\n",
       "      <td>[Heald as Ted Fellner Michael Byrne as Lord Lu...</td>\n",
       "      <td>1.0</td>\n",
       "      <td>0.000000</td>\n",
       "    </tr>\n",
       "    <tr>\n",
       "      <th>39</th>\n",
       "      <td>[{'annotation_id': 684625156324278457, 'long_a...</td>\n",
       "      <td>&lt;!DOCTYPE html&gt;\\n&lt;HTML class=\"client-js ve-not...</td>\n",
       "      <td>Monkey's uncle</td>\n",
       "      <td>[{'end_byte': 98, 'html_token': False, 'start_...</td>\n",
       "      <td>https://en.wikipedia.org//w/index.php?title=Mo...</td>\n",
       "      <td>6405015309290964923</td>\n",
       "      <td>[{'end_byte': 56138, 'end_token': 221, 'start_...</td>\n",
       "      <td>where did the saying monkey's uncle come from</td>\n",
       "      <td>['where', 'did', 'the', 'saying', 'monkey', \"'...</td>\n",
       "      <td>{'end_byte': 55195, 'end_token': 137, 'start_b...</td>\n",
       "      <td>Scopes Trial in the United States</td>\n",
       "      <td>The saying \"monkey's uncle\" came from the Scop...</td>\n",
       "      <td>[Monkey 's uncle - Wikipedia Monkey 's uncle J...</td>\n",
       "      <td>1.0</td>\n",
       "      <td>0.133631</td>\n",
       "    </tr>\n",
       "    <tr>\n",
       "      <th>40</th>\n",
       "      <td>[{'annotation_id': 10988486476377733576, 'long...</td>\n",
       "      <td>&lt;!DOCTYPE html&gt;\\n&lt;HTML class=\"client-js ve-not...</td>\n",
       "      <td>List of tie-breaking votes cast by vice presid...</td>\n",
       "      <td>[{'end_byte': 96, 'html_token': False, 'start_...</td>\n",
       "      <td>https://en.wikipedia.org//w/index.php?title=Li...</td>\n",
       "      <td>3790834797035922554</td>\n",
       "      <td>[{'end_byte': 73073, 'end_token': 349, 'start_...</td>\n",
       "      <td>who breaks a tie in the us senate</td>\n",
       "      <td>['who', 'breaks', 'a', 'tie', 'in', 'the', 'us...</td>\n",
       "      <td>{'end_byte': 73212, 'end_token': 357, 'start_b...</td>\n",
       "      <td>Vice President of the United States</td>\n",
       "      <td>The Vice President of the United States breaks...</td>\n",
       "      <td>[United States Senate History of the United St...</td>\n",
       "      <td>1.0</td>\n",
       "      <td>0.050456</td>\n",
       "    </tr>\n",
       "    <tr>\n",
       "      <th>41</th>\n",
       "      <td>[{'annotation_id': 14182585556127620172, 'long...</td>\n",
       "      <td>&lt;!DOCTYPE html&gt;\\n&lt;HTML class=\"client-js ve-not...</td>\n",
       "      <td>U.S. Route 1</td>\n",
       "      <td>[{'end_byte': 96, 'html_token': False, 'start_...</td>\n",
       "      <td>https://en.wikipedia.org//w/index.php?title=U....</td>\n",
       "      <td>6144521615402262404</td>\n",
       "      <td>[{'end_byte': 53335, 'end_token': 335, 'start_...</td>\n",
       "      <td>where does us highway 1 start and end</td>\n",
       "      <td>['where', 'does', 'us', 'highway', '1', 'start...</td>\n",
       "      <td>{'end_byte': 53952, 'end_token': 389, 'start_b...</td>\n",
       "      <td>from Fort Kent , Maine , at the Canada -- US b...</td>\n",
       "      <td>US Highway 1 starts from Fort Kent, Maine, at ...</td>\n",
       "      <td>[km ) Existed : 1926 -- present Major junction...</td>\n",
       "      <td>1.0</td>\n",
       "      <td>0.131971</td>\n",
       "    </tr>\n",
       "    <tr>\n",
       "      <th>42</th>\n",
       "      <td>[{'annotation_id': 16350967413302925109, 'long...</td>\n",
       "      <td>&lt;!DOCTYPE html&gt;\\n&lt;HTML class=\"client-js ve-not...</td>\n",
       "      <td>List of National Basketball Association single...</td>\n",
       "      <td>[{'end_byte': 96, 'html_token': False, 'start_...</td>\n",
       "      <td>https://en.wikipedia.org//w/index.php?title=Li...</td>\n",
       "      <td>-8631190913794477985</td>\n",
       "      <td>[{'end_byte': 58335, 'end_token': 66, 'start_b...</td>\n",
       "      <td>who scored the most points in a single game in...</td>\n",
       "      <td>['who', 'scored', 'the', 'most', 'points', 'in...</td>\n",
       "      <td>{'end_byte': 65473, 'end_token': 456, 'start_b...</td>\n",
       "      <td>Wilt Chamberlain</td>\n",
       "      <td>Wilt Chamberlain scored the most points in a s...</td>\n",
       "      <td>[Jordan ( 63 ) and Baylor ( 61 ) are the only ...</td>\n",
       "      <td>1.0</td>\n",
       "      <td>0.000000</td>\n",
       "    </tr>\n",
       "    <tr>\n",
       "      <th>43</th>\n",
       "      <td>[{'annotation_id': 7235691620112738643, 'long_...</td>\n",
       "      <td>&lt;!DOCTYPE html&gt;\\n&lt;HTML class=\"client-js ve-not...</td>\n",
       "      <td>Natural gas in the United States</td>\n",
       "      <td>[{'end_byte': 99, 'html_token': False, 'start_...</td>\n",
       "      <td>https://en.wikipedia.org//w/index.php?title=Na...</td>\n",
       "      <td>199896377614951764</td>\n",
       "      <td>[{'end_byte': 58779, 'end_token': 119, 'start_...</td>\n",
       "      <td>where is natural gas found in the us</td>\n",
       "      <td>['where', 'is', 'natural', 'gas', 'found', 'in...</td>\n",
       "      <td>{'end_byte': 72476, 'end_token': 1235, 'start_...</td>\n",
       "      <td>Texas</td>\n",
       "      <td>Natural gas is found in Texas in the US.</td>\n",
       "      <td>[) In 2010 , the industry drilled and complete...</td>\n",
       "      <td>1.0</td>\n",
       "      <td>0.000000</td>\n",
       "    </tr>\n",
       "    <tr>\n",
       "      <th>44</th>\n",
       "      <td>[{'annotation_id': 8780377422873423015, 'long_...</td>\n",
       "      <td>&lt;!DOCTYPE html&gt;\\n&lt;HTML class=\"client-js ve-not...</td>\n",
       "      <td>Indian general election, 1951–52</td>\n",
       "      <td>[{'end_byte': 98, 'html_token': False, 'start_...</td>\n",
       "      <td>https://en.wikipedia.org//w/index.php?title=In...</td>\n",
       "      <td>8986775680996674901</td>\n",
       "      <td>[{'end_byte': 62688, 'end_token': 214, 'start_...</td>\n",
       "      <td>when were the first general elections held in ...</td>\n",
       "      <td>['when', 'were', 'the', 'first', 'general', 'e...</td>\n",
       "      <td>{'end_byte': 62735, 'end_token': 223, 'start_b...</td>\n",
       "      <td>1951 -- 52</td>\n",
       "      <td>The first general elections in independent Ind...</td>\n",
       "      <td>[Indian general election , 1951 -- 52 - Wikipe...</td>\n",
       "      <td>1.0</td>\n",
       "      <td>0.108047</td>\n",
       "    </tr>\n",
       "    <tr>\n",
       "      <th>45</th>\n",
       "      <td>[{'annotation_id': 7354648929830740949, 'long_...</td>\n",
       "      <td>&lt;!DOCTYPE html&gt;\\n&lt;HTML class=\"client-js ve-not...</td>\n",
       "      <td>Tower of London</td>\n",
       "      <td>[{'end_byte': 97, 'html_token': False, 'start_...</td>\n",
       "      <td>https://en.wikipedia.org//w/index.php?title=To...</td>\n",
       "      <td>700604097171850168</td>\n",
       "      <td>[{'end_byte': 145879, 'end_token': 61, 'start_...</td>\n",
       "      <td>what was the tower of london originally used for</td>\n",
       "      <td>['what', 'was', 'the', 'tower', 'of', 'london'...</td>\n",
       "      <td>{'end_byte': 153290, 'end_token': 487, 'start_...</td>\n",
       "      <td>a royal residence</td>\n",
       "      <td>The Tower of London was originally used as a r...</td>\n",
       "      <td>[Owner Queen Elizabeth II in right of the Crow...</td>\n",
       "      <td>1.0</td>\n",
       "      <td>0.049845</td>\n",
       "    </tr>\n",
       "    <tr>\n",
       "      <th>46</th>\n",
       "      <td>[{'annotation_id': 17476613494537591047, 'long...</td>\n",
       "      <td>&lt;!DOCTYPE html&gt;\\n&lt;HTML class=\"client-js ve-not...</td>\n",
       "      <td>Zippo</td>\n",
       "      <td>[{'end_byte': 97, 'html_token': False, 'start_...</td>\n",
       "      <td>https://en.wikipedia.org//w/index.php?title=Zi...</td>\n",
       "      <td>6745303307988470742</td>\n",
       "      <td>[{'end_byte': 43822, 'end_token': 107, 'start_...</td>\n",
       "      <td>what type of fuel goes in a zippo</td>\n",
       "      <td>['what', 'type', 'of', 'fuel', 'goes', 'in', '...</td>\n",
       "      <td>{'end_byte': 51465, 'end_token': 672, 'start_b...</td>\n",
       "      <td>butane</td>\n",
       "      <td>The type of fuel that goes in a Zippo is butane.</td>\n",
       "      <td>[more modern . On March 3 , 1936 , a patent wa...</td>\n",
       "      <td>1.0</td>\n",
       "      <td>0.040509</td>\n",
       "    </tr>\n",
       "    <tr>\n",
       "      <th>47</th>\n",
       "      <td>[{'annotation_id': 15330047924655000248, 'long...</td>\n",
       "      <td>&lt;!DOCTYPE html&gt;\\n&lt;HTML class=\"client-js ve-not...</td>\n",
       "      <td>G. Sankara Kurup</td>\n",
       "      <td>[{'end_byte': 94, 'html_token': False, 'start_...</td>\n",
       "      <td>https://en.wikipedia.org//w/index.php?title=G....</td>\n",
       "      <td>-2060506905455252030</td>\n",
       "      <td>[{'end_byte': 42963, 'end_token': 71, 'start_b...</td>\n",
       "      <td>first jnanpith award was an autor of which lan...</td>\n",
       "      <td>['first', 'jnanpith', 'award', 'was', 'an', 'a...</td>\n",
       "      <td>{'end_byte': 46093, 'end_token': 251, 'start_b...</td>\n",
       "      <td>Malayalam</td>\n",
       "      <td>The first Jnanpith award was given to an autho...</td>\n",
       "      <td>[G Sankara Kurup - Wikipedia G Sankara Kurup J...</td>\n",
       "      <td>1.0</td>\n",
       "      <td>0.059128</td>\n",
       "    </tr>\n",
       "    <tr>\n",
       "      <th>48</th>\n",
       "      <td>[{'annotation_id': 10385324122607597105, 'long...</td>\n",
       "      <td>&lt;!DOCTYPE html&gt;\\n&lt;HTML class=\"client-js ve-not...</td>\n",
       "      <td>List of Batman television series cast members</td>\n",
       "      <td>[{'end_byte': 96, 'html_token': False, 'start_...</td>\n",
       "      <td>https://en.wikipedia.org//w/index.php?title=Li...</td>\n",
       "      <td>4738663028303377024</td>\n",
       "      <td>[{'end_byte': 42638, 'end_token': 75, 'start_b...</td>\n",
       "      <td>who played the mad hatter in the batman tv show</td>\n",
       "      <td>['who', 'played', 'the', 'mad', 'hatter', 'in'...</td>\n",
       "      <td>{'end_byte': 57940, 'end_token': 881, 'start_b...</td>\n",
       "      <td>David Wayne</td>\n",
       "      <td>David Wayne played the Mad Hatter in the Batma...</td>\n",
       "      <td>[Lennie Weinrib Mark Hamill Michael McKean Kev...</td>\n",
       "      <td>0.0</td>\n",
       "      <td>0.000000</td>\n",
       "    </tr>\n",
       "    <tr>\n",
       "      <th>49</th>\n",
       "      <td>[{'annotation_id': 2807365019587450102, 'long_...</td>\n",
       "      <td>&lt;!DOCTYPE html&gt;\\n&lt;HTML class=\"client-js ve-not...</td>\n",
       "      <td>Cracker Barrel</td>\n",
       "      <td>[{'end_byte': 99, 'html_token': False, 'start_...</td>\n",
       "      <td>https://en.wikipedia.org//w/index.php?title=Cr...</td>\n",
       "      <td>-1650946015201779846</td>\n",
       "      <td>[{'end_byte': 63595, 'end_token': 262, 'start_...</td>\n",
       "      <td>how many cracker barrels in the united states</td>\n",
       "      <td>['how', 'many', 'cracker', 'barrels', 'in', 't...</td>\n",
       "      <td>{'end_byte': 80065, 'end_token': 1448, 'start_...</td>\n",
       "      <td>more than 600</td>\n",
       "      <td>There are more than 600 Cracker Barrel locatio...</td>\n",
       "      <td>[September 1997 , Cracker Barrel had 314 resta...</td>\n",
       "      <td>1.0</td>\n",
       "      <td>0.000000</td>\n",
       "    </tr>\n",
       "    <tr>\n",
       "      <th>50</th>\n",
       "      <td>[{'annotation_id': 9492811772680909760, 'long_...</td>\n",
       "      <td>&lt;!DOCTYPE html&gt;\\n&lt;HTML class=\"client-js ve-not...</td>\n",
       "      <td>C4 carbon fixation</td>\n",
       "      <td>[{'end_byte': 94, 'html_token': False, 'start_...</td>\n",
       "      <td>https://en.wikipedia.org//w/index.php?title=C4...</td>\n",
       "      <td>-3422350952909582054</td>\n",
       "      <td>[{'end_byte': 43421, 'end_token': 211, 'start_...</td>\n",
       "      <td>in photosynthesis the carbon in co2 is initial...</td>\n",
       "      <td>['in', 'photosynthesis', 'the', 'carbon', 'in'...</td>\n",
       "      <td>{'end_byte': 51957, 'end_token': 646, 'start_b...</td>\n",
       "      <td>3 - phosphoglycerate</td>\n",
       "      <td>In photosynthesis, the carbon in CO2 is initia...</td>\n",
       "      <td>[then makes malate ( 4 carbons ) . Malate ente...</td>\n",
       "      <td>1.0</td>\n",
       "      <td>0.028261</td>\n",
       "    </tr>\n",
       "  </tbody>\n",
       "</table>\n",
       "</div>"
      ],
      "text/plain": [
       "                                          annotations  \\\n",
       "0   [{'annotation_id': 13591449469826568799, 'long...   \n",
       "1   [{'annotation_id': 647276088892962831, 'long_a...   \n",
       "2   [{'annotation_id': 2430977867500315580, 'long_...   \n",
       "3   [{'annotation_id': 9697565976974065308, 'long_...   \n",
       "4   [{'annotation_id': 4784303670917138272, 'long_...   \n",
       "5   [{'annotation_id': 6266663361328668375, 'long_...   \n",
       "6   [{'annotation_id': 14014754538899837203, 'long...   \n",
       "7   [{'annotation_id': 16665979442690208418, 'long...   \n",
       "8   [{'annotation_id': 11568032619189358823, 'long...   \n",
       "9   [{'annotation_id': 7999826998558821530, 'long_...   \n",
       "10  [{'annotation_id': 15147036539655833759, 'long...   \n",
       "11  [{'annotation_id': 9201286942431765824, 'long_...   \n",
       "12  [{'annotation_id': 8077086470867550841, 'long_...   \n",
       "13  [{'annotation_id': 9356596025431156993, 'long_...   \n",
       "14  [{'annotation_id': 4144959078926308947, 'long_...   \n",
       "15  [{'annotation_id': 12719461466671710612, 'long...   \n",
       "16  [{'annotation_id': 15102546544216858379, 'long...   \n",
       "17  [{'annotation_id': 3538680370545277055, 'long_...   \n",
       "18  [{'annotation_id': 15281230539700289409, 'long...   \n",
       "19  [{'annotation_id': 14961592681566640551, 'long...   \n",
       "20  [{'annotation_id': 4189560895344341305, 'long_...   \n",
       "21  [{'annotation_id': 13465483517856052932, 'long...   \n",
       "22  [{'annotation_id': 15410301212651987781, 'long...   \n",
       "23  [{'annotation_id': 466615846740285974, 'long_a...   \n",
       "24  [{'annotation_id': 15818376008260622056, 'long...   \n",
       "25  [{'annotation_id': 9694282287055000957, 'long_...   \n",
       "26  [{'annotation_id': 12012487435622761481, 'long...   \n",
       "27  [{'annotation_id': 10516871483356075040, 'long...   \n",
       "28  [{'annotation_id': 12395481208147225754, 'long...   \n",
       "29  [{'annotation_id': 17146976167167167599, 'long...   \n",
       "30  [{'annotation_id': 5133708514024748713, 'long_...   \n",
       "31  [{'annotation_id': 9238914499825617540, 'long_...   \n",
       "32  [{'annotation_id': 3017307652670184783, 'long_...   \n",
       "33  [{'annotation_id': 15375424220058979523, 'long...   \n",
       "34  [{'annotation_id': 3071594811100253283, 'long_...   \n",
       "35  [{'annotation_id': 9304079710958573871, 'long_...   \n",
       "36  [{'annotation_id': 16247009432746546585, 'long...   \n",
       "37  [{'annotation_id': 683599303778285450, 'long_a...   \n",
       "38  [{'annotation_id': 1858802391437472801, 'long_...   \n",
       "39  [{'annotation_id': 684625156324278457, 'long_a...   \n",
       "40  [{'annotation_id': 10988486476377733576, 'long...   \n",
       "41  [{'annotation_id': 14182585556127620172, 'long...   \n",
       "42  [{'annotation_id': 16350967413302925109, 'long...   \n",
       "43  [{'annotation_id': 7235691620112738643, 'long_...   \n",
       "44  [{'annotation_id': 8780377422873423015, 'long_...   \n",
       "45  [{'annotation_id': 7354648929830740949, 'long_...   \n",
       "46  [{'annotation_id': 17476613494537591047, 'long...   \n",
       "47  [{'annotation_id': 15330047924655000248, 'long...   \n",
       "48  [{'annotation_id': 10385324122607597105, 'long...   \n",
       "49  [{'annotation_id': 2807365019587450102, 'long_...   \n",
       "50  [{'annotation_id': 9492811772680909760, 'long_...   \n",
       "\n",
       "                                        document_html  \\\n",
       "0   <!DOCTYPE html>\\n<HTML class=\"client-js ve-not...   \n",
       "1   <!DOCTYPE html>\\n<HTML class=\"client-js ve-not...   \n",
       "2   <!DOCTYPE html>\\n<HTML class=\"client-js ve-not...   \n",
       "3   <!DOCTYPE html>\\n<HTML class=\"client-js ve-not...   \n",
       "4   <!DOCTYPE html>\\n<HTML class=\"client-js ve-not...   \n",
       "5   <!DOCTYPE html>\\n<HTML class=\"client-js ve-not...   \n",
       "6   <!DOCTYPE html>\\n<HTML class=\"client-js ve-not...   \n",
       "7   <!DOCTYPE html>\\n<HTML class=\"client-js ve-not...   \n",
       "8   <!DOCTYPE html>\\n<HTML class=\"client-js ve-not...   \n",
       "9   <!DOCTYPE html>\\n<HTML class=\"client-js ve-not...   \n",
       "10  <!DOCTYPE html>\\n<HTML class=\"client-js ve-not...   \n",
       "11  <!DOCTYPE html>\\n<HTML class=\"client-js ve-not...   \n",
       "12  <!DOCTYPE html>\\n<HTML class=\"client-js ve-not...   \n",
       "13  <!DOCTYPE html>\\n<HTML class=\"client-js ve-not...   \n",
       "14  <!DOCTYPE html>\\n<HTML class=\"client-js ve-not...   \n",
       "15  <!DOCTYPE html>\\n<HTML class=\"client-js ve-not...   \n",
       "16  <!DOCTYPE html>\\n<HTML class=\"client-js ve-not...   \n",
       "17  <!DOCTYPE html>\\n<HTML class=\"client-js ve-not...   \n",
       "18  <!DOCTYPE html>\\n<HTML class=\"client-js ve-not...   \n",
       "19  <!DOCTYPE html>\\n<HTML class=\"client-js ve-not...   \n",
       "20  <!DOCTYPE html>\\n<HTML class=\"client-js ve-not...   \n",
       "21  <!DOCTYPE html>\\n<HTML class=\"client-js ve-not...   \n",
       "22  <!DOCTYPE html>\\n<HTML class=\"client-js ve-not...   \n",
       "23  <!DOCTYPE html>\\n<HTML class=\"client-js ve-not...   \n",
       "24  <!DOCTYPE html>\\n<HTML class=\"client-js ve-not...   \n",
       "25  <!DOCTYPE html>\\n<HTML class=\"client-js ve-not...   \n",
       "26  <!DOCTYPE html>\\n<HTML class=\"client-js ve-not...   \n",
       "27  <!DOCTYPE html>\\n<HTML class=\"client-js ve-not...   \n",
       "28  <!DOCTYPE html>\\n<HTML class=\"client-js ve-not...   \n",
       "29  <!DOCTYPE html>\\n<HTML class=\"client-js ve-not...   \n",
       "30  <!DOCTYPE html>\\n<HTML class=\"client-js ve-not...   \n",
       "31  <!DOCTYPE html>\\n<HTML class=\"client-js ve-not...   \n",
       "32  <!DOCTYPE html>\\n<HTML class=\"client-js ve-not...   \n",
       "33  <!DOCTYPE html>\\n<HTML class=\"client-js ve-not...   \n",
       "34  <!DOCTYPE html>\\n<HTML class=\"client-js ve-not...   \n",
       "35  <!DOCTYPE html>\\n<HTML class=\"client-js ve-not...   \n",
       "36  <!DOCTYPE html>\\n<HTML class=\"client-js ve-not...   \n",
       "37  <!DOCTYPE html>\\n<HTML class=\"client-js ve-not...   \n",
       "38  <!DOCTYPE html>\\n<HTML class=\"client-js ve-not...   \n",
       "39  <!DOCTYPE html>\\n<HTML class=\"client-js ve-not...   \n",
       "40  <!DOCTYPE html>\\n<HTML class=\"client-js ve-not...   \n",
       "41  <!DOCTYPE html>\\n<HTML class=\"client-js ve-not...   \n",
       "42  <!DOCTYPE html>\\n<HTML class=\"client-js ve-not...   \n",
       "43  <!DOCTYPE html>\\n<HTML class=\"client-js ve-not...   \n",
       "44  <!DOCTYPE html>\\n<HTML class=\"client-js ve-not...   \n",
       "45  <!DOCTYPE html>\\n<HTML class=\"client-js ve-not...   \n",
       "46  <!DOCTYPE html>\\n<HTML class=\"client-js ve-not...   \n",
       "47  <!DOCTYPE html>\\n<HTML class=\"client-js ve-not...   \n",
       "48  <!DOCTYPE html>\\n<HTML class=\"client-js ve-not...   \n",
       "49  <!DOCTYPE html>\\n<HTML class=\"client-js ve-not...   \n",
       "50  <!DOCTYPE html>\\n<HTML class=\"client-js ve-not...   \n",
       "\n",
       "                                       document_title  \\\n",
       "0                                      Therefore sign   \n",
       "1                       Photograph (Ringo Starr song)   \n",
       "2                         Super Bowl 50 halftime show   \n",
       "3                                         Matt Lanter   \n",
       "4       List of A Certain Scientific Railgun episodes   \n",
       "5       2017 BBC Sports Personality of the Year Award   \n",
       "6                                World Economic Forum   \n",
       "7                    Redwood National and State Parks   \n",
       "8   List of Premier League players with 500 or mor...   \n",
       "9              List of Chief Ministers of West Bengal   \n",
       "10                             Got My Mind Set on You   \n",
       "11             List of psychological research methods   \n",
       "12                          What We Do in the Shadows   \n",
       "13                               Republic Day (India)   \n",
       "14                         Grey's Anatomy (season 14)   \n",
       "15                           The Hunger Games (novel)   \n",
       "16                                      Adverse event   \n",
       "17                 National debt of the United States   \n",
       "18                                      Grease (film)   \n",
       "19                                        IEEE 802.11   \n",
       "20                  List of Olympic Games host cities   \n",
       "21                                    Substitute good   \n",
       "22                                      Lord's Prayer   \n",
       "23   United States presidential elections in Nebraska   \n",
       "24                                              Wipro   \n",
       "25                               Eric van der Woodsen   \n",
       "26                                      She's the Man   \n",
       "27                                 Jingle All the Way   \n",
       "28                                  Dog and pony show   \n",
       "29                                   History of Islam   \n",
       "30                                 Air Bud: World Pup   \n",
       "31                                      Sasuke Uchiha   \n",
       "32           Training camp (National Football League)   \n",
       "33                                      Air pollution   \n",
       "34                New Birth Missionary Baptist Church   \n",
       "35                       Super Bowl LII halftime show   \n",
       "36                       Super Bowl LII halftime show   \n",
       "37               They Think It's All Over (TV series)   \n",
       "38                                      Proof of Life   \n",
       "39                                     Monkey's uncle   \n",
       "40  List of tie-breaking votes cast by vice presid...   \n",
       "41                                       U.S. Route 1   \n",
       "42  List of National Basketball Association single...   \n",
       "43                   Natural gas in the United States   \n",
       "44                   Indian general election, 1951–52   \n",
       "45                                    Tower of London   \n",
       "46                                              Zippo   \n",
       "47                                   G. Sankara Kurup   \n",
       "48      List of Batman television series cast members   \n",
       "49                                     Cracker Barrel   \n",
       "50                                 C4 carbon fixation   \n",
       "\n",
       "                                      document_tokens  \\\n",
       "0   [{'end_byte': 101, 'html_token': False, 'start...   \n",
       "1   [{'end_byte': 102, 'html_token': False, 'start...   \n",
       "2   [{'end_byte': 97, 'html_token': False, 'start_...   \n",
       "3   [{'end_byte': 96, 'html_token': False, 'start_...   \n",
       "4   [{'end_byte': 96, 'html_token': False, 'start_...   \n",
       "5   [{'end_byte': 96, 'html_token': False, 'start_...   \n",
       "6   [{'end_byte': 97, 'html_token': False, 'start_...   \n",
       "7   [{'end_byte': 99, 'html_token': False, 'start_...   \n",
       "8   [{'end_byte': 96, 'html_token': False, 'start_...   \n",
       "9   [{'end_byte': 96, 'html_token': False, 'start_...   \n",
       "10  [{'end_byte': 95, 'html_token': False, 'start_...   \n",
       "11  [{'end_byte': 96, 'html_token': False, 'start_...   \n",
       "12  [{'end_byte': 96, 'html_token': False, 'start_...   \n",
       "13  [{'end_byte': 100, 'html_token': False, 'start...   \n",
       "14  [{'end_byte': 96, 'html_token': False, 'start_...   \n",
       "15  [{'end_byte': 95, 'html_token': False, 'start_...   \n",
       "16  [{'end_byte': 99, 'html_token': False, 'start_...   \n",
       "17  [{'end_byte': 100, 'html_token': False, 'start...   \n",
       "18  [{'end_byte': 98, 'html_token': False, 'start_...   \n",
       "19  [{'end_byte': 96, 'html_token': False, 'start_...   \n",
       "20  [{'end_byte': 96, 'html_token': False, 'start_...   \n",
       "21  [{'end_byte': 102, 'html_token': False, 'start...   \n",
       "22  [{'end_byte': 96, 'html_token': False, 'start_...   \n",
       "23  [{'end_byte': 98, 'html_token': False, 'start_...   \n",
       "24  [{'end_byte': 97, 'html_token': False, 'start_...   \n",
       "25  [{'end_byte': 96, 'html_token': False, 'start_...   \n",
       "26  [{'end_byte': 95, 'html_token': False, 'start_...   \n",
       "27  [{'end_byte': 98, 'html_token': False, 'start_...   \n",
       "28  [{'end_byte': 95, 'html_token': False, 'start_...   \n",
       "29  [{'end_byte': 99, 'html_token': False, 'start_...   \n",
       "30  [{'end_byte': 95, 'html_token': False, 'start_...   \n",
       "31  [{'end_byte': 98, 'html_token': False, 'start_...   \n",
       "32  [{'end_byte': 100, 'html_token': False, 'start...   \n",
       "33  [{'end_byte': 95, 'html_token': False, 'start_...   \n",
       "34  [{'end_byte': 95, 'html_token': False, 'start_...   \n",
       "35  [{'end_byte': 97, 'html_token': False, 'start_...   \n",
       "36  [{'end_byte': 97, 'html_token': False, 'start_...   \n",
       "37  [{'end_byte': 96, 'html_token': False, 'start_...   \n",
       "38  [{'end_byte': 97, 'html_token': False, 'start_...   \n",
       "39  [{'end_byte': 98, 'html_token': False, 'start_...   \n",
       "40  [{'end_byte': 96, 'html_token': False, 'start_...   \n",
       "41  [{'end_byte': 96, 'html_token': False, 'start_...   \n",
       "42  [{'end_byte': 96, 'html_token': False, 'start_...   \n",
       "43  [{'end_byte': 99, 'html_token': False, 'start_...   \n",
       "44  [{'end_byte': 98, 'html_token': False, 'start_...   \n",
       "45  [{'end_byte': 97, 'html_token': False, 'start_...   \n",
       "46  [{'end_byte': 97, 'html_token': False, 'start_...   \n",
       "47  [{'end_byte': 94, 'html_token': False, 'start_...   \n",
       "48  [{'end_byte': 96, 'html_token': False, 'start_...   \n",
       "49  [{'end_byte': 99, 'html_token': False, 'start_...   \n",
       "50  [{'end_byte': 94, 'html_token': False, 'start_...   \n",
       "\n",
       "                                         document_url           example_id  \\\n",
       "0   https://en.wikipedia.org//w/index.php?title=Th...  6915606477668963399   \n",
       "1   https://en.wikipedia.org//w/index.php?title=Ph... -8366545547296627039   \n",
       "2   https://en.wikipedia.org//w/index.php?title=Su... -5004457603684974952   \n",
       "3   https://en.wikipedia.org//w/index.php?title=Ma...  8494342737238168262   \n",
       "4   https://en.wikipedia.org//w/index.php?title=Li...  7420920477821898435   \n",
       "5   https://en.wikipedia.org//w/index.php?title=20...  7478795216476346339   \n",
       "6   https://en.wikipedia.org//w/index.php?title=Wo...  7217222058435937287   \n",
       "7   https://en.wikipedia.org//w/index.php?title=Re...  -143054837169120955   \n",
       "8   https://en.wikipedia.org//w/index.php?title=Li...  4892429640540595424   \n",
       "9   https://en.wikipedia.org//w/index.php?title=Li...  5533906981191706877   \n",
       "10  https://en.wikipedia.org//w/index.php?title=Go...  8823076125131408628   \n",
       "11  https://en.wikipedia.org//w/index.php?title=Li...  9168660859139861094   \n",
       "12  https://en.wikipedia.org//w/index.php?title=Wh... -7073063191952855764   \n",
       "13  https://en.wikipedia.org//w/index.php?title=Re... -7500628880962184409   \n",
       "14  https://en.wikipedia.org//w/index.php?title=Gr...  7901746249864619718   \n",
       "15  https://en.wikipedia.org//w/index.php?title=Th...  -896127746191949637   \n",
       "16  https://en.wikipedia.org//w/index.php?title=Ad... -3060307639232891656   \n",
       "17  https://en.wikipedia.org//w/index.php?title=Na...  8044909700499569711   \n",
       "18  https://en.wikipedia.org//w/index.php?title=Gr... -3123234845590594961   \n",
       "19  https://en.wikipedia.org//w/index.php?title=IE...  4326992806019599297   \n",
       "20  https://en.wikipedia.org//w/index.php?title=Li... -5043440364275106554   \n",
       "21  https://en.wikipedia.org//w/index.php?title=Su...  6144099837933283715   \n",
       "22  https://en.wikipedia.org//w/index.php?title=Lo... -4621948696356225060   \n",
       "23  https://en.wikipedia.org//w/index.php?title=Un...  6941993254369956277   \n",
       "24  https://en.wikipedia.org//w/index.php?title=Wi... -8955197065025093046   \n",
       "25  https://en.wikipedia.org//w/index.php?title=Er... -3010425579521817304   \n",
       "26  https://en.wikipedia.org//w/index.php?title=Sh...  7264112453286983469   \n",
       "27  https://en.wikipedia.org//w/index.php?title=Ji...  2627695648792729859   \n",
       "28  https://en.wikipedia.org//w/index.php?title=Do...  9178789216794050377   \n",
       "29  https://en.wikipedia.org//w/index.php?title=Hi... -9169976182548289414   \n",
       "30  https://en.wikipedia.org//w/index.php?title=Ai... -6696747560626271522   \n",
       "31  https://en.wikipedia.org//w/index.php?title=Sa...  5871681964137793716   \n",
       "32  https://en.wikipedia.org//w/index.php?title=Tr... -4221604869059375188   \n",
       "33  https://en.wikipedia.org//w/index.php?title=Ai...  8552176802923865025   \n",
       "34  https://en.wikipedia.org//w/index.php?title=Ne... -2630525064809360052   \n",
       "35  https://en.wikipedia.org//w/index.php?title=Su...  6434931911289860123   \n",
       "36  https://en.wikipedia.org//w/index.php?title=Su...  8869318258439148973   \n",
       "37  https://en.wikipedia.org//w/index.php?title=Th... -8359866474144720253   \n",
       "38  https://en.wikipedia.org//w/index.php?title=Pr... -1206653570097564556   \n",
       "39  https://en.wikipedia.org//w/index.php?title=Mo...  6405015309290964923   \n",
       "40  https://en.wikipedia.org//w/index.php?title=Li...  3790834797035922554   \n",
       "41  https://en.wikipedia.org//w/index.php?title=U....  6144521615402262404   \n",
       "42  https://en.wikipedia.org//w/index.php?title=Li... -8631190913794477985   \n",
       "43  https://en.wikipedia.org//w/index.php?title=Na...   199896377614951764   \n",
       "44  https://en.wikipedia.org//w/index.php?title=In...  8986775680996674901   \n",
       "45  https://en.wikipedia.org//w/index.php?title=To...   700604097171850168   \n",
       "46  https://en.wikipedia.org//w/index.php?title=Zi...  6745303307988470742   \n",
       "47  https://en.wikipedia.org//w/index.php?title=G.... -2060506905455252030   \n",
       "48  https://en.wikipedia.org//w/index.php?title=Li...  4738663028303377024   \n",
       "49  https://en.wikipedia.org//w/index.php?title=Cr... -1650946015201779846   \n",
       "50  https://en.wikipedia.org//w/index.php?title=C4... -3422350952909582054   \n",
       "\n",
       "                               long_answer_candidates  \\\n",
       "0   [{'end_byte': 66428, 'end_token': 808, 'start_...   \n",
       "1   [{'end_byte': 49292, 'end_token': 341, 'start_...   \n",
       "2   [{'end_byte': 57752, 'end_token': 160, 'start_...   \n",
       "3   [{'end_byte': 57654, 'end_token': 79, 'start_b...   \n",
       "4   [{'end_byte': 57951, 'end_token': 222, 'start_...   \n",
       "5   [{'end_byte': 42223, 'end_token': 170, 'start_...   \n",
       "6   [{'end_byte': 148688, 'end_token': 167, 'start...   \n",
       "7   [{'end_byte': 51572, 'end_token': 294, 'start_...   \n",
       "8   [{'end_byte': 44421, 'end_token': 101, 'start_...   \n",
       "9   [{'end_byte': 57234, 'end_token': 111, 'start_...   \n",
       "10  [{'end_byte': 56785, 'end_token': 122, 'start_...   \n",
       "11  [{'end_byte': 49819, 'end_token': 260, 'start_...   \n",
       "12  [{'end_byte': 47466, 'end_token': 369, 'start_...   \n",
       "13  [{'end_byte': 45309, 'end_token': 146, 'start_...   \n",
       "14  [{'end_byte': 45048, 'end_token': 191, 'start_...   \n",
       "15  [{'end_byte': 58996, 'end_token': 177, 'start_...   \n",
       "16  [{'end_byte': 43073, 'end_token': 74, 'start_b...   \n",
       "17  [{'end_byte': 53474, 'end_token': 263, 'start_...   \n",
       "18  [{'end_byte': 46418, 'end_token': 234, 'start_...   \n",
       "19  [{'end_byte': 47419, 'end_token': 229, 'start_...   \n",
       "20  [{'end_byte': 58383, 'end_token': 235, 'start_...   \n",
       "21  [{'end_byte': 56538, 'end_token': 69, 'start_b...   \n",
       "22  [{'end_byte': 146832, 'end_token': 120, 'start...   \n",
       "23  [{'end_byte': 57322, 'end_token': 91, 'start_b...   \n",
       "24  [{'end_byte': 49855, 'end_token': 278, 'start_...   \n",
       "25  [{'end_byte': 59530, 'end_token': 306, 'start_...   \n",
       "26  [{'end_byte': 59481, 'end_token': 241, 'start_...   \n",
       "27  [{'end_byte': 47488, 'end_token': 290, 'start_...   \n",
       "28  [{'end_byte': 43139, 'end_token': 121, 'start_...   \n",
       "29  [{'end_byte': 65628, 'end_token': 363, 'start_...   \n",
       "30  [{'end_byte': 58043, 'end_token': 206, 'start_...   \n",
       "31  [{'end_byte': 58697, 'end_token': 170, 'start_...   \n",
       "32  [{'end_byte': 44801, 'end_token': 89, 'start_b...   \n",
       "33  [{'end_byte': 51079, 'end_token': 137, 'start_...   \n",
       "34  [{'end_byte': 55331, 'end_token': 56, 'start_b...   \n",
       "35  [{'end_byte': 57541, 'end_token': 151, 'start_...   \n",
       "36  [{'end_byte': 57522, 'end_token': 151, 'start_...   \n",
       "37  [{'end_byte': 42644, 'end_token': 296, 'start_...   \n",
       "38  [{'end_byte': 47174, 'end_token': 274, 'start_...   \n",
       "39  [{'end_byte': 56138, 'end_token': 221, 'start_...   \n",
       "40  [{'end_byte': 73073, 'end_token': 349, 'start_...   \n",
       "41  [{'end_byte': 53335, 'end_token': 335, 'start_...   \n",
       "42  [{'end_byte': 58335, 'end_token': 66, 'start_b...   \n",
       "43  [{'end_byte': 58779, 'end_token': 119, 'start_...   \n",
       "44  [{'end_byte': 62688, 'end_token': 214, 'start_...   \n",
       "45  [{'end_byte': 145879, 'end_token': 61, 'start_...   \n",
       "46  [{'end_byte': 43822, 'end_token': 107, 'start_...   \n",
       "47  [{'end_byte': 42963, 'end_token': 71, 'start_b...   \n",
       "48  [{'end_byte': 42638, 'end_token': 75, 'start_b...   \n",
       "49  [{'end_byte': 63595, 'end_token': 262, 'start_...   \n",
       "50  [{'end_byte': 43421, 'end_token': 211, 'start_...   \n",
       "\n",
       "                                             question  \\\n",
       "0                     what do the 3 dots mean in math   \n",
       "1        who wrote the song photograph by ringo starr   \n",
       "2   who is playing the halftime show at super bowl...   \n",
       "3         star wars the clone wars anakin voice actor   \n",
       "4                to aru kagaku no railgun s episode 3   \n",
       "5     who won the 2017 sports personality of the year   \n",
       "6   where was the world economic forum held this year   \n",
       "7   where are the giant redwoods located in califo...   \n",
       "8    who has made the most premier league appearances   \n",
       "9     who was the first chief minister of west bengal   \n",
       "10                   who sings got my mind set on you   \n",
       "11  two main types of research methods used in psy...   \n",
       "12       who plays peter in what we do in the shadows   \n",
       "13  who was the chief guest of india on independen...   \n",
       "14  when does the 14th season of grey's anatomy co...   \n",
       "15     when was the first hunger games book published   \n",
       "16  mandatory elements in the definition of an adv...   \n",
       "17     how much is the united states in debt to china   \n",
       "18            where did the race in grease take place   \n",
       "19  what is the maximum data rate for the 802.11a ...   \n",
       "20       where are the summer olympics held this year   \n",
       "21   a good that can be used in place of another good   \n",
       "22    where in the bible can i find the lord's prayer   \n",
       "23     when was the last time nebraska voted democrat   \n",
       "24     who become the ceo of it wipro company in 2016   \n",
       "25           who does eric end up with in gossip girl   \n",
       "26                    who plays unis in she's the man   \n",
       "27           who played booster in jingle all the way   \n",
       "28    where does the term dog and pony show come from   \n",
       "29          who is recognized as the founder of islam   \n",
       "30                who plays emma in air bud world pup   \n",
       "31              how old was sasuke when his clan died   \n",
       "32          how long is training camp for nfl players   \n",
       "33  where do some of the natural air pollutants co...   \n",
       "34  who is the pastor of new birth missionary bapt...   \n",
       "35        who is doing 2018 super bowl half time show   \n",
       "36  who is playing the halftime show for the super...   \n",
       "37                who hosted they think it's all over   \n",
       "38      where does the movie proof of life take place   \n",
       "39      where did the saying monkey's uncle come from   \n",
       "40                  who breaks a tie in the us senate   \n",
       "41              where does us highway 1 start and end   \n",
       "42  who scored the most points in a single game in...   \n",
       "43               where is natural gas found in the us   \n",
       "44  when were the first general elections held in ...   \n",
       "45   what was the tower of london originally used for   \n",
       "46                  what type of fuel goes in a zippo   \n",
       "47  first jnanpith award was an autor of which lan...   \n",
       "48    who played the mad hatter in the batman tv show   \n",
       "49      how many cracker barrels in the united states   \n",
       "50  in photosynthesis the carbon in co2 is initial...   \n",
       "\n",
       "                                      question_tokens  \\\n",
       "0   ['what', 'do', 'the', '3', 'dots', 'mean', 'in...   \n",
       "1   ['who', 'wrote', 'the', 'song', 'photograph', ...   \n",
       "2   ['who', 'is', 'playing', 'the', 'halftime', 's...   \n",
       "3   ['star', 'wars', 'the', 'clone', 'wars', 'anak...   \n",
       "4   ['to', 'aru', 'kagaku', 'no', 'railgun', 's', ...   \n",
       "5   ['who', 'won', 'the', '2017', 'sports', 'perso...   \n",
       "6   ['where', 'was', 'the', 'world', 'economic', '...   \n",
       "7   ['where', 'are', 'the', 'giant', 'redwoods', '...   \n",
       "8   ['who', 'has', 'made', 'the', 'most', 'premier...   \n",
       "9   ['who', 'was', 'the', 'first', 'chief', 'minis...   \n",
       "10  ['who', 'sings', 'got', 'my', 'mind', 'set', '...   \n",
       "11  ['two', 'main', 'types', 'of', 'research', 'me...   \n",
       "12  ['who', 'plays', 'peter', 'in', 'what', 'we', ...   \n",
       "13  ['who', 'was', 'the', 'chief', 'guest', 'of', ...   \n",
       "14  ['when', 'does', 'the', '14th', 'season', 'of'...   \n",
       "15  ['when', 'was', 'the', 'first', 'hunger', 'gam...   \n",
       "16  ['mandatory', 'elements', 'in', 'the', 'defini...   \n",
       "17  ['how', 'much', 'is', 'the', 'united', 'states...   \n",
       "18  ['where', 'did', 'the', 'race', 'in', 'grease'...   \n",
       "19  ['what', 'is', 'the', 'maximum', 'data', 'rate...   \n",
       "20  ['where', 'are', 'the', 'summer', 'olympics', ...   \n",
       "21  ['a', 'good', 'that', 'can', 'be', 'used', 'in...   \n",
       "22  ['where', 'in', 'the', 'bible', 'can', 'i', 'f...   \n",
       "23  ['when', 'was', 'the', 'last', 'time', 'nebras...   \n",
       "24  ['who', 'become', 'the', 'ceo', 'of', 'it', 'w...   \n",
       "25  ['who', 'does', 'eric', 'end', 'up', 'with', '...   \n",
       "26  ['who', 'plays', 'unis', 'in', 'she', \"'s\", 't...   \n",
       "27  ['who', 'played', 'booster', 'in', 'jingle', '...   \n",
       "28  ['where', 'does', 'the', 'term', 'dog', 'and',...   \n",
       "29  ['who', 'is', 'recognized', 'as', 'the', 'foun...   \n",
       "30  ['who', 'plays', 'emma', 'in', 'air', 'bud', '...   \n",
       "31  ['how', 'old', 'was', 'sasuke', 'when', 'his',...   \n",
       "32  ['how', 'long', 'is', 'training', 'camp', 'for...   \n",
       "33  ['where', 'do', 'some', 'of', 'the', 'natural'...   \n",
       "34  ['who', 'is', 'the', 'pastor', 'of', 'new', 'b...   \n",
       "35  ['who', 'is', 'doing', '2018', 'super', 'bowl'...   \n",
       "36  ['who', 'is', 'playing', 'the', 'halftime', 's...   \n",
       "37  ['who', 'hosted', 'they', 'think', 'it', \"'s\",...   \n",
       "38  ['where', 'does', 'the', 'movie', 'proof', 'of...   \n",
       "39  ['where', 'did', 'the', 'saying', 'monkey', \"'...   \n",
       "40  ['who', 'breaks', 'a', 'tie', 'in', 'the', 'us...   \n",
       "41  ['where', 'does', 'us', 'highway', '1', 'start...   \n",
       "42  ['who', 'scored', 'the', 'most', 'points', 'in...   \n",
       "43  ['where', 'is', 'natural', 'gas', 'found', 'in...   \n",
       "44  ['when', 'were', 'the', 'first', 'general', 'e...   \n",
       "45  ['what', 'was', 'the', 'tower', 'of', 'london'...   \n",
       "46  ['what', 'type', 'of', 'fuel', 'goes', 'in', '...   \n",
       "47  ['first', 'jnanpith', 'award', 'was', 'an', 'a...   \n",
       "48  ['who', 'played', 'the', 'mad', 'hatter', 'in'...   \n",
       "49  ['how', 'many', 'cracker', 'barrels', 'in', 't...   \n",
       "50  ['in', 'photosynthesis', 'the', 'carbon', 'in'...   \n",
       "\n",
       "                                        short_answers  \\\n",
       "0   {'end_byte': 66817, 'end_token': 837, 'start_b...   \n",
       "1   {'end_byte': 49415, 'end_token': 353, 'start_b...   \n",
       "2   {'end_byte': 58456, 'end_token': 208, 'start_b...   \n",
       "3   {'end_byte': 59658, 'end_token': 179, 'start_b...   \n",
       "4   {'end_byte': 118757, 'end_token': 8183, 'start...   \n",
       "5   {'end_byte': 40758, 'end_token': 104, 'start_b...   \n",
       "6   {'end_byte': 149783, 'end_token': 287, 'start_...   \n",
       "7   {'end_byte': 47252, 'end_token': 85, 'start_by...   \n",
       "8   {'end_byte': 49394, 'end_token': 371, 'start_b...   \n",
       "9   {'end_byte': 60570, 'end_token': 360, 'start_b...   \n",
       "10  {'end_byte': 56137, 'end_token': 46, 'start_by...   \n",
       "11  {'end_byte': 51156, 'end_token': 396, 'start_b...   \n",
       "12  {'end_byte': 55344, 'end_token': 1237, 'start_...   \n",
       "13  {'end_byte': 127861, 'end_token': 2637, 'start...   \n",
       "14  {'end_byte': 45409, 'end_token': 227, 'start_b...   \n",
       "15  {'end_byte': 59040, 'end_token': 184, 'start_b...   \n",
       "16  {'end_byte': 43594, 'end_token': 160, 'start_b...   \n",
       "17  {'end_byte': 161535, 'end_token': 9527, 'start...   \n",
       "18  {'end_byte': 54645, 'end_token': 914, 'start_b...   \n",
       "19  {'end_byte': 76620, 'end_token': 2276, 'start_...   \n",
       "20  {'end_byte': 57908, 'end_token': 210, 'start_b...   \n",
       "21  {'end_byte': 57519, 'end_token': 84, 'start_by...   \n",
       "22  {'end_byte': 147271, 'end_token': 178, 'start_...   \n",
       "23  {'end_byte': 65415, 'end_token': 709, 'start_b...   \n",
       "24  {'end_byte': 83967, 'end_token': 2352, 'start_...   \n",
       "25  {'end_byte': 77348, 'end_token': 2578, 'start_...   \n",
       "26  {'end_byte': 68199, 'end_token': 1318, 'start_...   \n",
       "27  {'end_byte': 62002, 'end_token': 1955, 'start_...   \n",
       "28  {'end_byte': 43538, 'end_token': 147, 'start_b...   \n",
       "29  {'end_byte': 96964, 'end_token': 2200, 'start_...   \n",
       "30  {'end_byte': 63426, 'end_token': 815, 'start_b...   \n",
       "31  {'end_byte': 93156, 'end_token': 3015, 'start_...   \n",
       "32  {'end_byte': 46334, 'end_token': 158, 'start_b...   \n",
       "33  {'end_byte': 70527, 'end_token': 1026, 'start_...   \n",
       "34  {'end_byte': 58915, 'end_token': 434, 'start_b...   \n",
       "35  {'end_byte': 58098, 'end_token': 195, 'start_b...   \n",
       "36  {'end_byte': 58079, 'end_token': 195, 'start_b...   \n",
       "37  {'end_byte': 45663, 'end_token': 456, 'start_b...   \n",
       "38  {'end_byte': 60679, 'end_token': 1594, 'start_...   \n",
       "39  {'end_byte': 55195, 'end_token': 137, 'start_b...   \n",
       "40  {'end_byte': 73212, 'end_token': 357, 'start_b...   \n",
       "41  {'end_byte': 53952, 'end_token': 389, 'start_b...   \n",
       "42  {'end_byte': 65473, 'end_token': 456, 'start_b...   \n",
       "43  {'end_byte': 72476, 'end_token': 1235, 'start_...   \n",
       "44  {'end_byte': 62735, 'end_token': 223, 'start_b...   \n",
       "45  {'end_byte': 153290, 'end_token': 487, 'start_...   \n",
       "46  {'end_byte': 51465, 'end_token': 672, 'start_b...   \n",
       "47  {'end_byte': 46093, 'end_token': 251, 'start_b...   \n",
       "48  {'end_byte': 57940, 'end_token': 881, 'start_b...   \n",
       "49  {'end_byte': 80065, 'end_token': 1448, 'start_...   \n",
       "50  {'end_byte': 51957, 'end_token': 646, 'start_b...   \n",
       "\n",
       "                                      answer_selected  \\\n",
       "0   the therefore sign ( ∴ ) is generally used bef...   \n",
       "1                                         Ringo Starr   \n",
       "2   Coldplay with special guest performers Beyoncé...   \n",
       "3                Matthew MacKendree `` Matt '' Lanter   \n",
       "4                                 Project Radio Noise   \n",
       "5                                            Mo Farah   \n",
       "6   Davos , a mountain resort in Graubünden , in t...   \n",
       "7                                     Humboldt County   \n",
       "8                                        Gareth Barry   \n",
       "9   Prafulla Chandra Ghosh of the Indian National ...   \n",
       "10                                          James Ray   \n",
       "11                             Correlational research   \n",
       "12                                       Ben Fransham   \n",
       "13          Crown Prince Mohammed bin Zayed Al Nahyan   \n",
       "14                                September 28 , 2017   \n",
       "15                                               2008   \n",
       "16  any unfavourable and unintended sign ( includi...   \n",
       "17                                            1,200.5   \n",
       "18                                       Thunder Road   \n",
       "19                                        54 Mbit / s   \n",
       "20                 Tokyo for the 2020 Summer Olympics   \n",
       "21                                    substitute good   \n",
       "22  Gospel of Matthew in the middle of the Sermon ...   \n",
       "23                                               1964   \n",
       "24                               Abid Ali Neemuchwala   \n",
       "25                                              Jenny   \n",
       "26                                      Emily Perkins   \n",
       "27                                   Curtis Armstrong   \n",
       "28  in the United States in the late - 19th and ea...   \n",
       "29                                           Muhammad   \n",
       "30                               Brittany Paige Bouck   \n",
       "31                                              seven   \n",
       "32                       at least the first few weeks   \n",
       "33                                     Carbon dioxide   \n",
       "34                                   Stephen A. Davis   \n",
       "35                                  Justin Timberlake   \n",
       "36                                  Justin Timberlake   \n",
       "37                              comedian Nick Hancock   \n",
       "38                             The Republic of Tecala   \n",
       "39                  Scopes Trial in the United States   \n",
       "40                Vice President of the United States   \n",
       "41  from Fort Kent , Maine , at the Canada -- US b...   \n",
       "42                                   Wilt Chamberlain   \n",
       "43                                              Texas   \n",
       "44                                         1951 -- 52   \n",
       "45                                  a royal residence   \n",
       "46                                             butane   \n",
       "47                                          Malayalam   \n",
       "48                                        David Wayne   \n",
       "49                                      more than 600   \n",
       "50                               3 - phosphoglycerate   \n",
       "\n",
       "                                               answer  \\\n",
       "0   The 3 dots in math, also known as the therefor...   \n",
       "1            Ringo Starr wrote the song \"Photograph\".   \n",
       "2   Coldplay with special guest performers Beyoncé...   \n",
       "3   The voice actor for Anakin in Star Wars: The C...   \n",
       "4   The title of To Aru Kagaku no Railgun S episod...   \n",
       "5   Mo Farah won the 2017 sports personality of th...   \n",
       "6   The World Economic Forum was held in Davos, a ...   \n",
       "7   The giant redwoods are located in Humboldt Cou...   \n",
       "8   Gareth Barry has made the most Premier League ...   \n",
       "9   Prafulla Chandra Ghosh of the Indian National ...   \n",
       "10          James Ray sings \"Got My Mind Set on You.\"   \n",
       "11  The two main types of research methods used in...   \n",
       "12  Ben Fransham plays Peter in What We Do in the ...   \n",
       "13  The chief guest of India on Independence Day 2...   \n",
       "14  The 14th season of Grey's Anatomy comes out on...   \n",
       "15  The first Hunger Games book was published in 2...   \n",
       "16  The mandatory elements in the definition of an...   \n",
       "17  The United States is in debt to China for 1,20...   \n",
       "18     The race in Grease took place at Thunder Road.   \n",
       "19  The maximum data rate for the 802.11a standard...   \n",
       "20  The summer Olympics are held in Tokyo for the ...   \n",
       "21  A substitute good is a good that can be used i...   \n",
       "22  The Lord's Prayer can be found in the Gospel o...   \n",
       "23              Nebraska last voted Democrat in 1964.   \n",
       "24  Abid Ali Neemuchwala became the CEO of IT Wipr...   \n",
       "25            Eric ends up with Jenny in Gossip Girl.   \n",
       "26         Emily Perkins plays Unis in She's the Man.   \n",
       "27  Curtis Armstrong played Booster in Jingle All ...   \n",
       "28  The term \"dog and pony show\" comes from the Un...   \n",
       "29    Muhammad is recognized as the founder of Islam.   \n",
       "30  Brittany Paige Bouck plays Emma in Air Bud Wor...   \n",
       "31     Sasuke was seven years old when his clan died.   \n",
       "32  Training camp for NFL players is at least the ...   \n",
       "33  Some of the natural air pollutants come from c...   \n",
       "34  The pastor of New Birth Missionary Baptist Chu...   \n",
       "35  Justin Timberlake is doing the 2018 Super Bowl...   \n",
       "36  Justin Timberlake is playing the halftime show...   \n",
       "37  Comedian Nick Hancock hosted \"They Think It's ...   \n",
       "38  The movie \"Proof of Life\" takes place in The R...   \n",
       "39  The saying \"monkey's uncle\" came from the Scop...   \n",
       "40  The Vice President of the United States breaks...   \n",
       "41  US Highway 1 starts from Fort Kent, Maine, at ...   \n",
       "42  Wilt Chamberlain scored the most points in a s...   \n",
       "43           Natural gas is found in Texas in the US.   \n",
       "44  The first general elections in independent Ind...   \n",
       "45  The Tower of London was originally used as a r...   \n",
       "46   The type of fuel that goes in a Zippo is butane.   \n",
       "47  The first Jnanpith award was given to an autho...   \n",
       "48  David Wayne played the Mad Hatter in the Batma...   \n",
       "49  There are more than 600 Cracker Barrel locatio...   \n",
       "50  In photosynthesis, the carbon in CO2 is initia...   \n",
       "\n",
       "                                             contexts  faithfulness  \\\n",
       "0   [℗ registered trademark ® service mark SM trad...           1.0   \n",
       "1   [B - side `` Down and Out '' Released 24 Septe...           1.0   \n",
       "2   [Super Bowl 50 halftime show - wikipedia Super...           1.0   \n",
       "3   [Matt Lanter - wikipedia Matt Lanter Jump to :...           1.0   \n",
       "4   [. 2 ( 26 ) `` Critical '' `` Kuritikaru '' ( ...           1.0   \n",
       "5   [2017 BBC Sports Personality of the Year Award...           1.0   \n",
       "6   [World Economic Forum - Wikipedia World Econom...           0.5   \n",
       "7   [Redwood National and State Parks - wikipedia ...           1.0   \n",
       "8   [Since the Premier League 's formation at the ...           1.0   \n",
       "9   [Harish Chatterjee Street , Kalighat , Kolkata...           1.0   \n",
       "10  [Got My Mind Set on You - wikipedia Got My Min...           1.0   \n",
       "11  [Personality Positive Quantitative Social Appl...           1.0   \n",
       "12  [Stu and Jackie also attend . To Deacon 's ann...           0.0   \n",
       "13  [2nd invitation 2000 President Olusegun Obasan...           0.0   \n",
       "14  [Grey 's Anatomy ( season 14 ) - wikipedia Gre...           1.0   \n",
       "15  [The Hunger Games ( novel ) - wikipedia The Hu...           1.0   \n",
       "16  [Adverse event - wikipedia Adverse event Jump ...           1.0   \n",
       "17  [6,783 318.1 4.69 % 2002 6,228 332.5 5.34 % 20...           1.0   \n",
       "18  [Jeff Conaway ) , Doody ( Barry Pearl ) , Sonn...           1.0   \n",
       "19  [obsolete . It specified two net bit rates of ...           1.0   \n",
       "20  [List of Olympic Games host cities - wikipedia...           1.0   \n",
       "21  [Substitute good - wikipedia Substitute good J...           1.0   \n",
       "22  [Lord 's Prayer - wikipedia Lord 's Prayer Jum...           1.0   \n",
       "23  [Bob Dole 363,467 53.65 Ross Perot 71,278 10.5...           0.0   \n",
       "24  [of 7.1 / 10 . Listing and shareholding ( edit...           1.0   \n",
       "25  [out of the plan . Eric unknowingly leads his ...           0.0   \n",
       "26  [victory over Cornwall , except for Duke who i...           1.0   \n",
       "27  [his son . Officer Hummell gives the doll to J...           0.0   \n",
       "28  [Dog and Pony Show - Wikipedia Dog and Pony Sh...           1.0   \n",
       "29  [, if still of mixed quality . In particular ,...           1.0   \n",
       "30  [at the party . Molly quickly has puppies with...           0.0   \n",
       "31  [the power of his attacks . In The Last : Naru...           0.0   \n",
       "32  [Training camp ( National Football League ) - ...           1.0   \n",
       "33  [air pollution 15 See also 16 References 17 Fu...           0.0   \n",
       "34  [- Cole , and was chosen by the family of rapp...           0.0   \n",
       "35  [Super Bowl LII halftime show - Wikipedia Supe...           1.0   \n",
       "36  [Super Bowl LII halftime show - Wikipedia Supe...           1.0   \n",
       "37  [No. of episodes 154 ( list of episodes ) Prod...           1.0   \n",
       "38  [Heald as Ted Fellner Michael Byrne as Lord Lu...           1.0   \n",
       "39  [Monkey 's uncle - Wikipedia Monkey 's uncle J...           1.0   \n",
       "40  [United States Senate History of the United St...           1.0   \n",
       "41  [km ) Existed : 1926 -- present Major junction...           1.0   \n",
       "42  [Jordan ( 63 ) and Baylor ( 61 ) are the only ...           1.0   \n",
       "43  [) In 2010 , the industry drilled and complete...           1.0   \n",
       "44  [Indian general election , 1951 -- 52 - Wikipe...           1.0   \n",
       "45  [Owner Queen Elizabeth II in right of the Crow...           1.0   \n",
       "46  [more modern . On March 3 , 1936 , a patent wa...           1.0   \n",
       "47  [G Sankara Kurup - Wikipedia G Sankara Kurup J...           1.0   \n",
       "48  [Lennie Weinrib Mark Hamill Michael McKean Kev...           0.0   \n",
       "49  [September 1997 , Cracker Barrel had 314 resta...           1.0   \n",
       "50  [then makes malate ( 4 carbons ) . Malate ente...           1.0   \n",
       "\n",
       "    context_relavency  \n",
       "0            0.121542  \n",
       "1            0.000000  \n",
       "2            0.060532  \n",
       "3            0.000000  \n",
       "4            0.000000  \n",
       "5            0.291682  \n",
       "6            0.000000  \n",
       "7            0.000000  \n",
       "8            0.045186  \n",
       "9            0.000000  \n",
       "10           0.059707  \n",
       "11           0.087953  \n",
       "12           0.000000  \n",
       "13           0.000000  \n",
       "14           0.026822  \n",
       "15           0.000000  \n",
       "16           0.029043  \n",
       "17           0.323106  \n",
       "18           0.000000  \n",
       "19           0.000000  \n",
       "20           0.045606  \n",
       "21           0.107964  \n",
       "22           0.000000  \n",
       "23           0.000000  \n",
       "24           0.060761  \n",
       "25           0.000000  \n",
       "26           0.022515  \n",
       "27           0.014499  \n",
       "28           0.149464  \n",
       "29           0.000000  \n",
       "30           0.057176  \n",
       "31           0.000000  \n",
       "32           0.000000  \n",
       "33           0.020258  \n",
       "34           0.000000  \n",
       "35           0.000000  \n",
       "36           0.035044  \n",
       "37           0.034391  \n",
       "38           0.000000  \n",
       "39           0.133631  \n",
       "40           0.050456  \n",
       "41           0.131971  \n",
       "42           0.000000  \n",
       "43           0.000000  \n",
       "44           0.108047  \n",
       "45           0.049845  \n",
       "46           0.040509  \n",
       "47           0.059128  \n",
       "48           0.000000  \n",
       "49           0.000000  \n",
       "50           0.028261  "
      ]
     },
     "execution_count": 116,
     "metadata": {},
     "output_type": "execute_result"
    }
   ],
   "source": [
    "df"
   ]
  },
  {
   "cell_type": "code",
   "execution_count": 69,
   "id": "fc016349",
   "metadata": {},
   "outputs": [
    {
     "data": {
      "text/plain": [
       "\"{'end_byte': 93156, 'end_token': 3015, 'start_byte': 93151, 'start_token': 3014}\""
      ]
     },
     "execution_count": 69,
     "metadata": {},
     "output_type": "execute_result"
    }
   ],
   "source": [
    "item['short_answers']"
   ]
  },
  {
   "cell_type": "code",
   "execution_count": 71,
   "id": "a0c7da02",
   "metadata": {},
   "outputs": [
    {
     "data": {
      "text/plain": [
       "array([\"d to re-voice some scenes from the anime , including Sasuke 's departure from Konohagakure . In Behind the Scenes of Uchiha , a feature about Sasuke and Itachi 's backstory , Sugiyama said he had become emotional during the recording sessions of the sixth season of the anime 's second part ( Naruto : Shippuden ) , in which Sasuke learns the truth about his brother 's role in the massacre of the Uchiha clan . Sugiyama thought Sasuke 's line , `` you are annoying '' , summed up the character 's feelings toward Sakura and indicated a change in their relationship each time it was said . Although she initially annoys him , he smiles when he repeats it before leaving Konohagakure . Naruto 's Japanese voice actress , Junko Takeuchi , said Sasuke 's line addressed to Sakura , `` see you next time ... thank you '' , revealed his feelings for her . Sugiyama stated that by the end of the series , Sasuke realized how much he had hurt Sakura 's feelings and apologized to her after his final fight against Naruto because of this . While recording for Boruto : Naruto the Movie , Sugiyama expected to see a bond between Sasuke and his apprentice , Boruto Uzumaki . According to Sugiyama , Sasuke 's personality had changed for the Boruto anime series and the actor wanted fans to see the character 's interaction with his family . Yuri Lowenthal , who voices Sasuke in the English dubs , said he was honored to receive the role since many actors had auditioned for it , and he added that the job was stressful . Although fans were critical of deviations and mistakes in his recordings , he enjoyed voicing the character . His first impression of Sasuke was of `` a serious guy dedicated to his training '' , but his view changed as he learned about the character 's backstory . Lowenthal said in 2010 that Sasuke was one of the first dark characters he voiced , adding , `` he 's sort of a hero , but he 's not the naïve , young white -- hat hero '' . Lowenthal said some of Sasuke 's lines , such as his\"],\n",
       "      dtype=object)"
      ]
     },
     "execution_count": 71,
     "metadata": {},
     "output_type": "execute_result"
    }
   ],
   "source": [
    "item['contexts']"
   ]
  },
  {
   "cell_type": "code",
   "execution_count": null,
   "id": "d48ae960",
   "metadata": {},
   "outputs": [],
   "source": []
  }
 ],
 "metadata": {
  "kernelspec": {
   "display_name": "ragas2",
   "language": "python",
   "name": "ragas2"
  },
  "language_info": {
   "codemirror_mode": {
    "name": "ipython",
    "version": 3
   },
   "file_extension": ".py",
   "mimetype": "text/x-python",
   "name": "python",
   "nbconvert_exporter": "python",
   "pygments_lexer": "ipython3",
   "version": "3.10.8"
  }
 },
 "nbformat": 4,
 "nbformat_minor": 5
}
