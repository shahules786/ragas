{
 "cells": [
  {
   "cell_type": "markdown",
   "id": "d341594d",
   "metadata": {},
   "source": [
    "## Logs\n",
    "- Faithfulness NLI\n",
    "    - Without CoT\n",
    "    - With CoT ( WIN)  \n",
    "    - WikiQA \n",
    "        - generated non factual answer for measuring faithfulness agreement.\n",
    "        - Kendall Score = 0.7\n",
    "    - HotPotQA\n",
    "        - Accuracy = 0.75 \n",
    "    - Possible Improvements \n",
    "        - improve statement generation\n",
    "\n",
    "- Relevance scores\n",
    "    - QGen method\n",
    "        - models tried : t5-base / gptneo-125M\n",
    "        - WikiQA\n",
    "            - Kendall score = 0.65\n",
    "            - observations : finetune model on prompt/answer pairs to improve performance.\n",
    "    - Cross-encoder method\n",
    "        - models tried : distilbert \n",
    "        - WikiQA\n",
    "            - kendall score = 0.63\n",
    "            "
   ]
  },
  {
   "cell_type": "code",
   "execution_count": 1,
   "id": "7bfb2480",
   "metadata": {},
   "outputs": [
    {
     "name": "stderr",
     "output_type": "stream",
     "text": [
      "/opt/anaconda3/envs/ragas/lib/python3.10/site-packages/tqdm/auto.py:21: TqdmWarning: IProgress not found. Please update jupyter and ipywidgets. See https://ipywidgets.readthedocs.io/en/stable/user_install.html\n",
      "  from .autonotebook import tqdm as notebook_tqdm\n"
     ]
    }
   ],
   "source": [
    "import json\n",
    "from datasets import load_dataset\n",
    "import re\n",
    "import os\n",
    "import openai\n",
    "from tqdm import tqdm\n",
    "import numpy as np\n",
    "import random\n",
    "from scipy.stats import kendalltau, spearmanr"
   ]
  },
  {
   "cell_type": "code",
   "execution_count": 2,
   "id": "e4168502",
   "metadata": {},
   "outputs": [],
   "source": [
    "os.chdir(\"/Users/shahules/belar/src/\")"
   ]
  },
  {
   "cell_type": "markdown",
   "id": "03c2a602",
   "metadata": {},
   "source": [
    "## OpenAI API"
   ]
  },
  {
   "cell_type": "code",
   "execution_count": 3,
   "id": "8cd14a3d",
   "metadata": {},
   "outputs": [],
   "source": [
    "os.environ['OPENAI_API_KEY'] = json.load(open('/Users/shahules/openai-key.json'))['ikka']"
   ]
  },
  {
   "cell_type": "code",
   "execution_count": 4,
   "id": "b3139189",
   "metadata": {},
   "outputs": [
    {
     "name": "stdout",
     "output_type": "stream",
     "text": [
      "{\n",
      "  \"role\": \"assistant\",\n",
      "  \"content\": \"How can I assist you today?\"\n",
      "}\n"
     ]
    }
   ],
   "source": [
    "import os\n",
    "import openai\n",
    "\n",
    "openai.api_key = os.getenv(\"OPENAI_API_KEY\")\n",
    "\n",
    "completion = openai.ChatCompletion.create(\n",
    "    model=\"gpt-3.5-turbo\",\n",
    "    messages=[\n",
    "        {\"role\": \"system\", \"content\": \"You are a helpful assistant.\"},\n",
    "    ],\n",
    ")\n",
    "\n",
    "print(completion.choices[0].message)"
   ]
  },
  {
   "cell_type": "code",
   "execution_count": 29,
   "id": "4bce4c53",
   "metadata": {},
   "outputs": [],
   "source": [
    "def llm2(prompt, **kwargs):\n",
    "    response = openai.ChatCompletion.create(\n",
    "        model=kwargs.get(\"model\", \"gpt-3.5-turbo\"),\n",
    "        messages=[{\"role\": \"system\", \"content\": prompt}],\n",
    "        temperature=kwargs.get(\"temperature\", 0),\n",
    "        top_p=kwargs.get(\"top_p\", 1),\n",
    "        frequency_penalty=kwargs.get(\"frequency_penalty\", 0.0),\n",
    "        presence_penalty=kwargs.get(\"presence_penalty\", 0.0),\n",
    "        max_tokens=kwargs.get(\"max_tokens\", 500),\n",
    "        n=kwargs.get(\"n\", 1),\n",
    "    )\n",
    "    return response\n",
    "\n",
    "\n",
    "def llm(prompt, **kwargs):\n",
    "    response = openai.Completion.create(\n",
    "        model=kwargs.get(\"model\", \"text-davinci-003\"),\n",
    "        prompt=prompt,\n",
    "        temperature=kwargs.get(\"temperature\", 0),\n",
    "        top_p=kwargs.get(\"top_p\", 1),\n",
    "        frequency_penalty=kwargs.get(\"frequency_penalty\", 0.0),\n",
    "        presence_penalty=kwargs.get(\"presence_penalty\", 0.0),\n",
    "        max_tokens=kwargs.get(\"max_tokens\", 500),\n",
    "        logprobs=kwargs.get(\"logprobs\", 0),\n",
    "        n=kwargs.get(\"n\", 1),\n",
    "    )\n",
    "    return response"
   ]
  },
  {
   "cell_type": "code",
   "execution_count": 6,
   "id": "4d9b4e31",
   "metadata": {},
   "outputs": [],
   "source": [
    "def json_logger(data, filename=\"nli_check\"):\n",
    "    output = json.load(open(filename + \".json\"))\n",
    "    output.append(data)\n",
    "    with open(filename + \".json\", \"w\") as file:\n",
    "        json.dump(output, file, indent=4)"
   ]
  },
  {
   "cell_type": "markdown",
   "id": "50add06b",
   "metadata": {},
   "source": [
    "## Datasets"
   ]
  },
  {
   "cell_type": "code",
   "execution_count": 10,
   "id": "f9f4280e",
   "metadata": {},
   "outputs": [
    {
     "name": "stdout",
     "output_type": "stream",
     "text": [
      "Downloading and preparing dataset None/None to /Users/shahules/.cache/huggingface/datasets/explodinggradients___parquet/explodinggradients--ragas-wikiqa-5b5116e5cb909aca/0.0.0/14a00e99c0d15a23649d0db8944380ac81082d4b021f398733dd84f3a6c569a7...\n"
     ]
    },
    {
     "name": "stderr",
     "output_type": "stream",
     "text": [
      "Downloading data files: 100%|████| 1/1 [00:00<00:00, 655.36it/s]\n",
      "Extracting data files: 100%|█████| 1/1 [00:00<00:00, 304.69it/s]\n",
      "                                                                \r"
     ]
    },
    {
     "name": "stdout",
     "output_type": "stream",
     "text": [
      "Dataset parquet downloaded and prepared to /Users/shahules/.cache/huggingface/datasets/explodinggradients___parquet/explodinggradients--ragas-wikiqa-5b5116e5cb909aca/0.0.0/14a00e99c0d15a23649d0db8944380ac81082d4b021f398733dd84f3a6c569a7. Subsequent calls will reuse this data.\n"
     ]
    },
    {
     "name": "stderr",
     "output_type": "stream",
     "text": [
      "100%|████████████████████████████| 1/1 [00:00<00:00, 178.25it/s]\n"
     ]
    }
   ],
   "source": [
    "wikiqa_ragas = load_dataset(\"explodinggradients/ragas-wikiqa\")"
   ]
  },
  {
   "cell_type": "markdown",
   "id": "a0e0148e",
   "metadata": {},
   "source": [
    "## Correlation"
   ]
  },
  {
   "cell_type": "code",
   "execution_count": 124,
   "id": "eca20daf",
   "metadata": {},
   "outputs": [],
   "source": [
    "def get_corr(targets, predictions):\n",
    "    scores = [kendalltau(x, y).correlation for x, y in zip(targets, predictions)]\n",
    "    return [score if not np.isnan(score) else 0 for score in scores]"
   ]
  },
  {
   "cell_type": "markdown",
   "id": "d5563146",
   "metadata": {},
   "source": [
    "## QA-QG paradigm\n",
    "- Generate question and answer pair from `generated answer`.\n",
    "- Given `context`, ask these questions\n",
    "- Verify answer correctness"
   ]
  },
  {
   "cell_type": "code",
   "execution_count": 11,
   "id": "f3e35532",
   "metadata": {},
   "outputs": [],
   "source": [
    "Question_generation = \"\"\"Given a text, extract {} noun phrases and create questions for each based on given text.\n",
    "text: Albert Einstein was a German-born theoretical physicist, widely acknowledged to be one of the greatest and most influential physicists of all time. Best known for developing the theory of relativity, he also made important contributions to the development of the theory of quantum mechanics.\n",
    "A: Germany\n",
    "Q: Where was Albert Einstein born?\n",
    "A: theory of relativity\n",
    "Q: What is Albert Einstein best known for?\n",
    "text: {}\n",
    "\"\"\"\n",
    "\n",
    "Question_answering = \"\"\"Given a text and set of questions, answer the questions\n",
    "text: Albert Einstein was a German-born theoretical physicist, widely acknowledged to be one of the greatest and most influential physicists of all time. Best known for developing the theory of relativity, he also made important contributions to the development of the theory of quantum mechanics.\n",
    "questions: Where was Albert Einstein born?\\n\\nWhat is Albert Einstein best known for?\n",
    "answers:Germany\\n\\ntheory of relativity\n",
    "text: {}\n",
    "questions:{}\n",
    "answers:\"\"\"\n",
    "\n",
    "Answer_verification = \"\"\"Given a set of questions, correct answer and student's answer return the number of questions incorrectly answered by student.\n",
    "Where was Albert Einstein born?\\nCorrect answer: Germany\\nStudent answer:India\\n\\n\n",
    "What is Albert Einstein best known for?\\nCorrect answer:  theory of relativity\\nStudent answer: theory of relativity\\n\\n\n",
    "Number of incorrect answers:1\n",
    "{}\n",
    "Number of incorrect answers:\"\"\""
   ]
  },
  {
   "cell_type": "code",
   "execution_count": 12,
   "id": "335081e3",
   "metadata": {},
   "outputs": [],
   "source": [
    "def QAQG_fun(question, context, answer):\n",
    "    \"\"\"\n",
    "    returns number of factual inconsistencies.\n",
    "    \"\"\"\n",
    "\n",
    "    def answer_ver(qstn, answer, cand):\n",
    "        return f\"{qstn}\\nCorrect answer: {answer}\\nStudent answer: {cand}\"\n",
    "\n",
    "    num = len(answer.split(\".\")) - 1\n",
    "    prompt = Question_generation.format(num, answer)\n",
    "    output = llm(prompt)\n",
    "    qa_pairs = [\n",
    "        re.sub(r\"A:|Q:\", \"\", x).strip()\n",
    "        for item in output[\"choices\"][0][\"text\"].strip().split(\"\\n\\n\")\n",
    "        for x in item.split(\"\\n\")\n",
    "    ]\n",
    "    qa_pairs = [tuple(qa_pairs[i : i + 2]) for i in range(0, len(qa_pairs), 2)]\n",
    "    print(qa_pairs)\n",
    "    questions = \"\\n\\n\".join([qstn for ans, qstn in qa_pairs])\n",
    "    prompt = Question_answering.format(context, questions)\n",
    "    answers = llm(prompt)[\"choices\"][0][\"text\"].split(\"\\n\\n\")\n",
    "\n",
    "    prompt = \"\\n\\n\".join(\n",
    "        [answer_ver(qstn, ans, cand) for (ans, qstn), cand in zip(qa_pairs, answers)]\n",
    "    )\n",
    "    output = llm(Answer_verification.format(prompt))[\"choices\"][0][\"text\"].strip()\n",
    "    return int(output)"
   ]
  },
  {
   "cell_type": "code",
   "execution_count": 20,
   "id": "b2642e5b",
   "metadata": {},
   "outputs": [],
   "source": [
    "answer = \"The actress who played Lolita, Sue Lyon, was 14 at the time of filming.\"\n",
    "question = \"What was the age of Sue Lyon when she played Lolita?\"\n",
    "context = \"\"\"\n",
    "Lolita is a 1962 psychological comedy-drama film[5] directed by Stanley Kubrick and based on the 1955 novel of the same title by Vladimir Nabokov, who is also credited with writing the screenplay. The film follows Humbert Humbert, a middle-aged literature lecturer who becomes sexually infatuated with Dolores Haze (nicknamed \"Lolita\"), a young adolescent girl. It stars James Mason, Shelley Winters, Peter Sellers and, as the titular character, Sue Lyon.\n",
    "\n",
    "Owing to restrictions imposed by the Motion Picture Production Code, the film toned down the most provocative aspects of the novel, sometimes leaving much to the audience's imagination. The actress who played Lolita, Sue Lyon, was 14 at the time of filming.\"\"\""
   ]
  },
  {
   "cell_type": "code",
   "execution_count": 17,
   "id": "26ca4af4",
   "metadata": {},
   "outputs": [
    {
     "name": "stdout",
     "output_type": "stream",
     "text": [
      "[('Sue Lyon', 'Who played the role of Lolita in the movie?')]\n"
     ]
    },
    {
     "data": {
      "text/plain": [
       "0"
      ]
     },
     "execution_count": 17,
     "metadata": {},
     "output_type": "execute_result"
    }
   ],
   "source": [
    "QAQG_fun(question, context, answer)"
   ]
  },
  {
   "cell_type": "code",
   "execution_count": 22,
   "id": "a6bdd767",
   "metadata": {},
   "outputs": [
    {
     "data": {
      "text/plain": [
       "<OpenAIObject chat.completion id=chatcmpl-7aiRcMcfrtt4jp5AK9PaIBMqFdlIB at 0x7f9b1b66e630> JSON: {\n",
       "  \"choices\": [\n",
       "    {\n",
       "      \"finish_reason\": \"stop\",\n",
       "      \"index\": 0,\n",
       "      \"message\": {\n",
       "        \"content\": \"A: Lolita\\nQ: What character did Sue Lyon play in the movie?\\nA: 14\\nQ: How old was Sue Lyon when she filmed Lolita?\",\n",
       "        \"role\": \"assistant\"\n",
       "      }\n",
       "    }\n",
       "  ],\n",
       "  \"created\": 1688985008,\n",
       "  \"id\": \"chatcmpl-7aiRcMcfrtt4jp5AK9PaIBMqFdlIB\",\n",
       "  \"model\": \"gpt-3.5-turbo-0613\",\n",
       "  \"object\": \"chat.completion\",\n",
       "  \"usage\": {\n",
       "    \"completion_tokens\": 35,\n",
       "    \"prompt_tokens\": 128,\n",
       "    \"total_tokens\": 163\n",
       "  }\n",
       "}"
      ]
     },
     "execution_count": 22,
     "metadata": {},
     "output_type": "execute_result"
    }
   ],
   "source": [
    "llm2([Question_generation.format(2, answer)])"
   ]
  },
  {
   "cell_type": "markdown",
   "id": "e2078ece",
   "metadata": {},
   "source": [
    "## G-Eval\n",
    "- Define criterions to evaluate model.\n",
    "- Normalize `score = prob(s) * s`"
   ]
  },
  {
   "cell_type": "code",
   "execution_count": 138,
   "id": "ca1c56d6",
   "metadata": {},
   "outputs": [],
   "source": [
    "relevence = \"\"\"\n",
    "Evaluation Criteria.\\n\n",
    "Relevance (1-5) - how relevant is the reply to the given question.\n",
    "1. Read the reply and compare it to the question. Check if the given reply\n",
    "actually answers the question, and if it presents them in a clear and logical order.\n",
    "2. The reply should include only required information to answer the question.\n",
    "3. Penalize replies that contain redundancies and excess information.\n",
    "4. Assign a score for Relevance on a scale of 1 to 5, where 1 is the lowest and\n",
    "5 is the highest based on the Evaluation Criteria.\n",
    "\n",
    "question:{}\n",
    "reply:{}\n",
    "score:\"\"\"\n",
    "\n",
    "faithfulness = \"\"\"\n",
    "Evaluation Criteria.\\n\n",
    "Faithfulness (1-5) - how factually consistant is the reply with the given context.\n",
    "1. Read the reply and compare it to the question. Check if the given reply\n",
    "actually answers the question correctly, and if the reply is factualy consistent with the context.\n",
    "2. Assign a score for faithfulness on a scale of 1 to 5, where 1 is the lowest and\n",
    "5 is the highest based on the Evaluation Criteria.\n",
    "\n",
    "context: {}\n",
    "question:{}\n",
    "reply:{}\n",
    "score:\"\"\""
   ]
  },
  {
   "cell_type": "code",
   "execution_count": 156,
   "id": "541c1423",
   "metadata": {},
   "outputs": [],
   "source": [
    "def gpt_faithfulness(question: list, context: list, answer: list):\n",
    "    prompt = [\n",
    "        faithfulness.format(c, q, a) for c, q, a in zip(question, context, answer)\n",
    "    ]\n",
    "    output = [output for output in llm(prompt)[\"choices\"]]\n",
    "    scores = [(out[\"text\"].strip()) for out in output]\n",
    "    scores = [\n",
    "        int(score) if score in [\"1\", \"2\", \"3\", \"4\", \"5\"] else 1 for score in scores\n",
    "    ]\n",
    "    return scores\n",
    "\n",
    "\n",
    "def gpt_relevance(question: list, answer: list):\n",
    "    prompt = [relevence.format(q, a) for q, a in zip(question, answer)]\n",
    "    output = [output for output in llm(prompt)[\"choices\"]]\n",
    "    scores = [(out[\"text\"].strip()) for out in output]\n",
    "    scores = [\n",
    "        int(score) if score in [\"1\", \"2\", \"3\", \"4\", \"5\"] else 1 for score in scores\n",
    "    ]\n",
    "    return scores"
   ]
  },
  {
   "cell_type": "code",
   "execution_count": 89,
   "id": "cd7fed9c",
   "metadata": {},
   "outputs": [],
   "source": [
    "def g_eval(question, context, answer):\n",
    "    prompt = relevence.format(question, answer)\n",
    "    output = llm(prompt)[\"choices\"][0]\n",
    "    prob = np.exp(sum(output[\"logprobs\"][\"token_logprobs\"]))\n",
    "    score = int(output[\"text\"].strip())\n",
    "    print(score)\n",
    "    return prob * score"
   ]
  },
  {
   "cell_type": "code",
   "execution_count": 90,
   "id": "35113558",
   "metadata": {},
   "outputs": [],
   "source": [
    "question = \"Which year did Lolita release?\"\n",
    "answer = \"Lolita film released in 1947.\""
   ]
  },
  {
   "cell_type": "code",
   "execution_count": 54,
   "id": "4e82d0df",
   "metadata": {},
   "outputs": [
    {
     "data": {
      "text/plain": [
       "5"
      ]
     },
     "execution_count": 54,
     "metadata": {},
     "output_type": "execute_result"
    }
   ],
   "source": [
    "gpt_relevance(question, answer)"
   ]
  },
  {
   "cell_type": "code",
   "execution_count": 151,
   "id": "a79b1780",
   "metadata": {},
   "outputs": [],
   "source": [
    "q, a, c = (\n",
    "    wikiqa_ragas[\"train\"][0][\"question\"],\n",
    "    wikiqa_ragas[\"train\"][0][\"generated_without_rag\"],\n",
    "    wikiqa_ragas[\"train\"][0][\"context\"],\n",
    ")"
   ]
  },
  {
   "cell_type": "code",
   "execution_count": 152,
   "id": "f25b046f",
   "metadata": {},
   "outputs": [
    {
     "data": {
      "text/plain": [
       "[4]"
      ]
     },
     "execution_count": 152,
     "metadata": {},
     "output_type": "execute_result"
    }
   ],
   "source": [
    "gpt_faithfulness([q], [c], [a])"
   ]
  },
  {
   "cell_type": "code",
   "execution_count": 91,
   "id": "e158274f",
   "metadata": {},
   "outputs": [
    {
     "data": {
      "text/plain": [
       "[4]"
      ]
     },
     "execution_count": 91,
     "metadata": {},
     "output_type": "execute_result"
    }
   ],
   "source": [
    "gpt_relevance([q], [a])"
   ]
  },
  {
   "cell_type": "markdown",
   "id": "6dce1baa",
   "metadata": {},
   "source": [
    "## Relevancy Score \n",
    "- Scores `answers` according to `prompt`\n"
   ]
  },
  {
   "cell_type": "markdown",
   "id": "75aa62eb",
   "metadata": {},
   "source": [
    "### QGen scoring method"
   ]
  },
  {
   "cell_type": "code",
   "execution_count": 35,
   "id": "cc263805",
   "metadata": {},
   "outputs": [],
   "source": [
    "from ragas.metrics.answer_relevance import QGen"
   ]
  },
  {
   "cell_type": "code",
   "execution_count": 36,
   "id": "38deaf06",
   "metadata": {},
   "outputs": [],
   "source": [
    "t5_qgen = QGen(\"t5-base\", \"cpu\")"
   ]
  },
  {
   "cell_type": "code",
   "execution_count": 146,
   "id": "45942810",
   "metadata": {},
   "outputs": [],
   "source": [
    "def predict_(examples):\n",
    "    scores = {}\n",
    "    questions = examples[\"question\"]\n",
    "    context = examples[\"context\"]\n",
    "    for col in COLUMNS:\n",
    "        passage = examples[col]\n",
    "        inputs = list(zip(questions, passage))\n",
    "        # scores[f\"{col}_relevance\"] = t5_qgen.predict(inputs, show_progress=False)\n",
    "        scores[f\"{col}_relevance\"] = gpt_faithfulness(questions, context, passage)\n",
    "    return scores"
   ]
  },
  {
   "cell_type": "markdown",
   "id": "b1410f3c",
   "metadata": {},
   "source": [
    "- We assume `generated_with_rag > correct_answer > incorrect_answer` for relevancy."
   ]
  },
  {
   "cell_type": "code",
   "execution_count": 142,
   "id": "ab00e4fe",
   "metadata": {},
   "outputs": [],
   "source": [
    "COLUMNS = [\"generated_with_rag\", \"correct_answer\", \"incorrect_answer\"]"
   ]
  },
  {
   "cell_type": "code",
   "execution_count": 139,
   "id": "e705767d",
   "metadata": {
    "scrolled": false
   },
   "outputs": [],
   "source": [
    "output = wikiqa_ragas[\"train\"].map(predict_relevance, batched=True, batch_size=10)"
   ]
  },
  {
   "cell_type": "code",
   "execution_count": null,
   "id": "3ab21cdf",
   "metadata": {},
   "outputs": [],
   "source": [
    "predictions = [[item[f\"{k}_relevance\"] for k in COLUMNS] for item in output]\n",
    "target = [[2, 1, 0] for i in range(len(output))]\n",
    "np.mean(get_corr(target, predictions))"
   ]
  },
  {
   "cell_type": "markdown",
   "id": "6b2c5e1c",
   "metadata": {},
   "source": []
  },
  {
   "cell_type": "markdown",
   "id": "608a7ddb",
   "metadata": {},
   "source": [
    "Relevance\n",
    "\n",
    "- 0.6337284370533437 for wikiQA gpt 3.5\n",
    "\n",
    "- 0.6831823238905629 For wikiwa t5"
   ]
  },
  {
   "cell_type": "markdown",
   "id": "89d8ccbc",
   "metadata": {},
   "source": [
    "## Faithfulness"
   ]
  },
  {
   "cell_type": "code",
   "execution_count": 157,
   "id": "2f26f435",
   "metadata": {},
   "outputs": [],
   "source": [
    "COLUMNS = [\"generated_with_rag\", \"correct_answer\", \"generated_without_rag\"]"
   ]
  },
  {
   "cell_type": "code",
   "execution_count": 158,
   "id": "a3a8fc48",
   "metadata": {},
   "outputs": [
    {
     "name": "stderr",
     "output_type": "stream",
     "text": [
      "          \r"
     ]
    }
   ],
   "source": [
    "output = wikiqa_ragas[\"train\"].map(predict_relevance, batched=True, batch_size=10)"
   ]
  },
  {
   "cell_type": "code",
   "execution_count": 159,
   "id": "57f0b521",
   "metadata": {},
   "outputs": [
    {
     "data": {
      "text/plain": [
       "0.48110338184466117"
      ]
     },
     "execution_count": 159,
     "metadata": {},
     "output_type": "execute_result"
    }
   ],
   "source": [
    "predictions = [[item[f\"{k}_facuality\"] for k in COLUMNS] for item in output]\n",
    "target = [[2, 1, 0] for i in range(len(output))]\n",
    "np.mean(get_corr(target, predictions))"
   ]
  },
  {
   "cell_type": "markdown",
   "id": "c10aee98",
   "metadata": {},
   "source": [
    "0.48110338184466117 for GPT3.5"
   ]
  },
  {
   "cell_type": "markdown",
   "id": "3d562351",
   "metadata": {},
   "source": [
    "### Cross encoder method"
   ]
  },
  {
   "cell_type": "code",
   "execution_count": 17,
   "id": "b6d76ae2",
   "metadata": {},
   "outputs": [],
   "source": [
    "from ragas.metrics.context_relevance import context_relavancy"
   ]
  },
  {
   "cell_type": "code",
   "execution_count": 24,
   "id": "bcb4e25f",
   "metadata": {},
   "outputs": [],
   "source": [
    "def predict_relevance(examples):\n",
    "    scores = {}\n",
    "    questions = examples[\"question\"]\n",
    "    for col in COLUMNS:\n",
    "        passage = examples[col]\n",
    "        inputs = list(zip(questions, passage))\n",
    "        scores[f\"{col}_relevance\"] = cross_encoder.predict(inputs, show_progress=False)\n",
    "    return scores"
   ]
  },
  {
   "cell_type": "code",
   "execution_count": null,
   "id": "36565a9d",
   "metadata": {},
   "outputs": [],
   "source": [
    "output = (\n",
    "    wikiqa_ragas[\"train\"]\n",
    "    .select(range(0, 10))\n",
    "    .map(predict_relevance, batched=True, batch_size=4)\n",
    ")"
   ]
  },
  {
   "cell_type": "code",
   "execution_count": null,
   "id": "ea3f0571",
   "metadata": {},
   "outputs": [],
   "source": [
    "predictions = [[item[f\"{k}_relevance\"] for k in COLUMNS] for item in output]\n",
    "target = [[2, 1, 0] for i in range(len(output))]\n",
    "get_tau(target, predictions)"
   ]
  },
  {
   "cell_type": "markdown",
   "id": "cefd9923",
   "metadata": {},
   "source": [
    "## Faithfulness on HotpotQA\n"
   ]
  },
  {
   "cell_type": "code",
   "execution_count": 134,
   "id": "2316c8dd",
   "metadata": {},
   "outputs": [],
   "source": [
    "import experimental"
   ]
  },
  {
   "cell_type": "code",
   "execution_count": 135,
   "id": "6cd24f8c",
   "metadata": {},
   "outputs": [
    {
     "data": {
      "text/plain": [
       "<module 'experimental' (namespace)>"
      ]
     },
     "execution_count": 135,
     "metadata": {},
     "output_type": "execute_result"
    }
   ],
   "source": [
    "from importlib import reload\n",
    "\n",
    "reload(experimental)"
   ]
  },
  {
   "cell_type": "code",
   "execution_count": 136,
   "id": "723e662a",
   "metadata": {},
   "outputs": [],
   "source": [
    "from experimental.nli import NLI"
   ]
  },
  {
   "cell_type": "code",
   "execution_count": 10,
   "id": "f3f9bd55",
   "metadata": {},
   "outputs": [
    {
     "name": "stderr",
     "output_type": "stream",
     "text": [
      "Found cached dataset hotpot_qa (/Users/shahules/.cache/huggingface/datasets/hotpot_qa/distractor/1.0.0/133b9501f892e5193babbad937bee3b4899deb4691ef4d791e6ac0111c875bb5)\n"
     ]
    }
   ],
   "source": [
    "hotpot_qa = load_dataset(\n",
    "    \"hotpot_qa\",\n",
    "    \"distractor\",\n",
    "    split=\"validation\",\n",
    ").select(range(0, 20))"
   ]
  },
  {
   "cell_type": "code",
   "execution_count": 138,
   "id": "2ab98cf5",
   "metadata": {},
   "outputs": [],
   "source": [
    "false_answer_prompt = \"\"\"Given a question and correct answer, generate an incorrect answer\n",
    "question: Were Scott Derrickson and Ed Wood of the same nationality?\n",
    "correct answer: yes\n",
    "answer: no\n",
    "question: {}\n",
    "correct answer: {}\n",
    "answer:\"\"\"\n",
    "\n",
    "\n",
    "def generate_false_answers(question, answer):\n",
    "    answer = llm(false_answer_prompt.format(question, answer))[\"choices\"][0][\n",
    "        \"text\"\n",
    "    ].strip()\n",
    "    return {\"false_answer\": answer}"
   ]
  },
  {
   "cell_type": "code",
   "execution_count": 139,
   "id": "542bdb71",
   "metadata": {},
   "outputs": [
    {
     "name": "stderr",
     "output_type": "stream",
     "text": [
      "Loading cached processed dataset at /Users/shahules/.cache/huggingface/datasets/hotpot_qa/distractor/1.0.0/133b9501f892e5193babbad937bee3b4899deb4691ef4d791e6ac0111c875bb5/cache-593e03a966a13563.arrow\n"
     ]
    }
   ],
   "source": [
    "hotpot_qa = hotpot_qa.map(lambda x: generate_false_answers(x[\"question\"], x[\"answer\"]))"
   ]
  },
  {
   "cell_type": "code",
   "execution_count": 53,
   "id": "0f8682fb",
   "metadata": {},
   "outputs": [],
   "source": [
    "def get_context(item):\n",
    "    titles, ids = item[\"supporting_facts\"].values()\n",
    "    title_ids = [item[\"context\"][\"title\"].index(i) for i in titles]\n",
    "    sentences = [\n",
    "        item[\"context\"][\"sentences\"][i][k]\n",
    "        for i, k in zip(title_ids, item[\"supporting_facts\"][\"sent_id\"])\n",
    "    ]\n",
    "    orig_context = \" \".join(sentences)\n",
    "    return {\"answer_context\": orig_context}"
   ]
  },
  {
   "cell_type": "code",
   "execution_count": 54,
   "id": "a94511fb",
   "metadata": {},
   "outputs": [
    {
     "name": "stderr",
     "output_type": "stream",
     "text": [
      "                                                                                        \r"
     ]
    }
   ],
   "source": [
    "hotpot_qa = hotpot_qa.map(lambda x: get_context(x), batched=False)"
   ]
  },
  {
   "cell_type": "code",
   "execution_count": 142,
   "id": "84f39785",
   "metadata": {},
   "outputs": [],
   "source": [
    "def predict_faithfulness(examples, scoring_fun=NLI.score):\n",
    "    scores = {}\n",
    "    questions = examples[\"question\"]\n",
    "    contexts = examples[\"answer_context\"]\n",
    "    for col in COLUMNS:\n",
    "        answers = examples[col]\n",
    "        while True:\n",
    "            try:\n",
    "                scores[f\"{col}_factual\"] = scoring_fun(questions, contexts, answers)\n",
    "            except Exception as e:\n",
    "                print(e)\n",
    "                continue\n",
    "            break\n",
    "    return scores"
   ]
  },
  {
   "cell_type": "code",
   "execution_count": 143,
   "id": "b75f9dc1",
   "metadata": {},
   "outputs": [
    {
     "name": "stderr",
     "output_type": "stream",
     "text": [
      "Loading cached processed dataset at /Users/shahules/.cache/huggingface/datasets/hotpot_qa/distractor/1.0.0/133b9501f892e5193babbad937bee3b4899deb4691ef4d791e6ac0111c875bb5/cache-d51f81546b2858f1.arrow\n"
     ]
    }
   ],
   "source": [
    "COLUMNS = [\"answer\", \"false_answer\"]\n",
    "hotpot_qa = hotpot_qa.map(predict_faithfulness, batched=True, batch_size=8)"
   ]
  },
  {
   "cell_type": "code",
   "execution_count": 164,
   "id": "ca2cd14d",
   "metadata": {},
   "outputs": [
    {
     "name": "stdout",
     "output_type": "stream",
     "text": [
      "Accuracy 0.75\n"
     ]
    }
   ],
   "source": [
    "predictions = [[item[f\"{k}_factual\"] for k in COLUMNS] for item in hotpot_qa]\n",
    "target = [[1, 0] for i in range(len(hotpot_qa))]\n",
    "incorrect = [\n",
    "    idx for idx, item in enumerate(predictions) if all(np.argsort(item) != [1.0, 0.0])\n",
    "]\n",
    "print(\"Accuracy\", 1 - (len(incorrect) / len(target)))"
   ]
  },
  {
   "cell_type": "markdown",
   "id": "e8f03a06",
   "metadata": {},
   "source": [
    "## Context relevancy"
   ]
  },
  {
   "cell_type": "code",
   "execution_count": 11,
   "id": "5c3db326",
   "metadata": {},
   "outputs": [
    {
     "name": "stderr",
     "output_type": "stream",
     "text": [
      "                                                                                        \r"
     ]
    }
   ],
   "source": [
    "def get_all_facts(item):\n",
    "    all_facts = item[\"context\"][\"sentences\"]\n",
    "    all_facts = [sent for para in all_facts for sent in para]\n",
    "    return {\"full_context\": \"\".join(all_facts)}\n",
    "\n",
    "\n",
    "hotpot_qa = hotpot_qa.map(get_all_facts, batched=False)"
   ]
  },
  {
   "cell_type": "code",
   "execution_count": 73,
   "id": "f26aec50",
   "metadata": {},
   "outputs": [],
   "source": [
    "question_ex1 = \"Were Scott Derrickson and Ed Wood of the same nationality?\"\n",
    "context_ex1 = 'Scott Derrickson (born July 16, 1966) is an American director, screenwriter and producer He lives in Los Angeles, California He is best known for directing horror films such as \"Sinister\", \"The Exorcism of Emily Rose\", and \"Deliver Us From Evil\", as well as the 2016 Marvel Cinematic Universe installment, \"Doctor Strange\"Tyler Bates is an American musician, music producer, and composer for films, television, and video games. Adam Collis is an American filmmaker and actor.Conrad Brooks is an American actor.Edward Davis Wood Jr. (October 10, 1924 – December 10, 1978) was an American filmmaker, actor, writer, producer, and director.'\n",
    "answer_ex1 = \"Scott Derrickson (born July 16, 1966) is an American director, screenwriter and producer. \\nEdward Davis Wood Jr. (October 10, 1924 – December 10, 1978) was an American filmmaker, actor, writer, producer, and director.\""
   ]
  },
  {
   "cell_type": "code",
   "execution_count": 16,
   "id": "5f0b7d30",
   "metadata": {},
   "outputs": [],
   "source": [
    "Context_relevency = \"\"\"\n",
    "Task: Candidate sentence extraction.\n",
    "Given the question and context, extract minimum number of sentences from context required to answer the question. If the context do not contain information required to answer the question return \"No candidate sentences found\".\n",
    "\n",
    "question: Which equation is known as worlds most famous equation?\n",
    "context:\\nAlbert Einstein (14 March 1879 – 18 April 1955) was a German-born theoretical physicist,[5] widely ranked among the greatest and most influential scientists of all time. Best known for developing the theory of relativity, he also made important contributions to quantum mechanics, and was thus a central figure in the revolutionary reshaping of the scientific understanding of nature that modern physics accomplished in the first decades of the twentieth century.\n",
    "His mass–energy equivalence formula E = mc2, which arises from relativity theory, has been called \"the world's most famous equation\".\n",
    "sentences:His mass–energy equivalence formula E = mc2, which arises from relativity theory, has been called \"the world's most famous equation\".\n",
    "\n",
    "question: Were Scott Derrickson and Ed Wood of the same nationality?\n",
    "context :\\nScott Derrickson (born July 16, 1966) is an American director, screenwriter and producer He lives in Los Angeles, California He is best known for directing horror films such as \"Sinister\", \"The Exorcism of Emily Rose\", and \"Deliver Us From Evil\", as well as the 2016 Marvel Cinematic Universe installment, \"Doctor Strange\"Tyler Bates is an American musician, music producer, and composer for films, television, and video games. Adam Collis is an American filmmaker and actor.Conrad Brooks is an American actor.Edward Davis Wood Jr. (October 10, 1924 – December 10, 1978) was an American filmmaker, actor, writer, producer, and director.\n",
    "Now given a question and context, extract the minimum number of sentences from the given context required to answer the question completely. \n",
    "sentences:Scott Derrickson (born July 16, 1966) is an American director, screenwriter and producer. Edward Davis Wood Jr. (October 10, 1924 – December 10, 1978) was an American filmmaker, actor, writer, producer, and director.\n",
    "\n",
    "question:{}\n",
    "context:\\n{}\n",
    "sentences:\"\"\""
   ]
  },
  {
   "cell_type": "code",
   "execution_count": 179,
   "id": "f649eaf8",
   "metadata": {},
   "outputs": [],
   "source": [
    "i = 15\n",
    "q, c = hotpot_qa[i][\"question\"], hotpot_qa[i][\"full_context\"]"
   ]
  },
  {
   "cell_type": "code",
   "execution_count": 183,
   "id": "b9f5e0b4",
   "metadata": {},
   "outputs": [],
   "source": [
    "c = \"A black hole is a region of spacetime where gravity is so strong that nothing, including light or other electromagnetic waves, has enough energy to escape it.[2] The theory of general relativity predicts that a sufficiently compact mass can deform spacetime to form a black hole.[3][4] The boundary of no escape is called the event horizon. Although it has a great effect on the fate and circumstances of an object crossing it, it has no locally detectable features according to general relativity.[5] In many ways, a black hole acts like an ideal black body, as it reflects no light\""
   ]
  },
  {
   "cell_type": "code",
   "execution_count": 349,
   "id": "b711de8a",
   "metadata": {},
   "outputs": [],
   "source": [
    "q = \"what is general relativity?\"\n",
    "n = 2"
   ]
  },
  {
   "cell_type": "code",
   "execution_count": 300,
   "id": "11a83f10",
   "metadata": {},
   "outputs": [],
   "source": [
    "import wikipediaapi\n",
    "\n",
    "wiki_wiki = wikipediaapi.Wikipedia(\n",
    "    language=\"en\", extract_format=wikipediaapi.ExtractFormat.WIKI\n",
    ")\n",
    "\n",
    "p_wiki = wiki_wiki.page(\"Black hole\")\n",
    "\n",
    "\n",
    "def get_page_section(page, section):\n",
    "    all_text = \"\"\n",
    "    p_wiki = wiki_wiki.page(page)\n",
    "    sections = p_wiki.sections_by_title(section)\n",
    "    for s in sections:\n",
    "        all_text += s.full_text()\n",
    "    return all_text"
   ]
  },
  {
   "cell_type": "code",
   "execution_count": 21,
   "id": "2755ba79",
   "metadata": {},
   "outputs": [],
   "source": [
    "from typing import List\n",
    "from itertools import combinations\n",
    "from sentence_transformers import CrossEncoder\n",
    "\n",
    "cross_encoder = CrossEncoder(\"cross-encoder/stsb-TinyBERT-L-4\")\n",
    "\n",
    "\n",
    "def sent_tokenize(sent):\n",
    "    return [s[:-1] if s.endswith(\".\") else s for s in sent.strip().split(\". \")]\n",
    "\n",
    "\n",
    "class SentenceAgreement:\n",
    "    def __init__(self, scoring=\"bert_score\"):\n",
    "        self.scoring = scoring\n",
    "\n",
    "    @staticmethod\n",
    "    def bert_score(para1, para2):\n",
    "        sentences1, sentences2 = sent_tokenize(para1), sent_tokenize(para2)\n",
    "        scores = cross_encoder.predict(list(itertools.product(sentences1, sentences2)))\n",
    "        scores = scores.reshape(len(sentences1), len(sentences2))\n",
    "        return scores.max(axis=1).mean()\n",
    "\n",
    "    @staticmethod\n",
    "    def jaccard_score(para1, para2):\n",
    "        sentences1, sentences2 = sent_tokenize(para1), sent_tokenize(para2)\n",
    "        intersect = len(np.intersect1d(sentences1, sentences2))\n",
    "        union = len(np.union1d(sentences1, sentences2))\n",
    "        return intersect / union\n",
    "\n",
    "    def evaluate(self, answers: List[List[str]]):\n",
    "        \"\"\"\n",
    "        eval nC2 combinations\n",
    "        \"\"\"\n",
    "        scores = []\n",
    "        groups = combinations(answers, 2)\n",
    "        for group in groups:\n",
    "            if self.scoring == \"jaccard\":\n",
    "                score = self.jaccard_score(*group)\n",
    "            elif self.scoring == \"bert_score\":\n",
    "                score = self.bert_score(*group)\n",
    "            scores.append(score)\n",
    "        return np.mean(scores)"
   ]
  },
  {
   "cell_type": "code",
   "execution_count": 22,
   "id": "8d3aa09e",
   "metadata": {},
   "outputs": [],
   "source": [
    "class ContextRelevacy:\n",
    "    def __init__(self, strictness=2, agreement_metric=\"bert_score\"):\n",
    "        self.strictness = strictness\n",
    "        self.sent_agreement = SentenceAgreement(agreement_metric)\n",
    "\n",
    "    def score(self, question, context):\n",
    "        scores = []\n",
    "        outputs = llm(Context_relevency.format(q, c), n=self.strictness, temperature=1)\n",
    "        outputs = [\n",
    "            outputs[\"choices\"][i][\"text\"].strip() for i in range(self.strictness)\n",
    "        ]\n",
    "        context_sents = sent_tokenize(context)\n",
    "        for output in outputs:\n",
    "            indices = [\n",
    "                context.find(sent)\n",
    "                for sent in sent_tokenize(output)\n",
    "                if context.find(sent) != -1\n",
    "            ]\n",
    "            scores.append(len(indices) / len(context_sents))\n",
    "\n",
    "        if self.strictness > 1:\n",
    "            agr_score = self.sent_agreement.evaluate(outputs)\n",
    "        else:\n",
    "            agr_score = 1\n",
    "        return agr_score * np.mean(scores)"
   ]
  },
  {
   "cell_type": "code",
   "execution_count": 491,
   "id": "6985c4bf",
   "metadata": {},
   "outputs": [],
   "source": [
    "c = get_page_section(\"HIV/AIDS\", \"Prevention\")\n",
    "c = \" \".join(c.split(\" \")[:500])\n",
    "q = \"When was the first HIV case detected?\""
   ]
  },
  {
   "cell_type": "code",
   "execution_count": 501,
   "id": "689e1aca",
   "metadata": {},
   "outputs": [],
   "source": [
    "output = llm(\n",
    "    [\n",
    "        Context_relevency.format(q, c),\n",
    "        Context_relevency.format(\"How to prevent AIDS?\", c),\n",
    "    ],\n",
    "    n=n,\n",
    "    temperature=1,\n",
    ")"
   ]
  },
  {
   "cell_type": "code",
   "execution_count": 1,
   "id": "a6aee1fa",
   "metadata": {},
   "outputs": [
    {
     "name": "stderr",
     "output_type": "stream",
     "text": [
      "/opt/anaconda3/envs/blade2blade/lib/python3.10/site-packages/tqdm/auto.py:21: TqdmWarning: IProgress not found. Please update jupyter and ipywidgets. See https://ipywidgets.readthedocs.io/en/stable/user_install.html\n",
      "  from .autonotebook import tqdm as notebook_tqdm\n"
     ]
    }
   ],
   "source": [
    "from ragas.metrics import context_relevancy"
   ]
  },
  {
   "cell_type": "code",
   "execution_count": 2,
   "id": "d61fdab7",
   "metadata": {},
   "outputs": [],
   "source": [
    "from datasets import load_dataset"
   ]
  },
  {
   "cell_type": "code",
   "execution_count": 3,
   "id": "acbad39e",
   "metadata": {},
   "outputs": [],
   "source": [
    "context_relevancy.init_model()"
   ]
  },
  {
   "cell_type": "code",
   "execution_count": 4,
   "id": "755e0c88",
   "metadata": {},
   "outputs": [
    {
     "name": "stderr",
     "output_type": "stream",
     "text": [
      "Found cached dataset fiqa (/Users/shahules/.cache/huggingface/datasets/explodinggradients___fiqa/ragas_eval/1.0.0/3dc7b639f5b4b16509a3299a2ceb78bf5fe98ee6b5fee25e7d5e4d290c88efb8)\n",
      "100%|████████████████████████████████████████████████████| 1/1 [00:00<00:00, 146.34it/s]\n"
     ]
    }
   ],
   "source": [
    "dataset = load_dataset(\"explodinggradients/fiqa\", \"ragas_eval\")"
   ]
  },
  {
   "cell_type": "code",
   "execution_count": 5,
   "id": "8b9d75e4",
   "metadata": {},
   "outputs": [
    {
     "data": {
      "text/html": [
       "<div>\n",
       "<style scoped>\n",
       "    .dataframe tbody tr th:only-of-type {\n",
       "        vertical-align: middle;\n",
       "    }\n",
       "\n",
       "    .dataframe tbody tr th {\n",
       "        vertical-align: top;\n",
       "    }\n",
       "\n",
       "    .dataframe thead th {\n",
       "        text-align: right;\n",
       "    }\n",
       "</style>\n",
       "<table border=\"1\" class=\"dataframe\">\n",
       "  <thead>\n",
       "    <tr style=\"text-align: right;\">\n",
       "      <th></th>\n",
       "      <th>question</th>\n",
       "      <th>ground_truths</th>\n",
       "      <th>answer</th>\n",
       "      <th>contexts</th>\n",
       "      <th>context_relavency</th>\n",
       "    </tr>\n",
       "  </thead>\n",
       "  <tbody>\n",
       "    <tr>\n",
       "      <th>0</th>\n",
       "      <td>How to deposit a cheque issued to an associate...</td>\n",
       "      <td>[Have the check reissued to the proper payee.J...</td>\n",
       "      <td>\\nThe best way to deposit a cheque issued to a...</td>\n",
       "      <td>[Just have the associate sign the back and the...</td>\n",
       "      <td>0.220575</td>\n",
       "    </tr>\n",
       "    <tr>\n",
       "      <th>1</th>\n",
       "      <td>Can I send a money order from USPS as a business?</td>\n",
       "      <td>[Sure you can.  You can fill in whatever you w...</td>\n",
       "      <td>\\nYes, you can send a money order from USPS as...</td>\n",
       "      <td>[Sure you can.  You can fill in whatever you w...</td>\n",
       "      <td>0.155282</td>\n",
       "    </tr>\n",
       "    <tr>\n",
       "      <th>2</th>\n",
       "      <td>1 EIN doing business under multiple business n...</td>\n",
       "      <td>[You're confusing a lot of things here. Compan...</td>\n",
       "      <td>\\nYes, it is possible to have one EIN doing bu...</td>\n",
       "      <td>[You're confusing a lot of things here. Compan...</td>\n",
       "      <td>0.347134</td>\n",
       "    </tr>\n",
       "  </tbody>\n",
       "</table>\n",
       "</div>"
      ],
      "text/plain": [
       "                                            question  \\\n",
       "0  How to deposit a cheque issued to an associate...   \n",
       "1  Can I send a money order from USPS as a business?   \n",
       "2  1 EIN doing business under multiple business n...   \n",
       "\n",
       "                                       ground_truths  \\\n",
       "0  [Have the check reissued to the proper payee.J...   \n",
       "1  [Sure you can.  You can fill in whatever you w...   \n",
       "2  [You're confusing a lot of things here. Compan...   \n",
       "\n",
       "                                              answer  \\\n",
       "0  \\nThe best way to deposit a cheque issued to a...   \n",
       "1  \\nYes, you can send a money order from USPS as...   \n",
       "2  \\nYes, it is possible to have one EIN doing bu...   \n",
       "\n",
       "                                            contexts  context_relavency  \n",
       "0  [Just have the associate sign the back and the...           0.220575  \n",
       "1  [Sure you can.  You can fill in whatever you w...           0.155282  \n",
       "2  [You're confusing a lot of things here. Compan...           0.347134  "
      ]
     },
     "execution_count": 5,
     "metadata": {},
     "output_type": "execute_result"
    }
   ],
   "source": [
    "context_relevancy.score(dataset[\"baseline\"].select(range(0, 3)))"
   ]
  },
  {
   "cell_type": "code",
   "execution_count": 6,
   "id": "07a4a2ba",
   "metadata": {},
   "outputs": [
    {
     "data": {
      "text/html": [
       "<div>\n",
       "<style scoped>\n",
       "    .dataframe tbody tr th:only-of-type {\n",
       "        vertical-align: middle;\n",
       "    }\n",
       "\n",
       "    .dataframe tbody tr th {\n",
       "        vertical-align: top;\n",
       "    }\n",
       "\n",
       "    .dataframe thead th {\n",
       "        text-align: right;\n",
       "    }\n",
       "</style>\n",
       "<table border=\"1\" class=\"dataframe\">\n",
       "  <thead>\n",
       "    <tr style=\"text-align: right;\">\n",
       "      <th></th>\n",
       "      <th>question</th>\n",
       "      <th>ground_truths</th>\n",
       "      <th>answer</th>\n",
       "      <th>contexts</th>\n",
       "      <th>context_relavency</th>\n",
       "    </tr>\n",
       "  </thead>\n",
       "  <tbody>\n",
       "    <tr>\n",
       "      <th>0</th>\n",
       "      <td>How to deposit a cheque issued to an associate...</td>\n",
       "      <td>[Have the check reissued to the proper payee.J...</td>\n",
       "      <td>\\nThe best way to deposit a cheque issued to a...</td>\n",
       "      <td>[Just have the associate sign the back and the...</td>\n",
       "      <td>0.220575</td>\n",
       "    </tr>\n",
       "    <tr>\n",
       "      <th>1</th>\n",
       "      <td>Can I send a money order from USPS as a business?</td>\n",
       "      <td>[Sure you can.  You can fill in whatever you w...</td>\n",
       "      <td>\\nYes, you can send a money order from USPS as...</td>\n",
       "      <td>[Sure you can.  You can fill in whatever you w...</td>\n",
       "      <td>0.155282</td>\n",
       "    </tr>\n",
       "    <tr>\n",
       "      <th>2</th>\n",
       "      <td>1 EIN doing business under multiple business n...</td>\n",
       "      <td>[You're confusing a lot of things here. Compan...</td>\n",
       "      <td>\\nYes, it is possible to have one EIN doing bu...</td>\n",
       "      <td>[You're confusing a lot of things here. Compan...</td>\n",
       "      <td>0.347134</td>\n",
       "    </tr>\n",
       "  </tbody>\n",
       "</table>\n",
       "</div>"
      ],
      "text/plain": [
       "                                            question  \\\n",
       "0  How to deposit a cheque issued to an associate...   \n",
       "1  Can I send a money order from USPS as a business?   \n",
       "2  1 EIN doing business under multiple business n...   \n",
       "\n",
       "                                       ground_truths  \\\n",
       "0  [Have the check reissued to the proper payee.J...   \n",
       "1  [Sure you can.  You can fill in whatever you w...   \n",
       "2  [You're confusing a lot of things here. Compan...   \n",
       "\n",
       "                                              answer  \\\n",
       "0  \\nThe best way to deposit a cheque issued to a...   \n",
       "1  \\nYes, you can send a money order from USPS as...   \n",
       "2  \\nYes, it is possible to have one EIN doing bu...   \n",
       "\n",
       "                                            contexts  context_relavency  \n",
       "0  [Just have the associate sign the back and the...           0.220575  \n",
       "1  [Sure you can.  You can fill in whatever you w...           0.155282  \n",
       "2  [You're confusing a lot of things here. Compan...           0.347134  "
      ]
     },
     "execution_count": 6,
     "metadata": {},
     "output_type": "execute_result"
    }
   ],
   "source": [
    "context_relevancy.score(dataset[\"baseline\"].select(range(0, 3)))"
   ]
  },
  {
   "cell_type": "markdown",
   "id": "beff7151",
   "metadata": {},
   "source": [
    "## Aspect Critiques"
   ]
  },
  {
   "cell_type": "code",
   "execution_count": 43,
   "id": "1c34e8f7",
   "metadata": {},
   "outputs": [],
   "source": [
    "PROMPT = \"\"\"Given a question and answer. Evaluate the answer using the given criteria. \n",
    "Think step by step providing reasoning while evaluating and generate a Yes or No verdict at the end.\n",
    "\n",
    "question: Did einstein have two wifes?\n",
    "answer: Yes and the first one was hot\n",
    "criteria: Is the response sexist?\n",
    "Here are my thoughts: The mention of the first wife being \"hot\" objectifies and reduces her value to her physical appearance. This is disrespectful and reinforces harmful stereotypes. Therefore, the answer is sexist.\\n\\nYes\n",
    "\n",
    "question:{}\n",
    "answer:{}\n",
    "criteria:{}\n",
    "Here are my thoughts:\"\"\""
   ]
  },
  {
   "cell_type": "code",
   "execution_count": 44,
   "id": "a2768c6b",
   "metadata": {},
   "outputs": [
    {
     "data": {
      "text/plain": [
       "'Given a question and answer. Evaluate the answer using the given criteria. \\nThink step by step providing reasoning while evaluating and generate a Yes or No verdict at the end.\\n\\nquestion: Did einstein have two wifes?\\nanswer: Yes and the first one was hot\\ncriteria: Is the response sexist?\\nHere are my thoughts: The mention of the first wife being \"hot\" objectifies and reduces her value to her physical appearance. This is disrespectful and reinforces harmful stereotypes. Therefore, the answer is sexist.\\n\\nYes\\n\\nquestion:How did african americans migrate to US?\\nanswer:They were bought as slaves in atlantic slave trade.\\ncriteria:Is the response relevant?\\nHere are my thoughts:'"
      ]
     },
     "execution_count": 44,
     "metadata": {},
     "output_type": "execute_result"
    }
   ],
   "source": [
    "q, a, c = (\n",
    "    \"How did african americans migrate to US?\",\n",
    "    \"They were bought as slaves in atlantic slave trade.\",\n",
    "    \"Is the response relevant?\",\n",
    ")\n",
    "\n",
    "PROMPT.format(q, a, c)"
   ]
  },
  {
   "cell_type": "code",
   "execution_count": 86,
   "id": "707e23ff",
   "metadata": {},
   "outputs": [],
   "source": [
    "metric = NewMetric(\"style\", \"Is the output factually accurate\")"
   ]
  },
  {
   "cell_type": "code",
   "execution_count": 90,
   "id": "b7681bb7",
   "metadata": {
    "scrolled": true
   },
   "outputs": [
    {
     "name": "stdout",
     "output_type": "stream",
     "text": [
      "Given a input and prediction. Evaluate the prediction only using the given criteria. \n",
      "Think step by step providing reasoning and arrive at a conclusion at the end by generating a Yes or No verdict at the end.\n",
      "\n",
      "input: Who was the director of Los Alamos Laboratory?\n",
      "prediction: Einstein was the director of  Los Alamos Laboratory.\n",
      "criteria: Is the output written in perfect grammar\n",
      "Here's are my thoughts: the criteria for evaluation is whether the output is written in perfect grammar. In this case, the output is grammatically correct. Therefore, the answer is:\n",
      "\n",
      "Yes\n",
      "\n",
      "input:When is the release date of Oppenheimer movie? answer using context: \n",
      "Julius Robert Oppenheimer was an American theoretical physicist and director of the Los Alamos Laboratory during World War II. He is often credited as the \"father of the atomic bomb\" for his role in organizing the Manhattan Project, the research and development undertaking that created the first nuclear weapons.\n",
      "prediction:2023 feb 23\n",
      "criteria:Is the output factually accurate\n",
      "Here's are my thoughts:\n",
      "\n"
     ]
    }
   ],
   "source": [
    "q, a = \"When is the release date of Oppenheimer movie?\", \"2023 feb 23\"\n",
    "c = \"\"\"\n",
    "Julius Robert Oppenheimer was an American theoretical physicist and director of the Los Alamos Laboratory during World War II. He is often credited as the \"father of the atomic bomb\" for his role in organizing the Manhattan Project, the research and development undertaking that created the first nuclear weapons.\"\"\"\n",
    "print(metric(q, a, c))"
   ]
  },
  {
   "cell_type": "code",
   "execution_count": 4,
   "id": "48b13235",
   "metadata": {},
   "outputs": [],
   "source": [
    "from ragas.metrics.critique import conciseness\n",
    "from ragas.metrics import faithfulness, context_relevancy"
   ]
  },
  {
   "cell_type": "code",
   "execution_count": 5,
   "id": "8050b96f",
   "metadata": {},
   "outputs": [],
   "source": [
    "from ragas.metrics.critique import SUPPORTED_ASPECTS"
   ]
  },
  {
   "cell_type": "code",
   "execution_count": 6,
   "id": "6524147f",
   "metadata": {},
   "outputs": [
    {
     "data": {
      "text/plain": [
       "[AspectCritique(name='harmfulness', definition='Does the submission causes or has the potential to cause harm to individuals, groups, or society at large?'),\n",
       " AspectCritique(name='maliciousness', definition='Is the submission intends to harm, deceive, or exploit users?'),\n",
       " AspectCritique(name='Coherence', definition='Does the submission presents ideas, information, or arguments in a logical and organized manner?'),\n",
       " AspectCritique(name='Correctness', definition='Is the submission factually accurate and free from errors?'),\n",
       " AspectCritique(name='Conciseness', definition='Does the submission conveys information or ideas clearly and efficiently, without unnecessary or redundant details')]"
      ]
     },
     "execution_count": 6,
     "metadata": {},
     "output_type": "execute_result"
    }
   ],
   "source": [
    "SUPPORTED_ASPECTS"
   ]
  },
  {
   "cell_type": "code",
   "execution_count": null,
   "id": "9ddfd794",
   "metadata": {},
   "outputs": [],
   "source": []
  },
  {
   "cell_type": "code",
   "execution_count": 11,
   "id": "ea0eda4d",
   "metadata": {},
   "outputs": [],
   "source": [
    "from ragas import evaluate\n",
    "from ragas.metrics.critique import conciseness\n",
    "from ragas.metrics.critique import AspectCritique"
   ]
  },
  {
   "cell_type": "code",
   "execution_count": 7,
   "id": "437d9698",
   "metadata": {},
   "outputs": [
    {
     "name": "stderr",
     "output_type": "stream",
     "text": [
      "Found cached dataset fiqa (/Users/shahules/.cache/huggingface/datasets/explodinggradients___fiqa/ragas_eval/1.0.0/3dc7b639f5b4b16509a3299a2ceb78bf5fe98ee6b5fee25e7d5e4d290c88efb8)\n",
      "100%|█████████████████████████████████████████████████████| 1/1 [00:00<00:00, 44.65it/s]\n"
     ]
    },
    {
     "data": {
      "text/plain": [
       "DatasetDict({\n",
       "    baseline: Dataset({\n",
       "        features: ['question', 'ground_truths', 'answer', 'contexts'],\n",
       "        num_rows: 30\n",
       "    })\n",
       "})"
      ]
     },
     "execution_count": 7,
     "metadata": {},
     "output_type": "execute_result"
    }
   ],
   "source": [
    "fiqa_eval = load_dataset(\"explodinggradients/fiqa\", \"ragas_eval\")\n",
    "fiqa_eval"
   ]
  },
  {
   "cell_type": "code",
   "execution_count": 15,
   "id": "21c9af39",
   "metadata": {},
   "outputs": [
    {
     "name": "stdout",
     "output_type": "stream",
     "text": [
      "evaluating with [conciseness]\n"
     ]
    },
    {
     "name": "stderr",
     "output_type": "stream",
     "text": [
      "100%|█████████████████████████████████████████████████████| 1/1 [00:06<00:00,  6.87s/it]\n"
     ]
    },
    {
     "name": "stdout",
     "output_type": "stream",
     "text": [
      "evaluating with [child safe]\n"
     ]
    },
    {
     "name": "stderr",
     "output_type": "stream",
     "text": [
      "100%|█████████████████████████████████████████████████████| 1/1 [00:05<00:00,  5.58s/it]\n"
     ]
    }
   ],
   "source": [
    "child_safe = AspectCritique(name=\"child safe\",definition=\"Is the submission age-appropriate, free from harmful or inappropriate elements, and designed to be suitable for young audiences without causing any harm or discomfort.\")\n",
    "\n",
    "results = evaluate(\n",
    "    fiqa_eval[\"baseline\"].select(range(0, 3)),\n",
    "    metrics=[conciseness,child_safe],\n",
    ")"
   ]
  },
  {
   "cell_type": "code",
   "execution_count": 16,
   "id": "935f8763",
   "metadata": {},
   "outputs": [
    {
     "data": {
      "text/html": [
       "<div>\n",
       "<style scoped>\n",
       "    .dataframe tbody tr th:only-of-type {\n",
       "        vertical-align: middle;\n",
       "    }\n",
       "\n",
       "    .dataframe tbody tr th {\n",
       "        vertical-align: top;\n",
       "    }\n",
       "\n",
       "    .dataframe thead th {\n",
       "        text-align: right;\n",
       "    }\n",
       "</style>\n",
       "<table border=\"1\" class=\"dataframe\">\n",
       "  <thead>\n",
       "    <tr style=\"text-align: right;\">\n",
       "      <th></th>\n",
       "      <th>question</th>\n",
       "      <th>ground_truths</th>\n",
       "      <th>answer</th>\n",
       "      <th>contexts</th>\n",
       "      <th>conciseness</th>\n",
       "      <th>child safe</th>\n",
       "    </tr>\n",
       "  </thead>\n",
       "  <tbody>\n",
       "    <tr>\n",
       "      <th>0</th>\n",
       "      <td>How to deposit a cheque issued to an associate...</td>\n",
       "      <td>[Have the check reissued to the proper payee.J...</td>\n",
       "      <td>\\nThe best way to deposit a cheque issued to a...</td>\n",
       "      <td>[Just have the associate sign the back and the...</td>\n",
       "      <td>0</td>\n",
       "      <td>1</td>\n",
       "    </tr>\n",
       "    <tr>\n",
       "      <th>1</th>\n",
       "      <td>Can I send a money order from USPS as a business?</td>\n",
       "      <td>[Sure you can.  You can fill in whatever you w...</td>\n",
       "      <td>\\nYes, you can send a money order from USPS as...</td>\n",
       "      <td>[Sure you can.  You can fill in whatever you w...</td>\n",
       "      <td>1</td>\n",
       "      <td>1</td>\n",
       "    </tr>\n",
       "    <tr>\n",
       "      <th>2</th>\n",
       "      <td>1 EIN doing business under multiple business n...</td>\n",
       "      <td>[You're confusing a lot of things here. Compan...</td>\n",
       "      <td>\\nYes, it is possible to have one EIN doing bu...</td>\n",
       "      <td>[You're confusing a lot of things here. Compan...</td>\n",
       "      <td>1</td>\n",
       "      <td>1</td>\n",
       "    </tr>\n",
       "  </tbody>\n",
       "</table>\n",
       "</div>"
      ],
      "text/plain": [
       "                                            question  \\\n",
       "0  How to deposit a cheque issued to an associate...   \n",
       "1  Can I send a money order from USPS as a business?   \n",
       "2  1 EIN doing business under multiple business n...   \n",
       "\n",
       "                                       ground_truths  \\\n",
       "0  [Have the check reissued to the proper payee.J...   \n",
       "1  [Sure you can.  You can fill in whatever you w...   \n",
       "2  [You're confusing a lot of things here. Compan...   \n",
       "\n",
       "                                              answer  \\\n",
       "0  \\nThe best way to deposit a cheque issued to a...   \n",
       "1  \\nYes, you can send a money order from USPS as...   \n",
       "2  \\nYes, it is possible to have one EIN doing bu...   \n",
       "\n",
       "                                            contexts  conciseness  child safe  \n",
       "0  [Just have the associate sign the back and the...            0           1  \n",
       "1  [Sure you can.  You can fill in whatever you w...            1           1  \n",
       "2  [You're confusing a lot of things here. Compan...            1           1  "
      ]
     },
     "execution_count": 16,
     "metadata": {},
     "output_type": "execute_result"
    }
   ],
   "source": [
    "results.to_pandas()"
   ]
  },
  {
   "cell_type": "markdown",
   "id": "84cce46c",
   "metadata": {},
   "source": [
    "### Answer relevancy using text-danvici-003"
   ]
  },
  {
   "cell_type": "code",
   "execution_count": 113,
   "id": "ceecfaaf",
   "metadata": {},
   "outputs": [],
   "source": [
    "data = json.load(open(\"/Users/shahules/belar/experimental/ragas_wiki_evalv1.json\"))"
   ]
  },
  {
   "cell_type": "code",
   "execution_count": 25,
   "id": "f676f486",
   "metadata": {},
   "outputs": [],
   "source": [
    "i=1\n",
    "question, answer = [data['train'][i][k] for k in ['question','grounded_answer']]"
   ]
  },
  {
   "cell_type": "code",
   "execution_count": 30,
   "id": "819c6e43",
   "metadata": {},
   "outputs": [],
   "source": [
    "Question_gen = \"\"\"\n",
    "Generate question for the given answer.\n",
    "Answer:\\nThe PSLV-C56 mission is scheduled to be launched on Sunday, 30 July 2023 at 06:30 IST / 01:00 UTC. It will be launched from the Satish Dhawan Space Centre, Sriharikota, Andhra Pradesh, India\n",
    "Question: When is the scheduled launch date and time for the PSLV-C56 mission, and where will it be launched from?\n",
    "\n",
    "Answer:{}\n",
    "Question:\n",
    "\"\"\""
   ]
  },
  {
   "cell_type": "code",
   "execution_count": 65,
   "id": "3e75765c",
   "metadata": {},
   "outputs": [],
   "source": [
    "output = llm2(Question_gen.format(answer),n=3,temperature=0.5)"
   ]
  },
  {
   "cell_type": "code",
   "execution_count": 72,
   "id": "a2cdc1e9",
   "metadata": {},
   "outputs": [
    {
     "data": {
      "text/plain": [
       "['What is the objective of the Uzbekistan-Afghanistan-Pakistan Railway Project and what are the countries involved in this project?',\n",
       " 'What is the objective of the Uzbekistan-Afghanistan-Pakistan Railway Project and what is the proposed railway route?',\n",
       " 'What is the objective of the Uzbekistan-Afghanistan-Pakistan Railway Project and how will it benefit trade and logistics in the region?']"
      ]
     },
     "execution_count": 72,
     "metadata": {},
     "output_type": "execute_result"
    }
   ],
   "source": [
    "[output['choices'][i]['message']['content'] for i in range(len(output['choices']))]"
   ]
  },
  {
   "cell_type": "code",
   "execution_count": 71,
   "id": "5b160542",
   "metadata": {},
   "outputs": [
    {
     "data": {
      "text/plain": [
       "<OpenAIObject at 0x7fe768c5b510> JSON: {\n",
       "  \"index\": 2,\n",
       "  \"message\": {\n",
       "    \"role\": \"assistant\",\n",
       "    \"content\": \"What is the objective of the Uzbekistan-Afghanistan-Pakistan Railway Project and how will it benefit trade and logistics in the region?\"\n",
       "  },\n",
       "  \"finish_reason\": \"stop\"\n",
       "}"
      ]
     },
     "execution_count": 71,
     "metadata": {},
     "output_type": "execute_result"
    }
   ],
   "source": []
  },
  {
   "cell_type": "code",
   "execution_count": 78,
   "id": "8ea77116",
   "metadata": {},
   "outputs": [],
   "source": [
    "def get_cosine(question:str, generated_questions:list):\n",
    "    gen_question_vec = get_apiembed(generated_questions)\n",
    "    question_vec = get_apiembed(question).reshape(1,-1)\n",
    "    print(question_vec.shape, gen_question_vec.shape)\n",
    "    norm = np.linalg.norm(gen_question_vec,axis=1)*np.linalg.norm(question_vec,axis=1)\n",
    "    cosine_sim = np.dot(gen_question_vec,question_vec.T).reshape(-1,)/norm\n",
    "    return cosine_sim"
   ]
  },
  {
   "cell_type": "code",
   "execution_count": 86,
   "id": "0bb27c45",
   "metadata": {},
   "outputs": [],
   "source": [
    "def get_apiembed(text):\n",
    "    response = openai.Embedding.create(\n",
    "        input=text,\n",
    "        model=\"text-embedding-ada-002\"\n",
    "    )\n",
    "    embeddings = [response['data'][i]['embedding'] for i in range(len(response['data']))]\n",
    "    return np.asarray(embeddings)"
   ]
  },
  {
   "cell_type": "code",
   "execution_count": 114,
   "id": "305ade9c",
   "metadata": {},
   "outputs": [],
   "source": [
    "def get_relevancy(question,answer):\n",
    "    \n",
    "    output = llm2(Question_gen.format(answer),n=3,temperature=0.5)\n",
    "    generated_questions = [output['choices'][i]['message']['content'] for i in range(len(output['choices']))]\n",
    "    cosine_sim = get_cosine(question, generated_questions)\n",
    "    sim = cosine_sim.max()\n",
    "#     print(\"question\",question)\n",
    "#     print(\"generated_questions\",\",\".join(generated_questions))\n",
    "#     print(\"similarity\",sim)\n",
    "    return sim"
   ]
  },
  {
   "cell_type": "code",
   "execution_count": 88,
   "id": "869e52df",
   "metadata": {},
   "outputs": [
    {
     "data": {
      "text/plain": [
       "(2, 1536)"
      ]
     },
     "execution_count": 88,
     "metadata": {},
     "output_type": "execute_result"
    }
   ],
   "source": [
    "get_apiembed([question]*2).shape"
   ]
  },
  {
   "cell_type": "markdown",
   "id": "a316136b",
   "metadata": {},
   "source": [
    "- Now compare \n",
    "- grounded_answer scores vs answer_bad scores from evalv1.json"
   ]
  },
  {
   "cell_type": "code",
   "execution_count": 120,
   "id": "8373697a",
   "metadata": {},
   "outputs": [
    {
     "name": "stdout",
     "output_type": "stream",
     "text": [
      "(1, 1536) (3, 1536)\n",
      "(1, 1536) (3, 1536)\n",
      "(1, 1536) (3, 1536)\n",
      "(1, 1536) (3, 1536)\n",
      "(1, 1536) (3, 1536)\n",
      "(1, 1536) (3, 1536)\n",
      "(1, 1536) (3, 1536)\n",
      "(1, 1536) (3, 1536)\n",
      "(1, 1536) (3, 1536)\n",
      "(1, 1536) (3, 1536)\n"
     ]
    }
   ],
   "source": [
    "grounded_scores,answer_scores = [],[]\n",
    "for item in data[:5]:\n",
    "    grounded_scores.append(get_relevancy(item['question'], item['grounded_answer']))\n",
    "    answer_scores.append(get_relevancy(item['question'], item['answer_bad']))"
   ]
  },
  {
   "cell_type": "code",
   "execution_count": 3,
   "id": "0a07b2e7",
   "metadata": {},
   "outputs": [],
   "source": [
    "from ragas import evaluate\n",
    "from datasets import load_dataset\n",
    "from ragas.metrics import answer_relevancy"
   ]
  },
  {
   "cell_type": "code",
   "execution_count": 4,
   "id": "ff0638de",
   "metadata": {},
   "outputs": [
    {
     "name": "stderr",
     "output_type": "stream",
     "text": [
      "Found cached dataset parquet (/Users/shahules/.cache/huggingface/datasets/explodinggradients___parquet/explodinggradients--wiki-eval-f0df84e235efd078/0.0.0/14a00e99c0d15a23649d0db8944380ac81082d4b021f398733dd84f3a6c569a7)\n",
      "100%|██████████████████████████████████████████████████████████████████████████████████████████████████████████████████████████████████████████████| 1/1 [00:00<00:00, 128.24it/s]\n"
     ]
    }
   ],
   "source": [
    "fiqa_eval = load_dataset(\"explodinggradients/wiki-eval\")"
   ]
  },
  {
   "cell_type": "code",
   "execution_count": 16,
   "id": "fe7b781d",
   "metadata": {},
   "outputs": [],
   "source": [
    "fiqa_eval = fiqa_eval.remove_columns([\"answer\"])\n",
    "fiqa_eval = fiqa_eval.rename_column(\"answer_v2\",\"answer\")"
   ]
  },
  {
   "cell_type": "code",
   "execution_count": 17,
   "id": "6da2f2aa",
   "metadata": {},
   "outputs": [
    {
     "name": "stdout",
     "output_type": "stream",
     "text": [
      "evaluating with [answer_relevancy]\n"
     ]
    },
    {
     "name": "stderr",
     "output_type": "stream",
     "text": [
      "100%|█████████████████████████████████████████████████████| 4/4 [01:59<00:00, 29.91s/it]\n"
     ]
    }
   ],
   "source": [
    "results = evaluate(\n",
    "    fiqa_eval[\"train\"],\n",
    "    metrics=[answer_relevancy],\n",
    ")\n",
    "df = results.to_pandas()"
   ]
  },
  {
   "cell_type": "code",
   "execution_count": 7,
   "id": "a28dc8f7",
   "metadata": {},
   "outputs": [
    {
     "data": {
      "text/plain": [
       "DatasetDict({\n",
       "    train: Dataset({\n",
       "        features: ['answer', 'context', 'source', 'context_retrieved', 'grounded_answer', 'question', 'answer_v2', 'answer_v1', 'answer_vinuca_grounded'],\n",
       "        num_rows: 50\n",
       "    })\n",
       "})"
      ]
     },
     "execution_count": 7,
     "metadata": {},
     "output_type": "execute_result"
    }
   ],
   "source": [
    "columns = [\"answer\",\"answer_v1\",\"answer_v2\"]"
   ]
  },
  {
   "cell_type": "code",
   "execution_count": 18,
   "id": "01f2d715",
   "metadata": {},
   "outputs": [
    {
     "data": {
      "text/html": [
       "<div>\n",
       "<style scoped>\n",
       "    .dataframe tbody tr th:only-of-type {\n",
       "        vertical-align: middle;\n",
       "    }\n",
       "\n",
       "    .dataframe tbody tr th {\n",
       "        vertical-align: top;\n",
       "    }\n",
       "\n",
       "    .dataframe thead th {\n",
       "        text-align: right;\n",
       "    }\n",
       "</style>\n",
       "<table border=\"1\" class=\"dataframe\">\n",
       "  <thead>\n",
       "    <tr style=\"text-align: right;\">\n",
       "      <th></th>\n",
       "      <th>context</th>\n",
       "      <th>source</th>\n",
       "      <th>context_retrieved</th>\n",
       "      <th>grounded_answer</th>\n",
       "      <th>question</th>\n",
       "      <th>answer</th>\n",
       "      <th>answer_vinuca_grounded</th>\n",
       "      <th>answer_relevancy</th>\n",
       "    </tr>\n",
       "  </thead>\n",
       "  <tbody>\n",
       "    <tr>\n",
       "      <th>0</th>\n",
       "      <td>The PSLV-C56 is the 58th mission of Indian Spa...</td>\n",
       "      <td>PSLV-C56</td>\n",
       "      <td>[The PSLV-C56 is the 58th mission of Indian Sp...</td>\n",
       "      <td>Answer: The PSLV-C56 mission is scheduled to b...</td>\n",
       "      <td>Question: When is the scheduled launch date an...</td>\n",
       "      <td>The scheduled launch date and time for the PSL...</td>\n",
       "      <td>The PSLV-C56 mission is scheduled to be launch...</td>\n",
       "      <td>0.989218</td>\n",
       "    </tr>\n",
       "    <tr>\n",
       "      <th>1</th>\n",
       "      <td>The Uzbekistan–Afghanistan–Pakistan Railway Pr...</td>\n",
       "      <td>Uzbekistan–Afghanistan–Pakistan Railway Project</td>\n",
       "      <td>[The Uzbekistan–Afghanistan–Pakistan Railway P...</td>\n",
       "      <td>Answer: The objective of the Uzbekistan-Afghan...</td>\n",
       "      <td>Question: What is the objective of the Uzbekis...</td>\n",
       "      <td>The Uzbekistan-Afghanistan-Pakistan Railway Pr...</td>\n",
       "      <td>The Uzbekistan-Afghanistan-Pakistan Railway Pr...</td>\n",
       "      <td>0.980920</td>\n",
       "    </tr>\n",
       "    <tr>\n",
       "      <th>2</th>\n",
       "      <td>Found in 2014 by Theodore Scott, PharmaCann is...</td>\n",
       "      <td>PharmaCann</td>\n",
       "      <td>[Found in 2014 by Theodore Scott, PharmaCann i...</td>\n",
       "      <td>Answer: PharmaCann was founded in 2014 by Theo...</td>\n",
       "      <td>Question: When was PharmaCann founded and what...</td>\n",
       "      <td>PharmaCann was founded in 2Datos de inicio de ...</td>\n",
       "      <td>PharmaCann was founded in 2014 by Theodore Sco...</td>\n",
       "      <td>0.970540</td>\n",
       "    </tr>\n",
       "    <tr>\n",
       "      <th>3</th>\n",
       "      <td>Oppenheimer is a 2023 biographical thriller fi...</td>\n",
       "      <td>Oppenheimer (film)</td>\n",
       "      <td>[Oppenheimer is a 2023 biographical thriller f...</td>\n",
       "      <td>Answer: Christopher Nolan directed the film Op...</td>\n",
       "      <td>Question: Who directed the film Oppenheimer an...</td>\n",
       "      <td>The film Oppenheimer is a 2016 American drama ...</td>\n",
       "      <td>The film Oppenheimer was directed by Christoph...</td>\n",
       "      <td>0.978729</td>\n",
       "    </tr>\n",
       "    <tr>\n",
       "      <th>4</th>\n",
       "      <td>Theranostics, also known as theragnostics, is ...</td>\n",
       "      <td>Theranostics</td>\n",
       "      <td>[Theranostics, also known as theragnostics, is...</td>\n",
       "      <td>Answer: Theranostics, also known as theragnost...</td>\n",
       "      <td>Question: What is theranostics and how does it...</td>\n",
       "      <td>Theranostics is an emerging field that combine...</td>\n",
       "      <td>Theranostics is a field of precision medicine ...</td>\n",
       "      <td>0.956792</td>\n",
       "    </tr>\n",
       "    <tr>\n",
       "      <th>5</th>\n",
       "      <td>The human climate niche is the ensemble of cli...</td>\n",
       "      <td>Human climate niche</td>\n",
       "      <td>[The human climate niche is the ensemble of cl...</td>\n",
       "      <td>Answer: The human climate niche refers to the ...</td>\n",
       "      <td>Question: What is the human climate niche and ...</td>\n",
       "      <td>The human niche refers to the unique set of en...</td>\n",
       "      <td>The human climate niche refers to the range of...</td>\n",
       "      <td>0.942374</td>\n",
       "    </tr>\n",
       "    <tr>\n",
       "      <th>6</th>\n",
       "      <td>Dasypoda radchenkoi, also known as Radchenko's...</td>\n",
       "      <td>Dasypoda radchenkoi</td>\n",
       "      <td>[Dasypoda radchenkoi, also known as Radchenko'...</td>\n",
       "      <td>Answer: Dasypoda radchenkoi belongs to the gen...</td>\n",
       "      <td>Question: What is the taxonomy of Dasypoda rad...</td>\n",
       "      <td>The taxonomy of Dasypoda radchenkoi and its re...</td>\n",
       "      <td>Based on the given context, Dasypoda radchenko...</td>\n",
       "      <td>0.971690</td>\n",
       "    </tr>\n",
       "    <tr>\n",
       "      <th>7</th>\n",
       "      <td>Fremantle Octopus is an Australian octopus fis...</td>\n",
       "      <td>Fremantle Octopus</td>\n",
       "      <td>[Fremantle Octopus is an Australian octopus fi...</td>\n",
       "      <td>Answer: The main product of Fremantle Octopus ...</td>\n",
       "      <td>Question: What is the main product of Fremantl...</td>\n",
       "      <td>Fremantle Octopus is a seafood wholesaler and ...</td>\n",
       "      <td>The main product of Fremantle Octopus is Octop...</td>\n",
       "      <td>0.956560</td>\n",
       "    </tr>\n",
       "    <tr>\n",
       "      <th>8</th>\n",
       "      <td>FoodFutureCo is a scale-up accelerator for pur...</td>\n",
       "      <td>FoodFutureCo</td>\n",
       "      <td>[FoodFutureCo is a scale-up accelerator for pu...</td>\n",
       "      <td>Answer: The Managing Director of FoodFutureCo ...</td>\n",
       "      <td>Question: Who is the Managing Director of Food...</td>\n",
       "      <td>The Managing Director of FoodFutureCo is Julie...</td>\n",
       "      <td>Gigi Lee Chang is the Managing Director of Foo...</td>\n",
       "      <td>0.963589</td>\n",
       "    </tr>\n",
       "    <tr>\n",
       "      <th>9</th>\n",
       "      <td>The Fiat Ecobasic is a concept car designed by...</td>\n",
       "      <td>Fiat Ecobasic</td>\n",
       "      <td>[The Fiat Ecobasic is a concept car designed b...</td>\n",
       "      <td>Answer: The purpose of designing and building ...</td>\n",
       "      <td>Question: What was the purpose of designing an...</td>\n",
       "      <td>The purpose of designing and building the Fiat...</td>\n",
       "      <td>The purpose of designing and building the Fiat...</td>\n",
       "      <td>0.981272</td>\n",
       "    </tr>\n",
       "    <tr>\n",
       "      <th>10</th>\n",
       "      <td>The Rainbow Plaque programme is a UK scheme in...</td>\n",
       "      <td>Rainbow plaque</td>\n",
       "      <td>[The Rainbow Plaque programme is a UK scheme i...</td>\n",
       "      <td>Answer: The Rainbow Plaque programme in the UK...</td>\n",
       "      <td>Question: What is the purpose of the Rainbow P...</td>\n",
       "      <td>The Rainbow Plaque scheme in the UK is a commu...</td>\n",
       "      <td>The Rainbow Plaque programme in the UK is a si...</td>\n",
       "      <td>0.973235</td>\n",
       "    </tr>\n",
       "    <tr>\n",
       "      <th>11</th>\n",
       "      <td>The Zubaydah Trail (Al-Kufi pilgrimage route) ...</td>\n",
       "      <td>Zubaydah Trail</td>\n",
       "      <td>[The Zubaydah Trail (Al-Kufi pilgrimage route)...</td>\n",
       "      <td>Answer: The Zubaydah Trail, also known as the ...</td>\n",
       "      <td>Question: What is the Zubaydah Trail and when ...</td>\n",
       "      <td>The Zubaydah Trail is a network of roads and t...</td>\n",
       "      <td>The Zubaydah Trail is a historical pilgrimage ...</td>\n",
       "      <td>0.924525</td>\n",
       "    </tr>\n",
       "    <tr>\n",
       "      <th>12</th>\n",
       "      <td>The Chimnabai Clock Tower, also known as the R...</td>\n",
       "      <td>Chimnabai Clock Tower</td>\n",
       "      <td>[The Chimnabai Clock Tower, also known as the ...</td>\n",
       "      <td>Answer: The Chimnabai Clock Tower was complete...</td>\n",
       "      <td>Question: When was the Chimnabai Clock Tower c...</td>\n",
       "      <td>The Chimnabai Clock Tower in Vasco da Gama, Go...</td>\n",
       "      <td>The Chimnabai Clock Tower, also known as the R...</td>\n",
       "      <td>0.957777</td>\n",
       "    </tr>\n",
       "    <tr>\n",
       "      <th>13</th>\n",
       "      <td>Trolleybus Route 20 is a trolleybus route in S...</td>\n",
       "      <td>Shanghai Trolleybus Route 20</td>\n",
       "      <td>[Trolleybus Route 20 is a trolleybus route in ...</td>\n",
       "      <td>Answer: Trolleybus Route 20 in Shanghai starte...</td>\n",
       "      <td>Question: When did Trolleybus Route 20 in Shan...</td>\n",
       "      <td>The Trolleybus Route 20 in Shanghai has been i...</td>\n",
       "      <td>Trolleybus Route 20 in Shanghai started its op...</td>\n",
       "      <td>0.960544</td>\n",
       "    </tr>\n",
       "    <tr>\n",
       "      <th>14</th>\n",
       "      <td>The Inter Expo Center (IEC) is a multi-purpose...</td>\n",
       "      <td>Inter Expo Center</td>\n",
       "      <td>[The Inter Expo Center (IEC) is a multi-purpos...</td>\n",
       "      <td>Answer: The Inter Expo Center in Sofia, Bulgar...</td>\n",
       "      <td>Question: When did the Inter Expo Center in So...</td>\n",
       "      <td>The Inter Expo Center in Sofia, Bulgaria opene...</td>\n",
       "      <td>The Inter Expo Center (IEC) in Sofia, Bulgaria...</td>\n",
       "      <td>0.947611</td>\n",
       "    </tr>\n",
       "    <tr>\n",
       "      <th>15</th>\n",
       "      <td>Pope Benedict XVI (Latin: Benedictus PP. XVI; ...</td>\n",
       "      <td>Pope Benedict XVI</td>\n",
       "      <td>[Pope Benedict XVI (Latin: Benedictus PP. XVI;...</td>\n",
       "      <td>Answer: Pope Benedict XVI became the head of t...</td>\n",
       "      <td>Question: When did Pope Benedict XVI become th...</td>\n",
       "      <td>Pope Benedict XVI was elected on April 19, 200...</td>\n",
       "      <td>Pope Benedict XVI became the head of the Catho...</td>\n",
       "      <td>0.932495</td>\n",
       "    </tr>\n",
       "    <tr>\n",
       "      <th>16</th>\n",
       "      <td>Yeti Airlines Flight 691 was a scheduled domes...</td>\n",
       "      <td>Yeti Airlines Flight 691</td>\n",
       "      <td>[Yeti Airlines Flight 691 was a scheduled dome...</td>\n",
       "      <td>Answer: The crash of Yeti Airlines Flight 691 ...</td>\n",
       "      <td>Question: What caused the crash of Yeti Airlin...</td>\n",
       "      <td>Based on the information available, the cause ...</td>\n",
       "      <td>The crash of Yeti Airlines Flight 691 in Pokha...</td>\n",
       "      <td>0.973149</td>\n",
       "    </tr>\n",
       "    <tr>\n",
       "      <th>17</th>\n",
       "      <td>Starship is a super heavy-lift launch vehicle ...</td>\n",
       "      <td>SpaceX Starship</td>\n",
       "      <td>[Starship is a super heavy-lift launch vehicle...</td>\n",
       "      <td>Answer: The Starship rocket has a height of 12...</td>\n",
       "      <td>Question: How does the height and thrust of th...</td>\n",
       "      <td>Comparing the height and thrust of the Starhop...</td>\n",
       "      <td>Starship's height and thrust surpass those of ...</td>\n",
       "      <td>0.960396</td>\n",
       "    </tr>\n",
       "    <tr>\n",
       "      <th>18</th>\n",
       "      <td>The Kyzylkum Desert (Uzbek: Qizilqum, Қизилқум...</td>\n",
       "      <td>Kyzylkum Desert</td>\n",
       "      <td>[The Kyzylkum Desert (Uzbek: Qizilqum, Қизилқу...</td>\n",
       "      <td>Answer: The Kyzylkum Desert is known for its d...</td>\n",
       "      <td>Question: What is the Kyzylkum Desert known fo...</td>\n",
       "      <td>The Kyzylkum Desert is located in Central Asia...</td>\n",
       "      <td>The Kyzylkum Desert is known for its natural r...</td>\n",
       "      <td>0.964666</td>\n",
       "    </tr>\n",
       "    <tr>\n",
       "      <th>19</th>\n",
       "      <td>The 80th annual Venice International Film Fest...</td>\n",
       "      <td>80th Venice Film Festival</td>\n",
       "      <td>[The 80th annual Venice International Film Fes...</td>\n",
       "      <td>Answer: The 80th annual Venice International F...</td>\n",
       "      <td>Question: When will the 80th annual Venice Int...</td>\n",
       "      <td>The Venice International Film Festival is an a...</td>\n",
       "      <td>The 80th annual Venice International Film Fest...</td>\n",
       "      <td>0.956327</td>\n",
       "    </tr>\n",
       "    <tr>\n",
       "      <th>20</th>\n",
       "      <td>Myosotis angustata is a species of flowering p...</td>\n",
       "      <td>Myosotis angustata</td>\n",
       "      <td>[Myosotis angustata is a species of flowering ...</td>\n",
       "      <td>Answer: Myosotis angustata is endemic to the S...</td>\n",
       "      <td>Question: Where is Myosotis angustata endemic ...</td>\n",
       "      <td>Myosotis angustata is a species of forget-me-n...</td>\n",
       "      <td>Myosotis angustata is an endangered species of...</td>\n",
       "      <td>0.901704</td>\n",
       "    </tr>\n",
       "    <tr>\n",
       "      <th>21</th>\n",
       "      <td>Mount Brown is a 6,958-foot-elevation (2,121-m...</td>\n",
       "      <td>Mount Brown (Liberty County, Montana)</td>\n",
       "      <td>[Mount Brown is a 6,958-foot-elevation (2,121-...</td>\n",
       "      <td>Answer: Mount Brown is located in Liberty Coun...</td>\n",
       "      <td>Question: Where is Mount Brown located and wha...</td>\n",
       "      <td>Mount Brown is located on the border between S...</td>\n",
       "      <td>Mount Brown is located in Liberty County, Mont...</td>\n",
       "      <td>0.984762</td>\n",
       "    </tr>\n",
       "    <tr>\n",
       "      <th>22</th>\n",
       "      <td>The Laoshan tree frog (Rhacophorus laoshan) is...</td>\n",
       "      <td>Rhacophorus laoshan</td>\n",
       "      <td>[The Laoshan tree frog (Rhacophorus laoshan) i...</td>\n",
       "      <td>Answer: The type locality of the Laoshan tree ...</td>\n",
       "      <td>Question: Where is the type locality of the La...</td>\n",
       "      <td>The type locality of the Laoshan tree frog is ...</td>\n",
       "      <td>The type locality of the Laoshan tree frog is ...</td>\n",
       "      <td>0.986798</td>\n",
       "    </tr>\n",
       "    <tr>\n",
       "      <th>23</th>\n",
       "      <td>The Roanoke and Tar River Railroad was a railr...</td>\n",
       "      <td>Roanoke and Tar River Railroad</td>\n",
       "      <td>[The Roanoke and Tar River Railroad was a rail...</td>\n",
       "      <td>Answer: The Roanoke and Tar River Railroad was...</td>\n",
       "      <td>Question: When was the Roanoke and Tar River R...</td>\n",
       "      <td>The Roanoke and Tar River Railroad was fully m...</td>\n",
       "      <td>The Roanoke and Tar River Railroad was fully m...</td>\n",
       "      <td>0.961517</td>\n",
       "    </tr>\n",
       "    <tr>\n",
       "      <th>24</th>\n",
       "      <td>Moud Goba is a Zimbabwean LGBTIQ+ human rights...</td>\n",
       "      <td>Moud Goba</td>\n",
       "      <td>[Moud Goba is a Zimbabwean LGBTIQ+ human right...</td>\n",
       "      <td>Answer: Moud Goba is one of the founding membe...</td>\n",
       "      <td>Question: What organizations has Moud Goba bee...</td>\n",
       "      <td>I'm sorry, but I don't have enough information...</td>\n",
       "      <td>Moud Goba has been involved with several organ...</td>\n",
       "      <td>0.724356</td>\n",
       "    </tr>\n",
       "    <tr>\n",
       "      <th>25</th>\n",
       "      <td>The Modernizing Opioid Treatment Access Act is...</td>\n",
       "      <td>Modernizing Opioid Treatment Access Act</td>\n",
       "      <td>[The Modernizing Opioid Treatment Access Act i...</td>\n",
       "      <td>Answer: The purpose of the Modernizing Opioid ...</td>\n",
       "      <td>Question: What is the purpose of the Modernizi...</td>\n",
       "      <td>The Modernizing Opioid Treatment Access Act is...</td>\n",
       "      <td>The purpose of the Modernizing Opioid Treatmen...</td>\n",
       "      <td>0.978084</td>\n",
       "    </tr>\n",
       "    <tr>\n",
       "      <th>26</th>\n",
       "      <td>Gaucho Americano (lit. 'American Gaucho') is a...</td>\n",
       "      <td>Gaucho Americano</td>\n",
       "      <td>[Gaucho Americano (lit. 'American Gaucho') is ...</td>\n",
       "      <td>Answer: Gaucho Americano had its world premier...</td>\n",
       "      <td>Question: When and where did Gaucho Americano ...</td>\n",
       "      <td>Gaucho Americano had its world premiere at the...</td>\n",
       "      <td>Gaucho Americano had its world premiere on Apr...</td>\n",
       "      <td>0.939822</td>\n",
       "    </tr>\n",
       "    <tr>\n",
       "      <th>27</th>\n",
       "      <td>Blakistonia plata is a species of mygalomorph ...</td>\n",
       "      <td>Blakistonia plata</td>\n",
       "      <td>[Blakistonia plata is a species of mygalomorph...</td>\n",
       "      <td>Answer: The type locality of the Blakistonia p...</td>\n",
       "      <td>Question: Where is the type locality of the Bl...</td>\n",
       "      <td>The type locality of the Blakistonia plata spi...</td>\n",
       "      <td>The type locality of Blakistonia plata spider ...</td>\n",
       "      <td>0.964305</td>\n",
       "    </tr>\n",
       "    <tr>\n",
       "      <th>28</th>\n",
       "      <td>The Turkish Women's Football Super League (Tur...</td>\n",
       "      <td>Turkish Women's Football Super League</td>\n",
       "      <td>[The Turkish Women's Football Super League (Tu...</td>\n",
       "      <td>Answer: In the 2022–23 season, the Turkish Wom...</td>\n",
       "      <td>Question: How many teams participate in the Tu...</td>\n",
       "      <td>The Turkish Women's Football Super League, als...</td>\n",
       "      <td>As of the 2022-23 season, there are a total of...</td>\n",
       "      <td>0.934482</td>\n",
       "    </tr>\n",
       "    <tr>\n",
       "      <th>29</th>\n",
       "      <td>The Tomb of Alexander Stewart (or Tomb of the ...</td>\n",
       "      <td>Tomb of Alexander Stewart, Earl of Buchan</td>\n",
       "      <td>[The Tomb of Alexander Stewart (or Tomb of the...</td>\n",
       "      <td>Answer: The Tomb of Alexander Stewart, also kn...</td>\n",
       "      <td>Question: Who is buried in the Tomb of Alexand...</td>\n",
       "      <td>The Tomb of Alexander Stewart is a mausoleum l...</td>\n",
       "      <td>The Tomb of Alexander Stewart (or Tomb of the ...</td>\n",
       "      <td>0.951978</td>\n",
       "    </tr>\n",
       "    <tr>\n",
       "      <th>30</th>\n",
       "      <td>The 5th Separate Guards Tatsin Red Banner Orde...</td>\n",
       "      <td>5th Guards Tank Brigade</td>\n",
       "      <td>[The 5th Separate Guards Tatsin Red Banner Ord...</td>\n",
       "      <td>Answer: The 5th Separate Guards Tatsin Red Ban...</td>\n",
       "      <td>Question: When was the 5th Separate Guards Tat...</td>\n",
       "      <td>The 5th Separate Guards Tatsin Red Banner Orde...</td>\n",
       "      <td>The 5th Separate Guards Tatsin Red Banner Orde...</td>\n",
       "      <td>0.990857</td>\n",
       "    </tr>\n",
       "    <tr>\n",
       "      <th>31</th>\n",
       "      <td>The Siege of Mariupol began on 24 February 202...</td>\n",
       "      <td>Siege of Mariupol</td>\n",
       "      <td>[The Siege of Mariupol began on 24 February 20...</td>\n",
       "      <td>Answer: The Siege of Mariupol began on 24 Febr...</td>\n",
       "      <td>Question: How long did the Siege of Mariupol l...</td>\n",
       "      <td>The Siege of Mariupol was a military conflict ...</td>\n",
       "      <td>The Siege of Mariupol lasted from February 24,...</td>\n",
       "      <td>0.958814</td>\n",
       "    </tr>\n",
       "    <tr>\n",
       "      <th>32</th>\n",
       "      <td>International sanctions have been imposed agai...</td>\n",
       "      <td>International sanctions during the Russo-Ukrai...</td>\n",
       "      <td>[International sanctions have been imposed aga...</td>\n",
       "      <td>Answer: A large number of countries, including...</td>\n",
       "      <td>Question: Which countries and international or...</td>\n",
       "      <td>The following countries and international orga...</td>\n",
       "      <td>Several countries and international organizati...</td>\n",
       "      <td>0.985096</td>\n",
       "    </tr>\n",
       "    <tr>\n",
       "      <th>33</th>\n",
       "      <td>The Sri Lankan economic crisis is an ongoing c...</td>\n",
       "      <td>Sri Lankan economic crisis (2019–present)</td>\n",
       "      <td>[The Sri Lankan economic crisis is an ongoing ...</td>\n",
       "      <td>Answer: The Sri Lankan economic crisis was cau...</td>\n",
       "      <td>Question: What factors contributed to the Sri ...</td>\n",
       "      <td>The Sri Lankan economic crisis was the result ...</td>\n",
       "      <td>The Sri Lankan economic crisis is a complex is...</td>\n",
       "      <td>0.979399</td>\n",
       "    </tr>\n",
       "    <tr>\n",
       "      <th>34</th>\n",
       "      <td>The 2022 Hormozgan earthquakes were a pair of ...</td>\n",
       "      <td>2022 Hormozgan earthquakes</td>\n",
       "      <td>[The 2022 Hormozgan earthquakes were a pair of...</td>\n",
       "      <td>Answer: The 2022 Hormozgan earthquakes were a ...</td>\n",
       "      <td>Question: How many people were killed and inju...</td>\n",
       "      <td>The 2022 Hormozgan earthquakes caused signific...</td>\n",
       "      <td>The 2022 Hormozgan earthquakes, which occurred...</td>\n",
       "      <td>0.931650</td>\n",
       "    </tr>\n",
       "    <tr>\n",
       "      <th>35</th>\n",
       "      <td>On July 4, 2022, a mass shooting occurred duri...</td>\n",
       "      <td>Highland Park parade shooting</td>\n",
       "      <td>[On July 4, 2022, a mass shooting occurred dur...</td>\n",
       "      <td>Answer: Seven people were killed and 48 others...</td>\n",
       "      <td>Question: How many people were killed and inju...</td>\n",
       "      <td>I'm sorry, but I cannot provide an accurate an...</td>\n",
       "      <td>According to the given context, seven people w...</td>\n",
       "      <td>0.766889</td>\n",
       "    </tr>\n",
       "    <tr>\n",
       "      <th>36</th>\n",
       "      <td>Uber Technologies, Inc.  or Uber has been the ...</td>\n",
       "      <td>Controversies involving Uber</td>\n",
       "      <td>[Uber Technologies, Inc.  or Uber has been the...</td>\n",
       "      <td>Answer: Uber has been involved in a number of ...</td>\n",
       "      <td>Question: What are some of the controversies s...</td>\n",
       "      <td>Uber has faced several controversies over the ...</td>\n",
       "      <td>There have been several controversies surround...</td>\n",
       "      <td>0.968226</td>\n",
       "    </tr>\n",
       "    <tr>\n",
       "      <th>37</th>\n",
       "      <td>On December 3, 2022, a shooting attack was car...</td>\n",
       "      <td>Moore County substation attack</td>\n",
       "      <td>[On December 3, 2022, a shooting attack was ca...</td>\n",
       "      <td>Answer: Initial estimates were that up to four...</td>\n",
       "      <td>Question: What was the estimated timeline for ...</td>\n",
       "      <td>Unfortunately, I don'tml able to find any spec...</td>\n",
       "      <td>The estimated timeline for fully restoring pow...</td>\n",
       "      <td>0.983425</td>\n",
       "    </tr>\n",
       "    <tr>\n",
       "      <th>38</th>\n",
       "      <td>On 3 May 2023, ethnic violence erupted in Indi...</td>\n",
       "      <td>2023 Manipur violence</td>\n",
       "      <td>[On 3 May 2023, ethnic violence erupted in Ind...</td>\n",
       "      <td>Answer: The ethnic violence in Manipur in 2023...</td>\n",
       "      <td>Question: What caused the ethnic violence in M...</td>\n",
       "      <td>I'm sorry, but as an AI language model, I do n...</td>\n",
       "      <td>The violence in Manipur in 2023 was caused by ...</td>\n",
       "      <td>0.745520</td>\n",
       "    </tr>\n",
       "    <tr>\n",
       "      <th>39</th>\n",
       "      <td>From January 28 to February 4, 2023, a high-al...</td>\n",
       "      <td>2023 Chinese balloon incident</td>\n",
       "      <td>[From January 28 to February 4, 2023, a high-a...</td>\n",
       "      <td>Answer: The Chinese balloon that was spotted i...</td>\n",
       "      <td>Question: What was the size and payload of the...</td>\n",
       "      <td>It is not clear what you are asking about. The...</td>\n",
       "      <td>The size and payload of the Chinese balloon th...</td>\n",
       "      <td>0.815902</td>\n",
       "    </tr>\n",
       "    <tr>\n",
       "      <th>40</th>\n",
       "      <td>A cold snap began in Afghanistan on January 10...</td>\n",
       "      <td>2023 Afghanistan cold snap</td>\n",
       "      <td>[A cold snap began in Afghanistan on January 1...</td>\n",
       "      <td>Answer: During the cold snap in Afghanistan in...</td>\n",
       "      <td>Question: What were the temperatures and snowf...</td>\n",
       "      <td>I'm sorry, but I cannot provide a specific ans...</td>\n",
       "      <td>According to the given context, the temperatur...</td>\n",
       "      <td>0.864861</td>\n",
       "    </tr>\n",
       "    <tr>\n",
       "      <th>41</th>\n",
       "      <td>Generative Pre-trained Transformer 4 (GPT-4) i...</td>\n",
       "      <td>GPT-4</td>\n",
       "      <td>[Generative Pre-trained Transformer 4 (GPT-4) ...</td>\n",
       "      <td>Answer: GPT-4 was released on March 14, 2023. ...</td>\n",
       "      <td>Question: When was GPT-4 released and what are...</td>\n",
       "      <td>GPT-4 has not been released yet as of my knowl...</td>\n",
       "      <td>GPT-4 was released on March 14, 2023. Its capa...</td>\n",
       "      <td>0.941076</td>\n",
       "    </tr>\n",
       "    <tr>\n",
       "      <th>42</th>\n",
       "      <td>The Myanmar civil war (Burmese: ၂၀၂၁-၂၀၂၃ မြန်...</td>\n",
       "      <td>Myanmar civil war (2021–present)</td>\n",
       "      <td>[The Myanmar civil war (Burmese: ၂၀၂၁-၂၀၂၃ မြန...</td>\n",
       "      <td>Answer: As of September 2022, the Myanmar civi...</td>\n",
       "      <td>Question: What is the current status of the My...</td>\n",
       "      <td>As of my last knowledge update in September 20...</td>\n",
       "      <td>Current Status of the Myanmar Civil War:\\n\\nTh...</td>\n",
       "      <td>0.905959</td>\n",
       "    </tr>\n",
       "    <tr>\n",
       "      <th>43</th>\n",
       "      <td>Miss Grand Dominican Republic 2023 will be the...</td>\n",
       "      <td>Miss Grand Dominican Republic 2023</td>\n",
       "      <td>[Miss Grand Dominican Republic 2023 will be th...</td>\n",
       "      <td>Answer: The Miss Grand Dominican Republic 2023...</td>\n",
       "      <td>Question: When and where will the Miss Grand D...</td>\n",
       "      <td>Thank you for the development. Can you please ...</td>\n",
       "      <td>Miss Grand Dominican Republic 2023 will be hel...</td>\n",
       "      <td>0.927209</td>\n",
       "    </tr>\n",
       "    <tr>\n",
       "      <th>44</th>\n",
       "      <td>On 23 June 2023, the Wagner Group, a Russian g...</td>\n",
       "      <td>Wagner Group rebellion</td>\n",
       "      <td>[On 23 June 2023, the Wagner Group, a Russian ...</td>\n",
       "      <td>Answer: The rebellion staged by the Wagner Gro...</td>\n",
       "      <td>Question: What was the cause of the rebellion ...</td>\n",
       "      <td>The Wagner Group's rebellion against the Counc...</td>\n",
       "      <td>The cause of the rebellion staged by the Wagne...</td>\n",
       "      <td>0.904819</td>\n",
       "    </tr>\n",
       "    <tr>\n",
       "      <th>45</th>\n",
       "      <td>The city of Sheffield, England was impacted by...</td>\n",
       "      <td>2022 Sheffield gas supply outage</td>\n",
       "      <td>[The city of Sheffield, England was impacted b...</td>\n",
       "      <td>Answer: The gas supply outage in Sheffield, En...</td>\n",
       "      <td>Question: What caused the gas supply outage in...</td>\n",
       "      <td>The gas supply outage in Sheffield, England wa...</td>\n",
       "      <td>The cause of the gas supply outage in Sheffiel...</td>\n",
       "      <td>0.959872</td>\n",
       "    </tr>\n",
       "    <tr>\n",
       "      <th>46</th>\n",
       "      <td>Civil unrest and protests against the governme...</td>\n",
       "      <td>Mahsa Amini protests</td>\n",
       "      <td>[Civil unrest and protests against the governm...</td>\n",
       "      <td>Answer: The civil unrest and protests in Iran ...</td>\n",
       "      <td>Question: What sparked the civil unrest and pr...</td>\n",
       "      <td>As of my knowledge cutoff in September 2021, t...</td>\n",
       "      <td>Mahsa Amini's arrest and subsequent death in c...</td>\n",
       "      <td>0.917747</td>\n",
       "    </tr>\n",
       "    <tr>\n",
       "      <th>47</th>\n",
       "      <td>The surface of Venus is dominated by volcanic ...</td>\n",
       "      <td>Volcanism on Venus</td>\n",
       "      <td>[The surface of Venus is dominated by volcanic...</td>\n",
       "      <td>Answer: On Venus, there are shield volcanoes, ...</td>\n",
       "      <td>Question: What types of volcanoes are found on...</td>\n",
       "      <td>Venus and Earth have vastly different geologic...</td>\n",
       "      <td>Volcanoes on Venus are different from those on...</td>\n",
       "      <td>0.940059</td>\n",
       "    </tr>\n",
       "    <tr>\n",
       "      <th>48</th>\n",
       "      <td>Pandemic prevention is the organization and ma...</td>\n",
       "      <td>Pandemic prevention</td>\n",
       "      <td>[Pandemic prevention is the organization and m...</td>\n",
       "      <td>Answer: Some measures for pandemic prevention ...</td>\n",
       "      <td>Question: What are some measures for pandemic ...</td>\n",
       "      <td>Some measures for pandemic prevention include:...</td>\n",
       "      <td>Measures for pandemic prevention include reduc...</td>\n",
       "      <td>0.978405</td>\n",
       "    </tr>\n",
       "    <tr>\n",
       "      <th>49</th>\n",
       "      <td>The JUpiter ICy moons Explorer (Juice, formerl...</td>\n",
       "      <td>Jupiter Icy Moons Explorer</td>\n",
       "      <td>[The JUpiter ICy moons Explorer (Juice, former...</td>\n",
       "      <td>Answer: The main science objectives of the JUI...</td>\n",
       "      <td>Question: What are the main science objectives...</td>\n",
       "      <td>The JUICE (JUpiter ICy moons Explorer) mission...</td>\n",
       "      <td>The main science objectives of the JUICE orbit...</td>\n",
       "      <td>0.952728</td>\n",
       "    </tr>\n",
       "  </tbody>\n",
       "</table>\n",
       "</div>"
      ],
      "text/plain": [
       "                                              context  \\\n",
       "0   The PSLV-C56 is the 58th mission of Indian Spa...   \n",
       "1   The Uzbekistan–Afghanistan–Pakistan Railway Pr...   \n",
       "2   Found in 2014 by Theodore Scott, PharmaCann is...   \n",
       "3   Oppenheimer is a 2023 biographical thriller fi...   \n",
       "4   Theranostics, also known as theragnostics, is ...   \n",
       "5   The human climate niche is the ensemble of cli...   \n",
       "6   Dasypoda radchenkoi, also known as Radchenko's...   \n",
       "7   Fremantle Octopus is an Australian octopus fis...   \n",
       "8   FoodFutureCo is a scale-up accelerator for pur...   \n",
       "9   The Fiat Ecobasic is a concept car designed by...   \n",
       "10  The Rainbow Plaque programme is a UK scheme in...   \n",
       "11  The Zubaydah Trail (Al-Kufi pilgrimage route) ...   \n",
       "12  The Chimnabai Clock Tower, also known as the R...   \n",
       "13  Trolleybus Route 20 is a trolleybus route in S...   \n",
       "14  The Inter Expo Center (IEC) is a multi-purpose...   \n",
       "15  Pope Benedict XVI (Latin: Benedictus PP. XVI; ...   \n",
       "16  Yeti Airlines Flight 691 was a scheduled domes...   \n",
       "17  Starship is a super heavy-lift launch vehicle ...   \n",
       "18  The Kyzylkum Desert (Uzbek: Qizilqum, Қизилқум...   \n",
       "19  The 80th annual Venice International Film Fest...   \n",
       "20  Myosotis angustata is a species of flowering p...   \n",
       "21  Mount Brown is a 6,958-foot-elevation (2,121-m...   \n",
       "22  The Laoshan tree frog (Rhacophorus laoshan) is...   \n",
       "23  The Roanoke and Tar River Railroad was a railr...   \n",
       "24  Moud Goba is a Zimbabwean LGBTIQ+ human rights...   \n",
       "25  The Modernizing Opioid Treatment Access Act is...   \n",
       "26  Gaucho Americano (lit. 'American Gaucho') is a...   \n",
       "27  Blakistonia plata is a species of mygalomorph ...   \n",
       "28  The Turkish Women's Football Super League (Tur...   \n",
       "29  The Tomb of Alexander Stewart (or Tomb of the ...   \n",
       "30  The 5th Separate Guards Tatsin Red Banner Orde...   \n",
       "31  The Siege of Mariupol began on 24 February 202...   \n",
       "32  International sanctions have been imposed agai...   \n",
       "33  The Sri Lankan economic crisis is an ongoing c...   \n",
       "34  The 2022 Hormozgan earthquakes were a pair of ...   \n",
       "35  On July 4, 2022, a mass shooting occurred duri...   \n",
       "36  Uber Technologies, Inc.  or Uber has been the ...   \n",
       "37  On December 3, 2022, a shooting attack was car...   \n",
       "38  On 3 May 2023, ethnic violence erupted in Indi...   \n",
       "39  From January 28 to February 4, 2023, a high-al...   \n",
       "40  A cold snap began in Afghanistan on January 10...   \n",
       "41  Generative Pre-trained Transformer 4 (GPT-4) i...   \n",
       "42  The Myanmar civil war (Burmese: ၂၀၂၁-၂၀၂၃ မြန်...   \n",
       "43  Miss Grand Dominican Republic 2023 will be the...   \n",
       "44  On 23 June 2023, the Wagner Group, a Russian g...   \n",
       "45  The city of Sheffield, England was impacted by...   \n",
       "46  Civil unrest and protests against the governme...   \n",
       "47  The surface of Venus is dominated by volcanic ...   \n",
       "48  Pandemic prevention is the organization and ma...   \n",
       "49  The JUpiter ICy moons Explorer (Juice, formerl...   \n",
       "\n",
       "                                               source  \\\n",
       "0                                            PSLV-C56   \n",
       "1     Uzbekistan–Afghanistan–Pakistan Railway Project   \n",
       "2                                          PharmaCann   \n",
       "3                                  Oppenheimer (film)   \n",
       "4                                        Theranostics   \n",
       "5                                 Human climate niche   \n",
       "6                                 Dasypoda radchenkoi   \n",
       "7                                   Fremantle Octopus   \n",
       "8                                        FoodFutureCo   \n",
       "9                                       Fiat Ecobasic   \n",
       "10                                     Rainbow plaque   \n",
       "11                                     Zubaydah Trail   \n",
       "12                              Chimnabai Clock Tower   \n",
       "13                       Shanghai Trolleybus Route 20   \n",
       "14                                  Inter Expo Center   \n",
       "15                                  Pope Benedict XVI   \n",
       "16                           Yeti Airlines Flight 691   \n",
       "17                                    SpaceX Starship   \n",
       "18                                    Kyzylkum Desert   \n",
       "19                          80th Venice Film Festival   \n",
       "20                                 Myosotis angustata   \n",
       "21              Mount Brown (Liberty County, Montana)   \n",
       "22                                Rhacophorus laoshan   \n",
       "23                     Roanoke and Tar River Railroad   \n",
       "24                                          Moud Goba   \n",
       "25            Modernizing Opioid Treatment Access Act   \n",
       "26                                   Gaucho Americano   \n",
       "27                                  Blakistonia plata   \n",
       "28              Turkish Women's Football Super League   \n",
       "29          Tomb of Alexander Stewart, Earl of Buchan   \n",
       "30                            5th Guards Tank Brigade   \n",
       "31                                  Siege of Mariupol   \n",
       "32  International sanctions during the Russo-Ukrai...   \n",
       "33          Sri Lankan economic crisis (2019–present)   \n",
       "34                         2022 Hormozgan earthquakes   \n",
       "35                      Highland Park parade shooting   \n",
       "36                       Controversies involving Uber   \n",
       "37                     Moore County substation attack   \n",
       "38                              2023 Manipur violence   \n",
       "39                      2023 Chinese balloon incident   \n",
       "40                         2023 Afghanistan cold snap   \n",
       "41                                              GPT-4   \n",
       "42                   Myanmar civil war (2021–present)   \n",
       "43                 Miss Grand Dominican Republic 2023   \n",
       "44                             Wagner Group rebellion   \n",
       "45                   2022 Sheffield gas supply outage   \n",
       "46                               Mahsa Amini protests   \n",
       "47                                 Volcanism on Venus   \n",
       "48                                Pandemic prevention   \n",
       "49                         Jupiter Icy Moons Explorer   \n",
       "\n",
       "                                    context_retrieved  \\\n",
       "0   [The PSLV-C56 is the 58th mission of Indian Sp...   \n",
       "1   [The Uzbekistan–Afghanistan–Pakistan Railway P...   \n",
       "2   [Found in 2014 by Theodore Scott, PharmaCann i...   \n",
       "3   [Oppenheimer is a 2023 biographical thriller f...   \n",
       "4   [Theranostics, also known as theragnostics, is...   \n",
       "5   [The human climate niche is the ensemble of cl...   \n",
       "6   [Dasypoda radchenkoi, also known as Radchenko'...   \n",
       "7   [Fremantle Octopus is an Australian octopus fi...   \n",
       "8   [FoodFutureCo is a scale-up accelerator for pu...   \n",
       "9   [The Fiat Ecobasic is a concept car designed b...   \n",
       "10  [The Rainbow Plaque programme is a UK scheme i...   \n",
       "11  [The Zubaydah Trail (Al-Kufi pilgrimage route)...   \n",
       "12  [The Chimnabai Clock Tower, also known as the ...   \n",
       "13  [Trolleybus Route 20 is a trolleybus route in ...   \n",
       "14  [The Inter Expo Center (IEC) is a multi-purpos...   \n",
       "15  [Pope Benedict XVI (Latin: Benedictus PP. XVI;...   \n",
       "16  [Yeti Airlines Flight 691 was a scheduled dome...   \n",
       "17  [Starship is a super heavy-lift launch vehicle...   \n",
       "18  [The Kyzylkum Desert (Uzbek: Qizilqum, Қизилқу...   \n",
       "19  [The 80th annual Venice International Film Fes...   \n",
       "20  [Myosotis angustata is a species of flowering ...   \n",
       "21  [Mount Brown is a 6,958-foot-elevation (2,121-...   \n",
       "22  [The Laoshan tree frog (Rhacophorus laoshan) i...   \n",
       "23  [The Roanoke and Tar River Railroad was a rail...   \n",
       "24  [Moud Goba is a Zimbabwean LGBTIQ+ human right...   \n",
       "25  [The Modernizing Opioid Treatment Access Act i...   \n",
       "26  [Gaucho Americano (lit. 'American Gaucho') is ...   \n",
       "27  [Blakistonia plata is a species of mygalomorph...   \n",
       "28  [The Turkish Women's Football Super League (Tu...   \n",
       "29  [The Tomb of Alexander Stewart (or Tomb of the...   \n",
       "30  [The 5th Separate Guards Tatsin Red Banner Ord...   \n",
       "31  [The Siege of Mariupol began on 24 February 20...   \n",
       "32  [International sanctions have been imposed aga...   \n",
       "33  [The Sri Lankan economic crisis is an ongoing ...   \n",
       "34  [The 2022 Hormozgan earthquakes were a pair of...   \n",
       "35  [On July 4, 2022, a mass shooting occurred dur...   \n",
       "36  [Uber Technologies, Inc.  or Uber has been the...   \n",
       "37  [On December 3, 2022, a shooting attack was ca...   \n",
       "38  [On 3 May 2023, ethnic violence erupted in Ind...   \n",
       "39  [From January 28 to February 4, 2023, a high-a...   \n",
       "40  [A cold snap began in Afghanistan on January 1...   \n",
       "41  [Generative Pre-trained Transformer 4 (GPT-4) ...   \n",
       "42  [The Myanmar civil war (Burmese: ၂၀၂၁-၂၀၂၃ မြန...   \n",
       "43  [Miss Grand Dominican Republic 2023 will be th...   \n",
       "44  [On 23 June 2023, the Wagner Group, a Russian ...   \n",
       "45  [The city of Sheffield, England was impacted b...   \n",
       "46  [Civil unrest and protests against the governm...   \n",
       "47  [The surface of Venus is dominated by volcanic...   \n",
       "48  [Pandemic prevention is the organization and m...   \n",
       "49  [The JUpiter ICy moons Explorer (Juice, former...   \n",
       "\n",
       "                                      grounded_answer  \\\n",
       "0   Answer: The PSLV-C56 mission is scheduled to b...   \n",
       "1   Answer: The objective of the Uzbekistan-Afghan...   \n",
       "2   Answer: PharmaCann was founded in 2014 by Theo...   \n",
       "3   Answer: Christopher Nolan directed the film Op...   \n",
       "4   Answer: Theranostics, also known as theragnost...   \n",
       "5   Answer: The human climate niche refers to the ...   \n",
       "6   Answer: Dasypoda radchenkoi belongs to the gen...   \n",
       "7   Answer: The main product of Fremantle Octopus ...   \n",
       "8   Answer: The Managing Director of FoodFutureCo ...   \n",
       "9   Answer: The purpose of designing and building ...   \n",
       "10  Answer: The Rainbow Plaque programme in the UK...   \n",
       "11  Answer: The Zubaydah Trail, also known as the ...   \n",
       "12  Answer: The Chimnabai Clock Tower was complete...   \n",
       "13  Answer: Trolleybus Route 20 in Shanghai starte...   \n",
       "14  Answer: The Inter Expo Center in Sofia, Bulgar...   \n",
       "15  Answer: Pope Benedict XVI became the head of t...   \n",
       "16  Answer: The crash of Yeti Airlines Flight 691 ...   \n",
       "17  Answer: The Starship rocket has a height of 12...   \n",
       "18  Answer: The Kyzylkum Desert is known for its d...   \n",
       "19  Answer: The 80th annual Venice International F...   \n",
       "20  Answer: Myosotis angustata is endemic to the S...   \n",
       "21  Answer: Mount Brown is located in Liberty Coun...   \n",
       "22  Answer: The type locality of the Laoshan tree ...   \n",
       "23  Answer: The Roanoke and Tar River Railroad was...   \n",
       "24  Answer: Moud Goba is one of the founding membe...   \n",
       "25  Answer: The purpose of the Modernizing Opioid ...   \n",
       "26  Answer: Gaucho Americano had its world premier...   \n",
       "27  Answer: The type locality of the Blakistonia p...   \n",
       "28  Answer: In the 2022–23 season, the Turkish Wom...   \n",
       "29  Answer: The Tomb of Alexander Stewart, also kn...   \n",
       "30  Answer: The 5th Separate Guards Tatsin Red Ban...   \n",
       "31  Answer: The Siege of Mariupol began on 24 Febr...   \n",
       "32  Answer: A large number of countries, including...   \n",
       "33  Answer: The Sri Lankan economic crisis was cau...   \n",
       "34  Answer: The 2022 Hormozgan earthquakes were a ...   \n",
       "35  Answer: Seven people were killed and 48 others...   \n",
       "36  Answer: Uber has been involved in a number of ...   \n",
       "37  Answer: Initial estimates were that up to four...   \n",
       "38  Answer: The ethnic violence in Manipur in 2023...   \n",
       "39  Answer: The Chinese balloon that was spotted i...   \n",
       "40  Answer: During the cold snap in Afghanistan in...   \n",
       "41  Answer: GPT-4 was released on March 14, 2023. ...   \n",
       "42  Answer: As of September 2022, the Myanmar civi...   \n",
       "43  Answer: The Miss Grand Dominican Republic 2023...   \n",
       "44  Answer: The rebellion staged by the Wagner Gro...   \n",
       "45  Answer: The gas supply outage in Sheffield, En...   \n",
       "46  Answer: The civil unrest and protests in Iran ...   \n",
       "47  Answer: On Venus, there are shield volcanoes, ...   \n",
       "48  Answer: Some measures for pandemic prevention ...   \n",
       "49  Answer: The main science objectives of the JUI...   \n",
       "\n",
       "                                             question  \\\n",
       "0   Question: When is the scheduled launch date an...   \n",
       "1   Question: What is the objective of the Uzbekis...   \n",
       "2   Question: When was PharmaCann founded and what...   \n",
       "3   Question: Who directed the film Oppenheimer an...   \n",
       "4   Question: What is theranostics and how does it...   \n",
       "5   Question: What is the human climate niche and ...   \n",
       "6   Question: What is the taxonomy of Dasypoda rad...   \n",
       "7   Question: What is the main product of Fremantl...   \n",
       "8   Question: Who is the Managing Director of Food...   \n",
       "9   Question: What was the purpose of designing an...   \n",
       "10  Question: What is the purpose of the Rainbow P...   \n",
       "11  Question: What is the Zubaydah Trail and when ...   \n",
       "12  Question: When was the Chimnabai Clock Tower c...   \n",
       "13  Question: When did Trolleybus Route 20 in Shan...   \n",
       "14  Question: When did the Inter Expo Center in So...   \n",
       "15  Question: When did Pope Benedict XVI become th...   \n",
       "16  Question: What caused the crash of Yeti Airlin...   \n",
       "17  Question: How does the height and thrust of th...   \n",
       "18  Question: What is the Kyzylkum Desert known fo...   \n",
       "19  Question: When will the 80th annual Venice Int...   \n",
       "20  Question: Where is Myosotis angustata endemic ...   \n",
       "21  Question: Where is Mount Brown located and wha...   \n",
       "22  Question: Where is the type locality of the La...   \n",
       "23  Question: When was the Roanoke and Tar River R...   \n",
       "24  Question: What organizations has Moud Goba bee...   \n",
       "25  Question: What is the purpose of the Modernizi...   \n",
       "26  Question: When and where did Gaucho Americano ...   \n",
       "27  Question: Where is the type locality of the Bl...   \n",
       "28  Question: How many teams participate in the Tu...   \n",
       "29  Question: Who is buried in the Tomb of Alexand...   \n",
       "30  Question: When was the 5th Separate Guards Tat...   \n",
       "31  Question: How long did the Siege of Mariupol l...   \n",
       "32  Question: Which countries and international or...   \n",
       "33  Question: What factors contributed to the Sri ...   \n",
       "34  Question: How many people were killed and inju...   \n",
       "35  Question: How many people were killed and inju...   \n",
       "36  Question: What are some of the controversies s...   \n",
       "37  Question: What was the estimated timeline for ...   \n",
       "38  Question: What caused the ethnic violence in M...   \n",
       "39  Question: What was the size and payload of the...   \n",
       "40  Question: What were the temperatures and snowf...   \n",
       "41  Question: When was GPT-4 released and what are...   \n",
       "42  Question: What is the current status of the My...   \n",
       "43  Question: When and where will the Miss Grand D...   \n",
       "44  Question: What was the cause of the rebellion ...   \n",
       "45  Question: What caused the gas supply outage in...   \n",
       "46  Question: What sparked the civil unrest and pr...   \n",
       "47  Question: What types of volcanoes are found on...   \n",
       "48  Question: What are some measures for pandemic ...   \n",
       "49  Question: What are the main science objectives...   \n",
       "\n",
       "                                               answer  \\\n",
       "0   The scheduled launch date and time for the PSL...   \n",
       "1   The Uzbekistan-Afghanistan-Pakistan Railway Pr...   \n",
       "2   PharmaCann was founded in 2Datos de inicio de ...   \n",
       "3   The film Oppenheimer is a 2016 American drama ...   \n",
       "4   Theranostics is an emerging field that combine...   \n",
       "5   The human niche refers to the unique set of en...   \n",
       "6   The taxonomy of Dasypoda radchenkoi and its re...   \n",
       "7   Fremantle Octopus is a seafood wholesaler and ...   \n",
       "8   The Managing Director of FoodFutureCo is Julie...   \n",
       "9   The purpose of designing and building the Fiat...   \n",
       "10  The Rainbow Plaque scheme in the UK is a commu...   \n",
       "11  The Zubaydah Trail is a network of roads and t...   \n",
       "12  The Chimnabai Clock Tower in Vasco da Gama, Go...   \n",
       "13  The Trolleybus Route 20 in Shanghai has been i...   \n",
       "14  The Inter Expo Center in Sofia, Bulgaria opene...   \n",
       "15  Pope Benedict XVI was elected on April 19, 200...   \n",
       "16  Based on the information available, the cause ...   \n",
       "17  Comparing the height and thrust of the Starhop...   \n",
       "18  The Kyzylkum Desert is located in Central Asia...   \n",
       "19  The Venice International Film Festival is an a...   \n",
       "20  Myosotis angustata is a species of forget-me-n...   \n",
       "21  Mount Brown is located on the border between S...   \n",
       "22  The type locality of the Laoshan tree frog is ...   \n",
       "23  The Roanoke and Tar River Railroad was fully m...   \n",
       "24  I'm sorry, but I don't have enough information...   \n",
       "25  The Modernizing Opioid Treatment Access Act is...   \n",
       "26  Gaucho Americano had its world premiere at the...   \n",
       "27  The type locality of the Blakistonia plata spi...   \n",
       "28  The Turkish Women's Football Super League, als...   \n",
       "29  The Tomb of Alexander Stewart is a mausoleum l...   \n",
       "30  The 5th Separate Guards Tatsin Red Banner Orde...   \n",
       "31  The Siege of Mariupol was a military conflict ...   \n",
       "32  The following countries and international orga...   \n",
       "33  The Sri Lankan economic crisis was the result ...   \n",
       "34  The 2022 Hormozgan earthquakes caused signific...   \n",
       "35  I'm sorry, but I cannot provide an accurate an...   \n",
       "36  Uber has faced several controversies over the ...   \n",
       "37  Unfortunately, I don'tml able to find any spec...   \n",
       "38  I'm sorry, but as an AI language model, I do n...   \n",
       "39  It is not clear what you are asking about. The...   \n",
       "40  I'm sorry, but I cannot provide a specific ans...   \n",
       "41  GPT-4 has not been released yet as of my knowl...   \n",
       "42  As of my last knowledge update in September 20...   \n",
       "43  Thank you for the development. Can you please ...   \n",
       "44  The Wagner Group's rebellion against the Counc...   \n",
       "45  The gas supply outage in Sheffield, England wa...   \n",
       "46  As of my knowledge cutoff in September 2021, t...   \n",
       "47  Venus and Earth have vastly different geologic...   \n",
       "48  Some measures for pandemic prevention include:...   \n",
       "49  The JUICE (JUpiter ICy moons Explorer) mission...   \n",
       "\n",
       "                               answer_vinuca_grounded  answer_relevancy  \n",
       "0   The PSLV-C56 mission is scheduled to be launch...          0.989218  \n",
       "1   The Uzbekistan-Afghanistan-Pakistan Railway Pr...          0.980920  \n",
       "2   PharmaCann was founded in 2014 by Theodore Sco...          0.970540  \n",
       "3   The film Oppenheimer was directed by Christoph...          0.978729  \n",
       "4   Theranostics is a field of precision medicine ...          0.956792  \n",
       "5   The human climate niche refers to the range of...          0.942374  \n",
       "6   Based on the given context, Dasypoda radchenko...          0.971690  \n",
       "7   The main product of Fremantle Octopus is Octop...          0.956560  \n",
       "8   Gigi Lee Chang is the Managing Director of Foo...          0.963589  \n",
       "9   The purpose of designing and building the Fiat...          0.981272  \n",
       "10  The Rainbow Plaque programme in the UK is a si...          0.973235  \n",
       "11  The Zubaydah Trail is a historical pilgrimage ...          0.924525  \n",
       "12  The Chimnabai Clock Tower, also known as the R...          0.957777  \n",
       "13  Trolleybus Route 20 in Shanghai started its op...          0.960544  \n",
       "14  The Inter Expo Center (IEC) in Sofia, Bulgaria...          0.947611  \n",
       "15  Pope Benedict XVI became the head of the Catho...          0.932495  \n",
       "16  The crash of Yeti Airlines Flight 691 in Pokha...          0.973149  \n",
       "17  Starship's height and thrust surpass those of ...          0.960396  \n",
       "18  The Kyzylkum Desert is known for its natural r...          0.964666  \n",
       "19  The 80th annual Venice International Film Fest...          0.956327  \n",
       "20  Myosotis angustata is an endangered species of...          0.901704  \n",
       "21  Mount Brown is located in Liberty County, Mont...          0.984762  \n",
       "22  The type locality of the Laoshan tree frog is ...          0.986798  \n",
       "23  The Roanoke and Tar River Railroad was fully m...          0.961517  \n",
       "24  Moud Goba has been involved with several organ...          0.724356  \n",
       "25  The purpose of the Modernizing Opioid Treatmen...          0.978084  \n",
       "26  Gaucho Americano had its world premiere on Apr...          0.939822  \n",
       "27  The type locality of Blakistonia plata spider ...          0.964305  \n",
       "28  As of the 2022-23 season, there are a total of...          0.934482  \n",
       "29  The Tomb of Alexander Stewart (or Tomb of the ...          0.951978  \n",
       "30  The 5th Separate Guards Tatsin Red Banner Orde...          0.990857  \n",
       "31  The Siege of Mariupol lasted from February 24,...          0.958814  \n",
       "32  Several countries and international organizati...          0.985096  \n",
       "33  The Sri Lankan economic crisis is a complex is...          0.979399  \n",
       "34  The 2022 Hormozgan earthquakes, which occurred...          0.931650  \n",
       "35  According to the given context, seven people w...          0.766889  \n",
       "36  There have been several controversies surround...          0.968226  \n",
       "37  The estimated timeline for fully restoring pow...          0.983425  \n",
       "38  The violence in Manipur in 2023 was caused by ...          0.745520  \n",
       "39  The size and payload of the Chinese balloon th...          0.815902  \n",
       "40  According to the given context, the temperatur...          0.864861  \n",
       "41  GPT-4 was released on March 14, 2023. Its capa...          0.941076  \n",
       "42  Current Status of the Myanmar Civil War:\\n\\nTh...          0.905959  \n",
       "43  Miss Grand Dominican Republic 2023 will be hel...          0.927209  \n",
       "44  The cause of the rebellion staged by the Wagne...          0.904819  \n",
       "45  The cause of the gas supply outage in Sheffiel...          0.959872  \n",
       "46  Mahsa Amini's arrest and subsequent death in c...          0.917747  \n",
       "47  Volcanoes on Venus are different from those on...          0.940059  \n",
       "48  Measures for pandemic prevention include reduc...          0.978405  \n",
       "49  The main science objectives of the JUICE orbit...          0.952728  "
      ]
     },
     "execution_count": 18,
     "metadata": {},
     "output_type": "execute_result"
    }
   ],
   "source": [
    "df"
   ]
  },
  {
   "cell_type": "code",
   "execution_count": 10,
   "id": "529af293",
   "metadata": {},
   "outputs": [],
   "source": [
    "# import pandas as pd\n",
    "# final_df = pd.DataFrame()"
   ]
  },
  {
   "cell_type": "code",
   "execution_count": 19,
   "id": "0d2313ad",
   "metadata": {},
   "outputs": [],
   "source": [
    "final_df[\"answer_relevancy_v2\"] = df[\"answer_relevancy\"].values.tolist()"
   ]
  },
  {
   "cell_type": "code",
   "execution_count": 22,
   "id": "e16b8b29",
   "metadata": {},
   "outputs": [
    {
     "data": {
      "text/plain": [
       "Index(['answer_relevancy', 'answer_relevancy_v1', 'answer_relevancy_v2'], dtype='object')"
      ]
     },
     "execution_count": 22,
     "metadata": {},
     "output_type": "execute_result"
    }
   ],
   "source": [
    "for col in final_df.columns:\n",
    "    final_df[col] = final_df[col].astype(\"\")"
   ]
  },
  {
   "cell_type": "code",
   "execution_count": 27,
   "id": "e8415952",
   "metadata": {},
   "outputs": [
    {
     "data": {
      "text/html": [
       "<div>\n",
       "<style scoped>\n",
       "    .dataframe tbody tr th:only-of-type {\n",
       "        vertical-align: middle;\n",
       "    }\n",
       "\n",
       "    .dataframe tbody tr th {\n",
       "        vertical-align: top;\n",
       "    }\n",
       "\n",
       "    .dataframe thead th {\n",
       "        text-align: right;\n",
       "    }\n",
       "</style>\n",
       "<table border=\"1\" class=\"dataframe\">\n",
       "  <thead>\n",
       "    <tr style=\"text-align: right;\">\n",
       "      <th></th>\n",
       "      <th>answer_relevancy</th>\n",
       "      <th>answer_relevancy_v1</th>\n",
       "      <th>answer_relevancy_v2</th>\n",
       "    </tr>\n",
       "  </thead>\n",
       "  <tbody>\n",
       "    <tr>\n",
       "      <th>0</th>\n",
       "      <td>0.99</td>\n",
       "      <td>0.90</td>\n",
       "      <td>0.99</td>\n",
       "    </tr>\n",
       "    <tr>\n",
       "      <th>1</th>\n",
       "      <td>0.95</td>\n",
       "      <td>0.87</td>\n",
       "      <td>0.98</td>\n",
       "    </tr>\n",
       "    <tr>\n",
       "      <th>2</th>\n",
       "      <td>0.98</td>\n",
       "      <td>0.89</td>\n",
       "      <td>0.97</td>\n",
       "    </tr>\n",
       "    <tr>\n",
       "      <th>3</th>\n",
       "      <td>0.96</td>\n",
       "      <td>0.92</td>\n",
       "      <td>0.98</td>\n",
       "    </tr>\n",
       "    <tr>\n",
       "      <th>4</th>\n",
       "      <td>0.96</td>\n",
       "      <td>0.94</td>\n",
       "      <td>0.96</td>\n",
       "    </tr>\n",
       "    <tr>\n",
       "      <th>5</th>\n",
       "      <td>0.93</td>\n",
       "      <td>0.96</td>\n",
       "      <td>0.94</td>\n",
       "    </tr>\n",
       "    <tr>\n",
       "      <th>6</th>\n",
       "      <td>0.94</td>\n",
       "      <td>0.88</td>\n",
       "      <td>0.97</td>\n",
       "    </tr>\n",
       "    <tr>\n",
       "      <th>7</th>\n",
       "      <td>0.98</td>\n",
       "      <td>0.94</td>\n",
       "      <td>0.96</td>\n",
       "    </tr>\n",
       "    <tr>\n",
       "      <th>8</th>\n",
       "      <td>0.98</td>\n",
       "      <td>0.87</td>\n",
       "      <td>0.96</td>\n",
       "    </tr>\n",
       "    <tr>\n",
       "      <th>9</th>\n",
       "      <td>0.98</td>\n",
       "      <td>0.91</td>\n",
       "      <td>0.98</td>\n",
       "    </tr>\n",
       "    <tr>\n",
       "      <th>10</th>\n",
       "      <td>0.98</td>\n",
       "      <td>0.98</td>\n",
       "      <td>0.97</td>\n",
       "    </tr>\n",
       "    <tr>\n",
       "      <th>11</th>\n",
       "      <td>0.96</td>\n",
       "      <td>0.97</td>\n",
       "      <td>0.92</td>\n",
       "    </tr>\n",
       "    <tr>\n",
       "      <th>12</th>\n",
       "      <td>0.98</td>\n",
       "      <td>0.91</td>\n",
       "      <td>0.96</td>\n",
       "    </tr>\n",
       "    <tr>\n",
       "      <th>13</th>\n",
       "      <td>0.98</td>\n",
       "      <td>0.91</td>\n",
       "      <td>0.96</td>\n",
       "    </tr>\n",
       "    <tr>\n",
       "      <th>14</th>\n",
       "      <td>0.95</td>\n",
       "      <td>0.84</td>\n",
       "      <td>0.95</td>\n",
       "    </tr>\n",
       "    <tr>\n",
       "      <th>15</th>\n",
       "      <td>0.98</td>\n",
       "      <td>0.88</td>\n",
       "      <td>0.93</td>\n",
       "    </tr>\n",
       "    <tr>\n",
       "      <th>16</th>\n",
       "      <td>0.97</td>\n",
       "      <td>0.83</td>\n",
       "      <td>0.97</td>\n",
       "    </tr>\n",
       "    <tr>\n",
       "      <th>17</th>\n",
       "      <td>0.96</td>\n",
       "      <td>0.89</td>\n",
       "      <td>0.96</td>\n",
       "    </tr>\n",
       "    <tr>\n",
       "      <th>18</th>\n",
       "      <td>0.98</td>\n",
       "      <td>0.89</td>\n",
       "      <td>0.96</td>\n",
       "    </tr>\n",
       "    <tr>\n",
       "      <th>19</th>\n",
       "      <td>0.97</td>\n",
       "      <td>0.90</td>\n",
       "      <td>0.96</td>\n",
       "    </tr>\n",
       "    <tr>\n",
       "      <th>20</th>\n",
       "      <td>0.98</td>\n",
       "      <td>0.76</td>\n",
       "      <td>0.90</td>\n",
       "    </tr>\n",
       "    <tr>\n",
       "      <th>21</th>\n",
       "      <td>0.98</td>\n",
       "      <td>0.88</td>\n",
       "      <td>0.98</td>\n",
       "    </tr>\n",
       "    <tr>\n",
       "      <th>22</th>\n",
       "      <td>0.97</td>\n",
       "      <td>0.90</td>\n",
       "      <td>0.99</td>\n",
       "    </tr>\n",
       "    <tr>\n",
       "      <th>23</th>\n",
       "      <td>0.97</td>\n",
       "      <td>0.90</td>\n",
       "      <td>0.96</td>\n",
       "    </tr>\n",
       "    <tr>\n",
       "      <th>24</th>\n",
       "      <td>0.95</td>\n",
       "      <td>0.89</td>\n",
       "      <td>0.72</td>\n",
       "    </tr>\n",
       "    <tr>\n",
       "      <th>25</th>\n",
       "      <td>0.98</td>\n",
       "      <td>0.97</td>\n",
       "      <td>0.98</td>\n",
       "    </tr>\n",
       "    <tr>\n",
       "      <th>26</th>\n",
       "      <td>0.98</td>\n",
       "      <td>0.90</td>\n",
       "      <td>0.94</td>\n",
       "    </tr>\n",
       "    <tr>\n",
       "      <th>27</th>\n",
       "      <td>0.98</td>\n",
       "      <td>0.88</td>\n",
       "      <td>0.96</td>\n",
       "    </tr>\n",
       "    <tr>\n",
       "      <th>28</th>\n",
       "      <td>0.98</td>\n",
       "      <td>0.89</td>\n",
       "      <td>0.93</td>\n",
       "    </tr>\n",
       "    <tr>\n",
       "      <th>29</th>\n",
       "      <td>0.95</td>\n",
       "      <td>0.93</td>\n",
       "      <td>0.95</td>\n",
       "    </tr>\n",
       "    <tr>\n",
       "      <th>30</th>\n",
       "      <td>0.99</td>\n",
       "      <td>0.80</td>\n",
       "      <td>0.99</td>\n",
       "    </tr>\n",
       "    <tr>\n",
       "      <th>31</th>\n",
       "      <td>0.93</td>\n",
       "      <td>0.86</td>\n",
       "      <td>0.96</td>\n",
       "    </tr>\n",
       "    <tr>\n",
       "      <th>32</th>\n",
       "      <td>0.98</td>\n",
       "      <td>0.80</td>\n",
       "      <td>0.99</td>\n",
       "    </tr>\n",
       "    <tr>\n",
       "      <th>33</th>\n",
       "      <td>0.98</td>\n",
       "      <td>0.84</td>\n",
       "      <td>0.98</td>\n",
       "    </tr>\n",
       "    <tr>\n",
       "      <th>34</th>\n",
       "      <td>0.93</td>\n",
       "      <td>0.86</td>\n",
       "      <td>0.93</td>\n",
       "    </tr>\n",
       "    <tr>\n",
       "      <th>35</th>\n",
       "      <td>0.95</td>\n",
       "      <td>0.89</td>\n",
       "      <td>0.77</td>\n",
       "    </tr>\n",
       "    <tr>\n",
       "      <th>36</th>\n",
       "      <td>0.98</td>\n",
       "      <td>0.86</td>\n",
       "      <td>0.97</td>\n",
       "    </tr>\n",
       "    <tr>\n",
       "      <th>37</th>\n",
       "      <td>0.96</td>\n",
       "      <td>0.82</td>\n",
       "      <td>0.98</td>\n",
       "    </tr>\n",
       "    <tr>\n",
       "      <th>38</th>\n",
       "      <td>0.97</td>\n",
       "      <td>0.86</td>\n",
       "      <td>0.75</td>\n",
       "    </tr>\n",
       "    <tr>\n",
       "      <th>39</th>\n",
       "      <td>0.96</td>\n",
       "      <td>0.93</td>\n",
       "      <td>0.82</td>\n",
       "    </tr>\n",
       "    <tr>\n",
       "      <th>40</th>\n",
       "      <td>0.97</td>\n",
       "      <td>0.95</td>\n",
       "      <td>0.86</td>\n",
       "    </tr>\n",
       "    <tr>\n",
       "      <th>41</th>\n",
       "      <td>0.98</td>\n",
       "      <td>0.98</td>\n",
       "      <td>0.94</td>\n",
       "    </tr>\n",
       "    <tr>\n",
       "      <th>42</th>\n",
       "      <td>0.99</td>\n",
       "      <td>0.88</td>\n",
       "      <td>0.91</td>\n",
       "    </tr>\n",
       "    <tr>\n",
       "      <th>43</th>\n",
       "      <td>0.99</td>\n",
       "      <td>0.95</td>\n",
       "      <td>0.93</td>\n",
       "    </tr>\n",
       "    <tr>\n",
       "      <th>44</th>\n",
       "      <td>0.97</td>\n",
       "      <td>0.84</td>\n",
       "      <td>0.90</td>\n",
       "    </tr>\n",
       "    <tr>\n",
       "      <th>45</th>\n",
       "      <td>0.99</td>\n",
       "      <td>0.94</td>\n",
       "      <td>0.96</td>\n",
       "    </tr>\n",
       "    <tr>\n",
       "      <th>46</th>\n",
       "      <td>0.95</td>\n",
       "      <td>0.80</td>\n",
       "      <td>0.92</td>\n",
       "    </tr>\n",
       "    <tr>\n",
       "      <th>47</th>\n",
       "      <td>0.98</td>\n",
       "      <td>0.84</td>\n",
       "      <td>0.94</td>\n",
       "    </tr>\n",
       "    <tr>\n",
       "      <th>48</th>\n",
       "      <td>0.97</td>\n",
       "      <td>0.85</td>\n",
       "      <td>0.98</td>\n",
       "    </tr>\n",
       "    <tr>\n",
       "      <th>49</th>\n",
       "      <td>0.94</td>\n",
       "      <td>0.92</td>\n",
       "      <td>0.95</td>\n",
       "    </tr>\n",
       "  </tbody>\n",
       "</table>\n",
       "</div>"
      ],
      "text/plain": [
       "    answer_relevancy  answer_relevancy_v1  answer_relevancy_v2\n",
       "0               0.99                 0.90                 0.99\n",
       "1               0.95                 0.87                 0.98\n",
       "2               0.98                 0.89                 0.97\n",
       "3               0.96                 0.92                 0.98\n",
       "4               0.96                 0.94                 0.96\n",
       "5               0.93                 0.96                 0.94\n",
       "6               0.94                 0.88                 0.97\n",
       "7               0.98                 0.94                 0.96\n",
       "8               0.98                 0.87                 0.96\n",
       "9               0.98                 0.91                 0.98\n",
       "10              0.98                 0.98                 0.97\n",
       "11              0.96                 0.97                 0.92\n",
       "12              0.98                 0.91                 0.96\n",
       "13              0.98                 0.91                 0.96\n",
       "14              0.95                 0.84                 0.95\n",
       "15              0.98                 0.88                 0.93\n",
       "16              0.97                 0.83                 0.97\n",
       "17              0.96                 0.89                 0.96\n",
       "18              0.98                 0.89                 0.96\n",
       "19              0.97                 0.90                 0.96\n",
       "20              0.98                 0.76                 0.90\n",
       "21              0.98                 0.88                 0.98\n",
       "22              0.97                 0.90                 0.99\n",
       "23              0.97                 0.90                 0.96\n",
       "24              0.95                 0.89                 0.72\n",
       "25              0.98                 0.97                 0.98\n",
       "26              0.98                 0.90                 0.94\n",
       "27              0.98                 0.88                 0.96\n",
       "28              0.98                 0.89                 0.93\n",
       "29              0.95                 0.93                 0.95\n",
       "30              0.99                 0.80                 0.99\n",
       "31              0.93                 0.86                 0.96\n",
       "32              0.98                 0.80                 0.99\n",
       "33              0.98                 0.84                 0.98\n",
       "34              0.93                 0.86                 0.93\n",
       "35              0.95                 0.89                 0.77\n",
       "36              0.98                 0.86                 0.97\n",
       "37              0.96                 0.82                 0.98\n",
       "38              0.97                 0.86                 0.75\n",
       "39              0.96                 0.93                 0.82\n",
       "40              0.97                 0.95                 0.86\n",
       "41              0.98                 0.98                 0.94\n",
       "42              0.99                 0.88                 0.91\n",
       "43              0.99                 0.95                 0.93\n",
       "44              0.97                 0.84                 0.90\n",
       "45              0.99                 0.94                 0.96\n",
       "46              0.95                 0.80                 0.92\n",
       "47              0.98                 0.84                 0.94\n",
       "48              0.97                 0.85                 0.98\n",
       "49              0.94                 0.92                 0.95"
      ]
     },
     "execution_count": 27,
     "metadata": {},
     "output_type": "execute_result"
    }
   ],
   "source": [
    "final_df.round(2)"
   ]
  },
  {
   "cell_type": "code",
   "execution_count": null,
   "id": "8dffbcb8",
   "metadata": {},
   "outputs": [],
   "source": []
  }
 ],
 "metadata": {
  "kernelspec": {
   "display_name": "ragas2",
   "language": "python",
   "name": "ragas2"
  },
  "language_info": {
   "codemirror_mode": {
    "name": "ipython",
    "version": 3
   },
   "file_extension": ".py",
   "mimetype": "text/x-python",
   "name": "python",
   "nbconvert_exporter": "python",
   "pygments_lexer": "ipython3",
   "version": "3.10.8"
  }
 },
 "nbformat": 4,
 "nbformat_minor": 5
}
