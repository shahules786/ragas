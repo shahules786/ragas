{
 "cells": [
  {
   "cell_type": "code",
   "execution_count": 1,
   "id": "d7bc455e",
   "metadata": {},
   "outputs": [],
   "source": [
    "import json\n",
    "from IPython.display import display, Markdown"
   ]
  },
  {
   "cell_type": "code",
   "execution_count": 2,
   "id": "1de01ead",
   "metadata": {},
   "outputs": [],
   "source": [
    "with open(\"./nli_check.json\") as f:\n",
    "    d = json.load(f)"
   ]
  },
  {
   "cell_type": "code",
   "execution_count": 3,
   "id": "55d2dd9c",
   "metadata": {},
   "outputs": [
    {
     "data": {
      "text/plain": [
       "['context', 'answer', 'statements', 'verification']"
      ]
     },
     "execution_count": 3,
     "metadata": {},
     "output_type": "execute_result"
    }
   ],
   "source": [
    "keys = list(d[0].keys())\n",
    "keys"
   ]
  },
  {
   "cell_type": "code",
   "execution_count": 59,
   "id": "696d7dcf",
   "metadata": {},
   "outputs": [],
   "source": [
    "i = 19"
   ]
  },
  {
   "cell_type": "code",
   "execution_count": 60,
   "id": "7d0e1900",
   "metadata": {
    "scrolled": false
   },
   "outputs": [
    {
     "ename": "IndexError",
     "evalue": "list index out of range",
     "output_type": "error",
     "traceback": [
      "\u001b[0;31m---------------------------------------------\u001b[0m",
      "\u001b[0;31mIndexError\u001b[0m  Traceback (most recent call last)",
      "\u001b[0;32m<ipython-input-60-96c3b523cfd0>\u001b[0m in \u001b[0;36m<module>\u001b[0;34m\u001b[0m\n\u001b[0;32m----> 1\u001b[0;31m \u001b[0mitem\u001b[0m \u001b[0;34m=\u001b[0m \u001b[0md\u001b[0m\u001b[0;34m[\u001b[0m\u001b[0mi\u001b[0m\u001b[0;34m]\u001b[0m\u001b[0;34m\u001b[0m\u001b[0;34m\u001b[0m\u001b[0m\n\u001b[0m\u001b[1;32m      2\u001b[0m \u001b[0mc\u001b[0m\u001b[0;34m,\u001b[0m \u001b[0ma\u001b[0m\u001b[0;34m,\u001b[0m \u001b[0ms\u001b[0m\u001b[0;34m,\u001b[0m \u001b[0mv\u001b[0m \u001b[0;34m=\u001b[0m \u001b[0;34m[\u001b[0m\u001b[0mitem\u001b[0m\u001b[0;34m[\u001b[0m\u001b[0mk\u001b[0m\u001b[0;34m]\u001b[0m \u001b[0;32mfor\u001b[0m \u001b[0mk\u001b[0m \u001b[0;32min\u001b[0m \u001b[0mkeys\u001b[0m\u001b[0;34m]\u001b[0m\u001b[0;34m\u001b[0m\u001b[0;34m\u001b[0m\u001b[0m\n\u001b[1;32m      3\u001b[0m \u001b[0mprint\u001b[0m\u001b[0;34m(\u001b[0m\u001b[0mc\u001b[0m\u001b[0;34m)\u001b[0m\u001b[0;34m\u001b[0m\u001b[0;34m\u001b[0m\u001b[0m\n",
      "\u001b[0;31mIndexError\u001b[0m: list index out of range"
     ]
    }
   ],
   "source": [
    "item = d[i]\n",
    "c, a, s, v = [item[k] for k in keys]\n",
    "print(c)"
   ]
  },
  {
   "cell_type": "code",
   "execution_count": 56,
   "id": "093db836",
   "metadata": {},
   "outputs": [
    {
     "name": "stdout",
     "output_type": "stream",
     "text": [
      "\n",
      "The percentage of water in the body varies depending on age, sex, and body fat composition but can be estimated to be approximately 60% of total body weight in adult males and 55% in adult females. Studies have shown that infant bodies contain as much as 75% water while elderly bodies contain only around 45%. Body water also plays a critical role in digestion, absorption, circulation, creation of saliva, transportation of nutrients, and maintenance of body temperature. As a result, it’s important to stay hydrated by regularly drinking fluids throughout the day.\n"
     ]
    }
   ],
   "source": [
    "print(a)"
   ]
  },
  {
   "cell_type": "code",
   "execution_count": 57,
   "id": "ce883cb7",
   "metadata": {},
   "outputs": [
    {
     "name": "stdout",
     "output_type": "stream",
     "text": [
      "1.The percentage of water in the body varies depending on age, sex, and body fat composition.\n",
      "2.Adult males typically contain 60% water while adult females contain 55%.\n",
      "3.Infants contain as much as 75% water while elderly bodies contain only around 45%.\n",
      "4.Body water is important for digestion, absorption, circulation, saliva production, nutrient transportation, and temperature maintenance.\n",
      "5.It is important to stay hydrated by regularly drinking fluids throughout the day.\n"
     ]
    }
   ],
   "source": [
    "print(s)"
   ]
  },
  {
   "cell_type": "code",
   "execution_count": 58,
   "id": "724a111b",
   "metadata": {},
   "outputs": [
    {
     "name": "stdout",
     "output_type": "stream",
     "text": [
      "1.the percentage of water in the body varies depending on age, sex, and body fat composition.\n",
      "explanation: the context states that there can be considerable variation in body water percentage based on a number of factors like age, health, water intake, weight, and sex. so answer is yes.\n",
      "2. adult males typically contain 60% water while adult females contain 55%.\n",
      "explanation: the context states that the adult human body averaged ~65% water, but this varied substantially by age, sex, and adiposity (amount of fat in body composition). the figure for water fraction by weight in this sample was found to be 58 ±8% water for males and 48 ±6% for females. so answer is no.\n",
      "3. infants contain as much as 75% water while elderly bodies contain only around 45%.\n",
      "explanation: the context states that the body water constitutes as much as 75% of the body weight of a newborn infant, whereas some obese people are as little as 45% water by weight. so answer is yes.\n",
      "4. body water is important for digestion, absorption, circulation, saliva production, nutrient transportation, and temperature maintenance.\n",
      "explanation: the context states that water in the animal body performs a number of functions: as a solvent for transportation of nutrients; as a medium for excretion; a means for heat control; as a lubricant for joints; and for shock absorption. so answer is yes.\n",
      "5. it is important to stay hydrated by regularly drinking fluids throughout the day.\n",
      "explanation: the context states that the usual way of adding water to a body is by drinking. so answer is yes.\n",
      "final answer: yes. no. yes. yes. yes.\n"
     ]
    }
   ],
   "source": [
    "print(v)"
   ]
  },
  {
   "cell_type": "code",
   "execution_count": null,
   "id": "6a9d1484",
   "metadata": {},
   "outputs": [],
   "source": []
  },
  {
   "cell_type": "code",
   "execution_count": 68,
   "id": "e876a04a",
   "metadata": {},
   "outputs": [
    {
     "data": {
      "text/plain": [
       "['yes', 'no', '']"
      ]
     },
     "execution_count": 68,
     "metadata": {},
     "output_type": "execute_result"
    }
   ],
   "source": [
    "\" yes.no.\".strip().split(\".\")"
   ]
  }
 ],
 "metadata": {
  "kernelspec": {
   "display_name": "Alerts",
   "language": "python",
   "name": "alerts"
  },
  "language_info": {
   "codemirror_mode": {
    "name": "ipython",
    "version": 3
   },
   "file_extension": ".py",
   "mimetype": "text/x-python",
   "name": "python",
   "nbconvert_exporter": "python",
   "pygments_lexer": "ipython3",
   "version": "3.8.13"
  }
 },
 "nbformat": 4,
 "nbformat_minor": 5
}
