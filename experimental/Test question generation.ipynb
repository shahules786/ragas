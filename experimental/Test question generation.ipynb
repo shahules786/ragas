{
 "cells": [
  {
   "cell_type": "markdown",
   "id": "e98f31f0",
   "metadata": {},
   "source": [
    "### AIM\n",
    "To generate a set of questions from a given document that can be used as test set prompts to start playing with RAG pipeline componets and ragas\n",
    "\n",
    "### User inputs\n",
    "* Document\n",
    "* Topics to generate question about\n",
    "* Topics to avoid\n",
    "* Type of answers\n",
    "    - Long\n",
    "    - Short\n",
    "    - Multi choice\n",
    "    - Math\n",
    "    \n",
    "    \n",
    "### Key criterions\n",
    "* Ensure question diversity \n",
    "* Ensure questions with easy-hard distribution (multi-hop etc)\n"
   ]
  },
  {
   "cell_type": "code",
   "execution_count": null,
   "id": "de828ffd",
   "metadata": {},
   "outputs": [],
   "source": []
  }
 ],
 "metadata": {
  "kernelspec": {
   "display_name": "ragas2",
   "language": "python",
   "name": "ragas2"
  },
  "language_info": {
   "codemirror_mode": {
    "name": "ipython",
    "version": 3
   },
   "file_extension": ".py",
   "mimetype": "text/x-python",
   "name": "python",
   "nbconvert_exporter": "python",
   "pygments_lexer": "ipython3",
   "version": "3.10.8"
  }
 },
 "nbformat": 4,
 "nbformat_minor": 5
}
