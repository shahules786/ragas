{
 "cells": [
  {
   "cell_type": "markdown",
   "id": "d2451aff",
   "metadata": {},
   "source": [
    "# LlamaIndex\n",
    "\n",
    "[LlamaIndex](https://github.com/run-llama/llama_index) is a data framework for LLM applications to ingest, structure, and access private or domain-specific data. Makes it super easy to connect LLMs with your own data. But in order to figure out the best configuration for llamaIndex and your data you need a object measure of the performance. This is where ragas comes in. Ragas will help you evaluate your `QueryEngine` and gives you the confidence to tweak the configuration to get hightest score.\n",
    "\n",
    "This guide assumes you have familarity with the LlamaIndex framework."
   ]
  },
  {
   "cell_type": "markdown",
   "id": "ea0553ea",
   "metadata": {},
   "source": [
    "## Building the Testset\n",
    "\n",
    "You will need an testset to evaluate your `QueryEngine` against. You can either build one yourself or use the [Testset Generator Module](../../getstarted/testset_generation.md) in Ragas to get started with a small synthetic one.\n",
    "\n",
    "Let's see how that works with Llamaindex"
   ]
  },
  {
   "cell_type": "markdown",
   "id": "096e5af0",
   "metadata": {},
   "source": [
    "# load the documents"
   ]
  },
  {
   "cell_type": "code",
   "execution_count": null,
   "id": "396085d5",
   "metadata": {},
   "outputs": [],
   "source": [
    "from llama_index.core import SimpleDirectoryReader\n",
    "\n",
    "documents = SimpleDirectoryReader(\"./nyc_wikipedia\").load_data()"
   ]
  },
  {
   "cell_type": "markdown",
   "id": "012d81a1",
   "metadata": {},
   "source": [
    "Now  lets init the `TestsetGenerator` object with the corresponding generator and critic llms"
   ]
  },
  {
   "cell_type": "code",
   "execution_count": 2,
   "id": "e2107b62",
   "metadata": {},
   "outputs": [],
   "source": [
    "from ragas.testset import TestsetGenerator\n",
    "\n",
    "from llama_index.llms.openai import OpenAI\n",
    "from llama_index.embeddings.openai import OpenAIEmbedding\n",
    "\n",
    "# generator with openai models\n",
    "generator_llm = OpenAI(model=\"gpt-4o\")\n",
    "embeddings = OpenAIEmbedding(model=\"text-embedding-3-large\")\n",
    "\n",
    "generator = TestsetGenerator.from_llama_index(\n",
    "    llm=generator_llm,\n",
    "    embedding_model=embeddings,\n",
    ")"
   ]
  },
  {
   "cell_type": "markdown",
   "id": "f8d8d31c",
   "metadata": {},
   "source": [
    "Now you are all set to generate the dataset"
   ]
  },
  {
   "cell_type": "code",
   "execution_count": null,
   "id": "fe03839d",
   "metadata": {},
   "outputs": [],
   "source": [
    "# generate testset\n",
    "testset = generator.generate_with_llamaindex_docs(\n",
    "    documents,\n",
    "    testset_size=5,\n",
    ")"
   ]
  },
  {
   "cell_type": "code",
   "execution_count": 4,
   "id": "0b75a723",
   "metadata": {},
   "outputs": [
    {
     "data": {
      "text/html": [
       "<div>\n",
       "<style scoped>\n",
       "    .dataframe tbody tr th:only-of-type {\n",
       "        vertical-align: middle;\n",
       "    }\n",
       "\n",
       "    .dataframe tbody tr th {\n",
       "        vertical-align: top;\n",
       "    }\n",
       "\n",
       "    .dataframe thead th {\n",
       "        text-align: right;\n",
       "    }\n",
       "</style>\n",
       "<table border=\"1\" class=\"dataframe\">\n",
       "  <thead>\n",
       "    <tr style=\"text-align: right;\">\n",
       "      <th></th>\n",
       "      <th>user_input</th>\n",
       "      <th>reference_contexts</th>\n",
       "      <th>reference</th>\n",
       "      <th>synthesizer_name</th>\n",
       "    </tr>\n",
       "  </thead>\n",
       "  <tbody>\n",
       "    <tr>\n",
       "      <th>0</th>\n",
       "      <td>Why was New York named after the Duke of York?</td>\n",
       "      <td>[Etymology ==\\n\\nIn 1664, New York was named i...</td>\n",
       "      <td>New York was named after the Duke of York in 1...</td>\n",
       "      <td>AbstractQuerySynthesizer</td>\n",
       "    </tr>\n",
       "    <tr>\n",
       "      <th>1</th>\n",
       "      <td>How did the early Europan exploraton and setle...</td>\n",
       "      <td>[History ==\\n\\n\\n=== Early history ===\\nIn the...</td>\n",
       "      <td>The early European exploration and settlement ...</td>\n",
       "      <td>AbstractQuerySynthesizer</td>\n",
       "    </tr>\n",
       "    <tr>\n",
       "      <th>2</th>\n",
       "      <td>New York City population culture finance diver...</td>\n",
       "      <td>[New York City, the most populous city in the ...</td>\n",
       "      <td>New York City is a global cultural, financial,...</td>\n",
       "      <td>ComparativeAbstractQuerySynthesizer</td>\n",
       "    </tr>\n",
       "    <tr>\n",
       "      <th>3</th>\n",
       "      <td>How do the economic aspects of New York City, ...</td>\n",
       "      <td>[New York City, the most populous city in the ...</td>\n",
       "      <td>New York City's economic aspects, such as its ...</td>\n",
       "      <td>ComparativeAbstractQuerySynthesizer</td>\n",
       "    </tr>\n",
       "    <tr>\n",
       "      <th>4</th>\n",
       "      <td>What role do biomedical research institutions ...</td>\n",
       "      <td>[Education ==\\n\\n \\n\\nNew York City has the la...</td>\n",
       "      <td>Biomedical research institutions in New York C...</td>\n",
       "      <td>SpecificQuerySynthesizer</td>\n",
       "    </tr>\n",
       "  </tbody>\n",
       "</table>\n",
       "</div>"
      ],
      "text/plain": [
       "                                          user_input  \\\n",
       "0     Why was New York named after the Duke of York?   \n",
       "1  How did the early Europan exploraton and setle...   \n",
       "2  New York City population culture finance diver...   \n",
       "3  How do the economic aspects of New York City, ...   \n",
       "4  What role do biomedical research institutions ...   \n",
       "\n",
       "                                  reference_contexts  \\\n",
       "0  [Etymology ==\\n\\nIn 1664, New York was named i...   \n",
       "1  [History ==\\n\\n\\n=== Early history ===\\nIn the...   \n",
       "2  [New York City, the most populous city in the ...   \n",
       "3  [New York City, the most populous city in the ...   \n",
       "4  [Education ==\\n\\n \\n\\nNew York City has the la...   \n",
       "\n",
       "                                           reference  \\\n",
       "0  New York was named after the Duke of York in 1...   \n",
       "1  The early European exploration and settlement ...   \n",
       "2  New York City is a global cultural, financial,...   \n",
       "3  New York City's economic aspects, such as its ...   \n",
       "4  Biomedical research institutions in New York C...   \n",
       "\n",
       "                      synthesizer_name  \n",
       "0             AbstractQuerySynthesizer  \n",
       "1             AbstractQuerySynthesizer  \n",
       "2  ComparativeAbstractQuerySynthesizer  \n",
       "3  ComparativeAbstractQuerySynthesizer  \n",
       "4             SpecificQuerySynthesizer  "
      ]
     },
     "execution_count": 4,
     "metadata": {},
     "output_type": "execute_result"
    }
   ],
   "source": [
    "df = testset.to_pandas()\n",
    "df.head()"
   ]
  },
  {
   "cell_type": "markdown",
   "id": "6107ea8b",
   "metadata": {},
   "source": [
    "with a test dataset to test our `QueryEngine` lets now build one and evaluate it."
   ]
  },
  {
   "cell_type": "markdown",
   "id": "abaf6538",
   "metadata": {},
   "source": [
    "## Building the `QueryEngine`\n",
    "\n",
    "To start lets build an `VectorStoreIndex` over the New York Citie's [wikipedia page](https://en.wikipedia.org/wiki/New_York_City) as an example and use ragas to evaluate it. \n",
    "\n",
    "Since we already loaded the dataset into `documents` lets use that."
   ]
  },
  {
   "cell_type": "code",
   "execution_count": 5,
   "id": "37c4a1cb",
   "metadata": {},
   "outputs": [],
   "source": [
    "# build query engine\n",
    "from llama_index.core import VectorStoreIndex\n",
    "\n",
    "vector_index = VectorStoreIndex.from_documents(documents)\n",
    "\n",
    "query_engine = vector_index.as_query_engine()"
   ]
  },
  {
   "cell_type": "markdown",
   "id": "13d676c0",
   "metadata": {},
   "source": [
    "Lets try an sample question from the generated testset to see if it is working"
   ]
  },
  {
   "cell_type": "code",
   "execution_count": 6,
   "id": "895d95b2",
   "metadata": {},
   "outputs": [
    {
     "data": {
      "text/plain": [
       "'Why was New York named after the Duke of York?'"
      ]
     },
     "execution_count": 6,
     "metadata": {},
     "output_type": "execute_result"
    }
   ],
   "source": [
    "# convert it to pandas dataset\n",
    "df = testset.to_pandas()\n",
    "df[\"user_input\"][0]"
   ]
  },
  {
   "cell_type": "code",
   "execution_count": 7,
   "id": "a25026c2",
   "metadata": {},
   "outputs": [
    {
     "name": "stdout",
     "output_type": "stream",
     "text": [
      "New York was named after the Duke of York because in 1664, the city was named in honor of the Duke of York, who later became King James II of England.\n"
     ]
    }
   ],
   "source": [
    "response_vector = query_engine.query(df[\"user_input\"][0])\n",
    "\n",
    "print(response_vector)"
   ]
  },
  {
   "cell_type": "markdown",
   "id": "b678501e",
   "metadata": {},
   "source": [
    "## Evaluating the `QueryEngine`\n",
    "\n",
    "Now that we have a `QueryEngine` for the `VectorStoreIndex` we can use the llama_index integration Ragas has to evaluate it. \n",
    "\n",
    "In order to run an evaluation with Ragas and LlamaIndex you need 3 things\n",
    "\n",
    "1. LlamaIndex `QueryEngine`: what we will be evaluating\n",
    "2. Metrics: Ragas defines a set of metrics that can measure different aspects of the `QueryEngine`. The available metrics and their meaning can be found [here](https://docs.ragas.io/en/latest/concepts/metrics/available_metrics/)\n",
    "3. Questions: A list of questions that ragas will test the `QueryEngine` against. "
   ]
  },
  {
   "cell_type": "markdown",
   "id": "145109ad",
   "metadata": {},
   "source": [
    "first lets generate the questions. Ideally you should use that you see in production so that the distribution of question with which we evaluate matches the distribution of questions seen in production. This ensures that the scores reflect the performance seen in production but to start off we'll be using a few example question."
   ]
  },
  {
   "cell_type": "markdown",
   "id": "843bddb8",
   "metadata": {},
   "source": [
    "Now lets import the metrics we will be using to evaluate"
   ]
  },
  {
   "cell_type": "code",
   "execution_count": 8,
   "id": "9875132a",
   "metadata": {},
   "outputs": [],
   "source": [
    "# import metrics\n",
    "from ragas.metrics import (\n",
    "    Faithfulness,\n",
    "    AnswerRelevancy,\n",
    "    ContextPrecision,\n",
    "    ContextRecall,\n",
    ")\n",
    "\n",
    "# init metrics with evaluator LLM\n",
    "from ragas.llms import LlamaIndexLLMWrapper\n",
    "\n",
    "evaluator_llm = LlamaIndexLLMWrapper(OpenAI(model=\"gpt-4o\"))\n",
    "metrics = [\n",
    "    Faithfulness(llm=evaluator_llm),\n",
    "    AnswerRelevancy(llm=evaluator_llm),\n",
    "    ContextPrecision(llm=evaluator_llm),\n",
    "    ContextRecall(llm=evaluator_llm),\n",
    "]"
   ]
  },
  {
   "cell_type": "markdown",
   "id": "605e5d96",
   "metadata": {},
   "source": [
    "the `evaluate()` function expects a dict of \"question\" and \"ground_truth\" for metrics. You can easily convert the `testset` to that format"
   ]
  },
  {
   "cell_type": "code",
   "execution_count": 9,
   "id": "4b2a81ed",
   "metadata": {},
   "outputs": [
    {
     "data": {
      "text/plain": [
       "EvaluationDataset(features=['user_input', 'reference_contexts', 'reference'], len=7)"
      ]
     },
     "execution_count": 9,
     "metadata": {},
     "output_type": "execute_result"
    }
   ],
   "source": [
    "# convert to Ragas Evaluation Dataset\n",
    "ragas_dataset = testset.to_evaluation_dataset()\n",
    "ragas_dataset"
   ]
  },
  {
   "cell_type": "markdown",
   "id": "8ae4a2d1",
   "metadata": {},
   "source": [
    "Finally lets run the evaluation"
   ]
  },
  {
   "cell_type": "code",
   "execution_count": null,
   "id": "05633cc2",
   "metadata": {},
   "outputs": [],
   "source": [
    "from ragas.integrations.llama_index import evaluate\n",
    "\n",
    "result = evaluate(\n",
    "    query_engine=query_engine,\n",
    "    metrics=metrics,\n",
    "    dataset=ragas_dataset,\n",
    ")"
   ]
  },
  {
   "cell_type": "code",
   "execution_count": 19,
   "id": "f927a943",
   "metadata": {},
   "outputs": [
    {
     "name": "stdout",
     "output_type": "stream",
     "text": [
      "{'faithfulness': 0.9746, 'answer_relevancy': 0.9421, 'context_precision': 0.9286, 'context_recall': 0.6857}\n"
     ]
    }
   ],
   "source": [
    "# final scores\n",
    "print(result)"
   ]
  },
  {
   "cell_type": "markdown",
   "id": "878b6b82",
   "metadata": {},
   "source": [
    "You can convert into a pandas dataframe to run more analysis on it."
   ]
  },
  {
   "cell_type": "code",
   "execution_count": 20,
   "id": "b96311e2",
   "metadata": {},
   "outputs": [
    {
     "data": {
      "text/html": [
       "<div>\n",
       "<style scoped>\n",
       "    .dataframe tbody tr th:only-of-type {\n",
       "        vertical-align: middle;\n",
       "    }\n",
       "\n",
       "    .dataframe tbody tr th {\n",
       "        vertical-align: top;\n",
       "    }\n",
       "\n",
       "    .dataframe thead th {\n",
       "        text-align: right;\n",
       "    }\n",
       "</style>\n",
       "<table border=\"1\" class=\"dataframe\">\n",
       "  <thead>\n",
       "    <tr style=\"text-align: right;\">\n",
       "      <th></th>\n",
       "      <th>user_input</th>\n",
       "      <th>retrieved_contexts</th>\n",
       "      <th>reference_contexts</th>\n",
       "      <th>response</th>\n",
       "      <th>reference</th>\n",
       "      <th>faithfulness</th>\n",
       "      <th>answer_relevancy</th>\n",
       "      <th>context_precision</th>\n",
       "      <th>context_recall</th>\n",
       "    </tr>\n",
       "  </thead>\n",
       "  <tbody>\n",
       "    <tr>\n",
       "      <th>0</th>\n",
       "      <td>What events led to New York being named after ...</td>\n",
       "      <td>[New York City is the headquarters of the glob...</td>\n",
       "      <td>[Etymology ==\\n\\nIn 1664, New York was named i...</td>\n",
       "      <td>New York was named in honor of the Duke of Yor...</td>\n",
       "      <td>New York was named after the Duke of York in 1...</td>\n",
       "      <td>1.000000</td>\n",
       "      <td>0.950377</td>\n",
       "      <td>1.0</td>\n",
       "      <td>1.0</td>\n",
       "    </tr>\n",
       "    <tr>\n",
       "      <th>1</th>\n",
       "      <td>How early European explorers and Native Americ...</td>\n",
       "      <td>[=== Dutch rule ===\\n\\nA permanent European pr...</td>\n",
       "      <td>[History ==\\n\\n\\n=== Early history ===\\nIn the...</td>\n",
       "      <td>Early European explorers established a permane...</td>\n",
       "      <td>Early European explorers and Native Americans ...</td>\n",
       "      <td>1.000000</td>\n",
       "      <td>0.896300</td>\n",
       "      <td>1.0</td>\n",
       "      <td>0.8</td>\n",
       "    </tr>\n",
       "    <tr>\n",
       "      <th>2</th>\n",
       "      <td>New York City population economy challenges</td>\n",
       "      <td>[=== Wealth and income disparity ===\\nNew York...</td>\n",
       "      <td>[New York City, the most populous city in the ...</td>\n",
       "      <td>New York City has faced challenges related to ...</td>\n",
       "      <td>New York City, as the most populous city in th...</td>\n",
       "      <td>1.000000</td>\n",
       "      <td>0.915717</td>\n",
       "      <td>1.0</td>\n",
       "      <td>0.0</td>\n",
       "    </tr>\n",
       "    <tr>\n",
       "      <th>3</th>\n",
       "      <td>How do the economic aspects of New York City, ...</td>\n",
       "      <td>[=== Wealth and income disparity ===\\nNew York...</td>\n",
       "      <td>[New York City, the most populous city in the ...</td>\n",
       "      <td>The economic aspects of New York City, as a gl...</td>\n",
       "      <td>New York City's economic aspects as a global c...</td>\n",
       "      <td>0.913043</td>\n",
       "      <td>0.929317</td>\n",
       "      <td>1.0</td>\n",
       "      <td>0.0</td>\n",
       "    </tr>\n",
       "    <tr>\n",
       "      <th>4</th>\n",
       "      <td>What are some of the cultural and architectura...</td>\n",
       "      <td>[==== Staten Island ====\\nStaten Island (Richm...</td>\n",
       "      <td>[Geography ==\\n\\nDuring the Wisconsin glaciati...</td>\n",
       "      <td>Brooklyn is known for its cultural diversity, ...</td>\n",
       "      <td>Brooklyn is distinct within New York City due ...</td>\n",
       "      <td>1.000000</td>\n",
       "      <td>0.902664</td>\n",
       "      <td>0.5</td>\n",
       "      <td>1.0</td>\n",
       "    </tr>\n",
       "    <tr>\n",
       "      <th>5</th>\n",
       "      <td>What measures has New York City implemented to...</td>\n",
       "      <td>[==== International events ====\\nIn terms of h...</td>\n",
       "      <td>[Environment ==\\n\\n \\nEnvironmental issues in ...</td>\n",
       "      <td>New York City has implemented various measures...</td>\n",
       "      <td>New York City has implemented several measures...</td>\n",
       "      <td>0.909091</td>\n",
       "      <td>1.000000</td>\n",
       "      <td>1.0</td>\n",
       "      <td>1.0</td>\n",
       "    </tr>\n",
       "    <tr>\n",
       "      <th>6</th>\n",
       "      <td>What role did New York City play during the Am...</td>\n",
       "      <td>[=== Province of New York and slavery ===\\n\\nI...</td>\n",
       "      <td>[History ==\\n\\n\\n=== Early history ===\\nIn the...</td>\n",
       "      <td>New York City served as a significant military...</td>\n",
       "      <td>During the American Revolution, New York City ...</td>\n",
       "      <td>1.000000</td>\n",
       "      <td>1.000000</td>\n",
       "      <td>1.0</td>\n",
       "      <td>1.0</td>\n",
       "    </tr>\n",
       "  </tbody>\n",
       "</table>\n",
       "</div>"
      ],
      "text/plain": [
       "                                          user_input  \\\n",
       "0  What events led to New York being named after ...   \n",
       "1  How early European explorers and Native Americ...   \n",
       "2        New York City population economy challenges   \n",
       "3  How do the economic aspects of New York City, ...   \n",
       "4  What are some of the cultural and architectura...   \n",
       "5  What measures has New York City implemented to...   \n",
       "6  What role did New York City play during the Am...   \n",
       "\n",
       "                                  retrieved_contexts  \\\n",
       "0  [New York City is the headquarters of the glob...   \n",
       "1  [=== Dutch rule ===\\n\\nA permanent European pr...   \n",
       "2  [=== Wealth and income disparity ===\\nNew York...   \n",
       "3  [=== Wealth and income disparity ===\\nNew York...   \n",
       "4  [==== Staten Island ====\\nStaten Island (Richm...   \n",
       "5  [==== International events ====\\nIn terms of h...   \n",
       "6  [=== Province of New York and slavery ===\\n\\nI...   \n",
       "\n",
       "                                  reference_contexts  \\\n",
       "0  [Etymology ==\\n\\nIn 1664, New York was named i...   \n",
       "1  [History ==\\n\\n\\n=== Early history ===\\nIn the...   \n",
       "2  [New York City, the most populous city in the ...   \n",
       "3  [New York City, the most populous city in the ...   \n",
       "4  [Geography ==\\n\\nDuring the Wisconsin glaciati...   \n",
       "5  [Environment ==\\n\\n \\nEnvironmental issues in ...   \n",
       "6  [History ==\\n\\n\\n=== Early history ===\\nIn the...   \n",
       "\n",
       "                                            response  \\\n",
       "0  New York was named in honor of the Duke of Yor...   \n",
       "1  Early European explorers established a permane...   \n",
       "2  New York City has faced challenges related to ...   \n",
       "3  The economic aspects of New York City, as a gl...   \n",
       "4  Brooklyn is known for its cultural diversity, ...   \n",
       "5  New York City has implemented various measures...   \n",
       "6  New York City served as a significant military...   \n",
       "\n",
       "                                           reference  faithfulness  \\\n",
       "0  New York was named after the Duke of York in 1...      1.000000   \n",
       "1  Early European explorers and Native Americans ...      1.000000   \n",
       "2  New York City, as the most populous city in th...      1.000000   \n",
       "3  New York City's economic aspects as a global c...      0.913043   \n",
       "4  Brooklyn is distinct within New York City due ...      1.000000   \n",
       "5  New York City has implemented several measures...      0.909091   \n",
       "6  During the American Revolution, New York City ...      1.000000   \n",
       "\n",
       "   answer_relevancy  context_precision  context_recall  \n",
       "0          0.950377                1.0             1.0  \n",
       "1          0.896300                1.0             0.8  \n",
       "2          0.915717                1.0             0.0  \n",
       "3          0.929317                1.0             0.0  \n",
       "4          0.902664                0.5             1.0  \n",
       "5          1.000000                1.0             1.0  \n",
       "6          1.000000                1.0             1.0  "
      ]
     },
     "execution_count": 20,
     "metadata": {},
     "output_type": "execute_result"
    }
   ],
   "source": [
    "result.to_pandas()"
   ]
  }
 ],
 "metadata": {
  "kernelspec": {
   "display_name": "Python 3 (ipykernel)",
   "language": "python",
   "name": "python3"
  },
  "language_info": {
   "codemirror_mode": {
    "name": "ipython",
    "version": 3
   },
   "file_extension": ".py",
   "mimetype": "text/x-python",
   "name": "python",
   "nbconvert_exporter": "python",
   "pygments_lexer": "ipython3",
   "version": "3.10.12"
  }
 },
 "nbformat": 4,
 "nbformat_minor": 5
}
