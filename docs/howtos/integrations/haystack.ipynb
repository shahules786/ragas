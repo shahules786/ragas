{
 "cells": [
  {
   "cell_type": "markdown",
   "metadata": {
    "id": "SAkcDePWOCmp"
   },
   "source": [
    "# Haystack\n",
    "## Evaluating Haystack with Ragas\n",
    "\n",
    "[Haystack](https://haystack.deepset.ai/) is an open-source framework for building production-ready LLM applications. The `RagasEvaluator` component evaluates Haystack Pipelines using LLM-based metrics. It supports metrics like context relevance, factual accuracy, response relevance, and more.\n",
    "\n",
    "\n",
    "This guide will show you how to use the `RagasEvaluator` with a Haystack pipeline."
   ]
  },
  {
   "cell_type": "markdown",
   "metadata": {
    "id": "3vFSXPKyObpg"
   },
   "source": [
    "## Installation"
   ]
  },
  {
   "cell_type": "code",
   "execution_count": null,
   "metadata": {
    "id": "n5IVXE6qem_Z"
   },
   "outputs": [],
   "source": [
    "!pip install ragas-haystack"
   ]
  },
  {
   "cell_type": "markdown",
   "metadata": {
    "id": "d-6El0T-OtME"
   },
   "source": [
    "### Setting your `OPENAI_API_KEY` environment variable\n",
    "\n",
    "\n",
    "Many metrics use OpenAI models and require an environment variable `OPENAI_API_KEY` to be set. If you don't have an OpenAI API key, you can sign up for an account here."
   ]
  },
  {
   "cell_type": "code",
   "execution_count": 1,
   "metadata": {
    "colab": {
     "base_uri": "https://localhost:8080/"
    },
    "id": "-WJtnWCKgg25",
    "outputId": "f9e965e9-4b24-407b-d324-2d938c3323fa"
   },
   "outputs": [
    {
     "name": "stdout",
     "output_type": "stream",
     "text": [
      "enter your OpenAI API key:··········\n"
     ]
    }
   ],
   "source": [
    "import os\n",
    "from getpass import getpass\n",
    "\n",
    "\n",
    "os.environ[\"OPENAI_API_KEY\"] = getpass(\"enter your OpenAI API key:\")"
   ]
  },
  {
   "cell_type": "markdown",
   "metadata": {
    "id": "ZnJ-b0G8PPi7"
   },
   "source": [
    "## Use the RagasEvaluator in a Haystack pipeline\n",
    "\n",
    "To use the `RagasEvaluator` you need to follow these steps:\n",
    "\n",
    "1. Initialize the `RagasEvaluator` while providing the correct `metric_params` for the metric you are using.\n",
    "2. Run the `RagasEvaluator`, either on its own or in a Pipeline, by providing the expected input for the metric you are using.\n",
    "\n",
    "To create a Pipeline that evaluates context relevance and aspect critique:"
   ]
  },
  {
   "cell_type": "code",
   "execution_count": 6,
   "metadata": {
    "id": "G9tzjoLpeoma"
   },
   "outputs": [],
   "source": [
    "from haystack import Pipeline\n",
    "from haystack_integrations.components.evaluators.ragas import (\n",
    "    RagasEvaluator,\n",
    "    RagasMetric,\n",
    ")\n",
    "\n",
    "evaluation_pipeline = Pipeline()\n",
    "evaluator_context = RagasEvaluator(\n",
    "    metric=RagasMetric.CONTEXT_PRECISION,\n",
    ")\n",
    "evaluator_aspect = RagasEvaluator(\n",
    "    metric=RagasMetric.ASPECT_CRITIQUE,\n",
    "    metric_params={\n",
    "        \"name\": \"custom\",\n",
    "        \"definition\": \"Is this answer problematic for children?\",\n",
    "        \"strictness\": 3,\n",
    "    },\n",
    ")\n",
    "evaluation_pipeline.add_component(\"evaluator_context\", evaluator_context)\n",
    "evaluation_pipeline.add_component(\"evaluator_aspect\", evaluator_aspect)"
   ]
  },
  {
   "cell_type": "markdown",
   "metadata": {
    "id": "WRcSQBoZPnTz"
   },
   "source": [
    "To run the evaluation Pipeline, you should have the expected inputs for the metrics ready at hand. These metrics expect a list of `questions`, `contexts`, `responses`, and `ground_truths`. These should come from the results of the `Pipeline` you want to evaluate."
   ]
  },
  {
   "cell_type": "code",
   "execution_count": null,
   "metadata": {
    "id": "rfFZX87tP3IC"
   },
   "outputs": [],
   "source": [
    "QUESTIONS = [\n",
    "    \"Which is the most popular global sport?\",\n",
    "    \"Who created the Python language?\",\n",
    "]\n",
    "CONTEXTS = [\n",
    "    [\n",
    "        \"The popularity of sports can be measured in various ways, including TV viewership, social media presence, number of participants, and economic impact. Football is undoubtedly the world's most popular sport with major events like the FIFA World Cup and sports personalities like Ronaldo and Messi, drawing a followership of more than 4 billion people.\"\n",
    "    ],\n",
    "    [\n",
    "        \"Python, created by Guido van Rossum in the late 1980s, is a high-level general-purpose programming language. Its design philosophy emphasizes code readability, and its language constructs aim to help programmers write clear, logical code for both small and large-scale software projects.\"\n",
    "    ],\n",
    "]\n",
    "RESPONSES = [\n",
    "    \"Football is the most popular sport with around 4 billion followers worldwide\",\n",
    "    \"Python language was created by Guido van Rossum.\",\n",
    "]\n",
    "GROUND_TRUTHS = [\n",
    "    \"Football is the most popular sport\",\n",
    "    \"Python language was created by Guido van Rossum.\",\n",
    "]\n",
    "\n",
    "results = evaluation_pipeline.run(\n",
    "    {\n",
    "        \"evaluator_context\": {\n",
    "            \"questions\": QUESTIONS,\n",
    "            \"contexts\": CONTEXTS,\n",
    "            \"ground_truths\": GROUND_TRUTHS,\n",
    "        },\n",
    "        \"evaluator_aspect\": {\n",
    "            \"questions\": QUESTIONS,\n",
    "            \"contexts\": CONTEXTS,\n",
    "            \"responses\": RESPONSES,\n",
    "        },\n",
    "    }\n",
    ")"
   ]
  },
  {
   "cell_type": "code",
   "execution_count": null,
   "metadata": {
    "id": "kkyUUXpyhAJt"
   },
   "outputs": [],
   "source": [
    "QUESTIONS = [\n",
    "    \"Which is the most popular global sport?\",\n",
    "    \"Who created the Python language?\",\n",
    "]\n",
    "CONTEXTS = [\n",
    "    [\n",
    "        \"The popularity of sports can be measured in various ways, including TV viewership, social media presence, number of participants, and economic impact. Football is undoubtedly the world's most popular sport with major events like the FIFA World Cup and sports personalities like Ronaldo and Messi, drawing a followership of more than 4 billion people.\"\n",
    "    ],\n",
    "    [\n",
    "        \"Python, created by Guido van Rossum in the late 1980s, is a high-level general-purpose programming language. Its design philosophy emphasizes code readability, and its language constructs aim to help programmers write clear, logical code for both small and large-scale software projects.\"\n",
    "    ],\n",
    "]\n",
    "RESPONSES = [\n",
    "    \"Football is the most popular sport with around 4 billion followers worldwide\",\n",
    "    \"Python language was created by Guido van Rossum.\",\n",
    "]\n",
    "GROUND_TRUTHS = [\n",
    "    \"Football is the most popular sport\",\n",
    "    \"Python language was created by Guido van Rossum.\",\n",
    "]\n",
    "results = evaluation_pipeline.run(\n",
    "    {\n",
    "        \"evaluator_context\": {\n",
    "            \"questions\": QUESTIONS,\n",
    "            \"contexts\": CONTEXTS,\n",
    "            \"ground_truths\": GROUND_TRUTHS,\n",
    "        },\n",
    "        \"evaluator_aspect\": {\n",
    "            \"questions\": QUESTIONS,\n",
    "            \"contexts\": CONTEXTS,\n",
    "            \"responses\": RESPONSES,\n",
    "        },\n",
    "    }\n",
    ")"
   ]
  },
  {
   "cell_type": "code",
   "execution_count": 11,
   "metadata": {
    "colab": {
     "base_uri": "https://localhost:8080/"
    },
    "id": "CJMN6Bf7hNX_",
    "outputId": "112763e0-1036-4528-8ff6-5dbcc2327e76"
   },
   "outputs": [
    {
     "name": "stdout",
     "output_type": "stream",
     "text": [
      "[{'name': 'context_precision', 'score': 0.9999999999}]\n",
      "[{'name': 'context_precision', 'score': 0.9999999999}]\n",
      "[{'name': 'custom', 'score': 0}]\n",
      "[{'name': 'custom', 'score': 0}]\n"
     ]
    }
   ],
   "source": [
    "for component in [\"evaluator_context\", \"evaluator_aspect\"]:\n",
    "    for output in results[component][\"results\"]:\n",
    "        print(output)"
   ]
  },
  {
   "cell_type": "markdown",
   "metadata": {
    "id": "-SfrRjZ1Qc_K"
   },
   "source": [
    "You can use a Pandas dataframe to do additional analysis."
   ]
  },
  {
   "cell_type": "code",
   "execution_count": 14,
   "metadata": {
    "colab": {
     "base_uri": "https://localhost:8080/"
    },
    "id": "u-bXjR_XQfug",
    "outputId": "5770e1c6-5797-4d61-88e5-1e77aacb44a4"
   },
   "outputs": [
    {
     "name": "stdout",
     "output_type": "stream",
     "text": [
      "                                         evaluator_context  \\\n",
      "results  [[{'name': 'context_precision', 'score': 0.999...   \n",
      "\n",
      "                                          evaluator_aspect  \n",
      "results  [[{'name': 'custom', 'score': 0}], [{'name': '...  \n"
     ]
    }
   ],
   "source": [
    "import pandas as pd\n",
    "\n",
    "df = pd.DataFrame.from_dict(results)\n",
    "print(df)"
   ]
  }
 ],
 "metadata": {
  "colab": {
   "provenance": []
  },
  "kernelspec": {
   "display_name": "Python 3",
   "name": "python3"
  },
  "language_info": {
   "name": "python"
  }
 },
 "nbformat": 4,
 "nbformat_minor": 0
}
