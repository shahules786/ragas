{
    "cells": [
        {
            "cell_type": "markdown",
            "id": "d2451aff",
            "metadata": {},
            "source": [
                "# Evaluating LlamaIndex\n",
                "\n",
                "[LlamaIndex](https://github.com/jerryjliu/llama_index) is a data framework for LLM applications to ingest, structure, and access private or domain-specific data. Makes it super easy to connect LLMs with your own data. But in order to figure out the best configuration for llamaIndex and your data you need a object measure of the performance. This is where ragas comes in. Ragas will help you evaluate your `QueryEngine` and gives you the confidence to tweak the configuration to get hightest score.\n",
                "\n",
                "This guide assumes you have familarity with the LlamaIndex framework."
            ]
        },
        {
            "cell_type": "code",
            "execution_count": 1,
            "id": "f0e3f9ab",
            "metadata": {},
            "outputs": [],
            "source": [
                "%load_ext autoreload\n",
                "%autoreload 2"
            ]
        },
        {
            "cell_type": "code",
            "execution_count": 2,
            "id": "37a9b094",
            "metadata": {},
            "outputs": [],
            "source": [
                "# attach to the same event-loop\n",
                "import nest_asyncio\n",
                "\n",
                "nest_asyncio.apply()"
            ]
        },
        {
            "cell_type": "markdown",
            "id": "abaf6538",
            "metadata": {},
            "source": [
                "## Building the `VectorStoreIndex` and `QueryEngine`\n",
                "\n",
                "To start lets build an `VectorStoreIndex` over the New York Citie's [wikipedia page](https://en.wikipedia.org/wiki/New_York_City) as an example and use ragas to evaluate it."
            ]
        },
        {
            "cell_type": "code",
            "execution_count": 7,
            "id": "37c4a1cb",
            "metadata": {},
            "outputs": [],
            "source": [
                "from llama_index import VectorStoreIndex, SimpleDirectoryReader, ServiceContext\n",
                "\n",
                "import pandas as pd"
            ]
        },
        {
            "cell_type": "markdown",
            "id": "9019540b",
            "metadata": {},
            "source": [
                "load the data, build the `VectorStoreIndex` and create the `QueryEngine`."
            ]
        },
        {
            "cell_type": "code",
            "execution_count": 8,
            "id": "85e75230",
            "metadata": {},
            "outputs": [],
            "source": [
                "documents = SimpleDirectoryReader(\"./nyc_wikipedia/\").load_data()\n",
                "vector_index = VectorStoreIndex.from_documents(\n",
                "    documents, service_context=ServiceContext.from_defaults(chunk_size=512)\n",
                ")\n",
                "\n",
                "query_engine = vector_index.as_query_engine()"
            ]
        },
        {
            "cell_type": "markdown",
            "id": "13d676c0",
            "metadata": {},
            "source": [
                "Lets try an sample question to see if it is working"
            ]
        },
        {
            "cell_type": "code",
            "execution_count": 9,
            "id": "a25026c2",
            "metadata": {},
            "outputs": [
                {
                    "name": "stdout",
                    "output_type": "stream",
                    "text": [
                        "\n",
                        "New York City was named in honor of the Duke of York, who would become King James II of England. In 1664, King Charles II appointed the Duke as proprietor of the former territory of New Netherland, including the city of New Amsterdam, when England seized it from Dutch control. The city was then renamed New York in his honor.\n"
                    ]
                }
            ],
            "source": [
                "response_vector = query_engine.query(\"How did New York City get its name?\")\n",
                "\n",
                "print(response_vector)"
            ]
        },
        {
            "cell_type": "markdown",
            "id": "b678501e",
            "metadata": {},
            "source": [
                "## Evaluating with Ragas\n",
                "\n",
                "Now that we have a `QueryEngine` for the `VectorStoreIndex` we can use the llama_index integration Ragas has to evaluate it. \n",
                "\n",
                "In order to run an evaluation with Ragas and LlamaIndex you need 3 things\n",
                "\n",
                "1. LlamaIndex `QueryEngine`: what we will be evaluating\n",
                "2. Metrics: Ragas defines a set of metrics that can measure different aspects of the `QueryEngine`. The available metrics and their meaning can be found [here](https://github.com/explodinggradients/ragas/blob/main/docs/metrics.md)\n",
                "3. Questions: A list of questions that ragas will test the `QueryEngine` against. "
            ]
        },
        {
            "cell_type": "markdown",
            "id": "145109ad",
            "metadata": {},
            "source": [
                "first lets generate the questions. Ideally you should use that you see in production so that the distribution of question with which we evaluate matches the distribution of questions seen in production. This ensures that the scores reflect the performance seen in production.\n",
                "\n",
                "We're using the `DatasetGenerator` from LlamaIndex for this."
            ]
        },
        {
            "cell_type": "code",
            "execution_count": 10,
            "id": "751dc988",
            "metadata": {},
            "outputs": [
                {
                    "data": {
                        "text/plain": [
                            "5"
                        ]
                    },
                    "execution_count": 10,
                    "metadata": {},
                    "output_type": "execute_result"
                }
            ],
            "source": [
                "from llama_index.evaluation import DatasetGenerator\n",
                "\n",
                "question_generator = DatasetGenerator.from_documents(documents)\n",
                "# generate 5 question\n",
                "eval_questions = question_generator.generate_questions_from_nodes(5)\n",
                "\n",
                "len(eval_questions)"
            ]
        },
        {
            "cell_type": "code",
            "execution_count": 11,
            "id": "d1203c9e",
            "metadata": {},
            "outputs": [
                {
                    "data": {
                        "text/plain": [
                            "['What is the population of New York City as of 2020?',\n",
                            " 'Which city is the second-largest in the United States after New York City?',\n",
                            " 'What is the geographical and demographic center of the Northeast megalopolis?',\n",
                            " 'How many people live within 250 miles of New York City?',\n",
                            " 'What is the largest metropolitan economy in the world as of 2021?']"
                        ]
                    },
                    "execution_count": 11,
                    "metadata": {},
                    "output_type": "execute_result"
                }
            ],
            "source": [
                "# lets see the questions\n",
                "eval_questions"
            ]
        },
        {
            "cell_type": "markdown",
            "id": "843bddb8",
            "metadata": {},
            "source": [
                "Now lets import the metrics we will be using to evaluate"
            ]
        },
        {
            "cell_type": "code",
            "execution_count": 12,
            "id": "9875132a",
            "metadata": {},
            "outputs": [],
            "source": [
                "from ragas.metrics import faithfulness, answer_relevancy, context_relevancy\n",
                "from ragas.metrics.critique import harmfulness\n",
                "\n",
                "metrics = [faithfulness, answer_relevancy, context_relevancy, harmfulness]"
            ]
        },
        {
            "cell_type": "markdown",
            "id": "8ae4a2d1",
            "metadata": {},
            "source": [
                "Finally lets run the evaluation"
            ]
        },
        {
            "cell_type": "code",
            "execution_count": 14,
            "id": "05633cc2",
            "metadata": {},
            "outputs": [
                {
                    "name": "stdout",
                    "output_type": "stream",
                    "text": [
                        "evaluating with [faithfulness]\n"
                    ]
                },
                {
                    "name": "stderr",
                    "output_type": "stream",
                    "text": [
                        "100%|████████████████████████████████████████████████████████████| 1/1 [00:23<00:00, 23.48s/it]"
                    ]
                },
                {
                    "name": "stdout",
                    "output_type": "stream",
                    "text": [
                        "evaluating with [answer_relevancy]\n"
                    ]
                },
                {
                    "name": "stderr",
                    "output_type": "stream",
                    "text": [
                        "\n"
                    ]
                },
                {
                    "data": {
                        "application/vnd.jupyter.widget-view+json": {
                            "model_id": "",
                            "version_major": 2,
                            "version_minor": 0
                        },
                        "text/plain": [
                            "Map:   0%|          | 0/5 [00:00<?, ? examples/s]"
                        ]
                    },
                    "metadata": {},
                    "output_type": "display_data"
                },
                {
                    "name": "stderr",
                    "output_type": "stream",
                    "text": [
                        "100%|████████████████████████████████████████████████████████████| 1/1 [00:00<00:00,  2.08it/s]\n"
                    ]
                },
                {
                    "name": "stdout",
                    "output_type": "stream",
                    "text": [
                        "evaluating with [context_ relevancy]\n"
                    ]
                },
                {
                    "name": "stderr",
                    "output_type": "stream",
                    "text": [
                        "100%|████████████████████████████████████████████████████████████| 1/1 [00:18<00:00, 18.57s/it]\n"
                    ]
                },
                {
                    "name": "stdout",
                    "output_type": "stream",
                    "text": [
                        "evaluating with [harmfulness]\n"
                    ]
                },
                {
                    "name": "stderr",
                    "output_type": "stream",
                    "text": [
                        "100%|████████████████████████████████████████████████████████████| 1/1 [00:13<00:00, 13.62s/it]\n"
                    ]
                }
            ],
            "source": [
                "from ragas.llama_index import evaluate\n",
                "\n",
                "result = evaluate(query_engine, metrics, eval_questions)"
            ]
        },
        {
            "cell_type": "code",
            "execution_count": 15,
            "id": "f927a943",
            "metadata": {},
            "outputs": [
                {
                    "name": "stdout",
                    "output_type": "stream",
                    "text": [
                        "{'ragas_score': 0.2165, 'faithfulness': 1.0000, 'answer_relevancy': 0.9106, 'context_ relevancy': 0.0850, 'harmfulness': 0.0000}\n"
                    ]
                }
            ],
            "source": [
                "# final scores\n",
                "print(result)"
            ]
        },
        {
            "cell_type": "markdown",
            "id": "878b6b82",
            "metadata": {},
            "source": [
                "You can convert into a pandas dataframe to run more analysis on it."
            ]
        },
        {
            "cell_type": "code",
            "execution_count": 16,
            "id": "b96311e2",
            "metadata": {},
            "outputs": [
                {
                    "data": {
                        "text/html": [
                            "<div>\n",
                            "<style scoped>\n",
                            "    .dataframe tbody tr th:only-of-type {\n",
                            "        vertical-align: middle;\n",
                            "    }\n",
                            "\n",
                            "    .dataframe tbody tr th {\n",
                            "        vertical-align: top;\n",
                            "    }\n",
                            "\n",
                            "    .dataframe thead th {\n",
                            "        text-align: right;\n",
                            "    }\n",
                            "</style>\n",
                            "<table border=\"1\" class=\"dataframe\">\n",
                            "  <thead>\n",
                            "    <tr style=\"text-align: right;\">\n",
                            "      <th></th>\n",
                            "      <th>question</th>\n",
                            "      <th>answer</th>\n",
                            "      <th>contexts</th>\n",
                            "      <th>faithfulness</th>\n",
                            "      <th>answer_relevancy</th>\n",
                            "      <th>context_ relevancy</th>\n",
                            "      <th>harmfulness</th>\n",
                            "    </tr>\n",
                            "  </thead>\n",
                            "  <tbody>\n",
                            "    <tr>\n",
                            "      <th>0</th>\n",
                            "      <td>What is the population of New York City as of ...</td>\n",
                            "      <td>\\nThe population of New York City as of 2020 i...</td>\n",
                            "      <td>[Aeromedical Staging Squadron, and a military ...</td>\n",
                            "      <td>1.0</td>\n",
                            "      <td>0.904</td>\n",
                            "      <td>0.117409</td>\n",
                            "      <td>0</td>\n",
                            "    </tr>\n",
                            "    <tr>\n",
                            "      <th>1</th>\n",
                            "      <td>Which city is the second-largest in the United...</td>\n",
                            "      <td>\\nLos Angeles is the second-largest city in th...</td>\n",
                            "      <td>[New York, often called New York City or NYC, ...</td>\n",
                            "      <td>1.0</td>\n",
                            "      <td>0.932</td>\n",
                            "      <td>0.035847</td>\n",
                            "      <td>0</td>\n",
                            "    </tr>\n",
                            "    <tr>\n",
                            "      <th>2</th>\n",
                            "      <td>What is the geographical and demographic cente...</td>\n",
                            "      <td>\\nNew York City is the geographical and demogr...</td>\n",
                            "      <td>[New York, often called New York City or NYC, ...</td>\n",
                            "      <td>1.0</td>\n",
                            "      <td>0.913</td>\n",
                            "      <td>0.104823</td>\n",
                            "      <td>0</td>\n",
                            "    </tr>\n",
                            "    <tr>\n",
                            "      <th>3</th>\n",
                            "      <td>How many people live within 250 miles of New Y...</td>\n",
                            "      <td>\\nOver 58 million people live within 250 miles...</td>\n",
                            "      <td>[Aeromedical Staging Squadron, and a military ...</td>\n",
                            "      <td>1.0</td>\n",
                            "      <td>0.893</td>\n",
                            "      <td>0.122870</td>\n",
                            "      <td>0</td>\n",
                            "    </tr>\n",
                            "    <tr>\n",
                            "      <th>4</th>\n",
                            "      <td>What is the largest metropolitan economy in th...</td>\n",
                            "      <td>\\nThe largest metropolitan economy in the worl...</td>\n",
                            "      <td>[New York, often called New York City or NYC, ...</td>\n",
                            "      <td>1.0</td>\n",
                            "      <td>0.911</td>\n",
                            "      <td>0.044190</td>\n",
                            "      <td>0</td>\n",
                            "    </tr>\n",
                            "  </tbody>\n",
                            "</table>\n",
                            "</div>"
                        ],
                        "text/plain": [
                            "                                            question  \\\n",
                            "0  What is the population of New York City as of ...   \n",
                            "1  Which city is the second-largest in the United...   \n",
                            "2  What is the geographical and demographic cente...   \n",
                            "3  How many people live within 250 miles of New Y...   \n",
                            "4  What is the largest metropolitan economy in th...   \n",
                            "\n",
                            "                                              answer  \\\n",
                            "0  \\nThe population of New York City as of 2020 i...   \n",
                            "1  \\nLos Angeles is the second-largest city in th...   \n",
                            "2  \\nNew York City is the geographical and demogr...   \n",
                            "3  \\nOver 58 million people live within 250 miles...   \n",
                            "4  \\nThe largest metropolitan economy in the worl...   \n",
                            "\n",
                            "                                            contexts  faithfulness  \\\n",
                            "0  [Aeromedical Staging Squadron, and a military ...           1.0   \n",
                            "1  [New York, often called New York City or NYC, ...           1.0   \n",
                            "2  [New York, often called New York City or NYC, ...           1.0   \n",
                            "3  [Aeromedical Staging Squadron, and a military ...           1.0   \n",
                            "4  [New York, often called New York City or NYC, ...           1.0   \n",
                            "\n",
                            "   answer_relevancy  context_ relevancy  harmfulness  \n",
                            "0             0.904           0.117409            0  \n",
                            "1             0.932           0.035847            0  \n",
                            "2             0.913           0.104823            0  \n",
                            "3             0.893           0.122870            0  \n",
                            "4             0.911           0.044190            0  "
                        ]
                    },
                    "execution_count": 16,
                    "metadata": {},
                    "output_type": "execute_result"
                }
            ],
            "source": [
                "result.to_pandas()"
            ]
        }
    ],
    "metadata": {
        "kernelspec": {
            "display_name": "Python 3 (ipykernel)",
            "language": "python",
            "name": "python3"
        },
        "language_info": {
            "codemirror_mode": {
                "name": "ipython",
                "version": 3
            },
            "file_extension": ".py",
            "mimetype": "text/x-python",
            "name": "python",
            "nbconvert_exporter": "python",
            "pygments_lexer": "ipython3",
            "version": "3.10.12"
        }
    },
    "nbformat": 4,
    "nbformat_minor": 5
}
